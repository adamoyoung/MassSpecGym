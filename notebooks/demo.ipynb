{
 "cells": [
  {
   "cell_type": "code",
   "execution_count": 2,
   "metadata": {},
   "outputs": [
    {
     "name": "stdout",
     "output_type": "stream",
     "text": [
      "The autoreload extension is already loaded. To reload it, use:\n",
      "  %reload_ext autoreload\n"
     ]
    }
   ],
   "source": [
    "from pathlib import Path\n",
    "import pandas as pd\n",
    "import torch\n",
    "import pytorch_lightning as pl\n",
    "from pytorch_lightning import Trainer\n",
    "\n",
    "import massspecgym.utils as utils\n",
    "from massspecgym.data import MassSpecDataset, RetrievalDataset, MassSpecDataModule\n",
    "from massspecgym.data.transforms import SpecTokenizer, MolFingerprinter, SpecBinner\n",
    "from massspecgym.models.retrieval import DeepSetsRetrieval, RandomRetrieval, FingerprintFFNRetrieval, FromDictRetrieval\n",
    "from massspecgym.models.de_novo import DummyDeNovo, RandomDeNovo, SmilesTransformer\n",
    "from massspecgym.models.tokenizers import SmilesBPETokenizer, SelfiesTokenizer\n",
    "\n",
    "%load_ext autoreload\n",
    "%autoreload 2"
   ]
  },
  {
   "cell_type": "code",
   "execution_count": 3,
   "metadata": {},
   "outputs": [
    {
     "name": "stderr",
     "output_type": "stream",
     "text": [
      "Seed set to 0\n"
     ]
    }
   ],
   "source": [
    "pl.seed_everything(0)\n",
    "\n",
    "DEBUG = True"
   ]
  },
  {
   "cell_type": "code",
   "execution_count": 4,
   "metadata": {},
   "outputs": [],
   "source": [
    "if DEBUG:\n",
    "    mgf_pth = Path(\"../data/debug/example_5_spectra.mgf\")\n",
    "    candidates_pth = Path(\"../data/debug/example_5_spectra_candidates.json\")\n",
    "    split_pth=Path(\"../data/debug/example_5_spectra_split.tsv\")\n",
    "else:\n",
    "    # Use default benchmark paths\n",
    "    # mgf_pth = None\n",
    "    # candidates_pth = None\n",
    "    # split_pth = None\n",
    "    mgf_pth = Path(\"../data/MassSpecGym_with_test/MassSpecGym_with_test.tsv\")\n",
    "    candidates_pth = Path(\"../data/MassSpecGym_with_test/MassSpecGym_retrieval_candidates_formula_with_test.json\")\n",
    "    split_pth = None"
   ]
  },
  {
   "attachments": {},
   "cell_type": "markdown",
   "metadata": {},
   "source": [
    "## Deep Sets model on the fingerprint retrieval task"
   ]
  },
  {
   "cell_type": "code",
   "execution_count": 5,
   "metadata": {},
   "outputs": [
    {
     "name": "stderr",
     "output_type": "stream",
     "text": [
      "GPU available: True (mps), used: False\n",
      "TPU available: False, using: 0 TPU cores\n",
      "IPU available: False, using: 0 IPUs\n",
      "HPU available: False, using: 0 HPUs\n",
      "/Users/anton/miniconda3/envs/massspecgym/lib/python3.11/site-packages/pytorch_lightning/trainer/setup.py:187: GPU available but not used. You can set it by doing `Trainer(accelerator='gpu')`.\n"
     ]
    }
   ],
   "source": [
    "# Load dataset\n",
    "# Uncomment the paths to use debugging data containing only 5 spectra\n",
    "dataset = RetrievalDataset(\n",
    "    pth=mgf_pth,\n",
    "    spec_transform=SpecTokenizer(n_peaks=60),\n",
    "    mol_transform=MolFingerprinter(),\n",
    "    candidates_pth=candidates_pth,\n",
    ")\n",
    "\n",
    "# Init data module\n",
    "data_module = MassSpecDataModule(\n",
    "    dataset=dataset,\n",
    "    split_pth=split_pth,\n",
    "    batch_size=3\n",
    ")\n",
    "\n",
    "# Init model\n",
    "model = DeepSetsRetrieval(\n",
    "    bootstrap_metrics=True,\n",
    "    df_test_path='./df_test.pkl',\n",
    "    out_channels=2048,\n",
    "    fourier_features=True\n",
    ")\n",
    "# model = RandomRetrieval()\n",
    "\n",
    "# Init logger\n",
    "# You may need to run wandb init first to use the wandb logger\n",
    "# Alternatively set logger = None in Trainer below not to use wandb\n",
    "project = \"MassSpecGymRetrieval\"\n",
    "name = \"DeepSets\"\n",
    "logger = pl.loggers.WandbLogger(\n",
    "    project=project,\n",
    "    name=name,\n",
    "    tags=[],\n",
    "    log_model=False,\n",
    ")\n",
    "\n",
    "# Init trainer\n",
    "trainer = Trainer(\n",
    "    accelerator=\"cpu\", max_epochs=50, logger=logger, log_every_n_steps=1\n",
    ")"
   ]
  },
  {
   "cell_type": "code",
   "execution_count": 7,
   "metadata": {},
   "outputs": [
    {
     "name": "stderr",
     "output_type": "stream",
     "text": [
      "/Users/anton/miniconda3/envs/massspecgym/lib/python3.11/site-packages/pytorch_lightning/trainer/connectors/data_connector.py:441: The 'val_dataloader' does not have many workers which may be a bottleneck. Consider increasing the value of the `num_workers` argument` to `num_workers=7` in the `DataLoader` to improve performance.\n"
     ]
    },
    {
     "data": {
      "application/vnd.jupyter.widget-view+json": {
       "model_id": "3cbe78cc810c49d1a111095ed7510a0a",
       "version_major": 2,
       "version_minor": 0
      },
      "text/plain": [
       "Validation: |          | 0/? [00:00<?, ?it/s]"
      ]
     },
     "metadata": {},
     "output_type": "display_data"
    },
    {
     "name": "stderr",
     "output_type": "stream",
     "text": [
      "\n",
      "   | Name                    | Type             | Params\n",
      "--------------------------------------------------------------\n",
      "0  | ff                      | FourierFeatures  | 6.0 K \n",
      "1  | ff_proj_mz              | Linear           | 4.9 M \n",
      "2  | ff_proj_i               | Linear           | 206   \n",
      "3  | phi                     | MLP              | 525 K \n",
      "4  | rho                     | MLP              | 1.3 M \n",
      "5  | loss_fn                 | CosSimLoss       | 0     \n",
      "6  | val_fingerprint_cos_sim | CosineSimilarity | 0     \n",
      "7  | val_hit_rate@1          | MeanMetric       | 0     \n",
      "8  | val_hit_rate@5          | MeanMetric       | 0     \n",
      "9  | val_hit_rate@20         | MeanMetric       | 0     \n",
      "10 | val_mces@1              | MeanMetric       | 0     \n",
      "--------------------------------------------------------------\n",
      "6.7 M     Trainable params\n",
      "6.0 K     Non-trainable params\n",
      "6.8 M     Total params\n",
      "27.003    Total estimated model params size (MB)\n"
     ]
    },
    {
     "name": "stdout",
     "output_type": "stream",
     "text": [
      "torch.Size([1, 61, 512])\n",
      "────────────────────────────────────────────────────────────────────────────────────────────────────────────────────────\n",
      "     Validate metric           DataLoader 0\n",
      "────────────────────────────────────────────────────────────────────────────────────────────────────────────────────────\n",
      " val_fingerprint_cos_sim    0.1643836796283722\n",
      "     val_hit_rate@1                 0.0\n",
      "     val_hit_rate@20                1.0\n",
      "     val_hit_rate@5                 1.0\n",
      "        val_loss            0.8356163501739502\n",
      "       val_mces@1                  19.5\n",
      "────────────────────────────────────────────────────────────────────────────────────────────────────────────────────────\n"
     ]
    },
    {
     "data": {
      "application/vnd.jupyter.widget-view+json": {
       "model_id": "7e32dd797a10452a9cc58cc80c3a7aca",
       "version_major": 2,
       "version_minor": 0
      },
      "text/plain": [
       "Sanity Checking: |          | 0/? [00:00<?, ?it/s]"
      ]
     },
     "metadata": {},
     "output_type": "display_data"
    },
    {
     "name": "stdout",
     "output_type": "stream",
     "text": [
      "torch.Size([1, 61, 512])\n"
     ]
    },
    {
     "name": "stderr",
     "output_type": "stream",
     "text": [
      "/Users/anton/miniconda3/envs/massspecgym/lib/python3.11/site-packages/pytorch_lightning/trainer/connectors/data_connector.py:441: The 'val_dataloader' does not have many workers which may be a bottleneck. Consider increasing the value of the `num_workers` argument` to `num_workers=7` in the `DataLoader` to improve performance.\n",
      "/Users/anton/miniconda3/envs/massspecgym/lib/python3.11/site-packages/pytorch_lightning/trainer/connectors/data_connector.py:441: The 'train_dataloader' does not have many workers which may be a bottleneck. Consider increasing the value of the `num_workers` argument` to `num_workers=7` in the `DataLoader` to improve performance.\n"
     ]
    },
    {
     "data": {
      "application/vnd.jupyter.widget-view+json": {
       "model_id": "b340e41279bc4b8fbd73d64050cb8fd6",
       "version_major": 2,
       "version_minor": 0
      },
      "text/plain": [
       "Training: |          | 0/? [00:00<?, ?it/s]"
      ]
     },
     "metadata": {},
     "output_type": "display_data"
    },
    {
     "name": "stdout",
     "output_type": "stream",
     "text": [
      "torch.Size([3, 61, 512])\n"
     ]
    },
    {
     "data": {
      "application/vnd.jupyter.widget-view+json": {
       "model_id": "1d59d701f3fb4ae1927bffcfc59aac34",
       "version_major": 2,
       "version_minor": 0
      },
      "text/plain": [
       "Validation: |          | 0/? [00:00<?, ?it/s]"
      ]
     },
     "metadata": {},
     "output_type": "display_data"
    },
    {
     "name": "stdout",
     "output_type": "stream",
     "text": [
      "torch.Size([1, 61, 512])\n",
      "torch.Size([3, 61, 512])\n"
     ]
    },
    {
     "data": {
      "application/vnd.jupyter.widget-view+json": {
       "model_id": "f13526bcc1da408284d90a33fee3487d",
       "version_major": 2,
       "version_minor": 0
      },
      "text/plain": [
       "Validation: |          | 0/? [00:00<?, ?it/s]"
      ]
     },
     "metadata": {},
     "output_type": "display_data"
    },
    {
     "name": "stdout",
     "output_type": "stream",
     "text": [
      "torch.Size([1, 61, 512])\n",
      "torch.Size([3, 61, 512])\n"
     ]
    },
    {
     "data": {
      "application/vnd.jupyter.widget-view+json": {
       "model_id": "dbb37a6814564ddcae58ccadb3272c6b",
       "version_major": 2,
       "version_minor": 0
      },
      "text/plain": [
       "Validation: |          | 0/? [00:00<?, ?it/s]"
      ]
     },
     "metadata": {},
     "output_type": "display_data"
    },
    {
     "name": "stdout",
     "output_type": "stream",
     "text": [
      "torch.Size([1, 61, 512])\n",
      "torch.Size([3, 61, 512])\n"
     ]
    },
    {
     "data": {
      "application/vnd.jupyter.widget-view+json": {
       "model_id": "63e58e7a500f45219bf04cf5aa0d6e77",
       "version_major": 2,
       "version_minor": 0
      },
      "text/plain": [
       "Validation: |          | 0/? [00:00<?, ?it/s]"
      ]
     },
     "metadata": {},
     "output_type": "display_data"
    },
    {
     "name": "stdout",
     "output_type": "stream",
     "text": [
      "torch.Size([1, 61, 512])\n",
      "torch.Size([3, 61, 512])\n"
     ]
    },
    {
     "data": {
      "application/vnd.jupyter.widget-view+json": {
       "model_id": "b6ed6d094ad547a0bd9bd315a67b6c95",
       "version_major": 2,
       "version_minor": 0
      },
      "text/plain": [
       "Validation: |          | 0/? [00:00<?, ?it/s]"
      ]
     },
     "metadata": {},
     "output_type": "display_data"
    },
    {
     "name": "stdout",
     "output_type": "stream",
     "text": [
      "torch.Size([1, 61, 512])\n",
      "torch.Size([3, 61, 512])\n"
     ]
    },
    {
     "data": {
      "application/vnd.jupyter.widget-view+json": {
       "model_id": "0b6c5bd17eac4c73b3fbe129c4c18fb0",
       "version_major": 2,
       "version_minor": 0
      },
      "text/plain": [
       "Validation: |          | 0/? [00:00<?, ?it/s]"
      ]
     },
     "metadata": {},
     "output_type": "display_data"
    },
    {
     "name": "stdout",
     "output_type": "stream",
     "text": [
      "torch.Size([1, 61, 512])\n",
      "torch.Size([3, 61, 512])\n"
     ]
    },
    {
     "data": {
      "application/vnd.jupyter.widget-view+json": {
       "model_id": "fa9f2f64edc84b1c8a10041c86df2814",
       "version_major": 2,
       "version_minor": 0
      },
      "text/plain": [
       "Validation: |          | 0/? [00:00<?, ?it/s]"
      ]
     },
     "metadata": {},
     "output_type": "display_data"
    },
    {
     "name": "stdout",
     "output_type": "stream",
     "text": [
      "torch.Size([1, 61, 512])\n",
      "torch.Size([3, 61, 512])\n"
     ]
    },
    {
     "data": {
      "application/vnd.jupyter.widget-view+json": {
       "model_id": "4eda8cece6b441c6942ba55c73402acc",
       "version_major": 2,
       "version_minor": 0
      },
      "text/plain": [
       "Validation: |          | 0/? [00:00<?, ?it/s]"
      ]
     },
     "metadata": {},
     "output_type": "display_data"
    },
    {
     "name": "stdout",
     "output_type": "stream",
     "text": [
      "torch.Size([1, 61, 512])\n",
      "torch.Size([3, 61, 512])\n"
     ]
    },
    {
     "data": {
      "application/vnd.jupyter.widget-view+json": {
       "model_id": "734e7acd59f94f569a4f5e47d67300b6",
       "version_major": 2,
       "version_minor": 0
      },
      "text/plain": [
       "Validation: |          | 0/? [00:00<?, ?it/s]"
      ]
     },
     "metadata": {},
     "output_type": "display_data"
    },
    {
     "name": "stdout",
     "output_type": "stream",
     "text": [
      "torch.Size([1, 61, 512])\n",
      "torch.Size([3, 61, 512])\n"
     ]
    },
    {
     "data": {
      "application/vnd.jupyter.widget-view+json": {
       "model_id": "ed4949aca42446c6957a1e8abe516074",
       "version_major": 2,
       "version_minor": 0
      },
      "text/plain": [
       "Validation: |          | 0/? [00:00<?, ?it/s]"
      ]
     },
     "metadata": {},
     "output_type": "display_data"
    },
    {
     "name": "stdout",
     "output_type": "stream",
     "text": [
      "torch.Size([1, 61, 512])\n",
      "torch.Size([3, 61, 512])\n"
     ]
    },
    {
     "data": {
      "application/vnd.jupyter.widget-view+json": {
       "model_id": "fe07fcbb813c4c1eb6a8b84777fefa36",
       "version_major": 2,
       "version_minor": 0
      },
      "text/plain": [
       "Validation: |          | 0/? [00:00<?, ?it/s]"
      ]
     },
     "metadata": {},
     "output_type": "display_data"
    },
    {
     "name": "stdout",
     "output_type": "stream",
     "text": [
      "torch.Size([1, 61, 512])\n",
      "torch.Size([3, 61, 512])\n"
     ]
    },
    {
     "data": {
      "application/vnd.jupyter.widget-view+json": {
       "model_id": "7e2501e909f744bf816607bafd28e7a3",
       "version_major": 2,
       "version_minor": 0
      },
      "text/plain": [
       "Validation: |          | 0/? [00:00<?, ?it/s]"
      ]
     },
     "metadata": {},
     "output_type": "display_data"
    },
    {
     "name": "stdout",
     "output_type": "stream",
     "text": [
      "torch.Size([1, 61, 512])\n"
     ]
    },
    {
     "name": "stderr",
     "output_type": "stream",
     "text": [
      "/Users/anton/miniconda3/envs/massspecgym/lib/python3.11/site-packages/pytorch_lightning/trainer/call.py:54: Detected KeyboardInterrupt, attempting graceful shutdown...\n",
      "/Users/anton/miniconda3/envs/massspecgym/lib/python3.11/site-packages/pytorch_lightning/trainer/connectors/data_connector.py:441: The 'test_dataloader' does not have many workers which may be a bottleneck. Consider increasing the value of the `num_workers` argument` to `num_workers=7` in the `DataLoader` to improve performance.\n"
     ]
    },
    {
     "data": {
      "application/vnd.jupyter.widget-view+json": {
       "model_id": "e6d16425b9cf4353a7e33704b98705d7",
       "version_major": 2,
       "version_minor": 0
      },
      "text/plain": [
       "Testing: |          | 0/? [00:00<?, ?it/s]"
      ]
     },
     "metadata": {},
     "output_type": "display_data"
    },
    {
     "name": "stdout",
     "output_type": "stream",
     "text": [
      "torch.Size([1, 61, 512])\n"
     ]
    },
    {
     "name": "stderr",
     "output_type": "stream",
     "text": [
      "/Users/anton/miniconda3/envs/massspecgym/lib/python3.11/site-packages/torchmetrics/utilities/prints.py:43: UserWarning: The ``compute`` method of metric MeanMetric was called before the ``update`` method which may lead to errors, as metric states have not yet been updated.\n",
      "  warnings.warn(*args, **kwargs)  # noqa: B028\n"
     ]
    },
    {
     "name": "stdout",
     "output_type": "stream",
     "text": [
      "────────────────────────────────────────────────────────────────────────────────────────────────────────────────────────\n",
      "       Test metric             DataLoader 0\n",
      "────────────────────────────────────────────────────────────────────────────────────────────────────────────────────────\n",
      "test_fingerprint_cos_sim    0.13307173550128937\n",
      "     test_hit_rate@1                0.0\n",
      "   test_hit_rate@1_std              nan\n",
      "    test_hit_rate@20                0.0\n",
      "  test_hit_rate@20_std              nan\n",
      "     test_hit_rate@5                0.0\n",
      "   test_hit_rate@5_std              nan\n",
      "        test_loss           0.8669282793998718\n",
      "       test_mces@1                 14.0\n",
      "     test_mces@1_std                nan\n",
      "────────────────────────────────────────────────────────────────────────────────────────────────────────────────────────\n"
     ]
    },
    {
     "data": {
      "text/plain": [
       "[{'test_fingerprint_cos_sim': 0.13307173550128937,\n",
       "  'test_loss': 0.8669282793998718,\n",
       "  'test_hit_rate@1': 0.0,\n",
       "  'test_hit_rate@1_std': nan,\n",
       "  'test_hit_rate@5': 0.0,\n",
       "  'test_hit_rate@5_std': nan,\n",
       "  'test_hit_rate@20': 0.0,\n",
       "  'test_hit_rate@20_std': nan,\n",
       "  'test_mces@1': 14.0,\n",
       "  'test_mces@1_std': nan}]"
      ]
     },
     "execution_count": 7,
     "metadata": {},
     "output_type": "execute_result"
    }
   ],
   "source": [
    "# Validate before training\n",
    "data_module.prepare_data()  # Explicit call needed for validate before fit\n",
    "data_module.setup()  # Explicit call needed for validate before fit\n",
    "trainer.validate(model, datamodule=data_module)\n",
    "\n",
    "# Train\n",
    "trainer.fit(model, datamodule=data_module)\n",
    "\n",
    "# Train\n",
    "trainer.test(model, datamodule=data_module)"
   ]
  },
  {
   "attachments": {},
   "cell_type": "markdown",
   "metadata": {},
   "source": [
    "## Random baseline on the fingerprint retrieval task"
   ]
  },
  {
   "cell_type": "code",
   "execution_count": 9,
   "metadata": {},
   "outputs": [
    {
     "name": "stderr",
     "output_type": "stream",
     "text": [
      "GPU available: True (mps), used: False\n",
      "TPU available: False, using: 0 TPU cores\n",
      "IPU available: False, using: 0 IPUs\n",
      "HPU available: False, using: 0 HPUs\n",
      "/Users/anton/miniconda3/envs/massspecgym/lib/python3.11/site-packages/pytorch_lightning/trainer/setup.py:187: GPU available but not used. You can set it by doing `Trainer(accelerator='gpu')`.\n"
     ]
    }
   ],
   "source": [
    "fp_size = 4096\n",
    "\n",
    "# Load dataset\n",
    "dataset = RetrievalDataset(\n",
    "    pth=mgf_pth,\n",
    "    spec_transform=SpecBinner(),\n",
    "    mol_transform=MolFingerprinter(fp_size=fp_size),\n",
    "    candidates_pth=candidates_pth,\n",
    ")\n",
    "\n",
    "# Init data module\n",
    "data_module = MassSpecDataModule(\n",
    "    dataset=dataset,\n",
    "    split_pth=split_pth,\n",
    "    batch_size=64\n",
    ")\n",
    "\n",
    "# Init model\n",
    "model = RandomRetrieval()\n",
    "\n",
    "# Init logger\n",
    "# You may need to run wandb init first to use the wandb logger\n",
    "# Alternatively set logger = None in Trainer below not to use wandb\n",
    "project = \"MassSpecGymRetrieval\"\n",
    "name = \"RandomFFN\"\n",
    "logger = pl.loggers.WandbLogger(\n",
    "    project=project,\n",
    "    name=name,\n",
    "    tags=[],\n",
    "    log_model=False,\n",
    ")\n",
    "\n",
    "# Init trainer\n",
    "trainer = Trainer(\n",
    "    accelerator=\"cpu\", max_epochs=50, logger=logger, log_every_n_steps=50\n",
    ")"
   ]
  },
  {
   "attachments": {},
   "cell_type": "markdown",
   "metadata": {},
   "source": [
    "## Fingerpint FFN model on the fingerprint retrieval task"
   ]
  },
  {
   "cell_type": "code",
   "execution_count": 9,
   "metadata": {},
   "outputs": [
    {
     "name": "stderr",
     "output_type": "stream",
     "text": [
      "GPU available: True (mps), used: False\n",
      "TPU available: False, using: 0 TPU cores\n",
      "IPU available: False, using: 0 IPUs\n",
      "HPU available: False, using: 0 HPUs\n",
      "/Users/anton/miniconda3/envs/massspecgym/lib/python3.11/site-packages/pytorch_lightning/trainer/setup.py:187: GPU available but not used. You can set it by doing `Trainer(accelerator='gpu')`.\n"
     ]
    }
   ],
   "source": [
    "fp_size = 4096\n",
    "\n",
    "# Load dataset\n",
    "dataset = RetrievalDataset(\n",
    "    pth=mgf_pth,\n",
    "    spec_transform=SpecBinner(),\n",
    "    mol_transform=MolFingerprinter(fp_size=fp_size),\n",
    "    candidates_pth=candidates_pth,\n",
    ")\n",
    "\n",
    "# Init data module\n",
    "data_module = MassSpecDataModule(\n",
    "    dataset=dataset,\n",
    "    split_pth=split_pth,\n",
    "    batch_size=64\n",
    ")\n",
    "\n",
    "# Init model\n",
    "model = FingerprintFFNRetrieval(\n",
    "    in_channels=1005,\n",
    "    out_channels=fp_size,\n",
    ")\n",
    "\n",
    "# Init logger\n",
    "# You may need to run wandb init first to use the wandb logger\n",
    "# Alternatively set logger = None in Trainer below not to use wandb\n",
    "project = \"MassSpecGymRetrieval\"\n",
    "name = \"FingerprintFFN_debug\"\n",
    "logger = pl.loggers.WandbLogger(\n",
    "    project=project,\n",
    "    name=name,\n",
    "    tags=[],\n",
    "    log_model=False,\n",
    ")\n",
    "\n",
    "# Init trainer\n",
    "trainer = Trainer(\n",
    "    accelerator=\"cpu\", max_epochs=50, logger=logger, log_every_n_steps=50\n",
    ")"
   ]
  },
  {
   "attachments": {},
   "cell_type": "markdown",
   "metadata": {},
   "source": [
    "# MIST on the fingerprint retrieval task"
   ]
  },
  {
   "cell_type": "code",
   "execution_count": 5,
   "metadata": {},
   "outputs": [
    {
     "name": "stderr",
     "output_type": "stream",
     "text": [
      "GPU available: True (mps), used: False\n",
      "TPU available: False, using: 0 TPU cores\n",
      "IPU available: False, using: 0 IPUs\n",
      "HPU available: False, using: 0 HPUs\n",
      "/Users/anton/miniconda3/envs/massspecgym/lib/python3.11/site-packages/pytorch_lightning/trainer/setup.py:187: GPU available but not used. You can set it by doing `Trainer(accelerator='gpu')`.\n"
     ]
    }
   ],
   "source": [
    "fp_size = 4096\n",
    "\n",
    "# Load dataset\n",
    "dataset = RetrievalDataset(\n",
    "    pth=mgf_pth,\n",
    "    spec_transform=SpecBinner(),\n",
    "    mol_transform=MolFingerprinter(fp_size=fp_size),\n",
    "    candidates_pth=candidates_pth,\n",
    ")\n",
    "\n",
    "# Init data module\n",
    "data_module = MassSpecDataModule(\n",
    "    dataset=dataset,\n",
    "    split_pth=split_pth,\n",
    "    batch_size=64\n",
    ")\n",
    "\n",
    "# Init model\n",
    "df = pd.read_pickle('fp_preds_MassSpecGym_df.pkl')\n",
    "dct = dict(zip(df['name'], df['fp_predict']))\n",
    "model = FromDictRetrieval(dct=dct)\n",
    "\n",
    "# Init logger\n",
    "# You may need to run wandb init first to use the wandb logger\n",
    "# Alternatively set logger = None in Trainer below not to use wandb\n",
    "project = \"MassSpecGymRetrieval\"\n",
    "name = \"MIST\"\n",
    "logger = pl.loggers.WandbLogger(\n",
    "    project=project,\n",
    "    name=name,\n",
    "    tags=[],\n",
    "    log_model=False,\n",
    ")\n",
    "\n",
    "# Init trainer\n",
    "trainer = Trainer(\n",
    "    accelerator=\"cpu\", max_epochs=50, logger=logger, log_every_n_steps=50\n",
    ")"
   ]
  },
  {
   "attachments": {},
   "cell_type": "markdown",
   "metadata": {},
   "source": [
    "## Dummy model on the de novo generation task"
   ]
  },
  {
   "cell_type": "code",
   "execution_count": 13,
   "metadata": {},
   "outputs": [
    {
     "name": "stderr",
     "output_type": "stream",
     "text": [
      "GPU available: True (mps), used: False\n",
      "TPU available: False, using: 0 TPU cores\n",
      "IPU available: False, using: 0 IPUs\n",
      "HPU available: False, using: 0 HPUs\n",
      "/Users/anton/miniconda3/envs/massspecgym/lib/python3.11/site-packages/pytorch_lightning/trainer/setup.py:187: GPU available but not used. You can set it by doing `Trainer(accelerator='gpu')`.\n"
     ]
    }
   ],
   "source": [
    "# Load dataset\n",
    "# Uncomment the paths to use debugging data containing only 5 spectra\n",
    "dataset = MassSpecDataset(\n",
    "    pth=mgf_pth,\n",
    "    spec_transform=SpecTokenizer(n_peaks=60),\n",
    "    mol_transform=None\n",
    ")\n",
    "\n",
    "# Init data module\n",
    "data_module = MassSpecDataModule(\n",
    "    dataset=dataset,\n",
    "    split_pth=split_pth,\n",
    "    batch_size=2\n",
    ")\n",
    "\n",
    "# Init model\n",
    "model = DummyDeNovo(\n",
    "    df_test_path='./df_test.pkl'\n",
    ")\n",
    "\n",
    "# Init logger\n",
    "# You may need to run wandb init first to use the wandb logger\n",
    "# Alternatively set logger = None in Trainer below not to use wandb\n",
    "project = \"MassSpecGymDeNovo\"\n",
    "name = \"RandomBasline\"\n",
    "logger = pl.loggers.WandbLogger(\n",
    "    project=project,\n",
    "    name=name,\n",
    "    tags=[],\n",
    "    log_model=False,\n",
    ")\n",
    "\n",
    "# Init trainer\n",
    "trainer = Trainer(\n",
    "    accelerator=\"cpu\", max_epochs=50, logger=logger, log_every_n_steps=1\n",
    ")"
   ]
  },
  {
   "attachments": {},
   "cell_type": "markdown",
   "metadata": {},
   "source": [
    "## De novo SMILES transformer"
   ]
  },
  {
   "cell_type": "code",
   "execution_count": 17,
   "metadata": {},
   "outputs": [
    {
     "name": "stdout",
     "output_type": "stream",
     "text": [
      "Training tokenizer on 4116646 SMILES strings.\n",
      "\n",
      "\n",
      "\n"
     ]
    },
    {
     "name": "stderr",
     "output_type": "stream",
     "text": [
      "/Users/anton/miniconda3/envs/massspecgym/lib/python3.11/site-packages/torch/nn/modules/transformer.py:306: UserWarning: enable_nested_tensor is True, but self.use_nested_tensor is False because encoder_layer.self_attn.batch_first was not True(use batch_first for better inference performance)\n",
      "  warnings.warn(f\"enable_nested_tensor is True, but self.use_nested_tensor is False because {why_not_sparsity_fast_path}\")\n",
      "GPU available: True (mps), used: False\n",
      "TPU available: False, using: 0 TPU cores\n",
      "IPU available: False, using: 0 IPUs\n",
      "HPU available: False, using: 0 HPUs\n",
      "/Users/anton/miniconda3/envs/massspecgym/lib/python3.11/site-packages/pytorch_lightning/trainer/setup.py:187: GPU available but not used. You can set it by doing `Trainer(accelerator='gpu')`.\n",
      "/Users/anton/miniconda3/envs/massspecgym/lib/python3.11/site-packages/pytorch_lightning/loggers/wandb.py:396: There is a wandb run already in progress and newly created instances of `WandbLogger` will reuse this run. If this is not desired, call `wandb.finish()` before instantiating `WandbLogger`.\n",
      "/Users/anton/miniconda3/envs/massspecgym/lib/python3.11/site-packages/pytorch_lightning/trainer/connectors/data_connector.py:441: The 'val_dataloader' does not have many workers which may be a bottleneck. Consider increasing the value of the `num_workers` argument` to `num_workers=7` in the `DataLoader` to improve performance.\n"
     ]
    },
    {
     "data": {
      "application/vnd.jupyter.widget-view+json": {
       "model_id": "f372c2026605467691dd5d06d4a3a3a8",
       "version_major": 2,
       "version_minor": 0
      },
      "text/plain": [
       "Validation: |          | 0/? [00:00<?, ?it/s]"
      ]
     },
     "metadata": {},
     "output_type": "display_data"
    },
    {
     "name": "stderr",
     "output_type": "stream",
     "text": [
      "/Users/anton/miniconda3/envs/massspecgym/lib/python3.11/site-packages/torch/nn/functional.py:5137: UserWarning: Support for mismatched key_padding_mask and attn_mask is deprecated. Use same type for both instead.\n",
      "  warnings.warn(\n",
      "[13:42:13] Invalid InChI prefix in generating InChI Key\n",
      "[13:42:13] Invalid InChI prefix in generating InChI Key\n",
      "\n",
      "   | Name                        | Type             | Params\n",
      "------------------------------------------------------------------\n",
      "0  | src_encoder                 | Linear           | 1.5 K \n",
      "1  | tgt_embedding               | Embedding        | 2.7 M \n",
      "2  | transformer                 | Transformer      | 29.4 M\n",
      "3  | tgt_decoder                 | Linear           | 2.7 M \n",
      "4  | criterion                   | CrossEntropyLoss | 0     \n",
      "5  | val_num_valid_mols          | MeanMetric       | 0     \n",
      "6  | val_top_1_mces_dist         | MeanMetric       | 0     \n",
      "7  | val_top_1_max_tanimoto_sim  | MeanMetric       | 0     \n",
      "8  | val_top_1_accuracy          | MeanMetric       | 0     \n",
      "9  | val_top_10_mces_dist        | MeanMetric       | 0     \n",
      "10 | val_top_10_max_tanimoto_sim | MeanMetric       | 0     \n",
      "11 | val_top_10_accuracy         | MeanMetric       | 0     \n",
      "------------------------------------------------------------------\n",
      "34.8 M    Trainable params\n",
      "0         Non-trainable params\n",
      "34.8 M    Total params\n",
      "139.103   Total estimated model params size (MB)\n"
     ]
    },
    {
     "name": "stdout",
     "output_type": "stream",
     "text": [
      "────────────────────────────────────────────────────────────────────────────────────────────────────────────────────────\n",
      "      Validate metric             DataLoader 0\n",
      "────────────────────────────────────────────────────────────────────────────────────────────────────────────────────────\n",
      "         val_loss               9.054847717285156\n",
      "    val_num_valid_mols                 1.0\n",
      "    val_top_10_accuracy                0.0\n",
      "val_top_10_max_tanimoto_sim    0.03614457696676254\n",
      "   val_top_10_mces_dist               100.0\n",
      "    val_top_1_accuracy                 0.0\n",
      "val_top_1_max_tanimoto_sim     0.03614457696676254\n",
      "    val_top_1_mces_dist               100.0\n",
      "────────────────────────────────────────────────────────────────────────────────────────────────────────────────────────\n"
     ]
    },
    {
     "data": {
      "application/vnd.jupyter.widget-view+json": {
       "model_id": "040403e1a0614ca497fcfc8b89fd3c29",
       "version_major": 2,
       "version_minor": 0
      },
      "text/plain": [
       "Sanity Checking: |          | 0/? [00:00<?, ?it/s]"
      ]
     },
     "metadata": {},
     "output_type": "display_data"
    },
    {
     "name": "stderr",
     "output_type": "stream",
     "text": [
      "/Users/anton/miniconda3/envs/massspecgym/lib/python3.11/site-packages/pytorch_lightning/trainer/connectors/data_connector.py:441: The 'val_dataloader' does not have many workers which may be a bottleneck. Consider increasing the value of the `num_workers` argument` to `num_workers=7` in the `DataLoader` to improve performance.\n",
      "/Users/anton/miniconda3/envs/massspecgym/lib/python3.11/site-packages/torch/nn/functional.py:5137: UserWarning: Support for mismatched key_padding_mask and attn_mask is deprecated. Use same type for both instead.\n",
      "  warnings.warn(\n",
      "[13:42:16] Invalid InChI prefix in generating InChI Key\n",
      "[13:42:16] Invalid InChI prefix in generating InChI Key\n",
      "/Users/anton/miniconda3/envs/massspecgym/lib/python3.11/site-packages/pytorch_lightning/trainer/connectors/data_connector.py:441: The 'train_dataloader' does not have many workers which may be a bottleneck. Consider increasing the value of the `num_workers` argument` to `num_workers=7` in the `DataLoader` to improve performance.\n"
     ]
    },
    {
     "data": {
      "application/vnd.jupyter.widget-view+json": {
       "model_id": "4b64ad51b8ed445cab84ce9823b11bf4",
       "version_major": 2,
       "version_minor": 0
      },
      "text/plain": [
       "Training: |          | 0/? [00:00<?, ?it/s]"
      ]
     },
     "metadata": {},
     "output_type": "display_data"
    },
    {
     "name": "stderr",
     "output_type": "stream",
     "text": [
      "[13:42:48] Invalid InChI prefix in generating InChI Key\n",
      "[13:42:48] Invalid InChI prefix in generating InChI Key\n",
      "[13:42:48] Invalid InChI prefix in generating InChI Key\n",
      "[13:42:48] Invalid InChI prefix in generating InChI Key\n",
      "[13:42:48] Invalid InChI prefix in generating InChI Key\n",
      "[13:42:48] Invalid InChI prefix in generating InChI Key\n",
      "[13:42:50] Invalid InChI prefix in generating InChI Key\n",
      "[13:42:50] Invalid InChI prefix in generating InChI Key\n",
      "[13:42:50] Invalid InChI prefix in generating InChI Key\n",
      "[13:42:50] Invalid InChI prefix in generating InChI Key\n",
      "[13:42:50] Invalid InChI prefix in generating InChI Key\n",
      "[13:42:50] Invalid InChI prefix in generating InChI Key\n",
      "[13:42:52] Invalid InChI prefix in generating InChI Key\n",
      "[13:42:52] Invalid InChI prefix in generating InChI Key\n",
      "[13:42:52] Invalid InChI prefix in generating InChI Key\n",
      "[13:42:52] Invalid InChI prefix in generating InChI Key\n",
      "[13:42:52] Invalid InChI prefix in generating InChI Key\n",
      "[13:42:52] Invalid InChI prefix in generating InChI Key\n",
      "[13:42:53] Invalid InChI prefix in generating InChI Key\n",
      "[13:42:53] Invalid InChI prefix in generating InChI Key\n",
      "[13:42:53] Invalid InChI prefix in generating InChI Key\n",
      "[13:42:53] Invalid InChI prefix in generating InChI Key\n",
      "[13:42:53] Invalid InChI prefix in generating InChI Key\n",
      "[13:42:53] Invalid InChI prefix in generating InChI Key\n",
      "[13:42:55] Invalid InChI prefix in generating InChI Key\n",
      "[13:42:55] Invalid InChI prefix in generating InChI Key\n",
      "[13:42:55] Invalid InChI prefix in generating InChI Key\n",
      "[13:42:55] Invalid InChI prefix in generating InChI Key\n",
      "[13:42:55] Invalid InChI prefix in generating InChI Key\n",
      "[13:42:55] Invalid InChI prefix in generating InChI Key\n",
      "[13:42:57] Invalid InChI prefix in generating InChI Key\n",
      "[13:42:57] Invalid InChI prefix in generating InChI Key\n",
      "[13:42:57] Invalid InChI prefix in generating InChI Key\n",
      "[13:42:57] Invalid InChI prefix in generating InChI Key\n",
      "[13:42:57] Invalid InChI prefix in generating InChI Key\n",
      "[13:42:57] Invalid InChI prefix in generating InChI Key\n",
      "[13:42:59] Invalid InChI prefix in generating InChI Key\n",
      "[13:42:59] Invalid InChI prefix in generating InChI Key\n",
      "[13:42:59] Invalid InChI prefix in generating InChI Key\n",
      "[13:42:59] Invalid InChI prefix in generating InChI Key\n",
      "[13:42:59] Invalid InChI prefix in generating InChI Key\n",
      "[13:42:59] Invalid InChI prefix in generating InChI Key\n",
      "[13:43:01] Invalid InChI prefix in generating InChI Key\n",
      "[13:43:01] Invalid InChI prefix in generating InChI Key\n",
      "[13:43:01] Invalid InChI prefix in generating InChI Key\n",
      "[13:43:01] Invalid InChI prefix in generating InChI Key\n",
      "[13:43:01] Invalid InChI prefix in generating InChI Key\n",
      "[13:43:01] Invalid InChI prefix in generating InChI Key\n",
      "[13:43:03] Invalid InChI prefix in generating InChI Key\n",
      "[13:43:03] Invalid InChI prefix in generating InChI Key\n",
      "[13:43:03] Invalid InChI prefix in generating InChI Key\n",
      "[13:43:03] Invalid InChI prefix in generating InChI Key\n",
      "[13:43:03] Invalid InChI prefix in generating InChI Key\n",
      "[13:43:03] Invalid InChI prefix in generating InChI Key\n",
      "[13:43:04] Invalid InChI prefix in generating InChI Key\n",
      "[13:43:04] Invalid InChI prefix in generating InChI Key\n",
      "[13:43:04] Invalid InChI prefix in generating InChI Key\n",
      "[13:43:04] Invalid InChI prefix in generating InChI Key\n",
      "[13:43:04] Invalid InChI prefix in generating InChI Key\n",
      "[13:43:04] Invalid InChI prefix in generating InChI Key\n",
      "[13:43:06] Invalid InChI prefix in generating InChI Key\n",
      "[13:43:06] Invalid InChI prefix in generating InChI Key\n",
      "[13:43:06] Invalid InChI prefix in generating InChI Key\n",
      "[13:43:06] Invalid InChI prefix in generating InChI Key\n",
      "[13:43:06] Invalid InChI prefix in generating InChI Key\n",
      "[13:43:06] Invalid InChI prefix in generating InChI Key\n",
      "[13:43:08] Invalid InChI prefix in generating InChI Key\n",
      "[13:43:08] Invalid InChI prefix in generating InChI Key\n",
      "[13:43:08] Invalid InChI prefix in generating InChI Key\n",
      "[13:43:08] Invalid InChI prefix in generating InChI Key\n",
      "[13:43:08] Invalid InChI prefix in generating InChI Key\n",
      "[13:43:08] Invalid InChI prefix in generating InChI Key\n",
      "[13:43:10] Invalid InChI prefix in generating InChI Key\n",
      "[13:43:10] Invalid InChI prefix in generating InChI Key\n",
      "[13:43:10] Invalid InChI prefix in generating InChI Key\n",
      "[13:43:10] Invalid InChI prefix in generating InChI Key\n",
      "[13:43:10] Invalid InChI prefix in generating InChI Key\n",
      "[13:43:10] Invalid InChI prefix in generating InChI Key\n",
      "[13:43:12] Invalid InChI prefix in generating InChI Key\n",
      "[13:43:12] Invalid InChI prefix in generating InChI Key\n",
      "[13:43:12] Invalid InChI prefix in generating InChI Key\n",
      "[13:43:12] Invalid InChI prefix in generating InChI Key\n",
      "[13:43:12] Invalid InChI prefix in generating InChI Key\n",
      "[13:43:12] Invalid InChI prefix in generating InChI Key\n",
      "[13:43:13] Invalid InChI prefix in generating InChI Key\n",
      "[13:43:13] Invalid InChI prefix in generating InChI Key\n",
      "[13:43:13] Invalid InChI prefix in generating InChI Key\n",
      "[13:43:13] Invalid InChI prefix in generating InChI Key\n",
      "[13:43:13] Invalid InChI prefix in generating InChI Key\n",
      "[13:43:13] Invalid InChI prefix in generating InChI Key\n",
      "[13:43:15] Invalid InChI prefix in generating InChI Key\n",
      "[13:43:15] Invalid InChI prefix in generating InChI Key\n",
      "[13:43:15] Invalid InChI prefix in generating InChI Key\n",
      "[13:43:15] Invalid InChI prefix in generating InChI Key\n",
      "[13:43:15] Invalid InChI prefix in generating InChI Key\n",
      "[13:43:15] Invalid InChI prefix in generating InChI Key\n",
      "[13:43:17] non-ring atom 0 marked aromatic\n",
      "[13:43:17] non-ring atom 0 marked aromatic\n",
      "[13:43:17] non-ring atom 0 marked aromatic\n",
      "[13:43:19] non-ring atom 0 marked aromatic\n",
      "[13:43:19] non-ring atom 0 marked aromatic\n",
      "[13:43:19] non-ring atom 0 marked aromatic\n",
      "[13:43:20] non-ring atom 0 marked aromatic\n",
      "[13:43:20] non-ring atom 0 marked aromatic\n",
      "[13:43:20] non-ring atom 0 marked aromatic\n",
      "[13:43:22] non-ring atom 0 marked aromatic\n",
      "[13:43:22] non-ring atom 0 marked aromatic\n",
      "[13:43:22] non-ring atom 0 marked aromatic\n",
      "[13:43:24] non-ring atom 0 marked aromatic\n",
      "[13:43:24] non-ring atom 0 marked aromatic\n",
      "[13:43:24] non-ring atom 0 marked aromatic\n",
      "[13:43:25] non-ring atom 0 marked aromatic\n",
      "[13:43:25] non-ring atom 0 marked aromatic\n",
      "[13:43:25] non-ring atom 0 marked aromatic\n",
      "[13:43:27] non-ring atom 0 marked aromatic\n",
      "[13:43:27] non-ring atom 0 marked aromatic\n",
      "[13:43:27] non-ring atom 0 marked aromatic\n",
      "[13:43:29] non-ring atom 0 marked aromatic\n",
      "[13:43:29] non-ring atom 0 marked aromatic\n",
      "[13:43:29] non-ring atom 0 marked aromatic\n",
      "[13:43:31] non-ring atom 0 marked aromatic\n",
      "[13:43:31] non-ring atom 0 marked aromatic\n",
      "[13:43:31] non-ring atom 0 marked aromatic\n",
      "[13:43:32] non-ring atom 0 marked aromatic\n",
      "[13:43:32] non-ring atom 0 marked aromatic\n",
      "[13:43:32] non-ring atom 0 marked aromatic\n",
      "[13:43:34] non-ring atom 0 marked aromatic\n",
      "[13:43:34] non-ring atom 1 marked aromatic\n",
      "[13:43:36] SMILES Parse Error: extra close parentheses while parsing: C)ccccccccccccccccccccccccccccccccccccccccccccccccccccccccccccccccccccccccccccccccccccccccccccccccc\n",
      "[13:43:36] SMILES Parse Error: Failed parsing SMILES 'C)ccccccccccccccccccccccccccccccccccccccccccccccccccccccccccccccccccccccccccccccccccccccccccccccccc' for input: 'C)ccccccccccccccccccccccccccccccccccccccccccccccccccccccccccccccccccccccccccccccccccccccccccccccccc'\n",
      "[13:43:43] SMILES Parse Error: extra close parentheses while parsing: C)ccccccccccccccccccccccccccccccccccccccccccccccccccccccccccccccccccccccccccccccccccccccccccccccccc\n",
      "[13:43:43] SMILES Parse Error: Failed parsing SMILES 'C)ccccccccccccccccccccccccccccccccccccccccccccccccccccccccccccccccccccccccccccccccccccccccccccccccc' for input: 'C)ccccccccccccccccccccccccccccccccccccccccccccccccccccccccccccccccccccccccccccccccccccccccccccccccc'\n",
      "[13:43:45] SMILES Parse Error: extra close parentheses while parsing: C)ccccccccccccccccccccccccccccccccccccccccccccccccccccccccccccccccccccccccccccccccccccccccccccccccc\n",
      "[13:43:45] SMILES Parse Error: Failed parsing SMILES 'C)ccccccccccccccccccccccccccccccccccccccccccccccccccccccccccccccccccccccccccccccccccccccccccccccccc' for input: 'C)ccccccccccccccccccccccccccccccccccccccccccccccccccccccccccccccccccccccccccccccccccccccccccccccccc'\n",
      "[13:43:47] SMILES Parse Error: extra close parentheses while parsing: C)ccccccccccccccccccccccccccccccccccccccccccccccccccccccccccccccccccccccccccccccccccccccccccccccccc\n",
      "[13:43:47] SMILES Parse Error: Failed parsing SMILES 'C)ccccccccccccccccccccccccccccccccccccccccccccccccccccccccccccccccccccccccccccccccccccccccccccccccc' for input: 'C)ccccccccccccccccccccccccccccccccccccccccccccccccccccccccccccccccccccccccccccccccccccccccccccccccc'\n",
      "[13:43:49] SMILES Parse Error: extra close parentheses while parsing: C)ccccccccccccccccccccccccccccccccccccccccccccccccccccccccccccccccccccccccccccccccccccccccccccccccc\n",
      "[13:43:49] SMILES Parse Error: Failed parsing SMILES 'C)ccccccccccccccccccccccccccccccccccccccccccccccccccccccccccccccccccccccccccccccccccccccccccccccccc' for input: 'C)ccccccccccccccccccccccccccccccccccccccccccccccccccccccccccccccccccccccccccccccccccccccccccccccccc'\n",
      "[13:43:50] SMILES Parse Error: extra close parentheses while parsing: C)ccccccccccccccccccccccccccccccccccccccccccccccccccccccccccccccccccccccccccccccccccccccccccccccccc\n",
      "[13:43:50] SMILES Parse Error: Failed parsing SMILES 'C)ccccccccccccccccccccccccccccccccccccccccccccccccccccccccccccccccccccccccccccccccccccccccccccccccc' for input: 'C)ccccccccccccccccccccccccccccccccccccccccccccccccccccccccccccccccccccccccccccccccccccccccccccccccc'\n",
      "[13:43:52] SMILES Parse Error: extra close parentheses while parsing: C)ccccccccccccccccccccccccccccccccccccccccccccccccccccccccccccccccccccccccccccccccccccccccccccccccc\n",
      "[13:43:52] SMILES Parse Error: Failed parsing SMILES 'C)ccccccccccccccccccccccccccccccccccccccccccccccccccccccccccccccccccccccccccccccccccccccccccccccccc' for input: 'C)ccccccccccccccccccccccccccccccccccccccccccccccccccccccccccccccccccccccccccccccccccccccccccccccccc'\n",
      "[13:43:54] SMILES Parse Error: extra close parentheses while parsing: CCCCCCCCCCCCCCCCCCCCCCCCCCCCCCCCCC)C)C)C)C)C)C)C)C)C)C)C)C)C)C)C)C)C)C)C)C)C)C)C)C)C)C)C)C)C)C)C)C)\n",
      "[13:43:54] SMILES Parse Error: Failed parsing SMILES 'CCCCCCCCCCCCCCCCCCCCCCCCCCCCCCCCCC)C)C)C)C)C)C)C)C)C)C)C)C)C)C)C)C)C)C)C)C)C)C)C)C)C)C)C)C)C)C)C)C)' for input: 'CCCCCCCCCCCCCCCCCCCCCCCCCCCCCCCCCC)C)C)C)C)C)C)C)C)C)C)C)C)C)C)C)C)C)C)C)C)C)C)C)C)C)C)C)C)C)C)C)C)'\n",
      "[13:43:54] SMILES Parse Error: extra close parentheses while parsing: C)c(C)c(C)c(C)c(C)c(C)c(C)c(C)c(C)c(C)c(C)c(C)c(C)c(C)c(C)c(C)c(C)c(C)c(C)c(C)c(C)c(C)c(C)c(C)c(C)c\n",
      "[13:43:54] SMILES Parse Error: Failed parsing SMILES 'C)c(C)c(C)c(C)c(C)c(C)c(C)c(C)c(C)c(C)c(C)c(C)c(C)c(C)c(C)c(C)c(C)c(C)c(C)c(C)c(C)c(C)c(C)c(C)c(C)c' for input: 'C)c(C)c(C)c(C)c(C)c(C)c(C)c(C)c(C)c(C)c(C)c(C)c(C)c(C)c(C)c(C)c(C)c(C)c(C)c(C)c(C)c(C)c(C)c(C)c(C)c'\n",
      "[13:43:54] SMILES Parse Error: extra close parentheses while parsing: C)c(C)c(C)c(C)c(C)c(C)c(C)c(C)c(C)c(C)c(C)c(C)c(C)ccccccccccccccccccccccccccccccccccccccccccccccccc\n",
      "[13:43:54] SMILES Parse Error: Failed parsing SMILES 'C)c(C)c(C)c(C)c(C)c(C)c(C)c(C)c(C)c(C)c(C)c(C)c(C)ccccccccccccccccccccccccccccccccccccccccccccccccc' for input: 'C)c(C)c(C)c(C)c(C)c(C)c(C)c(C)c(C)c(C)c(C)c(C)c(C)ccccccccccccccccccccccccccccccccccccccccccccccccc'\n",
      "[13:43:56] non-ring atom 2 marked aromatic\n",
      "[13:43:56] SMILES Parse Error: extra close parentheses while parsing: C(=O)O)c(C)c(C)c(C)c(C)c(C)c(C)c(C)ccccccccccccccccccccccccccccccccccccccccccccccccccccccccccccccccc\n",
      "[13:43:56] SMILES Parse Error: Failed parsing SMILES 'C(=O)O)c(C)c(C)c(C)c(C)c(C)c(C)c(C)ccccccccccccccccccccccccccccccccccccccccccccccccccccccccccccccccc' for input: 'C(=O)O)c(C)c(C)c(C)c(C)c(C)c(C)c(C)ccccccccccccccccccccccccccccccccccccccccccccccccccccccccccccccccc'\n",
      "[13:43:56] non-ring atom 2 marked aromatic\n",
      "[13:43:58] SMILES Parse Error: extra close parentheses while parsing: C(=O)O)c(C)c(C)c(C)c(C)c(C)ccccccccccccccccccccccccccccccccccccccccccccccccccccccccccccccccccccccccc\n",
      "[13:43:58] SMILES Parse Error: Failed parsing SMILES 'C(=O)O)c(C)c(C)c(C)c(C)c(C)ccccccccccccccccccccccccccccccccccccccccccccccccccccccccccccccccccccccccc' for input: 'C(=O)O)c(C)c(C)c(C)c(C)c(C)ccccccccccccccccccccccccccccccccccccccccccccccccccccccccccccccccccccccccc'\n",
      "[13:43:58] non-ring atom 2 marked aromatic\n",
      "[13:43:58] SMILES Parse Error: extra close parentheses while parsing: C(=O)O)c(C)O)c(C)c(C)c(C)c(C)c(C)c(C)ccccccccccccccccccccccccccccccccccccccccccccccccccccccccccccccc\n",
      "[13:43:58] SMILES Parse Error: Failed parsing SMILES 'C(=O)O)c(C)O)c(C)c(C)c(C)c(C)c(C)c(C)ccccccccccccccccccccccccccccccccccccccccccccccccccccccccccccccc' for input: 'C(=O)O)c(C)O)c(C)c(C)c(C)c(C)c(C)c(C)ccccccccccccccccccccccccccccccccccccccccccccccccccccccccccccccc'\n",
      "[13:43:59] SMILES Parse Error: extra close parentheses while parsing: C(=O)O)O)c(C)O)O)c(C)c(C)c(C)c(C)c(C)c(C)c(C)c(C)c(C)ccccc(C)ccccccccccccc(C)ccccccccccccccccccccccc\n",
      "[13:43:59] SMILES Parse Error: Failed parsing SMILES 'C(=O)O)O)c(C)O)O)c(C)c(C)c(C)c(C)c(C)c(C)c(C)c(C)c(C)ccccc(C)ccccccccccccc(C)ccccccccccccccccccccccc' for input: 'C(=O)O)O)c(C)O)O)c(C)c(C)c(C)c(C)c(C)c(C)c(C)c(C)c(C)ccccc(C)ccccccccccccc(C)ccccccccccccccccccccccc'\n",
      "[13:43:59] SMILES Parse Error: extra close parentheses while parsing: C(=O)O)c(C)O)c(C)c(C)ccccccccccccccccccccccccccccccccccccccccccccccccccccccccccccccccccccccccccccccc\n",
      "[13:43:59] SMILES Parse Error: Failed parsing SMILES 'C(=O)O)c(C)O)c(C)c(C)ccccccccccccccccccccccccccccccccccccccccccccccccccccccccccccccccccccccccccccccc' for input: 'C(=O)O)c(C)O)c(C)c(C)ccccccccccccccccccccccccccccccccccccccccccccccccccccccccccccccccccccccccccccccc'\n",
      "[13:43:59] SMILES Parse Error: extra close parentheses while parsing: C(=O)O)O)c(C)O)c(C)c(C)c(C)c(C)c(C)ccccccccccccccccccccccccccccccccccccccccccccccccccccccccccccccccc\n",
      "[13:43:59] SMILES Parse Error: Failed parsing SMILES 'C(=O)O)O)c(C)O)c(C)c(C)c(C)c(C)c(C)ccccccccccccccccccccccccccccccccccccccccccccccccccccccccccccccccc' for input: 'C(=O)O)O)c(C)O)c(C)c(C)c(C)c(C)c(C)ccccccccccccccccccccccccccccccccccccccccccccccccccccccccccccccccc'\n",
      "[13:44:01] SMILES Parse Error: extra close parentheses while parsing: C(=O)O)O)O)c(C)O)O)O)O)O)O)c(C)c(C)c(C)c(C)c(C)c(C)c(C)c(C)c(C)c(C)c(C)c(C)c(C)c(C)c(C)c(C)c(C)c(C)c\n",
      "[13:44:01] SMILES Parse Error: Failed parsing SMILES 'C(=O)O)O)O)c(C)O)O)O)O)O)O)c(C)c(C)c(C)c(C)c(C)c(C)c(C)c(C)c(C)c(C)c(C)c(C)c(C)c(C)c(C)c(C)c(C)c(C)c' for input: 'C(=O)O)O)O)c(C)O)O)O)O)O)O)c(C)c(C)c(C)c(C)c(C)c(C)c(C)c(C)c(C)c(C)c(C)c(C)c(C)c(C)c(C)c(C)c(C)c(C)c'\n",
      "[13:44:01] SMILES Parse Error: extra close parentheses while parsing: C(=O)O)O)O)c(C)O)O)O)O)c(C)c(C)c(C)c(C)c(C)c(C)ccccccccccccccccccccccccccccccccccccccccccccccccccccc\n",
      "[13:44:01] SMILES Parse Error: Failed parsing SMILES 'C(=O)O)O)O)c(C)O)O)O)O)c(C)c(C)c(C)c(C)c(C)c(C)ccccccccccccccccccccccccccccccccccccccccccccccccccccc' for input: 'C(=O)O)O)O)c(C)O)O)O)O)c(C)c(C)c(C)c(C)c(C)c(C)ccccccccccccccccccccccccccccccccccccccccccccccccccccc'\n",
      "[13:44:01] SMILES Parse Error: extra close parentheses while parsing: C(=O)O)O)O)O)c(C)O)O)O)O)O)O)O)c(C)c(C)c(C)c(C)c(C)c(C)c(C)c(C)c(C)c(C)c(C)c(C)c(C)c(C)c(C)c(C)c(C)c\n",
      "[13:44:01] SMILES Parse Error: Failed parsing SMILES 'C(=O)O)O)O)O)c(C)O)O)O)O)O)O)O)c(C)c(C)c(C)c(C)c(C)c(C)c(C)c(C)c(C)c(C)c(C)c(C)c(C)c(C)c(C)c(C)c(C)c' for input: 'C(=O)O)O)O)O)c(C)O)O)O)O)O)O)O)c(C)c(C)c(C)c(C)c(C)c(C)c(C)c(C)c(C)c(C)c(C)c(C)c(C)c(C)c(C)c(C)c(C)c'\n",
      "[13:44:03] SMILES Parse Error: extra close parentheses while parsing: C(=O)O)O)O)O)O)O)O)c(C)O)O)O)O)O)O)O)O)O)O)O)O)O)O)O)O)O)c(C)c(C)c(C)c(C)c(C)c(C)c(C)c(C)c(C)c(C)c(C\n",
      "[13:44:03] SMILES Parse Error: Failed parsing SMILES 'C(=O)O)O)O)O)O)O)O)c(C)O)O)O)O)O)O)O)O)O)O)O)O)O)O)O)O)O)c(C)c(C)c(C)c(C)c(C)c(C)c(C)c(C)c(C)c(C)c(C' for input: 'C(=O)O)O)O)O)O)O)O)c(C)O)O)O)O)O)O)O)O)O)O)O)O)O)O)O)O)O)c(C)c(C)c(C)c(C)c(C)c(C)c(C)c(C)c(C)c(C)c(C'\n",
      "[13:44:03] SMILES Parse Error: extra close parentheses while parsing: C(=O)O)O)O)O)O)O)c(C)O)O)O)O)O)O)O)O)O)O)O)O)O)c(C)c(C)c(C)c(C)c(C)c(C)c(C)c(C)c(C)c(C)c(C)c(C)c(C)c\n",
      "[13:44:03] SMILES Parse Error: Failed parsing SMILES 'C(=O)O)O)O)O)O)O)c(C)O)O)O)O)O)O)O)O)O)O)O)O)O)c(C)c(C)c(C)c(C)c(C)c(C)c(C)c(C)c(C)c(C)c(C)c(C)c(C)c' for input: 'C(=O)O)O)O)O)O)O)c(C)O)O)O)O)O)O)O)O)O)O)O)O)O)c(C)c(C)c(C)c(C)c(C)c(C)c(C)c(C)c(C)c(C)c(C)c(C)c(C)c'\n",
      "[13:44:03] SMILES Parse Error: extra close parentheses while parsing: C(=O)O)O)O)O)O)c(C)O)O)O)O)O)O)O)O)O)O)c(C)c(C)c(C)c(C)c(C)c(C)c(C)c(C)c(C)c(C)c(C)c(C)c(C)c(C)c(C)c\n",
      "[13:44:03] SMILES Parse Error: Failed parsing SMILES 'C(=O)O)O)O)O)O)c(C)O)O)O)O)O)O)O)O)O)O)c(C)c(C)c(C)c(C)c(C)c(C)c(C)c(C)c(C)c(C)c(C)c(C)c(C)c(C)c(C)c' for input: 'C(=O)O)O)O)O)O)c(C)O)O)O)O)O)O)O)O)O)O)c(C)c(C)c(C)c(C)c(C)c(C)c(C)c(C)c(C)c(C)c(C)c(C)c(C)c(C)c(C)c'\n",
      "[13:44:05] SMILES Parse Error: extra close parentheses while parsing: C/C/C/C/C/C1C/C/C/C/C/C/C/C/C/C)C@@H]2[C@@H]2[C@@H]2[C@@H]2[C@@H]2[C@@H]2[C@@H]2[C@@H]2[C@@H]2[C@@H]2[C@@H]2[C\n",
      "[13:44:05] SMILES Parse Error: Failed parsing SMILES 'C/C/C/C/C/C1C/C/C/C/C/C/C/C/C/C)C@@H]2[C@@H]2[C@@H]2[C@@H]2[C@@H]2[C@@H]2[C@@H]2[C@@H]2[C@@H]2[C@@H]2[C@@H]2[C' for input: 'C/C/C/C/C/C1C/C/C/C/C/C/C/C/C/C)C@@H]2[C@@H]2[C@@H]2[C@@H]2[C@@H]2[C@@H]2[C@@H]2[C@@H]2[C@@H]2[C@@H]2[C@@H]2[C'\n",
      "[13:44:05] SMILES Parse Error: extra close parentheses while parsing: C(=O)O)O)O)O)O)O)c(C)O)O)O)O)O)O)O)O)O)O)O)O)O)O)c(C)ccccc(C)cccccccccccccccc(C)cccccc(C)ccc(C)ccc(C\n",
      "[13:44:05] SMILES Parse Error: Failed parsing SMILES 'C(=O)O)O)O)O)O)O)c(C)O)O)O)O)O)O)O)O)O)O)O)O)O)O)c(C)ccccc(C)cccccccccccccccc(C)cccccc(C)ccc(C)ccc(C' for input: 'C(=O)O)O)O)O)O)O)c(C)O)O)O)O)O)O)O)O)O)O)O)O)O)O)c(C)ccccc(C)cccccccccccccccc(C)cccccc(C)ccc(C)ccc(C'\n",
      "[13:44:05] SMILES Parse Error: extra close parentheses while parsing: C/C/C/C)C)C)O[C)O[C)O[C)O[C)O[C)O[C)O[C)O[C)O[C)O[C)O[C)O[C)O[C)O[C)c(C)O)O)O)O)O)O)O)O)O)O)O)O)O)O\n",
      "[13:44:05] SMILES Parse Error: Failed parsing SMILES 'C/C/C/C)C)C)O[C)O[C)O[C)O[C)O[C)O[C)O[C)O[C)O[C)O[C)O[C)O[C)O[C)O[C)c(C)O)O)O)O)O)O)O)O)O)O)O)O)O)O' for input: 'C/C/C/C)C)C)O[C)O[C)O[C)O[C)O[C)O[C)O[C)O[C)O[C)O[C)O[C)O[C)O[C)O[C)c(C)O)O)O)O)O)O)O)O)O)O)O)O)O)O'\n",
      "[13:44:07] SMILES Parse Error: extra close parentheses while parsing: C/C/C/C1C/C/C/C/C/C/C/C/C/C/C/C/C/C/C/C/C/C/C)C)C)C)C)C@@H]2[C@@H]2[C@@H]2[C@@H]2[C@@H]2[C@@H]2[C@@H]2[C@@H\n",
      "[13:44:07] SMILES Parse Error: Failed parsing SMILES 'C/C/C/C1C/C/C/C/C/C/C/C/C/C/C/C/C/C/C/C/C/C/C)C)C)C)C)C@@H]2[C@@H]2[C@@H]2[C@@H]2[C@@H]2[C@@H]2[C@@H]2[C@@H' for input: 'C/C/C/C1C/C/C/C/C/C/C/C/C/C/C/C/C/C/C/C/C/C/C)C)C)C)C)C@@H]2[C@@H]2[C@@H]2[C@@H]2[C@@H]2[C@@H]2[C@@H]2[C@@H'\n",
      "[13:44:07] SMILES Parse Error: extra close parentheses while parsing: C/C/C1C/C/C/C/C)O[C)O[C)O[C)O[C)O[C)O[C)O[C)O[C)O)O)O)O)O)O)O)O)O)O)O)O)O)O)O)O)c(C)O)O)O)O)O)O)O)O\n",
      "[13:44:07] SMILES Parse Error: Failed parsing SMILES 'C/C/C1C/C/C/C/C)O[C)O[C)O[C)O[C)O[C)O[C)O[C)O[C)O)O)O)O)O)O)O)O)O)O)O)O)O)O)O)O)c(C)O)O)O)O)O)O)O)O' for input: 'C/C/C1C/C/C/C/C)O[C)O[C)O[C)O[C)O[C)O[C)O[C)O[C)O)O)O)O)O)O)O)O)O)O)O)O)O)O)O)O)c(C)O)O)O)O)O)O)O)O'\n",
      "[13:44:07] SMILES Parse Error: extra close parentheses while parsing: C/C/C/C1C/C/C/C/C/C/C/C/C/C/C/C/C)C)C)C)C@@H]2[C@@H]2[C@@H]2[C@@H]2[C@@H]2[C@@H]2[C@@H]2[C@@H]2[C@@H]2[C@@H]2\n",
      "[13:44:07] SMILES Parse Error: Failed parsing SMILES 'C/C/C/C1C/C/C/C/C/C/C/C/C/C/C/C/C)C)C)C)C@@H]2[C@@H]2[C@@H]2[C@@H]2[C@@H]2[C@@H]2[C@@H]2[C@@H]2[C@@H]2[C@@H]2' for input: 'C/C/C/C1C/C/C/C/C/C/C/C/C/C/C/C/C)C)C)C)C@@H]2[C@@H]2[C@@H]2[C@@H]2[C@@H]2[C@@H]2[C@@H]2[C@@H]2[C@@H]2[C@@H]2'\n",
      "[13:44:09] SMILES Parse Error: extra close parentheses while parsing: C/C/C1=C/C/C/C/C/C/C/C/C/C/C/C/C/C/C/C/C/C/C/C/C)O[C@@H]2[C@@H]2[C@@H]2[C@@H]2[C@@H]2[C@@H]2[C@@H]2[C@@H]2[\n",
      "[13:44:09] SMILES Parse Error: Failed parsing SMILES 'C/C/C1=C/C/C/C/C/C/C/C/C/C/C/C/C/C/C/C/C/C/C/C/C)O[C@@H]2[C@@H]2[C@@H]2[C@@H]2[C@@H]2[C@@H]2[C@@H]2[C@@H]2[' for input: 'C/C/C1=C/C/C/C/C/C/C/C/C/C/C/C/C/C/C/C/C/C/C/C/C)O[C@@H]2[C@@H]2[C@@H]2[C@@H]2[C@@H]2[C@@H]2[C@@H]2[C@@H]2['\n",
      "[13:44:09] SMILES Parse Error: syntax error while parsing: C/C/C/C1=C/C/C/C/C/C/C/C/C/C/C/C/C/C/C/C/C/C/C/C/C/C/C/C/C/C/C/C/C/C/C/C/C/C/C/C/C/C/C/C/C/C/C/C/C/\n",
      "[13:44:09] SMILES Parse Error: Failed parsing SMILES 'C/C/C/C1=C/C/C/C/C/C/C/C/C/C/C/C/C/C/C/C/C/C/C/C/C/C/C/C/C/C/C/C/C/C/C/C/C/C/C/C/C/C/C/C/C/C/C/C/C/' for input: 'C/C/C/C1=C/C/C/C/C/C/C/C/C/C/C/C/C/C/C/C/C/C/C/C/C/C/C/C/C/C/C/C/C/C/C/C/C/C/C/C/C/C/C/C/C/C/C/C/C/'\n",
      "[13:44:09] SMILES Parse Error: unclosed ring for input: 'C/C/C/C1C/C/C/C/C/C/C/C/C/C/C/C/C/C/C/C/C/C/C/C/C/C/C/C/C/C/C/C/C/C/C/C/C/C/C/C/C/C/C/C/C/C/C/C/C/C'\n",
      "[13:44:11] SMILES Parse Error: syntax error while parsing: C/C/C/C1=C/C/C/C/C/C/C/C/C/C/C/C/C/C/C/C/C/C/C/C/C/C/C/C/C/C/C/C/C/C/C/C/C/C/C/C/C/C/C/C/C/C/C/C/C/\n",
      "[13:44:11] SMILES Parse Error: Failed parsing SMILES 'C/C/C/C1=C/C/C/C/C/C/C/C/C/C/C/C/C/C/C/C/C/C/C/C/C/C/C/C/C/C/C/C/C/C/C/C/C/C/C/C/C/C/C/C/C/C/C/C/C/' for input: 'C/C/C/C1=C/C/C/C/C/C/C/C/C/C/C/C/C/C/C/C/C/C/C/C/C/C/C/C/C/C/C/C/C/C/C/C/C/C/C/C/C/C/C/C/C/C/C/C/C/'\n",
      "[13:44:11] SMILES Parse Error: syntax error while parsing: C/C/C/C1=C/C/C/C/C/C/C/C/C/C/C/C/C/C/C/C/C/C/C/C/C/C/C/C/C/C/C/C/C/C/C/C/C/C/C/C/C/C/C/C/C/C/C/C/C/\n",
      "[13:44:11] SMILES Parse Error: Failed parsing SMILES 'C/C/C/C1=C/C/C/C/C/C/C/C/C/C/C/C/C/C/C/C/C/C/C/C/C/C/C/C/C/C/C/C/C/C/C/C/C/C/C/C/C/C/C/C/C/C/C/C/C/' for input: 'C/C/C/C1=C/C/C/C/C/C/C/C/C/C/C/C/C/C/C/C/C/C/C/C/C/C/C/C/C/C/C/C/C/C/C/C/C/C/C/C/C/C/C/C/C/C/C/C/C/'\n",
      "[13:44:11] SMILES Parse Error: syntax error while parsing: C/C/C1=C/C/C/C/C/C/C/C/C/C/C/C/C/C/C/C/C/C/C/C/C/C/C/C/C/C/C/C/C/C/C/C/C/C/C/C/C/C/C/C/C/C/C/C/C/C/\n",
      "[13:44:11] SMILES Parse Error: Failed parsing SMILES 'C/C/C1=C/C/C/C/C/C/C/C/C/C/C/C/C/C/C/C/C/C/C/C/C/C/C/C/C/C/C/C/C/C/C/C/C/C/C/C/C/C/C/C/C/C/C/C/C/C/' for input: 'C/C/C1=C/C/C/C/C/C/C/C/C/C/C/C/C/C/C/C/C/C/C/C/C/C/C/C/C/C/C/C/C/C/C/C/C/C/C/C/C/C/C/C/C/C/C/C/C/C/'\n",
      "[13:44:12] SMILES Parse Error: syntax error while parsing: C/C/C1=C/C/C/C/C/C/C/C/C/C/C/C/C/C/C/C/C/C/C/C/C/C/C/C/C/C/C/C/C/C/C/C/C/C/C/C/C/C/C/C/C/C/C/C/C/C/\n",
      "[13:44:12] SMILES Parse Error: Failed parsing SMILES 'C/C/C1=C/C/C/C/C/C/C/C/C/C/C/C/C/C/C/C/C/C/C/C/C/C/C/C/C/C/C/C/C/C/C/C/C/C/C/C/C/C/C/C/C/C/C/C/C/C/' for input: 'C/C/C1=C/C/C/C/C/C/C/C/C/C/C/C/C/C/C/C/C/C/C/C/C/C/C/C/C/C/C/C/C/C/C/C/C/C/C/C/C/C/C/C/C/C/C/C/C/C/'\n",
      "[13:44:12] SMILES Parse Error: syntax error while parsing: C/C/C1=C/C/C/C/C/C/C/C/C/C/C/C/C/C/C/C/C/C/C/C/C/C/C/C/C/C/C/C/C/C/C/C/C/C/C/C/C/C/C/C/C/C/C/C/C/C/\n",
      "[13:44:12] SMILES Parse Error: Failed parsing SMILES 'C/C/C1=C/C/C/C/C/C/C/C/C/C/C/C/C/C/C/C/C/C/C/C/C/C/C/C/C/C/C/C/C/C/C/C/C/C/C/C/C/C/C/C/C/C/C/C/C/C/' for input: 'C/C/C1=C/C/C/C/C/C/C/C/C/C/C/C/C/C/C/C/C/C/C/C/C/C/C/C/C/C/C/C/C/C/C/C/C/C/C/C/C/C/C/C/C/C/C/C/C/C/'\n",
      "[13:44:12] SMILES Parse Error: syntax error while parsing: C/C/C/C1=C/C/C/C/C/C/C/C/C/C/C/C/C/C/C/C/C/C/C/C/C/C/C/C/C/C/C/C/C/C/C/C/C/C/C/C/C/C/C/C/C/C/C/C/C/\n",
      "[13:44:12] SMILES Parse Error: Failed parsing SMILES 'C/C/C/C1=C/C/C/C/C/C/C/C/C/C/C/C/C/C/C/C/C/C/C/C/C/C/C/C/C/C/C/C/C/C/C/C/C/C/C/C/C/C/C/C/C/C/C/C/C/' for input: 'C/C/C/C1=C/C/C/C/C/C/C/C/C/C/C/C/C/C/C/C/C/C/C/C/C/C/C/C/C/C/C/C/C/C/C/C/C/C/C/C/C/C/C/C/C/C/C/C/C/'\n",
      "[13:44:14] SMILES Parse Error: syntax error while parsing: C/C/C1=C/C/C/C/C/C/C/C/C/C/C/C/C/C/C/C/C/C/C/C/C/C/C/C/C/C/C/C/C/C/C/C/C/C/C/C/C/C/C/C/C/C/C/C/C/C/\n",
      "[13:44:14] SMILES Parse Error: Failed parsing SMILES 'C/C/C1=C/C/C/C/C/C/C/C/C/C/C/C/C/C/C/C/C/C/C/C/C/C/C/C/C/C/C/C/C/C/C/C/C/C/C/C/C/C/C/C/C/C/C/C/C/C/' for input: 'C/C/C1=C/C/C/C/C/C/C/C/C/C/C/C/C/C/C/C/C/C/C/C/C/C/C/C/C/C/C/C/C/C/C/C/C/C/C/C/C/C/C/C/C/C/C/C/C/C/'\n",
      "[13:44:14] SMILES Parse Error: syntax error while parsing: C/C1=C/C/C/C/C/C/C/C/C/C/C/C/C/C/C/C/C/C/C/C/C/C/C/C/C/C/C/C/C/C/C/C/C/C/C/C/C/C/C/C/C/C/C/C/C/C/C/\n",
      "[13:44:14] SMILES Parse Error: Failed parsing SMILES 'C/C1=C/C/C/C/C/C/C/C/C/C/C/C/C/C/C/C/C/C/C/C/C/C/C/C/C/C/C/C/C/C/C/C/C/C/C/C/C/C/C/C/C/C/C/C/C/C/C/' for input: 'C/C1=C/C/C/C/C/C/C/C/C/C/C/C/C/C/C/C/C/C/C/C/C/C/C/C/C/C/C/C/C/C/C/C/C/C/C/C/C/C/C/C/C/C/C/C/C/C/C/'\n",
      "[13:44:14] SMILES Parse Error: syntax error while parsing: C/C/C1=C/C/C/C/C/C/C/C/C/C/C/C/C/C/C/C/C/C/C/C/C/C/C/C/C/C/C/C/C/C/C/C/C/C/C/C/C/C/C/C/C/C/C/C/C/C/\n",
      "[13:44:14] SMILES Parse Error: Failed parsing SMILES 'C/C/C1=C/C/C/C/C/C/C/C/C/C/C/C/C/C/C/C/C/C/C/C/C/C/C/C/C/C/C/C/C/C/C/C/C/C/C/C/C/C/C/C/C/C/C/C/C/C/' for input: 'C/C/C1=C/C/C/C/C/C/C/C/C/C/C/C/C/C/C/C/C/C/C/C/C/C/C/C/C/C/C/C/C/C/C/C/C/C/C/C/C/C/C/C/C/C/C/C/C/C/'\n",
      "[13:44:16] SMILES Parse Error: syntax error while parsing: C/C1=C/C/C/C/C/C/C/C/C/C/C/C/C/C/C/C/C/C/C/C/C/C/C/C/C/C/C/C/C/C/C/C/C/C/C/C/C/C/C/C/C/C/C/C/C/C/C/\n",
      "[13:44:16] SMILES Parse Error: Failed parsing SMILES 'C/C1=C/C/C/C/C/C/C/C/C/C/C/C/C/C/C/C/C/C/C/C/C/C/C/C/C/C/C/C/C/C/C/C/C/C/C/C/C/C/C/C/C/C/C/C/C/C/C/' for input: 'C/C1=C/C/C/C/C/C/C/C/C/C/C/C/C/C/C/C/C/C/C/C/C/C/C/C/C/C/C/C/C/C/C/C/C/C/C/C/C/C/C/C/C/C/C/C/C/C/C/'\n",
      "[13:44:16] SMILES Parse Error: syntax error while parsing: C/C1=C/C/C/C/C/C/C/C/C/C/C/C/C/C/C/C/C/C/C/C/C/C/C/C/C/C/C/C/C/C/C/C/C/C/C/C/C/C/C/C/C/C/C/C/C/C/C/\n",
      "[13:44:16] SMILES Parse Error: Failed parsing SMILES 'C/C1=C/C/C/C/C/C/C/C/C/C/C/C/C/C/C/C/C/C/C/C/C/C/C/C/C/C/C/C/C/C/C/C/C/C/C/C/C/C/C/C/C/C/C/C/C/C/C/' for input: 'C/C1=C/C/C/C/C/C/C/C/C/C/C/C/C/C/C/C/C/C/C/C/C/C/C/C/C/C/C/C/C/C/C/C/C/C/C/C/C/C/C/C/C/C/C/C/C/C/C/'\n",
      "[13:44:16] SMILES Parse Error: syntax error while parsing: C/C1=C/C/C/C/C/C/C/C/C/C/C/C/C/C/C/C/C/C/C/C/C/C/C/C/C/C/C/C/C/C/C/C/C/C/C/C/C/C/C/C/C/C/C/C/C/C/C/\n",
      "[13:44:16] SMILES Parse Error: Failed parsing SMILES 'C/C1=C/C/C/C/C/C/C/C/C/C/C/C/C/C/C/C/C/C/C/C/C/C/C/C/C/C/C/C/C/C/C/C/C/C/C/C/C/C/C/C/C/C/C/C/C/C/C/' for input: 'C/C1=C/C/C/C/C/C/C/C/C/C/C/C/C/C/C/C/C/C/C/C/C/C/C/C/C/C/C/C/C/C/C/C/C/C/C/C/C/C/C/C/C/C/C/C/C/C/C/'\n"
     ]
    },
    {
     "data": {
      "application/vnd.jupyter.widget-view+json": {
       "model_id": "1a85bc8f689b496589e70d8d7c9b3b6e",
       "version_major": 2,
       "version_minor": 0
      },
      "text/plain": [
       "Validation: |          | 0/? [00:00<?, ?it/s]"
      ]
     },
     "metadata": {},
     "output_type": "display_data"
    },
    {
     "name": "stderr",
     "output_type": "stream",
     "text": [
      "[13:44:17] SMILES Parse Error: syntax error while parsing: C/C1=C/CC[C)O[C@@H]2[C@@H]2[C@@H]2[C@@H]2[C@@H]2[C@@H]2[C@@H]2[C@@H]2[C@@H]2[C@@H]2[C@@H]2c2c2c2c2c2c2c2c2c2c2c\n",
      "[13:44:17] SMILES Parse Error: Failed parsing SMILES 'C/C1=C/CC[C)O[C@@H]2[C@@H]2[C@@H]2[C@@H]2[C@@H]2[C@@H]2[C@@H]2[C@@H]2[C@@H]2[C@@H]2[C@@H]2c2c2c2c2c2c2c2c2c2c2c' for input: 'C/C1=C/CC[C)O[C@@H]2[C@@H]2[C@@H]2[C@@H]2[C@@H]2[C@@H]2[C@@H]2[C@@H]2[C@@H]2[C@@H]2[C@@H]2c2c2c2c2c2c2c2c2c2c2c'\n",
      "[13:44:19] SMILES Parse Error: syntax error while parsing: C/C1=C/C/C/C/C/C/C/C/C/C/C/C/C/C/C/C/C/C/C/C/C/C/C/C/C/C/C/C/C/C/C/C/C/C/C/C/C/C/C/C/C/C/C/C/C/C/C/\n",
      "[13:44:19] SMILES Parse Error: Failed parsing SMILES 'C/C1=C/C/C/C/C/C/C/C/C/C/C/C/C/C/C/C/C/C/C/C/C/C/C/C/C/C/C/C/C/C/C/C/C/C/C/C/C/C/C/C/C/C/C/C/C/C/C/' for input: 'C/C1=C/C/C/C/C/C/C/C/C/C/C/C/C/C/C/C/C/C/C/C/C/C/C/C/C/C/C/C/C/C/C/C/C/C/C/C/C/C/C/C/C/C/C/C/C/C/C/'\n",
      "[13:44:19] SMILES Parse Error: syntax error while parsing: C/C1=C/CC[C)O[C@@H]2[C@@H]2[C@@H]2[C@@H]2[C@@H]2[C@@H]2[C@@H]2[C@@H]2[C@@H]2[C@@H]2[C@@H]2[C@@H]2[C@@H]2c2c2c2c2c\n",
      "[13:44:19] SMILES Parse Error: Failed parsing SMILES 'C/C1=C/CC[C)O[C@@H]2[C@@H]2[C@@H]2[C@@H]2[C@@H]2[C@@H]2[C@@H]2[C@@H]2[C@@H]2[C@@H]2[C@@H]2[C@@H]2[C@@H]2c2c2c2c2c' for input: 'C/C1=C/CC[C)O[C@@H]2[C@@H]2[C@@H]2[C@@H]2[C@@H]2[C@@H]2[C@@H]2[C@@H]2[C@@H]2[C@@H]2[C@@H]2[C@@H]2[C@@H]2c2c2c2c2c'\n",
      "[13:44:19] SMILES Parse Error: syntax error while parsing: C/C1=C/C/C/C/C/C/C/C/C/C/C/C/C/C/C/C/C/C/C/C/C/C/C/C/C/C/C/C/C/C/C/C/C/C/C/C/C/C/C/C/C/C/C/C/C/C/C/\n",
      "[13:44:19] SMILES Parse Error: Failed parsing SMILES 'C/C1=C/C/C/C/C/C/C/C/C/C/C/C/C/C/C/C/C/C/C/C/C/C/C/C/C/C/C/C/C/C/C/C/C/C/C/C/C/C/C/C/C/C/C/C/C/C/C/' for input: 'C/C1=C/C/C/C/C/C/C/C/C/C/C/C/C/C/C/C/C/C/C/C/C/C/C/C/C/C/C/C/C/C/C/C/C/C/C/C/C/C/C/C/C/C/C/C/C/C/C/'\n",
      "[13:44:21] SMILES Parse Error: syntax error while parsing: C/C1=C/CC[C)O[C@@H]2[C@@H]2[C@@H]2[C@@H]2[C@@H]2[C@@H]2[C@@H]2[C@@H]2[C@@H]2[C@@H]2[C@@H]2[C@@H]2[C@@H]2[C@@H]2[C@@\n",
      "[13:44:21] SMILES Parse Error: Failed parsing SMILES 'C/C1=C/CC[C)O[C@@H]2[C@@H]2[C@@H]2[C@@H]2[C@@H]2[C@@H]2[C@@H]2[C@@H]2[C@@H]2[C@@H]2[C@@H]2[C@@H]2[C@@H]2[C@@H]2[C@@' for input: 'C/C1=C/CC[C)O[C@@H]2[C@@H]2[C@@H]2[C@@H]2[C@@H]2[C@@H]2[C@@H]2[C@@H]2[C@@H]2[C@@H]2[C@@H]2[C@@H]2[C@@H]2[C@@H]2[C@@'\n",
      "[13:44:21] SMILES Parse Error: syntax error while parsing: C/C1=C/CC[C)O[C@@H]2[C@@H]2[C@@H]2[C@@H]2[C@@H]2[C@@H]2[C@@H]2[C@@H]2[C@@H]2[C@@H]2[C@@H]2[C@@H]2[C@@H]2[C@@H]2c2c\n",
      "[13:44:21] SMILES Parse Error: Failed parsing SMILES 'C/C1=C/CC[C)O[C@@H]2[C@@H]2[C@@H]2[C@@H]2[C@@H]2[C@@H]2[C@@H]2[C@@H]2[C@@H]2[C@@H]2[C@@H]2[C@@H]2[C@@H]2[C@@H]2c2c' for input: 'C/C1=C/CC[C)O[C@@H]2[C@@H]2[C@@H]2[C@@H]2[C@@H]2[C@@H]2[C@@H]2[C@@H]2[C@@H]2[C@@H]2[C@@H]2[C@@H]2[C@@H]2[C@@H]2c2c'\n",
      "[13:44:21] SMILES Parse Error: syntax error while parsing: C/C1=C/CC[C)O[C@@H]2[C@@H]2[C@@H]2[C@@H]2[C@@H]2[C@@H]2[C@@H]2[C@@H]2[C@@H]2[C@@H]2[C@@H]2[C@@H]2[C@@H]2[C@@H]2[C@@\n",
      "[13:44:21] SMILES Parse Error: Failed parsing SMILES 'C/C1=C/CC[C)O[C@@H]2[C@@H]2[C@@H]2[C@@H]2[C@@H]2[C@@H]2[C@@H]2[C@@H]2[C@@H]2[C@@H]2[C@@H]2[C@@H]2[C@@H]2[C@@H]2[C@@' for input: 'C/C1=C/CC[C)O[C@@H]2[C@@H]2[C@@H]2[C@@H]2[C@@H]2[C@@H]2[C@@H]2[C@@H]2[C@@H]2[C@@H]2[C@@H]2[C@@H]2[C@@H]2[C@@H]2[C@@'\n",
      "[13:44:23] SMILES Parse Error: syntax error while parsing: C/C1=C/CC[C)O[C@@H]2[C@@H]2[C@@H]2[C@@H]2[C@@H]2[C@@H]2[C@@H]2[C@@H]2[C@@H]2[C@@H]2[C@@H]2[C@@H]2[C@@H]2[C@@H]2[C@@\n",
      "[13:44:23] SMILES Parse Error: Failed parsing SMILES 'C/C1=C/CC[C)O[C@@H]2[C@@H]2[C@@H]2[C@@H]2[C@@H]2[C@@H]2[C@@H]2[C@@H]2[C@@H]2[C@@H]2[C@@H]2[C@@H]2[C@@H]2[C@@H]2[C@@' for input: 'C/C1=C/CC[C)O[C@@H]2[C@@H]2[C@@H]2[C@@H]2[C@@H]2[C@@H]2[C@@H]2[C@@H]2[C@@H]2[C@@H]2[C@@H]2[C@@H]2[C@@H]2[C@@H]2[C@@'\n",
      "[13:44:23] SMILES Parse Error: syntax error while parsing: C/C1=C/CC[C)O[C@@H]2[C@@H]2[C@@H]2[C@@H]2[C@@H]2[C@@H]2[C@@H]2[C@@H]2[C@@H]2[C@@H]2[C@@H]2[C@@H]2[C@@H]2[C@@H]2[C@@\n",
      "[13:44:23] SMILES Parse Error: Failed parsing SMILES 'C/C1=C/CC[C)O[C@@H]2[C@@H]2[C@@H]2[C@@H]2[C@@H]2[C@@H]2[C@@H]2[C@@H]2[C@@H]2[C@@H]2[C@@H]2[C@@H]2[C@@H]2[C@@H]2[C@@' for input: 'C/C1=C/CC[C)O[C@@H]2[C@@H]2[C@@H]2[C@@H]2[C@@H]2[C@@H]2[C@@H]2[C@@H]2[C@@H]2[C@@H]2[C@@H]2[C@@H]2[C@@H]2[C@@H]2[C@@'\n",
      "[13:44:23] SMILES Parse Error: syntax error while parsing: C/C1=C/CC[C)O[C@@H]2[C@@H]2[C@@H]2[C@@H]2[C@@H]2[C@@H]2[C@@H]2[C@@H]2[C@@H]2[C@@H]2[C@@H]2[C@@H]2[C@@H]2[C@@H]2[C@@\n",
      "[13:44:23] SMILES Parse Error: Failed parsing SMILES 'C/C1=C/CC[C)O[C@@H]2[C@@H]2[C@@H]2[C@@H]2[C@@H]2[C@@H]2[C@@H]2[C@@H]2[C@@H]2[C@@H]2[C@@H]2[C@@H]2[C@@H]2[C@@H]2[C@@' for input: 'C/C1=C/CC[C)O[C@@H]2[C@@H]2[C@@H]2[C@@H]2[C@@H]2[C@@H]2[C@@H]2[C@@H]2[C@@H]2[C@@H]2[C@@H]2[C@@H]2[C@@H]2[C@@H]2[C@@'\n",
      "[13:44:25] SMILES Parse Error: syntax error while parsing: C/C1=C/CC[C)O[C@@H]2[C@@H]2[C@@H]2[C@@H]2[C@@H]2[C@@H]2[C@@H]2[C@@H]2[C@@H]2[C@@H]2[C@@H]2[C@@H]2[C@@H]2[C@@H]2[C@@\n",
      "[13:44:25] SMILES Parse Error: Failed parsing SMILES 'C/C1=C/CC[C)O[C@@H]2[C@@H]2[C@@H]2[C@@H]2[C@@H]2[C@@H]2[C@@H]2[C@@H]2[C@@H]2[C@@H]2[C@@H]2[C@@H]2[C@@H]2[C@@H]2[C@@' for input: 'C/C1=C/CC[C)O[C@@H]2[C@@H]2[C@@H]2[C@@H]2[C@@H]2[C@@H]2[C@@H]2[C@@H]2[C@@H]2[C@@H]2[C@@H]2[C@@H]2[C@@H]2[C@@H]2[C@@'\n",
      "[13:44:25] SMILES Parse Error: syntax error while parsing: C/C1=C/CC[C)O[C@@H]2[C@@H]2[C@@H]2[C@@H]2[C@@H]2[C@@H]2[C@@H]2[C@@H]2[C@@H]2[C@@H]2[C@@H]2[C@@H]2[C@@H]2[C@@H]2[C@@\n",
      "[13:44:25] SMILES Parse Error: Failed parsing SMILES 'C/C1=C/CC[C)O[C@@H]2[C@@H]2[C@@H]2[C@@H]2[C@@H]2[C@@H]2[C@@H]2[C@@H]2[C@@H]2[C@@H]2[C@@H]2[C@@H]2[C@@H]2[C@@H]2[C@@' for input: 'C/C1=C/CC[C)O[C@@H]2[C@@H]2[C@@H]2[C@@H]2[C@@H]2[C@@H]2[C@@H]2[C@@H]2[C@@H]2[C@@H]2[C@@H]2[C@@H]2[C@@H]2[C@@H]2[C@@'\n",
      "[13:44:25] SMILES Parse Error: syntax error while parsing: C/C1=C/CC[C)O[C@@H]2[C@@H]2[C@@H]2[C@@H]2[C@@H]2[C@@H]2[C@@H]2[C@@H]2[C@@H]2[C@@H]2[C@@H]2[C@@H]2[C@@H]2[C@@H]2[C@@\n",
      "[13:44:25] SMILES Parse Error: Failed parsing SMILES 'C/C1=C/CC[C)O[C@@H]2[C@@H]2[C@@H]2[C@@H]2[C@@H]2[C@@H]2[C@@H]2[C@@H]2[C@@H]2[C@@H]2[C@@H]2[C@@H]2[C@@H]2[C@@H]2[C@@' for input: 'C/C1=C/CC[C)O[C@@H]2[C@@H]2[C@@H]2[C@@H]2[C@@H]2[C@@H]2[C@@H]2[C@@H]2[C@@H]2[C@@H]2[C@@H]2[C@@H]2[C@@H]2[C@@H]2[C@@'\n",
      "[13:44:27] SMILES Parse Error: syntax error while parsing: C/C1=C/CC[C)O[C@@H]2[C@@H]2[C@@H]2[C@@H]2[C@@H]2[C@@H]2[C@@H]2[C@@H]2[C@@H]2[C@@H]2[C@@H]2[C@@H]2[C@@H]2[C@@H]2[C@@\n",
      "[13:44:27] SMILES Parse Error: Failed parsing SMILES 'C/C1=C/CC[C)O[C@@H]2[C@@H]2[C@@H]2[C@@H]2[C@@H]2[C@@H]2[C@@H]2[C@@H]2[C@@H]2[C@@H]2[C@@H]2[C@@H]2[C@@H]2[C@@H]2[C@@' for input: 'C/C1=C/CC[C)O[C@@H]2[C@@H]2[C@@H]2[C@@H]2[C@@H]2[C@@H]2[C@@H]2[C@@H]2[C@@H]2[C@@H]2[C@@H]2[C@@H]2[C@@H]2[C@@H]2[C@@'\n",
      "[13:44:27] SMILES Parse Error: syntax error while parsing: C/C1=C/CC[C)O[C@@H]2[C@@H]2[C@@H]2[C@@H]2[C@@H]2[C@@H]2[C@@H]2[C@@H]2[C@@H]2[C@@H]2[C@@H]2[C@@H]2[C@@H]2[C@@H]2[C@@\n",
      "[13:44:27] SMILES Parse Error: Failed parsing SMILES 'C/C1=C/CC[C)O[C@@H]2[C@@H]2[C@@H]2[C@@H]2[C@@H]2[C@@H]2[C@@H]2[C@@H]2[C@@H]2[C@@H]2[C@@H]2[C@@H]2[C@@H]2[C@@H]2[C@@' for input: 'C/C1=C/CC[C)O[C@@H]2[C@@H]2[C@@H]2[C@@H]2[C@@H]2[C@@H]2[C@@H]2[C@@H]2[C@@H]2[C@@H]2[C@@H]2[C@@H]2[C@@H]2[C@@H]2[C@@'\n",
      "[13:44:27] SMILES Parse Error: syntax error while parsing: C/C1=C/CC[C)O[C@@H]2[C@@H]2[C@@H]2[C@@H]2[C@@H]2[C@@H]2[C@@H]2[C@@H]2[C@@H]2[C@@H]2[C@@H]2[C@@H]2[C@@H]2[C@@H]2[C@@\n",
      "[13:44:27] SMILES Parse Error: Failed parsing SMILES 'C/C1=C/CC[C)O[C@@H]2[C@@H]2[C@@H]2[C@@H]2[C@@H]2[C@@H]2[C@@H]2[C@@H]2[C@@H]2[C@@H]2[C@@H]2[C@@H]2[C@@H]2[C@@H]2[C@@' for input: 'C/C1=C/CC[C)O[C@@H]2[C@@H]2[C@@H]2[C@@H]2[C@@H]2[C@@H]2[C@@H]2[C@@H]2[C@@H]2[C@@H]2[C@@H]2[C@@H]2[C@@H]2[C@@H]2[C@@'\n",
      "[13:44:28] SMILES Parse Error: syntax error while parsing: C/C1=C/CC[C)O[C@@H]2[C@@H]2[C@@H]2[C@@H]2[C@@H]2[C@@H]2[C@@H]2[C@@H]2[C@@H]2[C@@H]2[C@@H]2[C@@H]2[C@@H]2[C@@H]2[C@@\n",
      "[13:44:28] SMILES Parse Error: Failed parsing SMILES 'C/C1=C/CC[C)O[C@@H]2[C@@H]2[C@@H]2[C@@H]2[C@@H]2[C@@H]2[C@@H]2[C@@H]2[C@@H]2[C@@H]2[C@@H]2[C@@H]2[C@@H]2[C@@H]2[C@@' for input: 'C/C1=C/CC[C)O[C@@H]2[C@@H]2[C@@H]2[C@@H]2[C@@H]2[C@@H]2[C@@H]2[C@@H]2[C@@H]2[C@@H]2[C@@H]2[C@@H]2[C@@H]2[C@@H]2[C@@'\n",
      "[13:44:28] non-ring atom 2 marked aromatic\n",
      "[13:44:28] SMILES Parse Error: syntax error while parsing: C/C1=C/CC[C)O[C@@H]2[C@@H]2[C@@H]2[C@@H]2[C@@H]2[C@@H]2[C@@H]2[C@@H]2[C@@H]2[C@@H]2[C@@H]2[C@@H]2[C@@H]2[C@@H]2[C@@\n",
      "[13:44:28] SMILES Parse Error: Failed parsing SMILES 'C/C1=C/CC[C)O[C@@H]2[C@@H]2[C@@H]2[C@@H]2[C@@H]2[C@@H]2[C@@H]2[C@@H]2[C@@H]2[C@@H]2[C@@H]2[C@@H]2[C@@H]2[C@@H]2[C@@' for input: 'C/C1=C/CC[C)O[C@@H]2[C@@H]2[C@@H]2[C@@H]2[C@@H]2[C@@H]2[C@@H]2[C@@H]2[C@@H]2[C@@H]2[C@@H]2[C@@H]2[C@@H]2[C@@H]2[C@@'\n",
      "[13:44:30] SMILES Parse Error: syntax error while parsing: C/C1=C/CC[C)O[C@@H]2[C@@H]2[C@@H]2[C@@H]2[C@@H]2[C@@H]2[C@@H]2[C@@H]2[C@@H]2[C@@H]2[C@@H]2[C@@H]2[C@@H]2[C@@H]2[C@@\n",
      "[13:44:30] SMILES Parse Error: Failed parsing SMILES 'C/C1=C/CC[C)O[C@@H]2[C@@H]2[C@@H]2[C@@H]2[C@@H]2[C@@H]2[C@@H]2[C@@H]2[C@@H]2[C@@H]2[C@@H]2[C@@H]2[C@@H]2[C@@H]2[C@@' for input: 'C/C1=C/CC[C)O[C@@H]2[C@@H]2[C@@H]2[C@@H]2[C@@H]2[C@@H]2[C@@H]2[C@@H]2[C@@H]2[C@@H]2[C@@H]2[C@@H]2[C@@H]2[C@@H]2[C@@'\n",
      "[13:44:30] SMILES Parse Error: syntax error while parsing: C/C1=C/CC[C)O[C@@H]2[C@@H]2[C@@H]2[C@@H]2[C@@H]2[C@@H]2[C@@H]2[C@@H]2[C@@H]2[C@@H]2[C@@H]2[C@@H]2[C@@H]2[C@@H]2[C@@\n",
      "[13:44:30] SMILES Parse Error: Failed parsing SMILES 'C/C1=C/CC[C)O[C@@H]2[C@@H]2[C@@H]2[C@@H]2[C@@H]2[C@@H]2[C@@H]2[C@@H]2[C@@H]2[C@@H]2[C@@H]2[C@@H]2[C@@H]2[C@@H]2[C@@' for input: 'C/C1=C/CC[C)O[C@@H]2[C@@H]2[C@@H]2[C@@H]2[C@@H]2[C@@H]2[C@@H]2[C@@H]2[C@@H]2[C@@H]2[C@@H]2[C@@H]2[C@@H]2[C@@H]2[C@@'\n",
      "[13:44:30] non-ring atom 2 marked aromatic\n",
      "[13:44:32] SMILES Parse Error: syntax error while parsing: C/C1=C/CC[C)O[C@@H]2[C@@H]2[C@@H]2[C@@H]2[C@@H]2[C@@H]2[C@@H]2[C@@H]2[C@@H]2[C@@H]2[C@@H]2[C@@H]2[C@@H]2[C@@H]2[C@@\n",
      "[13:44:32] SMILES Parse Error: Failed parsing SMILES 'C/C1=C/CC[C)O[C@@H]2[C@@H]2[C@@H]2[C@@H]2[C@@H]2[C@@H]2[C@@H]2[C@@H]2[C@@H]2[C@@H]2[C@@H]2[C@@H]2[C@@H]2[C@@H]2[C@@' for input: 'C/C1=C/CC[C)O[C@@H]2[C@@H]2[C@@H]2[C@@H]2[C@@H]2[C@@H]2[C@@H]2[C@@H]2[C@@H]2[C@@H]2[C@@H]2[C@@H]2[C@@H]2[C@@H]2[C@@'\n",
      "[13:44:32] non-ring atom 2 marked aromatic\n",
      "[13:44:32] SMILES Parse Error: syntax error while parsing: C/C1=C/CC[C)O[C@@H]2[C@@H]2[C@@H]2[C@@H]2[C@@H]2[C@@H]2[C@@H]2[C@@H]2[C@@H]2[C@@H]2[C@@H]2[C@@H]2[C@@H]2[C@@H]2[C@@\n",
      "[13:44:32] SMILES Parse Error: Failed parsing SMILES 'C/C1=C/CC[C)O[C@@H]2[C@@H]2[C@@H]2[C@@H]2[C@@H]2[C@@H]2[C@@H]2[C@@H]2[C@@H]2[C@@H]2[C@@H]2[C@@H]2[C@@H]2[C@@H]2[C@@' for input: 'C/C1=C/CC[C)O[C@@H]2[C@@H]2[C@@H]2[C@@H]2[C@@H]2[C@@H]2[C@@H]2[C@@H]2[C@@H]2[C@@H]2[C@@H]2[C@@H]2[C@@H]2[C@@H]2[C@@'\n",
      "[13:44:34] SMILES Parse Error: syntax error while parsing: C/C1=C/CC[C)O[C@@H]2[C@@H]2[C@@H]2[C@@H]2[C@@H]2[C@@H]2[C@@H]2[C@@H]2[C@@H]2[C@@H]2[C@@H]2[C@@H]2[C@@H]2[C@@H]2[C@@\n",
      "[13:44:34] SMILES Parse Error: Failed parsing SMILES 'C/C1=C/CC[C)O[C@@H]2[C@@H]2[C@@H]2[C@@H]2[C@@H]2[C@@H]2[C@@H]2[C@@H]2[C@@H]2[C@@H]2[C@@H]2[C@@H]2[C@@H]2[C@@H]2[C@@' for input: 'C/C1=C/CC[C)O[C@@H]2[C@@H]2[C@@H]2[C@@H]2[C@@H]2[C@@H]2[C@@H]2[C@@H]2[C@@H]2[C@@H]2[C@@H]2[C@@H]2[C@@H]2[C@@H]2[C@@'\n",
      "[13:44:34] SMILES Parse Error: unclosed ring for input: 'COcc1ncccccccccccccccccccccccccccccccccccccccccccccccccccccccccccccccccccccccccccccccccccccccccccccc'\n",
      "[13:44:34] SMILES Parse Error: syntax error while parsing: C/C1=C/CC[C)O[C@@H]2[C@@H]2[C@@H]2[C@@H]2[C@@H]2[C@@H]2[C@@H]2[C@@H]2[C@@H]2[C@@H]2[C@@H]2[C@@H]2[C@@H]2[C@@H]2[C@@\n",
      "[13:44:34] SMILES Parse Error: Failed parsing SMILES 'C/C1=C/CC[C)O[C@@H]2[C@@H]2[C@@H]2[C@@H]2[C@@H]2[C@@H]2[C@@H]2[C@@H]2[C@@H]2[C@@H]2[C@@H]2[C@@H]2[C@@H]2[C@@H]2[C@@' for input: 'C/C1=C/CC[C)O[C@@H]2[C@@H]2[C@@H]2[C@@H]2[C@@H]2[C@@H]2[C@@H]2[C@@H]2[C@@H]2[C@@H]2[C@@H]2[C@@H]2[C@@H]2[C@@H]2[C@@'\n",
      "[13:44:35] SMILES Parse Error: unclosed ring for input: 'C/C1=C/CC[C@@]2(C)O[C@@H]2[C@@H]2[C@@H]2[C@@H]2[C@@H]2[C@@H]2[C@@H]2[C@@H]2[C@@H]2[C@@H]2[C@@H]2[C@@H]2[C@@H]2[C@@H]'\n",
      "[13:44:35] SMILES Parse Error: unclosed ring for input: 'COc1nccccccccccccccccccccccccccccccccccccccccccccccccccccccccccccccccccccccccccccccccccccccccccccccc'\n",
      "[13:44:35] SMILES Parse Error: unclosed ring for input: 'C/C1=C/CC[C@@]2(C)O[C@@H]2[C@@H]2[C@@H]2[C@@H]2[C@@H]2[C@@H]2[C@@H]2[C@@H]2[C@@H]2[C@@H]2[C@@H]2[C@@H]2[C@@H]2[C@@H]'\n",
      "[13:44:37] SMILES Parse Error: unclosed ring for input: 'COc1nccccccccccccccccccccccccccccccccccccccccccccccccccccccccccccccccccccccccccccccccccccccccccccccc'\n",
      "[13:44:37] SMILES Parse Error: unclosed ring for input: 'C/C1=C/CC[C@@]2(C)O[C@@H]2[C@@H]2[C@@H]2[C@@H]2[C@@H]2[C@@H]2[C@@H]2[C@@H]2[C@@H]2[C@@H]2[C@@H]2[C@@H]2[C@@H]2[C@@H]'\n",
      "[13:44:37] SMILES Parse Error: unclosed ring for input: 'C/C1=C/CC[C@@]2(C)O[C@@H]2[C@@H]2[C@@H]2[C@@H]2[C@@H]2[C@@H]2[C@@H]2[C@@H]2[C@@H]2[C@@H]2[C@@H]2[C@@H]2[C@@H]2[C@@H]'\n",
      "[13:44:39] SMILES Parse Error: unclosed ring for input: 'C/C1=C/CC[C@@]2(C)O[C@@H]2[C@@H]2[C@@H]2[C@@H]2[C@@H]2[C@@H]2[C@@H]2[C@@H]2[C@@H]2[C@@H]2[C@@H]2[C@@H]2[C@@H]2[C@@H]'\n",
      "[13:44:39] SMILES Parse Error: unclosed ring for input: 'COc1nccccccccccccccccccccccccccccccccccccccccccccccccccccccccccccccccccccccccccccccccccccccccccccccc'\n",
      "[13:44:39] SMILES Parse Error: unclosed ring for input: 'C/C1=C/CC[C@@]2(C)O[C@@H]2[C@@H]2[C@@H]2[C@@H]2[C@@H]2[C@@H]2[C@@H]2[C@@H]2[C@@H]2[C@@H]2[C@@H]2[C@@H]2[C@@H]2[C@@H]'\n",
      "[13:44:41] SMILES Parse Error: unclosed ring for input: 'C/C1=C/CC[C@@]2(C)O[C@@H]2[C@@H]2[C@@H]2[C@@H]2[C@@H]2[C@@H]2[C@@H]2[C@@H]2[C@@H]2[C@@H]2[C@@H]2[C@@H]2[C@@H]2[C@@H]'\n",
      "[13:44:41] SMILES Parse Error: syntax error while parsing: C/C1=C/CC[C@@]2(C)O[C@@H]2[C@@H]2[C@@H]2[C@@H]2[C@@H]2[C@@H]2[C@@H]2[C@@H]2[C@@H]2[C@@H]2[C@@H]2[C@@H]2[C@@H]2OC(=O)[C\n",
      "[13:44:41] SMILES Parse Error: Failed parsing SMILES 'C/C1=C/CC[C@@]2(C)O[C@@H]2[C@@H]2[C@@H]2[C@@H]2[C@@H]2[C@@H]2[C@@H]2[C@@H]2[C@@H]2[C@@H]2[C@@H]2[C@@H]2[C@@H]2OC(=O)[C' for input: 'C/C1=C/CC[C@@]2(C)O[C@@H]2[C@@H]2[C@@H]2[C@@H]2[C@@H]2[C@@H]2[C@@H]2[C@@H]2[C@@H]2[C@@H]2[C@@H]2[C@@H]2[C@@H]2OC(=O)[C'\n",
      "[13:44:41] SMILES Parse Error: extra open parentheses for input: 'COc1ncccccccccccccccccccccccccccccccc(C(=O)c(C(=O)Nc(C(=O)c(Cl)c(C(=O)cccc(C(=O)ccccc(C(=O)cccc(C(=O)ccccc(C'\n",
      "[13:44:43] SMILES Parse Error: unclosed ring for input: 'C/C1=C/CC[C@@]2(C)O[C@@H]2[C@@H]2[C@@H]2[C@@H]2[C@@H]2[C@@H]2[C@@H]2[C@@H]2[C@@H]2[C@@H]2[C@@H]2[C@@H]2[C@@H]2[C@@H]'\n",
      "[13:44:43] SMILES Parse Error: extra open parentheses for input: 'COc1nccccccccccccccccccccccccccc(C(=O)Nc(C(=O)c(C(=O)c(Cl)cccccc(C(=O)cccc(C(=O)cccc(C(=O)cccc(C(=O)cccc(C(=O'\n",
      "[13:44:43] SMILES Parse Error: ring closure 2 duplicates bond between atom 9 and atom 10 for input: 'C/C1=C/CC[C@@]2(C)O[C@@H]2[C@@H]2[C@@H]2[C@@H]2[C@@H]2[C@@H]2[C@@H]2[C@@H]2[C@@H]2[C@@H]2[C@@H]2[C@@H]2OC(=O)[C@H]2CC1'\n",
      "[13:44:45] SMILES Parse Error: ring closure 2 duplicates bond between atom 9 and atom 10 for input: 'C/C1=C/CC[C@@]2(C)O[C@@H]2[C@@H]2[C@@H]2[C@@H]2[C@@H]2[C@@H]2[C@@H]2[C@H]2OC(=O)[C@H]2CC1'\n",
      "[13:44:45] SMILES Parse Error: extra open parentheses for input: 'COc1ncccccccccccccccccccccccc(C(=O)Nc(C(=O)c(C(=O)c(Cl)cccccc(C(=O)cccc(C(=O)cccc(C(=O)cccc(C(=O)cccc(C(=O)cc'\n",
      "[13:44:45] SMILES Parse Error: ring closure 2 duplicates bond between atom 9 and atom 10 for input: 'C/C1=C/CC[C@@]2(C)O[C@@H]2[C@@H]2[C@@H]2[C@@H]2[C@@H]2[C@@H]2[C@@H]2[C@@H]2[C@@H]2[C@@H]2[C@@H]2OC(=O)[C@H]2CC1'\n",
      "[13:44:46] SMILES Parse Error: ring closure 2 duplicates bond between atom 9 and atom 10 for input: 'C/C1=C/CC[C@@]2(C)O[C@@H]2[C@@H]2[C@@H]2[C@@H]2[C@@H]2[C@H]2OC(=O)[C@H]2CC1'\n",
      "[13:44:46] SMILES Parse Error: extra open parentheses for input: 'COc1nccccccccccccccccccc(C(=O)Nc(C(=O)c(C(=O)c(Cl)cccccc(C(=O)cccc(C(=O)ccc(C(=O)cccc(C(=O)ccc(C(=O)cccc(C(=O)'\n",
      "[13:44:46] SMILES Parse Error: ring closure 2 duplicates bond between atom 9 and atom 10 for input: 'C/C1=C/CC[C@@]2(C)O[C@@H]2[C@@H]2[C@@H]2[C@H]2OC(=O)[C@H]2CC1'\n",
      "[13:44:48] SMILES Parse Error: ring closure 2 duplicates bond between atom 9 and atom 10 for input: 'C/C1=C/CC[C@@]2(C)O[C@@H]2[C@@H]2[C@@H]2[C@H]2OC(=O)[C@H]2CC1'\n",
      "[13:44:48] SMILES Parse Error: ring closure 2 duplicates bond between atom 9 and atom 10 for input: 'C/C1=C/CC[C@@]2(C)O[C@@H]2[C@@H]2[C@@H]2[C@@H]2[C@H]2OC(=O)[C@H]2CC1'\n",
      "[13:44:48] SMILES Parse Error: extra open parentheses for input: 'CNC(=O)O[C@H]1COc2c(c(c(N3CCN(C4)ccccccccccccccccccccccccccccccccccccccccccccc1'\n",
      "[13:44:50] SMILES Parse Error: ring closure 2 duplicates bond between atom 9 and atom 10 for input: 'C/C1=C/CC[C@@]2(C)O[C@@H]2[C@@H]2[C@@H]2[C@H]2OC(=O)[C@H]2CC1'\n",
      "[13:44:50] SMILES Parse Error: extra open parentheses for input: 'CNC(=O)O[C@H]1COc2c(c(c(N3CCN(C4)cccccccccccccccccccccccccccccccccccccccccc1'\n",
      "[13:44:50] SMILES Parse Error: ring closure 2 duplicates bond between atom 9 and atom 10 for input: 'C/C1=C/CC[C@@]2(C)O[C@@H]2[C@@H]2[C@@H]2[C@H]2OC(=O)[C@H]2CC1'\n",
      "[13:44:52] SMILES Parse Error: ring closure 2 duplicates bond between atom 9 and atom 10 for input: 'C/C1=C/CC[C@@]2(C)O[C@@H]2[C@@H]2[C@H]2OC(=O)[C@H]2CC1'\n",
      "[13:44:52] SMILES Parse Error: extra open parentheses for input: 'CNC(=O)O[C@H]1COc2c(c(c(N3CCN(C4COC4)cccccccccccccccccccccccccccccccccccc1'\n",
      "[13:44:52] SMILES Parse Error: ring closure 2 duplicates bond between atom 9 and atom 10 for input: 'C/C1=C/CC[C@@]2(C)O[C@@H]2[C@@H]2[C@@H]2[C@H]2OC(=O)[C@H]2CC1'\n",
      "[13:44:54] SMILES Parse Error: extra open parentheses for input: 'CNC(=O)O[C@H]1COc2c(c(c(N3CCN(C4COC4)cccccccccccccccccccccccccccccccccc1'\n",
      "[13:44:54] SMILES Parse Error: ring closure 2 duplicates bond between atom 9 and atom 10 for input: 'C/C1=C/CC[C@@]2(C)O[C@@H]2[C@@H]2[C@H]2OC(=O)[C@H]2CC1'\n",
      "[13:44:54] SMILES Parse Error: ring closure 2 duplicates bond between atom 9 and atom 10 for input: 'C/C1=C/CC[C@@]2(C)O[C@@H]2[C@@H]2[C@H]2OC(=O)[C@H]2CC1'\n",
      "[13:44:56] SMILES Parse Error: ring closure 2 duplicates bond between atom 9 and atom 10 for input: 'C/C1=C/CC[C@@]2(C)O[C@@H]2[C@@H]2[C@H]2OC(=O)[C@H]2CC1'\n",
      "[13:44:56] SMILES Parse Error: extra open parentheses for input: 'CNC(=O)O[C@H]1COc2c(c(c(N3CCN(C4COC4)cccccccccccccccccccccccccccccccccccc1'\n",
      "[13:44:56] SMILES Parse Error: ring closure 2 duplicates bond between atom 9 and atom 10 for input: 'C/C1=C/CC[C@@]2(C)O[C@@H]2[C@@H]2[C@H]2OC(=O)[C@H]2CC1'\n",
      "[13:44:58] SMILES Parse Error: extra open parentheses for input: 'CNC(=O)O[C@H]1COc2c(c(c(N3CCN(C4COC4)ccccccccccccccccccccccccccccc1NC(=O)ccccc1'\n",
      "[13:44:58] SMILES Parse Error: ring closure 2 duplicates bond between atom 9 and atom 10 for input: 'C/C1=C/CC[C@@]2(C)O[C@@H]2[C@@H]2[C@H]2OC(=O)[C@H]2CC1'\n",
      "huggingface/tokenizers: The current process just got forked, after parallelism has already been used. Disabling parallelism to avoid deadlocks...\n",
      "To disable this warning, you can either:\n",
      "\t- Avoid using `tokenizers` before the fork if possible\n",
      "\t- Explicitly set the environment variable TOKENIZERS_PARALLELISM=(true | false)\n",
      "[13:45:00] SMILES Parse Error: ring closure 2 duplicates bond between atom 9 and atom 10 for input: 'C/C1=C/CC[C@@]2(C)O[C@@H]2[C@@H]2[C@H]2OC(=O)[C@H]2CC1'\n",
      "[13:45:00] SMILES Parse Error: extra open parentheses for input: 'CNC(=O)O[C@H]1COc2c(c(c(N3CCN(C4)cccccccccccccccccccccccccccccccccc1'\n",
      "[13:45:02] SMILES Parse Error: syntax error while parsing: CNC(=O)O[C@H]1COc2c(c(c(N3CCN(C4)cccccccccccccccccccccccccc2)[C4)cccccccccccccccc1\n",
      "[13:45:02] SMILES Parse Error: Failed parsing SMILES 'CNC(=O)O[C@H]1COc2c(c(c(N3CCN(C4)cccccccccccccccccccccccccc2)[C4)cccccccccccccccc1' for input: 'CNC(=O)O[C@H]1COc2c(c(c(N3CCN(C4)cccccccccccccccccccccccccc2)[C4)cccccccccccccccc1'\n",
      "[13:45:04] SMILES Parse Error: syntax error while parsing: CNC(=O)O[C@H]1COc2c(c(c(N3CCN(C4)ccccccccccccccccccccccccccc2)[C4)cccccccccccccccccc1\n",
      "[13:45:04] SMILES Parse Error: Failed parsing SMILES 'CNC(=O)O[C@H]1COc2c(c(c(N3CCN(C4)ccccccccccccccccccccccccccc2)[C4)cccccccccccccccccc1' for input: 'CNC(=O)O[C@H]1COc2c(c(c(N3CCN(C4)ccccccccccccccccccccccccccc2)[C4)cccccccccccccccccc1'\n",
      "[13:45:06] SMILES Parse Error: syntax error while parsing: CNC(=O)O[C@H]1COc2c(c(c(N3CCN(C4)cccccccccccccccccccccc2)[C4)ccccccccccccccccccc1\n",
      "[13:45:06] SMILES Parse Error: Failed parsing SMILES 'CNC(=O)O[C@H]1COc2c(c(c(N3CCN(C4)cccccccccccccccccccccc2)[C4)ccccccccccccccccccc1' for input: 'CNC(=O)O[C@H]1COc2c(c(c(N3CCN(C4)cccccccccccccccccccccc2)[C4)ccccccccccccccccccc1'\n",
      "[13:45:08] SMILES Parse Error: syntax error while parsing: CNC(=O)O[C@H]1COc2c(c(c(N3CCN(C4)cccccccccccccccccccccc2)[C4)cccccccccccccccccccc1\n",
      "[13:45:08] SMILES Parse Error: Failed parsing SMILES 'CNC(=O)O[C@H]1COc2c(c(c(N3CCN(C4)cccccccccccccccccccccc2)[C4)cccccccccccccccccccc1' for input: 'CNC(=O)O[C@H]1COc2c(c(c(N3CCN(C4)cccccccccccccccccccccc2)[C4)cccccccccccccccccccc1'\n",
      "[13:45:09] SMILES Parse Error: syntax error while parsing: CNC(=O)O[C@H]1COc2c(c(c(N3CCN(C4)ccccccccccccccccccc2)[C4)ccccccccccccccccccc2)[C(=O)ccccccccccccc(C(=O)cc1\n",
      "[13:45:09] SMILES Parse Error: Failed parsing SMILES 'CNC(=O)O[C@H]1COc2c(c(c(N3CCN(C4)ccccccccccccccccccc2)[C4)ccccccccccccccccccc2)[C(=O)ccccccccccccc(C(=O)cc1' for input: 'CNC(=O)O[C@H]1COc2c(c(c(N3CCN(C4)ccccccccccccccccccc2)[C4)ccccccccccccccccccc2)[C(=O)ccccccccccccc(C(=O)cc1'\n",
      "[13:45:11] SMILES Parse Error: syntax error while parsing: CNC(=O)O[C@H]1COc2c(c(c(N3CCN(C4)cccccccccccccccc2)[C4)cccccccccccccccccc2)[C4)ccccccccccccccc1\n",
      "[13:45:11] SMILES Parse Error: Failed parsing SMILES 'CNC(=O)O[C@H]1COc2c(c(c(N3CCN(C4)cccccccccccccccc2)[C4)cccccccccccccccccc2)[C4)ccccccccccccccc1' for input: 'CNC(=O)O[C@H]1COc2c(c(c(N3CCN(C4)cccccccccccccccc2)[C4)cccccccccccccccccc2)[C4)ccccccccccccccc1'\n",
      "[13:45:13] SMILES Parse Error: syntax error while parsing: CNC(=O)O[C@H]1COc2c(c(c(N3CCN(C4COC4)cccccccccccc2)[C4)ccccccccccccccccc2)[C4)cccccccccccccc2)[C(=O)cccccc(C(=O)\n",
      "[13:45:13] SMILES Parse Error: Failed parsing SMILES 'CNC(=O)O[C@H]1COc2c(c(c(N3CCN(C4COC4)cccccccccccc2)[C4)ccccccccccccccccc2)[C4)cccccccccccccc2)[C(=O)cccccc(C(=O)' for input: 'CNC(=O)O[C@H]1COc2c(c(c(N3CCN(C4COC4)cccccccccccc2)[C4)ccccccccccccccccc2)[C4)cccccccccccccc2)[C(=O)cccccc(C(=O)'\n",
      "[13:45:15] SMILES Parse Error: syntax error while parsing: CNC(=O)O[C@H]1COc2c(c(N3CCN(C4COC4)ccccccccccc2)[C4)cccccccccccccc2)[C4)cccccccccc(C4)cc2)[C(=O)cccccccccccc2)[C\n",
      "[13:45:15] SMILES Parse Error: Failed parsing SMILES 'CNC(=O)O[C@H]1COc2c(c(N3CCN(C4COC4)ccccccccccc2)[C4)cccccccccccccc2)[C4)cccccccccc(C4)cc2)[C(=O)cccccccccccc2)[C' for input: 'CNC(=O)O[C@H]1COc2c(c(N3CCN(C4COC4)ccccccccccc2)[C4)cccccccccccccc2)[C4)cccccccccc(C4)cc2)[C(=O)cccccccccccc2)[C'\n",
      "[13:45:16] SMILES Parse Error: syntax error while parsing: CNC(=O)O[C@H]1COc2c(c(N3CCN(C4COC4)cccccccccc2)[C4)cccccccccccccc2)[C4)cccccccccc(C4)c2)[C(=O)ccccccccccc2)[C(=O)\n",
      "[13:45:16] SMILES Parse Error: Failed parsing SMILES 'CNC(=O)O[C@H]1COc2c(c(N3CCN(C4COC4)cccccccccc2)[C4)cccccccccccccc2)[C4)cccccccccc(C4)c2)[C(=O)ccccccccccc2)[C(=O)' for input: 'CNC(=O)O[C@H]1COc2c(c(N3CCN(C4COC4)cccccccccc2)[C4)cccccccccccccc2)[C4)cccccccccc(C4)c2)[C(=O)ccccccccccc2)[C(=O)'\n",
      "[13:45:18] SMILES Parse Error: syntax error while parsing: CNC(=O)O[C@H]1COc2c(c(N3CCN(C4COC4)cccccccc2)[C4)cccccccccccc2)[C4)ccccccccc(C4)c2)[C4)ccccccc2)[C(=O)cccccccccc\n",
      "[13:45:18] SMILES Parse Error: Failed parsing SMILES 'CNC(=O)O[C@H]1COc2c(c(N3CCN(C4COC4)cccccccc2)[C4)cccccccccccc2)[C4)ccccccccc(C4)c2)[C4)ccccccc2)[C(=O)cccccccccc' for input: 'CNC(=O)O[C@H]1COc2c(c(N3CCN(C4COC4)cccccccc2)[C4)cccccccccccc2)[C4)ccccccccc(C4)c2)[C4)ccccccc2)[C(=O)cccccccccc'\n",
      "[13:45:20] SMILES Parse Error: syntax error while parsing: CNC(=O)O[C@H]1COc2c(c(N3CCN(C4COC4)cccccccccc2)[C4)cccccccccccccc2)[C4)cccccccccc(C4)c2)[C(=O)cccccccccc2)[C(=O)c\n",
      "[13:45:20] SMILES Parse Error: Failed parsing SMILES 'CNC(=O)O[C@H]1COc2c(c(N3CCN(C4COC4)cccccccccc2)[C4)cccccccccccccc2)[C4)cccccccccc(C4)c2)[C(=O)cccccccccc2)[C(=O)c' for input: 'CNC(=O)O[C@H]1COc2c(c(N3CCN(C4COC4)cccccccccc2)[C4)cccccccccccccc2)[C4)cccccccccc(C4)c2)[C(=O)cccccccccc2)[C(=O)c'\n",
      "[13:45:22] SMILES Parse Error: unclosed ring for input: 'CNC(=O)O[C@H]1COc2c(c(N3CCN(C4COC4)CC3)c2)[C@@H]1NC(=O)cccccc1'\n",
      "[13:45:23] SMILES Parse Error: syntax error while parsing: CNC(=O)O[C@H]1COc2ccc(ccccccccccc(N3CCN(C4)cccccccccccccccccccccccccccccc2)[C(=O)cccccccccccccccccccccccccc\n",
      "[13:45:24] SMILES Parse Error: Failed parsing SMILES 'CNC(=O)O[C@H]1COc2ccc(ccccccccccc(N3CCN(C4)cccccccccccccccccccccccccccccc2)[C(=O)cccccccccccccccccccccccccc' for input: 'CNC(=O)O[C@H]1COc2ccc(ccccccccccc(N3CCN(C4)cccccccccccccccccccccccccccccc2)[C(=O)cccccccccccccccccccccccccc'\n",
      "[13:45:24] SMILES Parse Error: extra open parentheses for input: 'COc1nccccccccccccccc2c(C(=O)Nc(Cl)cccccccccccc(C(=O)ccc(C(=O)NCcccccccccccccccccccccccc(C(=O)[nH]c2n1'\n",
      "[13:45:25] SMILES Parse Error: extra close parentheses while parsing: CNC(=O)O[C@H]1COc2c(N3CCN(C4COC4)CC3)c2)[C@@H]1NC(=O)c1\n",
      "[13:45:25] SMILES Parse Error: Failed parsing SMILES 'CNC(=O)O[C@H]1COc2c(N3CCN(C4COC4)CC3)c2)[C@@H]1NC(=O)c1' for input: 'CNC(=O)O[C@H]1COc2c(N3CCN(C4COC4)CC3)c2)[C@@H]1NC(=O)c1'\n",
      "[13:45:27] SMILES Parse Error: syntax error while parsing: CNC(=O)O[C@H]1COc2c(cccccc(N3CCN(C4)ccccccccccccccccccccccc2)[C4)ccccccccccccccc(C(=O)ccccccc2)[C(=O)cccccccc\n",
      "[13:45:27] SMILES Parse Error: Failed parsing SMILES 'CNC(=O)O[C@H]1COc2c(cccccc(N3CCN(C4)ccccccccccccccccccccccc2)[C4)ccccccccccccccc(C(=O)ccccccc2)[C(=O)cccccccc' for input: 'CNC(=O)O[C@H]1COc2c(cccccc(N3CCN(C4)ccccccccccccccccccccccc2)[C4)ccccccccccccccc(C(=O)ccccccc2)[C(=O)cccccccc'\n",
      "[13:45:27] SMILES Parse Error: extra open parentheses for input: 'COc1nccccccc2c(C(=O)Nc(Cl)ccccccccccc(C(=O)NCccccccccccccccc(C(=O)[nH]c2n1'\n",
      "[13:45:29] SMILES Parse Error: extra open parentheses for input: 'COc1ncccc2cc(C(=O)Nc(Cl)cccccccccc(C(=O)NCcccccccccccc(C(=O)[nH]c2n1'\n",
      "[13:45:29] SMILES Parse Error: syntax error while parsing: CNC(=O)O[C@H]1COc2c(ccc(N3CCN(C4COC4)cccccccccccccc2)[C4)cccccccccccccc(C4)c2)[C4)ccccccccccccccc(C(=O)c2)[C(=O)\n",
      "[13:45:29] SMILES Parse Error: Failed parsing SMILES 'CNC(=O)O[C@H]1COc2c(ccc(N3CCN(C4COC4)cccccccccccccc2)[C4)cccccccccccccc(C4)c2)[C4)ccccccccccccccc(C(=O)c2)[C(=O)' for input: 'CNC(=O)O[C@H]1COc2c(ccc(N3CCN(C4COC4)cccccccccccccc2)[C4)cccccccccccccc(C4)c2)[C4)ccccccccccccccc(C(=O)c2)[C(=O)'\n",
      "[13:45:31] SMILES Parse Error: extra close parentheses while parsing: CNC(=O)O[C@H]1COc2c(N3CCN(C4COC4)CC3)c2)[C@@H]1NC(=O)c1\n",
      "[13:45:31] SMILES Parse Error: Failed parsing SMILES 'CNC(=O)O[C@H]1COc2c(N3CCN(C4COC4)CC3)c2)[C@@H]1NC(=O)c1' for input: 'CNC(=O)O[C@H]1COc2c(N3CCN(C4COC4)CC3)c2)[C@@H]1NC(=O)c1'\n",
      "[13:45:33] SMILES Parse Error: syntax error while parsing: CNC(=O)O[C@H]1COc2c(c(N3CCN(C4COC4)cccccccc2)[C4)cccccccccccccc2)[C4)cccc(C4)ccccc2)[C4)cccccc(C4)cc2)[C4)ccccc\n",
      "[13:45:33] SMILES Parse Error: Failed parsing SMILES 'CNC(=O)O[C@H]1COc2c(c(N3CCN(C4COC4)cccccccc2)[C4)cccccccccccccc2)[C4)cccc(C4)ccccc2)[C4)cccccc(C4)cc2)[C4)ccccc' for input: 'CNC(=O)O[C@H]1COc2c(c(N3CCN(C4COC4)cccccccc2)[C4)cccccccccccccc2)[C4)cccc(C4)ccccc2)[C4)cccccc(C4)cc2)[C4)ccccc'\n",
      "[13:45:35] SMILES Parse Error: extra open parentheses for input: 'COc1ncccccc2cc(C(=O)Nc(Cl)ccccccccccccc(C(=O)NCcccccccccccccc(C(=O)[nH]c2n1'\n",
      "[13:45:35] SMILES Parse Error: syntax error while parsing: CNC(=O)O[C@H]1COc2c(cccccc(N3CCN(C4COC4)ccccccccccccccccc2)[C4)ccccccccccccccccccccc2)[C(=O)ccccccccc(C(=O)cccc\n",
      "[13:45:35] SMILES Parse Error: Failed parsing SMILES 'CNC(=O)O[C@H]1COc2c(cccccc(N3CCN(C4COC4)ccccccccccccccccc2)[C4)ccccccccccccccccccccc2)[C(=O)ccccccccc(C(=O)cccc' for input: 'CNC(=O)O[C@H]1COc2c(cccccc(N3CCN(C4COC4)ccccccccccccccccc2)[C4)ccccccccccccccccccccc2)[C(=O)ccccccccc(C(=O)cccc'\n",
      "[13:45:37] SMILES Parse Error: unclosed ring for input: 'CNC(=O)O[C@H]1COc2c(c(N3CCN(C4COC4)CC3)cc2)[C@@H]1NC(=O)cccccccc1'\n",
      "[13:45:38] SMILES Parse Error: unclosed ring for input: 'CNC(=O)O[C@H]1COc2c(c(N3CCN(C4COC4)CC3)c2)[C@@H]1NC(=O)cccc1'\n",
      "[13:45:40] SMILES Parse Error: unclosed ring for input: 'CNC(=O)O[C@H]1COc2c(cccc(N3CCN(C4COC4)CC3)cccccc2)[C@@H]1NC(=O)ccccccccccc1'\n",
      "[13:45:40] SMILES Parse Error: extra open parentheses for input: 'COc1ncccc2cc(C(=O)Nc(Cl)cccccccccc(C(=O)NCccccccccccc(C(=O)[nH]c2n1'\n",
      "[13:45:42] SMILES Parse Error: unclosed ring for input: 'CNC(=O)O[C@H]1COc2c(ccc(N3CCN(C4COC4)CC3)ccccc2)[C@@H]1NC(=O)cccccccccccc1'\n",
      "[13:45:42] SMILES Parse Error: extra open parentheses for input: 'COc1nccc2cc(C(=O)Nc(Cl)cccccccccc(C(=O)NCccccccccc(C(=O)[nH]c2n1'\n",
      "[13:45:43] SMILES Parse Error: unclosed ring for input: 'CNC(=O)O[C@H]1COc2c(c(N3CCN(C4COC4)CC3)c2)[C@@H]1NC(=O)ccccc1'\n",
      "[13:45:45] SMILES Parse Error: unclosed ring for input: 'CNC(=O)O[C@H]1COc2c(c(N3CCN(C4COC4)CC3)c2)[C@@H]1NC(=O)ccccccccc1'\n",
      "[13:45:47] SMILES Parse Error: extra open parentheses for input: 'COc1nccc2ccc(C(=O)Nc(Cl)ccccccccc(C(=O)NCccccccccc(C(=O)[nH]c2n1'\n",
      "[13:45:47] SMILES Parse Error: unclosed ring for input: 'CNC(=O)O[C@H]1COc2c(cccc(N3CCN(C4COC4)CC3)ccccc2)[C@@H]1NC(=O)cccccccccccccccc1'\n",
      "[13:45:47] SMILES Parse Error: syntax error while parsing: C/C1=C/CC[C@@]2(C)O[C@@H]2[C@H]2OC(=O)[C@H](CN(C)C@@H]2CC1\n",
      "[13:45:47] SMILES Parse Error: Failed parsing SMILES 'C/C1=C/CC[C@@]2(C)O[C@@H]2[C@H]2OC(=O)[C@H](CN(C)C@@H]2CC1' for input: 'C/C1=C/CC[C@@]2(C)O[C@@H]2[C@H]2OC(=O)[C@H](CN(C)C@@H]2CC1'\n",
      "[13:45:49] SMILES Parse Error: extra open parentheses for input: 'COc1nccc2cc(C(=O)Nc(Cl)cccccccc(C(=O)NCcccccccc(C(=O)[nH]c2n1'\n",
      "[13:45:49] SMILES Parse Error: unclosed ring for input: 'CNC(=O)O[C@H]1COc2c(ccc(N3CCN(C4COC4)CC3)ccc2)[C@@H]1NC(=O)ccccccccccccc1'\n",
      "huggingface/tokenizers: The current process just got forked, after parallelism has already been used. Disabling parallelism to avoid deadlocks...\n",
      "To disable this warning, you can either:\n",
      "\t- Avoid using `tokenizers` before the fork if possible\n",
      "\t- Explicitly set the environment variable TOKENIZERS_PARALLELISM=(true | false)\n"
     ]
    },
    {
     "data": {
      "application/vnd.jupyter.widget-view+json": {
       "model_id": "617030d469a14d7f83407b6d1ca8ffb3",
       "version_major": 2,
       "version_minor": 0
      },
      "text/plain": [
       "Validation: |          | 0/? [00:00<?, ?it/s]"
      ]
     },
     "metadata": {},
     "output_type": "display_data"
    },
    {
     "name": "stderr",
     "output_type": "stream",
     "text": [
      "[13:45:50] SMILES Parse Error: unclosed ring for input: 'CNC(=O)O[C@H]1COc2c(c(N3CCN(C4COC4)CC3)c2)[C@@H]1NC(=O)ccccc1'\n",
      "`Trainer.fit` stopped: `max_epochs=100` reached.\n"
     ]
    }
   ],
   "source": [
    "# Load dataset\n",
    "dataset = MassSpecDataset(\n",
    "    pth=mgf_pth,\n",
    "    spec_transform=SpecTokenizer(n_peaks=60),\n",
    "    mol_transform=None\n",
    ")\n",
    "\n",
    "# Init data module\n",
    "data_module = MassSpecDataModule(\n",
    "    dataset=dataset,\n",
    "    split_pth=split_pth,\n",
    "    batch_size=32\n",
    ")\n",
    "\n",
    "# Init model\n",
    "model = SmilesTransformer(\n",
    "    input_dim=2,\n",
    "    d_model=512,\n",
    "    nhead=8,\n",
    "    num_encoder_layers=4,\n",
    "    num_decoder_layers=4,\n",
    "    dropout=0.0,\n",
    "    smiles_tokenizer=SmilesBPETokenizer(max_len=200),\n",
    "    k_predictions=1,\n",
    "    pre_norm=False,\n",
    "    max_smiles_len=100,\n",
    "    validate_only_loss=True\n",
    ")\n",
    "\n",
    "# Init trainer\n",
    "project = \"MassSpecGymDeNovo\"\n",
    "name = \"SmilesTransformer_debug_overfitting\"\n",
    "logger = pl.loggers.WandbLogger(\n",
    "    project=project,\n",
    "    name=name,\n",
    "    tags=[],\n",
    "    log_model=False,\n",
    ")\n",
    "trainer = Trainer(\n",
    "    accelerator=\"cpu\", max_epochs=100, logger=logger, log_every_n_steps=1, check_val_every_n_epoch=50\n",
    ")\n",
    "\n",
    "# Validate before training\n",
    "data_module.prepare_data()  # Explicit call needed for validate before fit\n",
    "data_module.setup()  # Explicit call needed for validate before fit\n",
    "trainer.validate(model, datamodule=data_module)\n",
    "\n",
    "# Train\n",
    "trainer.fit(model, datamodule=data_module)"
   ]
  },
  {
   "cell_type": "code",
   "execution_count": 18,
   "metadata": {},
   "outputs": [
    {
     "name": "stdout",
     "output_type": "stream",
     "text": [
      "['CNC(=O)O[C@H]1COc2c(cc(N3CCN(C4COC4)CC3)cc2)[C@@H]1NC(=O)c1ccc(F)cc1', 'COc1ncc2cc(C(=O)Nc3c(Cl)ccc(C(=O)NCc4cc(Cl)ccc4)c3)c(=O)[nH]c2n1', 'C/C1=C/CC[C@@]2(C)O[C@@H]2[C@H]2OC(=O)[C@H](CN(C)C)[C@@H]2CC1']\n",
      "[['CNC(=O)O[C@H]1COc2c(c(N3CCN(C4COC4)CC3)c2)[C@@H]1NC(=O)ccccc1'], ['C/C1=C/CC[C@@]2(C)O[C@@H]2[C@H]2OC(=O)[C@H](CN(C)C)[C@@H]2CC1'], ['C/C1=C/CC[C@@]2(C)O[C@@H]2[C@H]2OC(=O)[C@H](CN(C)C)[C@@H]2CC1']]\n"
     ]
    }
   ],
   "source": [
    "with torch.inference_mode():\n",
    "    batch = next(iter(data_module.train_dataloader()))\n",
    "    print(batch['mol'])\n",
    "    print(model.decode_smiles(batch))"
   ]
  },
  {
   "attachments": {},
   "cell_type": "markdown",
   "metadata": {},
   "source": [
    "## De novo random chemical generation"
   ]
  },
  {
   "cell_type": "code",
   "execution_count": 4,
   "metadata": {},
   "outputs": [
    {
     "name": "stderr",
     "output_type": "stream",
     "text": [
      "Seed set to 0\n",
      "GPU available: True (mps), used: False\n",
      "TPU available: False, using: 0 TPU cores\n",
      "IPU available: False, using: 0 IPUs\n",
      "HPU available: False, using: 0 HPUs\n",
      "/Users/anton/miniconda3/envs/massspecgym/lib/python3.11/site-packages/pytorch_lightning/trainer/setup.py:187: GPU available but not used. You can set it by doing `Trainer(accelerator='gpu')`.\n"
     ]
    }
   ],
   "source": [
    "pl.seed_everything(0)\n",
    "\n",
    "# Load dataset\n",
    "# Uncomment the paths to use debugging data containing only 5 spectra\n",
    "dataset = MassSpecDataset(\n",
    "    pth=mgf_pth,\n",
    "    spec_transform=SpecTokenizer(n_peaks=60),\n",
    "    mol_transform=None\n",
    ")\n",
    "\n",
    "# Init data module\n",
    "data_module = MassSpecDataModule(\n",
    "    dataset=dataset,\n",
    "    split_pth=split_pth,\n",
    "    batch_size=2\n",
    ")\n",
    "\n",
    "# Init model\n",
    "name = \"random_baseline_no_formula\"\n",
    "model = RandomDeNovo(\n",
    "    formula_known=False,\n",
    "    max_top_k=10,\n",
    "    estimate_chem_element_stats=True,\n",
    "    enforce_connectivity=False,\n",
    "    df_test_path=Path(f'../data/test_results/de_novo/{name}.pkl')\n",
    ")\n",
    "\n",
    "# Init logger\n",
    "# You may need to run wandb init first to use the wandb logger\n",
    "# Alternatively set logger = None in Trainer below not to use wandb\n",
    "project = \"MassSpecGymDeNovo\"\n",
    "logger = pl.loggers.WandbLogger(\n",
    "    project=project,\n",
    "    name=name,\n",
    "    tags=[],\n",
    "    log_model=False,\n",
    ")\n",
    "\n",
    "# Init trainer\n",
    "trainer = Trainer(\n",
    "    accelerator=\"cpu\", max_epochs=1, logger=logger, log_every_n_steps=1000,\n",
    "    limit_val_batches=0, num_sanity_val_steps=0\n",
    ")"
   ]
  },
  {
   "cell_type": "code",
   "execution_count": 5,
   "metadata": {},
   "outputs": [
    {
     "name": "stderr",
     "output_type": "stream",
     "text": [
      "Failed to detect the name of this notebook, you can set it manually with the WANDB_NOTEBOOK_NAME environment variable to enable code saving.\n",
      "\u001b[34m\u001b[1mwandb\u001b[0m: Currently logged in as: \u001b[33manton-bushuiev\u001b[0m. Use \u001b[1m`wandb login --relogin`\u001b[0m to force relogin\n"
     ]
    },
    {
     "data": {
      "text/html": [
       "wandb version 0.17.6 is available!  To upgrade, please run:\n",
       " $ pip install wandb --upgrade"
      ],
      "text/plain": [
       "<IPython.core.display.HTML object>"
      ]
     },
     "metadata": {},
     "output_type": "display_data"
    },
    {
     "data": {
      "text/html": [
       "Tracking run with wandb version 0.17.0"
      ],
      "text/plain": [
       "<IPython.core.display.HTML object>"
      ]
     },
     "metadata": {},
     "output_type": "display_data"
    },
    {
     "data": {
      "text/html": [
       "Run data is saved locally in <code>./wandb/run-20240814_152634-hu9ldjny</code>"
      ],
      "text/plain": [
       "<IPython.core.display.HTML object>"
      ]
     },
     "metadata": {},
     "output_type": "display_data"
    },
    {
     "data": {
      "text/html": [
       "Syncing run <strong><a href='https://wandb.ai/anton-bushuiev/MassSpecGymDeNovo/runs/hu9ldjny' target=\"_blank\">random_baseline_no_formula</a></strong> to <a href='https://wandb.ai/anton-bushuiev/MassSpecGymDeNovo' target=\"_blank\">Weights & Biases</a> (<a href='https://wandb.me/run' target=\"_blank\">docs</a>)<br/>"
      ],
      "text/plain": [
       "<IPython.core.display.HTML object>"
      ]
     },
     "metadata": {},
     "output_type": "display_data"
    },
    {
     "data": {
      "text/html": [
       " View project at <a href='https://wandb.ai/anton-bushuiev/MassSpecGymDeNovo' target=\"_blank\">https://wandb.ai/anton-bushuiev/MassSpecGymDeNovo</a>"
      ],
      "text/plain": [
       "<IPython.core.display.HTML object>"
      ]
     },
     "metadata": {},
     "output_type": "display_data"
    },
    {
     "data": {
      "text/html": [
       " View run at <a href='https://wandb.ai/anton-bushuiev/MassSpecGymDeNovo/runs/hu9ldjny' target=\"_blank\">https://wandb.ai/anton-bushuiev/MassSpecGymDeNovo/runs/hu9ldjny</a>"
      ],
      "text/plain": [
       "<IPython.core.display.HTML object>"
      ]
     },
     "metadata": {},
     "output_type": "display_data"
    },
    {
     "name": "stderr",
     "output_type": "stream",
     "text": [
      "/Users/anton/miniconda3/envs/massspecgym/lib/python3.11/site-packages/pytorch_lightning/core/optimizer.py:181: `LightningModule.configure_optimizers` returned `None`, this fit will run with no optimizer\n",
      "\n",
      "  | Name | Type | Params\n",
      "------------------------------\n",
      "------------------------------\n",
      "0         Trainable params\n",
      "0         Non-trainable params\n",
      "0         Total params\n",
      "0.000     Total estimated model params size (MB)\n",
      "/Users/anton/miniconda3/envs/massspecgym/lib/python3.11/site-packages/pytorch_lightning/trainer/connectors/data_connector.py:441: The 'train_dataloader' does not have many workers which may be a bottleneck. Consider increasing the value of the `num_workers` argument` to `num_workers=7` in the `DataLoader` to improve performance.\n"
     ]
    },
    {
     "data": {
      "application/vnd.jupyter.widget-view+json": {
       "model_id": "0ee3e990a8ef421ba76d150a751e2cbd",
       "version_major": 2,
       "version_minor": 0
      },
      "text/plain": [
       "Training: |          | 0/? [00:00<?, ?it/s]"
      ]
     },
     "metadata": {},
     "output_type": "display_data"
    },
    {
     "name": "stderr",
     "output_type": "stream",
     "text": [
      "`Trainer.fit` stopped: `max_epochs=1` reached.\n",
      "/Users/anton/miniconda3/envs/massspecgym/lib/python3.11/site-packages/pytorch_lightning/trainer/connectors/data_connector.py:441: The 'test_dataloader' does not have many workers which may be a bottleneck. Consider increasing the value of the `num_workers` argument` to `num_workers=7` in the `DataLoader` to improve performance.\n"
     ]
    },
    {
     "data": {
      "application/vnd.jupyter.widget-view+json": {
       "model_id": "bfac41661e3e4d0f9e02d250a0d6ecea",
       "version_major": 2,
       "version_minor": 0
      },
      "text/plain": [
       "Testing: |          | 0/? [00:00<?, ?it/s]"
      ]
     },
     "metadata": {},
     "output_type": "display_data"
    },
    {
     "name": "stderr",
     "output_type": "stream",
     "text": [
      "/Users/anton/miniconda3/envs/massspecgym/lib/python3.11/site-packages/torchmetrics/utilities/prints.py:43: UserWarning: The ``compute`` method of metric MeanMetric was called before the ``update`` method which may lead to errors, as metric states have not yet been updated.\n",
      "  warnings.warn(*args, **kwargs)  # noqa: B028\n",
      "[15:39:32] Invalid InChI prefix in generating InChI Key\n",
      "[15:39:32] Invalid InChI prefix in generating InChI Key\n",
      "[15:39:32] Invalid InChI prefix in generating InChI Key\n",
      "[15:39:32] Invalid InChI prefix in generating InChI Key\n",
      "[15:39:32] Invalid InChI prefix in generating InChI Key\n",
      "[15:39:33] Invalid InChI prefix in generating InChI Key\n",
      "[15:39:33] Invalid InChI prefix in generating InChI Key\n",
      "[15:39:33] Invalid InChI prefix in generating InChI Key\n",
      "[15:39:33] Invalid InChI prefix in generating InChI Key\n",
      "[15:39:33] Invalid InChI prefix in generating InChI Key\n",
      "[15:39:33] Invalid InChI prefix in generating InChI Key\n",
      "[15:39:33] Invalid InChI prefix in generating InChI Key\n",
      "[15:39:33] Invalid InChI prefix in generating InChI Key\n",
      "[15:39:33] Invalid InChI prefix in generating InChI Key\n",
      "[15:39:33] Invalid InChI prefix in generating InChI Key\n",
      "[15:39:33] Invalid InChI prefix in generating InChI Key\n",
      "[15:39:33] Invalid InChI prefix in generating InChI Key\n",
      "[15:39:33] Invalid InChI prefix in generating InChI Key\n",
      "[15:39:33] Invalid InChI prefix in generating InChI Key\n",
      "[15:39:33] Invalid InChI prefix in generating InChI Key\n",
      "[15:39:33] Invalid InChI prefix in generating InChI Key\n",
      "[15:39:34] Invalid InChI prefix in generating InChI Key\n",
      "[15:39:34] Invalid InChI prefix in generating InChI Key\n",
      "[15:39:34] Invalid InChI prefix in generating InChI Key\n",
      "[15:39:34] Invalid InChI prefix in generating InChI Key\n",
      "[15:39:34] Invalid InChI prefix in generating InChI Key\n",
      "[15:39:34] Invalid InChI prefix in generating InChI Key\n",
      "[15:39:34] Invalid InChI prefix in generating InChI Key\n",
      "[15:39:34] Invalid InChI prefix in generating InChI Key\n",
      "[15:39:34] Invalid InChI prefix in generating InChI Key\n",
      "[15:39:34] Invalid InChI prefix in generating InChI Key\n",
      "[15:39:34] Invalid InChI prefix in generating InChI Key\n",
      "[15:39:34] Invalid InChI prefix in generating InChI Key\n",
      "[15:39:34] Invalid InChI prefix in generating InChI Key\n",
      "[15:39:34] Invalid InChI prefix in generating InChI Key\n",
      "[15:39:34] Invalid InChI prefix in generating InChI Key\n",
      "[15:39:34] Invalid InChI prefix in generating InChI Key\n",
      "[15:39:34] Invalid InChI prefix in generating InChI Key\n",
      "[15:39:34] Invalid InChI prefix in generating InChI Key\n",
      "[15:39:35] Invalid InChI prefix in generating InChI Key\n",
      "[15:39:35] Invalid InChI prefix in generating InChI Key\n",
      "[15:39:35] Invalid InChI prefix in generating InChI Key\n",
      "[15:39:35] Invalid InChI prefix in generating InChI Key\n",
      "[15:39:35] Invalid InChI prefix in generating InChI Key\n",
      "[15:39:35] Invalid InChI prefix in generating InChI Key\n",
      "[15:39:35] Invalid InChI prefix in generating InChI Key\n",
      "[15:39:35] Invalid InChI prefix in generating InChI Key\n",
      "[15:39:35] Invalid InChI prefix in generating InChI Key\n",
      "[15:39:35] Invalid InChI prefix in generating InChI Key\n",
      "[15:39:35] Invalid InChI prefix in generating InChI Key\n",
      "[15:39:35] Invalid InChI prefix in generating InChI Key\n",
      "[15:39:35] Invalid InChI prefix in generating InChI Key\n",
      "[15:39:35] Invalid InChI prefix in generating InChI Key\n",
      "[15:39:35] Invalid InChI prefix in generating InChI Key\n",
      "[15:39:35] Invalid InChI prefix in generating InChI Key\n",
      "[15:39:36] Invalid InChI prefix in generating InChI Key\n",
      "[15:39:36] Invalid InChI prefix in generating InChI Key\n",
      "[15:39:36] Invalid InChI prefix in generating InChI Key\n",
      "[15:39:36] Invalid InChI prefix in generating InChI Key\n",
      "[15:39:36] Invalid InChI prefix in generating InChI Key\n",
      "[15:39:36] Invalid InChI prefix in generating InChI Key\n",
      "[15:39:36] Invalid InChI prefix in generating InChI Key\n",
      "[15:39:36] Invalid InChI prefix in generating InChI Key\n",
      "[15:39:36] Invalid InChI prefix in generating InChI Key\n",
      "[15:40:43] Invalid InChI prefix in generating InChI Key\n",
      "[15:40:43] Invalid InChI prefix in generating InChI Key\n",
      "[15:40:43] Invalid InChI prefix in generating InChI Key\n",
      "[15:40:43] Invalid InChI prefix in generating InChI Key\n",
      "[15:41:09] Invalid InChI prefix in generating InChI Key\n",
      "[15:41:09] Invalid InChI prefix in generating InChI Key\n",
      "[15:41:09] Invalid InChI prefix in generating InChI Key\n",
      "[15:41:09] Invalid InChI prefix in generating InChI Key\n",
      "[15:41:09] Invalid InChI prefix in generating InChI Key\n",
      "[15:41:09] Invalid InChI prefix in generating InChI Key\n",
      "[15:41:09] Invalid InChI prefix in generating InChI Key\n",
      "[15:41:09] Invalid InChI prefix in generating InChI Key\n",
      "[15:41:09] Invalid InChI prefix in generating InChI Key\n",
      "[15:41:09] Invalid InChI prefix in generating InChI Key\n",
      "[15:41:09] Invalid InChI prefix in generating InChI Key\n",
      "[15:41:10] Invalid InChI prefix in generating InChI Key\n",
      "[15:41:30] Invalid InChI prefix in generating InChI Key\n",
      "[15:41:30] Invalid InChI prefix in generating InChI Key\n",
      "[15:41:30] Invalid InChI prefix in generating InChI Key\n",
      "[15:41:30] Invalid InChI prefix in generating InChI Key\n",
      "[15:41:31] Invalid InChI prefix in generating InChI Key\n",
      "[15:41:31] Invalid InChI prefix in generating InChI Key\n",
      "[15:41:31] Invalid InChI prefix in generating InChI Key\n",
      "[15:41:31] Invalid InChI prefix in generating InChI Key\n",
      "[15:41:31] Invalid InChI prefix in generating InChI Key\n",
      "[15:41:31] Invalid InChI prefix in generating InChI Key\n",
      "[15:41:31] Invalid InChI prefix in generating InChI Key\n",
      "[15:41:31] Invalid InChI prefix in generating InChI Key\n",
      "[15:41:31] Invalid InChI prefix in generating InChI Key\n",
      "[15:41:31] Invalid InChI prefix in generating InChI Key\n",
      "[15:41:31] Invalid InChI prefix in generating InChI Key\n",
      "[15:58:06] Invalid InChI prefix in generating InChI Key\n",
      "[15:58:06] Invalid InChI prefix in generating InChI Key\n",
      "[15:58:06] Invalid InChI prefix in generating InChI Key\n",
      "[15:58:07] Invalid InChI prefix in generating InChI Key\n",
      "[15:58:07] Invalid InChI prefix in generating InChI Key\n",
      "[15:58:07] Invalid InChI prefix in generating InChI Key\n",
      "[15:58:07] Invalid InChI prefix in generating InChI Key\n",
      "[16:02:33] Invalid InChI prefix in generating InChI Key\n",
      "[16:02:37] Invalid InChI prefix in generating InChI Key\n",
      "[16:05:38] Invalid InChI prefix in generating InChI Key\n",
      "[16:05:38] Invalid InChI prefix in generating InChI Key\n",
      "[16:05:38] Invalid InChI prefix in generating InChI Key\n",
      "[16:05:44] Invalid InChI prefix in generating InChI Key\n",
      "[16:05:44] Invalid InChI prefix in generating InChI Key\n",
      "[16:05:44] Invalid InChI prefix in generating InChI Key\n",
      "[16:05:44] Invalid InChI prefix in generating InChI Key\n",
      "[16:05:44] Invalid InChI prefix in generating InChI Key\n",
      "[16:05:44] Invalid InChI prefix in generating InChI Key\n",
      "[16:05:44] Invalid InChI prefix in generating InChI Key\n",
      "[16:05:44] Invalid InChI prefix in generating InChI Key\n",
      "[16:05:44] Invalid InChI prefix in generating InChI Key\n",
      "[16:05:44] Invalid InChI prefix in generating InChI Key\n",
      "[16:05:44] Invalid InChI prefix in generating InChI Key\n",
      "[16:05:44] Invalid InChI prefix in generating InChI Key\n",
      "[16:05:44] Invalid InChI prefix in generating InChI Key\n",
      "[16:05:44] Invalid InChI prefix in generating InChI Key\n",
      "[16:05:44] Invalid InChI prefix in generating InChI Key\n",
      "[16:05:44] Invalid InChI prefix in generating InChI Key\n",
      "[16:05:44] Invalid InChI prefix in generating InChI Key\n",
      "[16:05:44] Invalid InChI prefix in generating InChI Key\n",
      "[16:05:44] Invalid InChI prefix in generating InChI Key\n",
      "[16:05:44] Invalid InChI prefix in generating InChI Key\n",
      "[16:05:44] Invalid InChI prefix in generating InChI Key\n",
      "[16:05:44] Invalid InChI prefix in generating InChI Key\n",
      "[16:05:45] Invalid InChI prefix in generating InChI Key\n",
      "[16:05:45] Invalid InChI prefix in generating InChI Key\n",
      "[16:05:45] Invalid InChI prefix in generating InChI Key\n",
      "[16:06:38] Invalid InChI prefix in generating InChI Key\n",
      "[16:06:39] Invalid InChI prefix in generating InChI Key\n",
      "[16:08:15] Invalid InChI prefix in generating InChI Key\n",
      "[16:08:15] Invalid InChI prefix in generating InChI Key\n",
      "[16:08:15] Invalid InChI prefix in generating InChI Key\n",
      "[16:08:16] Invalid InChI prefix in generating InChI Key\n",
      "[16:08:24] Invalid InChI prefix in generating InChI Key\n",
      "[16:08:24] Invalid InChI prefix in generating InChI Key\n",
      "[16:08:24] Invalid InChI prefix in generating InChI Key\n",
      "[16:08:25] Invalid InChI prefix in generating InChI Key\n",
      "[16:08:25] Invalid InChI prefix in generating InChI Key\n",
      "[16:08:25] Invalid InChI prefix in generating InChI Key\n",
      "[16:08:38] Invalid InChI prefix in generating InChI Key\n",
      "[16:08:38] Invalid InChI prefix in generating InChI Key\n",
      "[16:08:38] Invalid InChI prefix in generating InChI Key\n",
      "[16:08:38] Invalid InChI prefix in generating InChI Key\n",
      "[16:08:38] Invalid InChI prefix in generating InChI Key\n",
      "[16:08:38] Invalid InChI prefix in generating InChI Key\n",
      "[16:10:02] Invalid InChI prefix in generating InChI Key\n",
      "[16:10:02] Invalid InChI prefix in generating InChI Key\n",
      "[16:10:02] Invalid InChI prefix in generating InChI Key\n",
      "[16:10:20] Invalid InChI prefix in generating InChI Key\n",
      "[16:10:20] Invalid InChI prefix in generating InChI Key\n",
      "[16:10:21] Invalid InChI prefix in generating InChI Key\n",
      "[16:10:31] Invalid InChI prefix in generating InChI Key\n",
      "[16:10:31] Invalid InChI prefix in generating InChI Key\n",
      "[16:10:32] Invalid InChI prefix in generating InChI Key\n",
      "[16:11:11] Invalid InChI prefix in generating InChI Key\n",
      "[16:11:11] Invalid InChI prefix in generating InChI Key\n",
      "[16:11:11] Invalid InChI prefix in generating InChI Key\n",
      "[16:11:35] Invalid InChI prefix in generating InChI Key\n",
      "[16:11:35] Invalid InChI prefix in generating InChI Key\n",
      "[16:11:35] Invalid InChI prefix in generating InChI Key\n",
      "[16:11:35] Invalid InChI prefix in generating InChI Key\n",
      "[16:11:35] Invalid InChI prefix in generating InChI Key\n",
      "[16:11:35] Invalid InChI prefix in generating InChI Key\n",
      "[16:11:35] Invalid InChI prefix in generating InChI Key\n",
      "[16:11:35] Invalid InChI prefix in generating InChI Key\n",
      "[16:11:35] Invalid InChI prefix in generating InChI Key\n",
      "[16:11:54] Invalid InChI prefix in generating InChI Key\n",
      "[16:11:54] Invalid InChI prefix in generating InChI Key\n",
      "[16:11:54] Invalid InChI prefix in generating InChI Key\n",
      "[16:11:54] Invalid InChI prefix in generating InChI Key\n",
      "[16:12:04] Invalid InChI prefix in generating InChI Key\n",
      "[16:12:04] Invalid InChI prefix in generating InChI Key\n",
      "[16:12:04] Invalid InChI prefix in generating InChI Key\n",
      "[16:12:31] Invalid InChI prefix in generating InChI Key\n",
      "[16:12:31] Invalid InChI prefix in generating InChI Key\n",
      "[16:12:32] Invalid InChI prefix in generating InChI Key\n",
      "[16:12:50] Invalid InChI prefix in generating InChI Key\n",
      "[16:12:50] Invalid InChI prefix in generating InChI Key\n",
      "[16:12:50] Invalid InChI prefix in generating InChI Key\n",
      "[16:12:50] Invalid InChI prefix in generating InChI Key\n",
      "[16:12:50] Invalid InChI prefix in generating InChI Key\n",
      "[16:12:51] Invalid InChI prefix in generating InChI Key\n",
      "[16:12:58] Invalid InChI prefix in generating InChI Key\n",
      "[16:12:58] Invalid InChI prefix in generating InChI Key\n",
      "[16:12:58] Invalid InChI prefix in generating InChI Key\n",
      "[16:13:40] Invalid InChI prefix in generating InChI Key\n",
      "[16:13:40] Invalid InChI prefix in generating InChI Key\n",
      "[16:13:40] Invalid InChI prefix in generating InChI Key\n",
      "[16:13:50] Invalid InChI prefix in generating InChI Key\n",
      "[16:13:50] Invalid InChI prefix in generating InChI Key\n",
      "[16:13:52] Invalid InChI prefix in generating InChI Key\n",
      "[16:13:52] Invalid InChI prefix in generating InChI Key\n",
      "[16:13:52] Invalid InChI prefix in generating InChI Key\n",
      "[16:14:12] Invalid InChI prefix in generating InChI Key\n",
      "[16:14:12] Invalid InChI prefix in generating InChI Key\n",
      "[16:14:12] Invalid InChI prefix in generating InChI Key\n",
      "[16:14:12] Invalid InChI prefix in generating InChI Key\n",
      "[16:14:12] Invalid InChI prefix in generating InChI Key\n",
      "[16:14:12] Invalid InChI prefix in generating InChI Key\n",
      "[16:14:13] Invalid InChI prefix in generating InChI Key\n",
      "[16:14:13] Invalid InChI prefix in generating InChI Key\n",
      "[16:14:13] Invalid InChI prefix in generating InChI Key\n",
      "[16:14:13] Invalid InChI prefix in generating InChI Key\n",
      "[16:14:13] Invalid InChI prefix in generating InChI Key\n",
      "[16:14:13] Invalid InChI prefix in generating InChI Key\n",
      "[16:15:01] Invalid InChI prefix in generating InChI Key\n",
      "[16:15:01] Invalid InChI prefix in generating InChI Key\n",
      "[16:15:01] Invalid InChI prefix in generating InChI Key\n",
      "[16:15:01] Invalid InChI prefix in generating InChI Key\n",
      "[16:15:01] Invalid InChI prefix in generating InChI Key\n",
      "[16:15:01] Invalid InChI prefix in generating InChI Key\n",
      "[16:15:01] Invalid InChI prefix in generating InChI Key\n",
      "[16:15:02] Invalid InChI prefix in generating InChI Key\n",
      "[16:15:02] Invalid InChI prefix in generating InChI Key\n",
      "[16:15:02] Invalid InChI prefix in generating InChI Key\n",
      "[16:15:02] Invalid InChI prefix in generating InChI Key\n",
      "[16:15:03] Invalid InChI prefix in generating InChI Key\n",
      "[16:15:14] Invalid InChI prefix in generating InChI Key\n",
      "[16:15:14] Invalid InChI prefix in generating InChI Key\n",
      "[16:15:14] Invalid InChI prefix in generating InChI Key\n",
      "[16:15:17] Invalid InChI prefix in generating InChI Key\n",
      "[16:15:17] Invalid InChI prefix in generating InChI Key\n",
      "[16:15:17] Invalid InChI prefix in generating InChI Key\n",
      "[16:15:17] Invalid InChI prefix in generating InChI Key\n",
      "[16:15:17] Invalid InChI prefix in generating InChI Key\n",
      "[16:15:17] Invalid InChI prefix in generating InChI Key\n",
      "[16:15:17] Invalid InChI prefix in generating InChI Key\n",
      "[16:15:17] Invalid InChI prefix in generating InChI Key\n",
      "[16:15:17] Invalid InChI prefix in generating InChI Key\n",
      "[16:15:20] Invalid InChI prefix in generating InChI Key\n",
      "[16:15:20] Invalid InChI prefix in generating InChI Key\n",
      "[16:15:20] Invalid InChI prefix in generating InChI Key\n",
      "[16:16:38] Invalid InChI prefix in generating InChI Key\n",
      "[16:16:38] Invalid InChI prefix in generating InChI Key\n",
      "[16:16:38] Invalid InChI prefix in generating InChI Key\n",
      "[16:16:50] Invalid InChI prefix in generating InChI Key\n",
      "[16:16:51] Invalid InChI prefix in generating InChI Key\n",
      "[16:16:51] Invalid InChI prefix in generating InChI Key\n",
      "[16:16:51] Invalid InChI prefix in generating InChI Key\n",
      "[16:16:51] Invalid InChI prefix in generating InChI Key\n",
      "[16:16:51] Invalid InChI prefix in generating InChI Key\n",
      "[16:16:57] Invalid InChI prefix in generating InChI Key\n",
      "[16:16:57] Invalid InChI prefix in generating InChI Key\n",
      "[16:16:57] Invalid InChI prefix in generating InChI Key\n",
      "[16:16:59] Invalid InChI prefix in generating InChI Key\n",
      "[16:17:00] Invalid InChI prefix in generating InChI Key\n",
      "[16:17:00] Invalid InChI prefix in generating InChI Key\n",
      "[16:17:00] Invalid InChI prefix in generating InChI Key\n",
      "[16:17:00] Invalid InChI prefix in generating InChI Key\n",
      "[16:17:00] Invalid InChI prefix in generating InChI Key\n",
      "[16:17:32] Invalid InChI prefix in generating InChI Key\n",
      "[16:17:32] Invalid InChI prefix in generating InChI Key\n",
      "[16:17:32] Invalid InChI prefix in generating InChI Key\n",
      "[16:17:32] Invalid InChI prefix in generating InChI Key\n",
      "[16:18:16] Invalid InChI prefix in generating InChI Key\n",
      "[16:18:16] Invalid InChI prefix in generating InChI Key\n",
      "[16:18:16] Invalid InChI prefix in generating InChI Key\n",
      "[16:18:16] Invalid InChI prefix in generating InChI Key\n",
      "[16:18:16] Invalid InChI prefix in generating InChI Key\n",
      "[16:18:16] Invalid InChI prefix in generating InChI Key\n",
      "[16:18:16] Invalid InChI prefix in generating InChI Key\n",
      "[16:18:16] Invalid InChI prefix in generating InChI Key\n",
      "[16:18:16] Invalid InChI prefix in generating InChI Key\n",
      "[16:19:02] Invalid InChI prefix in generating InChI Key\n",
      "[16:19:02] Invalid InChI prefix in generating InChI Key\n",
      "[16:19:02] Invalid InChI prefix in generating InChI Key\n",
      "[16:19:11] Invalid InChI prefix in generating InChI Key\n",
      "[16:19:11] Invalid InChI prefix in generating InChI Key\n",
      "[16:19:11] Invalid InChI prefix in generating InChI Key\n",
      "[16:20:05] Invalid InChI prefix in generating InChI Key\n",
      "[16:20:05] Invalid InChI prefix in generating InChI Key\n",
      "[16:20:05] Invalid InChI prefix in generating InChI Key\n",
      "[16:20:45] Invalid InChI prefix in generating InChI Key\n",
      "[16:21:42] Invalid InChI prefix in generating InChI Key\n",
      "[16:21:42] Invalid InChI prefix in generating InChI Key\n",
      "[16:22:42] Invalid InChI prefix in generating InChI Key\n",
      "[16:22:42] Invalid InChI prefix in generating InChI Key\n",
      "[16:22:42] Invalid InChI prefix in generating InChI Key\n",
      "[16:22:42] Invalid InChI prefix in generating InChI Key\n",
      "[16:22:42] Invalid InChI prefix in generating InChI Key\n",
      "[16:22:42] Invalid InChI prefix in generating InChI Key\n",
      "[16:22:42] Invalid InChI prefix in generating InChI Key\n",
      "[16:22:42] Invalid InChI prefix in generating InChI Key\n",
      "[16:22:42] Invalid InChI prefix in generating InChI Key\n",
      "[16:23:40] Invalid InChI prefix in generating InChI Key\n",
      "[16:23:40] Invalid InChI prefix in generating InChI Key\n",
      "[16:23:40] Invalid InChI prefix in generating InChI Key\n",
      "[16:24:17] Invalid InChI prefix in generating InChI Key\n",
      "[16:24:18] Invalid InChI prefix in generating InChI Key\n",
      "[16:24:21] Invalid InChI prefix in generating InChI Key\n",
      "[16:24:21] Invalid InChI prefix in generating InChI Key\n",
      "[16:24:22] Invalid InChI prefix in generating InChI Key\n",
      "[16:24:22] Invalid InChI prefix in generating InChI Key\n",
      "[16:24:22] Invalid InChI prefix in generating InChI Key\n",
      "[16:24:22] Invalid InChI prefix in generating InChI Key\n",
      "[16:24:23] Invalid InChI prefix in generating InChI Key\n",
      "[16:24:23] Invalid InChI prefix in generating InChI Key\n",
      "[16:24:31] Invalid InChI prefix in generating InChI Key\n",
      "[16:24:31] Invalid InChI prefix in generating InChI Key\n",
      "[16:24:31] Invalid InChI prefix in generating InChI Key\n",
      "[16:24:31] Invalid InChI prefix in generating InChI Key\n",
      "[16:31:22] Invalid InChI prefix in generating InChI Key\n",
      "[16:31:22] Invalid InChI prefix in generating InChI Key\n",
      "[16:31:22] Invalid InChI prefix in generating InChI Key\n",
      "[16:31:22] Invalid InChI prefix in generating InChI Key\n",
      "[16:31:22] Invalid InChI prefix in generating InChI Key\n",
      "[16:31:22] Invalid InChI prefix in generating InChI Key\n",
      "[16:31:22] Invalid InChI prefix in generating InChI Key\n",
      "[16:31:22] Invalid InChI prefix in generating InChI Key\n",
      "[16:31:22] Invalid InChI prefix in generating InChI Key\n",
      "[16:31:22] Invalid InChI prefix in generating InChI Key\n",
      "[16:31:22] Invalid InChI prefix in generating InChI Key\n",
      "[16:31:22] Invalid InChI prefix in generating InChI Key\n",
      "[16:31:23] Invalid InChI prefix in generating InChI Key\n",
      "[16:31:23] Invalid InChI prefix in generating InChI Key\n",
      "[16:31:23] Invalid InChI prefix in generating InChI Key\n",
      "[16:31:23] Invalid InChI prefix in generating InChI Key\n",
      "[16:31:23] Invalid InChI prefix in generating InChI Key\n",
      "[16:31:23] Invalid InChI prefix in generating InChI Key\n",
      "[16:31:23] Invalid InChI prefix in generating InChI Key\n",
      "[16:31:23] Invalid InChI prefix in generating InChI Key\n",
      "[16:31:23] Invalid InChI prefix in generating InChI Key\n",
      "[16:31:23] Invalid InChI prefix in generating InChI Key\n",
      "[16:31:23] Invalid InChI prefix in generating InChI Key\n",
      "[16:31:23] Invalid InChI prefix in generating InChI Key\n",
      "[16:31:23] Invalid InChI prefix in generating InChI Key\n",
      "[16:31:23] Invalid InChI prefix in generating InChI Key\n",
      "[16:31:23] Invalid InChI prefix in generating InChI Key\n",
      "[16:31:23] Invalid InChI prefix in generating InChI Key\n",
      "[16:31:23] Invalid InChI prefix in generating InChI Key\n",
      "[16:31:23] Invalid InChI prefix in generating InChI Key\n",
      "[16:31:23] Invalid InChI prefix in generating InChI Key\n",
      "[16:31:23] Invalid InChI prefix in generating InChI Key\n",
      "[16:31:23] Invalid InChI prefix in generating InChI Key\n",
      "[16:31:23] Invalid InChI prefix in generating InChI Key\n",
      "[16:31:23] Invalid InChI prefix in generating InChI Key\n",
      "[16:31:23] Invalid InChI prefix in generating InChI Key\n",
      "[16:31:23] Invalid InChI prefix in generating InChI Key\n",
      "[16:31:23] Invalid InChI prefix in generating InChI Key\n",
      "[16:31:23] Invalid InChI prefix in generating InChI Key\n",
      "[16:31:23] Invalid InChI prefix in generating InChI Key\n",
      "[16:31:23] Invalid InChI prefix in generating InChI Key\n",
      "[16:31:23] Invalid InChI prefix in generating InChI Key\n",
      "[16:31:23] Invalid InChI prefix in generating InChI Key\n",
      "[16:31:23] Invalid InChI prefix in generating InChI Key\n",
      "[16:31:23] Invalid InChI prefix in generating InChI Key\n",
      "[16:31:23] Invalid InChI prefix in generating InChI Key\n",
      "[16:31:23] Invalid InChI prefix in generating InChI Key\n",
      "[16:31:23] Invalid InChI prefix in generating InChI Key\n",
      "[16:31:23] Invalid InChI prefix in generating InChI Key\n",
      "[16:31:23] Invalid InChI prefix in generating InChI Key\n",
      "[16:31:23] Invalid InChI prefix in generating InChI Key\n",
      "[16:31:23] Invalid InChI prefix in generating InChI Key\n",
      "[16:31:23] Invalid InChI prefix in generating InChI Key\n",
      "[16:31:23] Invalid InChI prefix in generating InChI Key\n",
      "[16:31:23] Invalid InChI prefix in generating InChI Key\n",
      "[16:31:23] Invalid InChI prefix in generating InChI Key\n",
      "[16:31:23] Invalid InChI prefix in generating InChI Key\n",
      "[16:31:23] Invalid InChI prefix in generating InChI Key\n",
      "[16:31:23] Invalid InChI prefix in generating InChI Key\n",
      "[16:31:23] Invalid InChI prefix in generating InChI Key\n",
      "[16:31:23] Invalid InChI prefix in generating InChI Key\n",
      "[16:31:23] Invalid InChI prefix in generating InChI Key\n",
      "[16:31:23] Invalid InChI prefix in generating InChI Key\n",
      "[16:31:23] Invalid InChI prefix in generating InChI Key\n",
      "[16:31:23] Invalid InChI prefix in generating InChI Key\n",
      "[16:31:23] Invalid InChI prefix in generating InChI Key\n",
      "[16:31:24] Invalid InChI prefix in generating InChI Key\n",
      "[16:31:24] Invalid InChI prefix in generating InChI Key\n",
      "[16:31:24] Invalid InChI prefix in generating InChI Key\n",
      "[16:31:24] Invalid InChI prefix in generating InChI Key\n",
      "[16:31:24] Invalid InChI prefix in generating InChI Key\n",
      "[16:31:24] Invalid InChI prefix in generating InChI Key\n",
      "[16:31:24] Invalid InChI prefix in generating InChI Key\n",
      "[16:31:24] Invalid InChI prefix in generating InChI Key\n",
      "[16:31:24] Invalid InChI prefix in generating InChI Key\n",
      "[16:31:24] Invalid InChI prefix in generating InChI Key\n",
      "[16:31:24] Invalid InChI prefix in generating InChI Key\n",
      "[16:31:24] Invalid InChI prefix in generating InChI Key\n",
      "[16:31:24] Invalid InChI prefix in generating InChI Key\n",
      "[16:31:24] Invalid InChI prefix in generating InChI Key\n",
      "[16:31:24] Invalid InChI prefix in generating InChI Key\n",
      "[16:31:24] Invalid InChI prefix in generating InChI Key\n",
      "[16:31:24] Invalid InChI prefix in generating InChI Key\n",
      "[16:31:24] Invalid InChI prefix in generating InChI Key\n",
      "[16:31:24] Invalid InChI prefix in generating InChI Key\n",
      "[16:31:24] Invalid InChI prefix in generating InChI Key\n",
      "[16:31:24] Invalid InChI prefix in generating InChI Key\n",
      "[16:31:24] Invalid InChI prefix in generating InChI Key\n",
      "[16:31:24] Invalid InChI prefix in generating InChI Key\n",
      "[16:31:24] Invalid InChI prefix in generating InChI Key\n",
      "[16:31:24] Invalid InChI prefix in generating InChI Key\n",
      "[16:31:24] Invalid InChI prefix in generating InChI Key\n",
      "[16:31:24] Invalid InChI prefix in generating InChI Key\n",
      "[16:31:24] Invalid InChI prefix in generating InChI Key\n",
      "[16:31:24] Invalid InChI prefix in generating InChI Key\n",
      "[16:31:24] Invalid InChI prefix in generating InChI Key\n",
      "[16:31:24] Invalid InChI prefix in generating InChI Key\n",
      "[16:31:24] Invalid InChI prefix in generating InChI Key\n",
      "[16:31:24] Invalid InChI prefix in generating InChI Key\n",
      "[16:31:24] Invalid InChI prefix in generating InChI Key\n",
      "[16:31:24] Invalid InChI prefix in generating InChI Key\n",
      "[16:31:24] Invalid InChI prefix in generating InChI Key\n",
      "[16:31:24] Invalid InChI prefix in generating InChI Key\n",
      "[16:31:24] Invalid InChI prefix in generating InChI Key\n",
      "[16:31:24] Invalid InChI prefix in generating InChI Key\n",
      "[16:31:24] Invalid InChI prefix in generating InChI Key\n",
      "[16:31:24] Invalid InChI prefix in generating InChI Key\n",
      "[16:31:24] Invalid InChI prefix in generating InChI Key\n",
      "[16:31:24] Invalid InChI prefix in generating InChI Key\n",
      "[16:31:24] Invalid InChI prefix in generating InChI Key\n",
      "[16:31:24] Invalid InChI prefix in generating InChI Key\n",
      "[16:31:24] Invalid InChI prefix in generating InChI Key\n",
      "[16:31:24] Invalid InChI prefix in generating InChI Key\n",
      "[16:31:24] Invalid InChI prefix in generating InChI Key\n",
      "[16:31:25] Invalid InChI prefix in generating InChI Key\n",
      "[16:31:25] Invalid InChI prefix in generating InChI Key\n",
      "[16:31:25] Invalid InChI prefix in generating InChI Key\n",
      "[16:31:25] Invalid InChI prefix in generating InChI Key\n",
      "[16:31:25] Invalid InChI prefix in generating InChI Key\n",
      "[16:31:25] Invalid InChI prefix in generating InChI Key\n",
      "[16:31:25] Invalid InChI prefix in generating InChI Key\n",
      "[16:31:25] Invalid InChI prefix in generating InChI Key\n",
      "[16:31:25] Invalid InChI prefix in generating InChI Key\n",
      "[16:31:25] Invalid InChI prefix in generating InChI Key\n",
      "[16:31:25] Invalid InChI prefix in generating InChI Key\n",
      "[16:31:25] Invalid InChI prefix in generating InChI Key\n",
      "[16:31:25] Invalid InChI prefix in generating InChI Key\n",
      "[16:31:41] Invalid InChI prefix in generating InChI Key\n",
      "[16:31:41] Invalid InChI prefix in generating InChI Key\n",
      "[16:39:23] Invalid InChI prefix in generating InChI Key\n",
      "[16:39:23] Invalid InChI prefix in generating InChI Key\n",
      "[16:39:23] Invalid InChI prefix in generating InChI Key\n",
      "[16:39:23] Invalid InChI prefix in generating InChI Key\n",
      "[16:39:23] Invalid InChI prefix in generating InChI Key\n",
      "[16:39:23] Invalid InChI prefix in generating InChI Key\n",
      "[16:39:24] Invalid InChI prefix in generating InChI Key\n",
      "[16:39:24] Invalid InChI prefix in generating InChI Key\n",
      "[16:39:24] Invalid InChI prefix in generating InChI Key\n",
      "[16:39:24] Invalid InChI prefix in generating InChI Key\n",
      "[16:42:57] Invalid InChI prefix in generating InChI Key\n",
      "[16:43:58] Invalid InChI prefix in generating InChI Key\n",
      "[16:44:02] Invalid InChI prefix in generating InChI Key\n",
      "[16:44:02] Invalid InChI prefix in generating InChI Key\n",
      "[16:44:02] Invalid InChI prefix in generating InChI Key\n",
      "[16:44:04] Invalid InChI prefix in generating InChI Key\n",
      "[16:44:04] Invalid InChI prefix in generating InChI Key\n"
     ]
    },
    {
     "name": "stdout",
     "output_type": "stream",
     "text": [
      "────────────────────────────────────────────────────────────────────────────────────────────────────────────────────────\n",
      "          Test metric                     DataLoader 0\n",
      "────────────────────────────────────────────────────────────────────────────────────────────────────────────────────────\n",
      "           test_loss                          0.0\n",
      "      test_num_valid_mols                     10.0\n",
      "      test_top_10_accuracy                    0.0\n",
      "    test_top_10_accuracy_std                  0.0\n",
      "  test_top_10_max_tanimoto_sim        0.10096427798271179\n",
      "test_top_10_max_tanimoto_sim_std     0.0001744613837217912\n",
      "     test_top_10_mces_dist             25.71958351135254\n",
      "   test_top_10_mces_dist_std          0.04963930323719978\n",
      "      test_top_1_accuracy                     0.0\n",
      "    test_top_1_accuracy_std                   0.0\n",
      "  test_top_1_max_tanimoto_sim         0.07304630428552628\n",
      "test_top_1_max_tanimoto_sim_std      0.00013741747534368187\n",
      "      test_top_1_mces_dist             28.585298538208008\n",
      "    test_top_1_mces_dist_std          0.053359825164079666\n",
      "────────────────────────────────────────────────────────────────────────────────────────────────────────────────────────\n"
     ]
    },
    {
     "data": {
      "text/plain": [
       "[{'test_loss': 0.0,\n",
       "  'test_num_valid_mols': 10.0,\n",
       "  'test_top_1_mces_dist': 28.585298538208008,\n",
       "  'test_top_1_mces_dist_std': 0.053359825164079666,\n",
       "  'test_top_1_max_tanimoto_sim': 0.07304630428552628,\n",
       "  'test_top_1_max_tanimoto_sim_std': 0.00013741747534368187,\n",
       "  'test_top_1_accuracy': 0.0,\n",
       "  'test_top_1_accuracy_std': 0.0,\n",
       "  'test_top_10_mces_dist': 25.71958351135254,\n",
       "  'test_top_10_mces_dist_std': 0.04963930323719978,\n",
       "  'test_top_10_max_tanimoto_sim': 0.10096427798271179,\n",
       "  'test_top_10_max_tanimoto_sim_std': 0.0001744613837217912,\n",
       "  'test_top_10_accuracy': 0.0,\n",
       "  'test_top_10_accuracy_std': 0.0}]"
      ]
     },
     "execution_count": 5,
     "metadata": {},
     "output_type": "execute_result"
    }
   ],
   "source": [
    "trainer.fit(model, datamodule=data_module)\n",
    "trainer.test(model, datamodule=data_module)"
   ]
  },
  {
   "attachments": {},
   "cell_type": "markdown",
   "metadata": {},
   "source": [
    "## Train"
   ]
  },
  {
   "cell_type": "code",
   "execution_count": 11,
   "metadata": {},
   "outputs": [
    {
     "name": "stderr",
     "output_type": "stream",
     "text": [
      "/Users/anton/miniconda3/envs/massspecgym/lib/python3.11/site-packages/pytorch_lightning/trainer/connectors/data_connector.py:441: The 'val_dataloader' does not have many workers which may be a bottleneck. Consider increasing the value of the `num_workers` argument` to `num_workers=7` in the `DataLoader` to improve performance.\n"
     ]
    },
    {
     "data": {
      "application/vnd.jupyter.widget-view+json": {
       "model_id": "169d3ce81f3346e189879a53ee8e620e",
       "version_major": 2,
       "version_minor": 0
      },
      "text/plain": [
       "Validation: |          | 0/? [00:00<?, ?it/s]"
      ]
     },
     "metadata": {},
     "output_type": "display_data"
    },
    {
     "ename": "RuntimeError",
     "evalue": "For random denovo generation without known formula, the model has to be trained first,to record training molecular weights with corresponding formulas.",
     "output_type": "error",
     "traceback": [
      "\u001b[0;31m---------------------------------------------------------------------------\u001b[0m",
      "\u001b[0;31mRuntimeError\u001b[0m                              Traceback (most recent call last)",
      "Cell \u001b[0;32mIn[11], line 4\u001b[0m\n\u001b[1;32m      2\u001b[0m data_module\u001b[39m.\u001b[39mprepare_data()  \u001b[39m# Explicit call needed for validate before fit\u001b[39;00m\n\u001b[1;32m      3\u001b[0m data_module\u001b[39m.\u001b[39msetup()  \u001b[39m# Explicit call needed for validate before fit\u001b[39;00m\n\u001b[0;32m----> 4\u001b[0m trainer\u001b[39m.\u001b[39;49mvalidate(model, datamodule\u001b[39m=\u001b[39;49mdata_module)\n\u001b[1;32m      6\u001b[0m \u001b[39m# Train\u001b[39;00m\n\u001b[1;32m      7\u001b[0m trainer\u001b[39m.\u001b[39mfit(model, datamodule\u001b[39m=\u001b[39mdata_module)\n",
      "File \u001b[0;32m~/miniconda3/envs/massspecgym/lib/python3.11/site-packages/pytorch_lightning/trainer/trainer.py:645\u001b[0m, in \u001b[0;36mTrainer.validate\u001b[0;34m(self, model, dataloaders, ckpt_path, verbose, datamodule)\u001b[0m\n\u001b[1;32m    643\u001b[0m \u001b[39mself\u001b[39m\u001b[39m.\u001b[39mstate\u001b[39m.\u001b[39mstatus \u001b[39m=\u001b[39m TrainerStatus\u001b[39m.\u001b[39mRUNNING\n\u001b[1;32m    644\u001b[0m \u001b[39mself\u001b[39m\u001b[39m.\u001b[39mvalidating \u001b[39m=\u001b[39m \u001b[39mTrue\u001b[39;00m\n\u001b[0;32m--> 645\u001b[0m \u001b[39mreturn\u001b[39;00m call\u001b[39m.\u001b[39;49m_call_and_handle_interrupt(\n\u001b[1;32m    646\u001b[0m     \u001b[39mself\u001b[39;49m, \u001b[39mself\u001b[39;49m\u001b[39m.\u001b[39;49m_validate_impl, model, dataloaders, ckpt_path, verbose, datamodule\n\u001b[1;32m    647\u001b[0m )\n",
      "File \u001b[0;32m~/miniconda3/envs/massspecgym/lib/python3.11/site-packages/pytorch_lightning/trainer/call.py:44\u001b[0m, in \u001b[0;36m_call_and_handle_interrupt\u001b[0;34m(trainer, trainer_fn, *args, **kwargs)\u001b[0m\n\u001b[1;32m     42\u001b[0m     \u001b[39mif\u001b[39;00m trainer\u001b[39m.\u001b[39mstrategy\u001b[39m.\u001b[39mlauncher \u001b[39mis\u001b[39;00m \u001b[39mnot\u001b[39;00m \u001b[39mNone\u001b[39;00m:\n\u001b[1;32m     43\u001b[0m         \u001b[39mreturn\u001b[39;00m trainer\u001b[39m.\u001b[39mstrategy\u001b[39m.\u001b[39mlauncher\u001b[39m.\u001b[39mlaunch(trainer_fn, \u001b[39m*\u001b[39margs, trainer\u001b[39m=\u001b[39mtrainer, \u001b[39m*\u001b[39m\u001b[39m*\u001b[39mkwargs)\n\u001b[0;32m---> 44\u001b[0m     \u001b[39mreturn\u001b[39;00m trainer_fn(\u001b[39m*\u001b[39;49margs, \u001b[39m*\u001b[39;49m\u001b[39m*\u001b[39;49mkwargs)\n\u001b[1;32m     46\u001b[0m \u001b[39mexcept\u001b[39;00m _TunerExitException:\n\u001b[1;32m     47\u001b[0m     _call_teardown_hook(trainer)\n",
      "File \u001b[0;32m~/miniconda3/envs/massspecgym/lib/python3.11/site-packages/pytorch_lightning/trainer/trainer.py:685\u001b[0m, in \u001b[0;36mTrainer._validate_impl\u001b[0;34m(self, model, dataloaders, ckpt_path, verbose, datamodule)\u001b[0m\n\u001b[1;32m    681\u001b[0m \u001b[39massert\u001b[39;00m \u001b[39mself\u001b[39m\u001b[39m.\u001b[39mstate\u001b[39m.\u001b[39mfn \u001b[39mis\u001b[39;00m \u001b[39mnot\u001b[39;00m \u001b[39mNone\u001b[39;00m\n\u001b[1;32m    682\u001b[0m ckpt_path \u001b[39m=\u001b[39m \u001b[39mself\u001b[39m\u001b[39m.\u001b[39m_checkpoint_connector\u001b[39m.\u001b[39m_select_ckpt_path(\n\u001b[1;32m    683\u001b[0m     \u001b[39mself\u001b[39m\u001b[39m.\u001b[39mstate\u001b[39m.\u001b[39mfn, ckpt_path, model_provided\u001b[39m=\u001b[39mmodel_provided, model_connected\u001b[39m=\u001b[39m\u001b[39mself\u001b[39m\u001b[39m.\u001b[39mlightning_module \u001b[39mis\u001b[39;00m \u001b[39mnot\u001b[39;00m \u001b[39mNone\u001b[39;00m\n\u001b[1;32m    684\u001b[0m )\n\u001b[0;32m--> 685\u001b[0m results \u001b[39m=\u001b[39m \u001b[39mself\u001b[39;49m\u001b[39m.\u001b[39;49m_run(model, ckpt_path\u001b[39m=\u001b[39;49mckpt_path)\n\u001b[1;32m    686\u001b[0m \u001b[39m# remove the tensors from the validation results\u001b[39;00m\n\u001b[1;32m    687\u001b[0m results \u001b[39m=\u001b[39m convert_tensors_to_scalars(results)\n",
      "File \u001b[0;32m~/miniconda3/envs/massspecgym/lib/python3.11/site-packages/pytorch_lightning/trainer/trainer.py:987\u001b[0m, in \u001b[0;36mTrainer._run\u001b[0;34m(self, model, ckpt_path)\u001b[0m\n\u001b[1;32m    982\u001b[0m \u001b[39mself\u001b[39m\u001b[39m.\u001b[39m_signal_connector\u001b[39m.\u001b[39mregister_signal_handlers()\n\u001b[1;32m    984\u001b[0m \u001b[39m# ----------------------------\u001b[39;00m\n\u001b[1;32m    985\u001b[0m \u001b[39m# RUN THE TRAINER\u001b[39;00m\n\u001b[1;32m    986\u001b[0m \u001b[39m# ----------------------------\u001b[39;00m\n\u001b[0;32m--> 987\u001b[0m results \u001b[39m=\u001b[39m \u001b[39mself\u001b[39;49m\u001b[39m.\u001b[39;49m_run_stage()\n\u001b[1;32m    989\u001b[0m \u001b[39m# ----------------------------\u001b[39;00m\n\u001b[1;32m    990\u001b[0m \u001b[39m# POST-Training CLEAN UP\u001b[39;00m\n\u001b[1;32m    991\u001b[0m \u001b[39m# ----------------------------\u001b[39;00m\n\u001b[1;32m    992\u001b[0m log\u001b[39m.\u001b[39mdebug(\u001b[39mf\u001b[39m\u001b[39m\"\u001b[39m\u001b[39m{\u001b[39;00m\u001b[39mself\u001b[39m\u001b[39m.\u001b[39m\u001b[39m__class__\u001b[39m\u001b[39m.\u001b[39m\u001b[39m__name__\u001b[39m\u001b[39m}\u001b[39;00m\u001b[39m: trainer tearing down\u001b[39m\u001b[39m\"\u001b[39m)\n",
      "File \u001b[0;32m~/miniconda3/envs/massspecgym/lib/python3.11/site-packages/pytorch_lightning/trainer/trainer.py:1026\u001b[0m, in \u001b[0;36mTrainer._run_stage\u001b[0;34m(self)\u001b[0m\n\u001b[1;32m   1023\u001b[0m \u001b[39mself\u001b[39m\u001b[39m.\u001b[39mlightning_module\u001b[39m.\u001b[39mzero_grad(\u001b[39m*\u001b[39m\u001b[39m*\u001b[39mzero_grad_kwargs)\n\u001b[1;32m   1025\u001b[0m \u001b[39mif\u001b[39;00m \u001b[39mself\u001b[39m\u001b[39m.\u001b[39mevaluating:\n\u001b[0;32m-> 1026\u001b[0m     \u001b[39mreturn\u001b[39;00m \u001b[39mself\u001b[39;49m\u001b[39m.\u001b[39;49m_evaluation_loop\u001b[39m.\u001b[39;49mrun()\n\u001b[1;32m   1027\u001b[0m \u001b[39mif\u001b[39;00m \u001b[39mself\u001b[39m\u001b[39m.\u001b[39mpredicting:\n\u001b[1;32m   1028\u001b[0m     \u001b[39mreturn\u001b[39;00m \u001b[39mself\u001b[39m\u001b[39m.\u001b[39mpredict_loop\u001b[39m.\u001b[39mrun()\n",
      "File \u001b[0;32m~/miniconda3/envs/massspecgym/lib/python3.11/site-packages/pytorch_lightning/loops/utilities.py:182\u001b[0m, in \u001b[0;36m_no_grad_context.<locals>._decorator\u001b[0;34m(self, *args, **kwargs)\u001b[0m\n\u001b[1;32m    180\u001b[0m     context_manager \u001b[39m=\u001b[39m torch\u001b[39m.\u001b[39mno_grad\n\u001b[1;32m    181\u001b[0m \u001b[39mwith\u001b[39;00m context_manager():\n\u001b[0;32m--> 182\u001b[0m     \u001b[39mreturn\u001b[39;00m loop_run(\u001b[39mself\u001b[39;49m, \u001b[39m*\u001b[39;49margs, \u001b[39m*\u001b[39;49m\u001b[39m*\u001b[39;49mkwargs)\n",
      "File \u001b[0;32m~/miniconda3/envs/massspecgym/lib/python3.11/site-packages/pytorch_lightning/loops/evaluation_loop.py:135\u001b[0m, in \u001b[0;36m_EvaluationLoop.run\u001b[0;34m(self)\u001b[0m\n\u001b[1;32m    133\u001b[0m     \u001b[39mself\u001b[39m\u001b[39m.\u001b[39mbatch_progress\u001b[39m.\u001b[39mis_last_batch \u001b[39m=\u001b[39m data_fetcher\u001b[39m.\u001b[39mdone\n\u001b[1;32m    134\u001b[0m     \u001b[39m# run step hooks\u001b[39;00m\n\u001b[0;32m--> 135\u001b[0m     \u001b[39mself\u001b[39;49m\u001b[39m.\u001b[39;49m_evaluation_step(batch, batch_idx, dataloader_idx, dataloader_iter)\n\u001b[1;32m    136\u001b[0m \u001b[39mexcept\u001b[39;00m \u001b[39mStopIteration\u001b[39;00m:\n\u001b[1;32m    137\u001b[0m     \u001b[39m# this needs to wrap the `*_step` call too (not just `next`) for `dataloader_iter` support\u001b[39;00m\n\u001b[1;32m    138\u001b[0m     \u001b[39mbreak\u001b[39;00m\n",
      "File \u001b[0;32m~/miniconda3/envs/massspecgym/lib/python3.11/site-packages/pytorch_lightning/loops/evaluation_loop.py:396\u001b[0m, in \u001b[0;36m_EvaluationLoop._evaluation_step\u001b[0;34m(self, batch, batch_idx, dataloader_idx, dataloader_iter)\u001b[0m\n\u001b[1;32m    390\u001b[0m hook_name \u001b[39m=\u001b[39m \u001b[39m\"\u001b[39m\u001b[39mtest_step\u001b[39m\u001b[39m\"\u001b[39m \u001b[39mif\u001b[39;00m trainer\u001b[39m.\u001b[39mtesting \u001b[39melse\u001b[39;00m \u001b[39m\"\u001b[39m\u001b[39mvalidation_step\u001b[39m\u001b[39m\"\u001b[39m\n\u001b[1;32m    391\u001b[0m step_args \u001b[39m=\u001b[39m (\n\u001b[1;32m    392\u001b[0m     \u001b[39mself\u001b[39m\u001b[39m.\u001b[39m_build_step_args_from_hook_kwargs(hook_kwargs, hook_name)\n\u001b[1;32m    393\u001b[0m     \u001b[39mif\u001b[39;00m \u001b[39mnot\u001b[39;00m using_dataloader_iter\n\u001b[1;32m    394\u001b[0m     \u001b[39melse\u001b[39;00m (dataloader_iter,)\n\u001b[1;32m    395\u001b[0m )\n\u001b[0;32m--> 396\u001b[0m output \u001b[39m=\u001b[39m call\u001b[39m.\u001b[39;49m_call_strategy_hook(trainer, hook_name, \u001b[39m*\u001b[39;49mstep_args)\n\u001b[1;32m    398\u001b[0m \u001b[39mself\u001b[39m\u001b[39m.\u001b[39mbatch_progress\u001b[39m.\u001b[39mincrement_processed()\n\u001b[1;32m    400\u001b[0m \u001b[39mif\u001b[39;00m using_dataloader_iter:\n\u001b[1;32m    401\u001b[0m     \u001b[39m# update the hook kwargs now that the step method might have consumed the iterator\u001b[39;00m\n",
      "File \u001b[0;32m~/miniconda3/envs/massspecgym/lib/python3.11/site-packages/pytorch_lightning/trainer/call.py:309\u001b[0m, in \u001b[0;36m_call_strategy_hook\u001b[0;34m(trainer, hook_name, *args, **kwargs)\u001b[0m\n\u001b[1;32m    306\u001b[0m     \u001b[39mreturn\u001b[39;00m \u001b[39mNone\u001b[39;00m\n\u001b[1;32m    308\u001b[0m \u001b[39mwith\u001b[39;00m trainer\u001b[39m.\u001b[39mprofiler\u001b[39m.\u001b[39mprofile(\u001b[39mf\u001b[39m\u001b[39m\"\u001b[39m\u001b[39m[Strategy]\u001b[39m\u001b[39m{\u001b[39;00mtrainer\u001b[39m.\u001b[39mstrategy\u001b[39m.\u001b[39m\u001b[39m__class__\u001b[39m\u001b[39m.\u001b[39m\u001b[39m__name__\u001b[39m\u001b[39m}\u001b[39;00m\u001b[39m.\u001b[39m\u001b[39m{\u001b[39;00mhook_name\u001b[39m}\u001b[39;00m\u001b[39m\"\u001b[39m):\n\u001b[0;32m--> 309\u001b[0m     output \u001b[39m=\u001b[39m fn(\u001b[39m*\u001b[39;49margs, \u001b[39m*\u001b[39;49m\u001b[39m*\u001b[39;49mkwargs)\n\u001b[1;32m    311\u001b[0m \u001b[39m# restore current_fx when nested context\u001b[39;00m\n\u001b[1;32m    312\u001b[0m pl_module\u001b[39m.\u001b[39m_current_fx_name \u001b[39m=\u001b[39m prev_fx_name\n",
      "File \u001b[0;32m~/miniconda3/envs/massspecgym/lib/python3.11/site-packages/pytorch_lightning/strategies/strategy.py:412\u001b[0m, in \u001b[0;36mStrategy.validation_step\u001b[0;34m(self, *args, **kwargs)\u001b[0m\n\u001b[1;32m    410\u001b[0m \u001b[39mif\u001b[39;00m \u001b[39mself\u001b[39m\u001b[39m.\u001b[39mmodel \u001b[39m!=\u001b[39m \u001b[39mself\u001b[39m\u001b[39m.\u001b[39mlightning_module:\n\u001b[1;32m    411\u001b[0m     \u001b[39mreturn\u001b[39;00m \u001b[39mself\u001b[39m\u001b[39m.\u001b[39m_forward_redirection(\u001b[39mself\u001b[39m\u001b[39m.\u001b[39mmodel, \u001b[39mself\u001b[39m\u001b[39m.\u001b[39mlightning_module, \u001b[39m\"\u001b[39m\u001b[39mvalidation_step\u001b[39m\u001b[39m\"\u001b[39m, \u001b[39m*\u001b[39margs, \u001b[39m*\u001b[39m\u001b[39m*\u001b[39mkwargs)\n\u001b[0;32m--> 412\u001b[0m \u001b[39mreturn\u001b[39;00m \u001b[39mself\u001b[39;49m\u001b[39m.\u001b[39;49mlightning_module\u001b[39m.\u001b[39;49mvalidation_step(\u001b[39m*\u001b[39;49margs, \u001b[39m*\u001b[39;49m\u001b[39m*\u001b[39;49mkwargs)\n",
      "File \u001b[0;32m~/dev/ms/MassSpecGym/massspecgym/models/base.py:66\u001b[0m, in \u001b[0;36mMassSpecGymModel.validation_step\u001b[0;34m(self, batch, batch_idx)\u001b[0m\n\u001b[1;32m     63\u001b[0m \u001b[39mdef\u001b[39;00m \u001b[39mvalidation_step\u001b[39m(\n\u001b[1;32m     64\u001b[0m     \u001b[39mself\u001b[39m, batch: \u001b[39mdict\u001b[39m, batch_idx: torch\u001b[39m.\u001b[39mTensor\n\u001b[1;32m     65\u001b[0m ) \u001b[39m-\u001b[39m\u001b[39m>\u001b[39m \u001b[39mtuple\u001b[39m[torch\u001b[39m.\u001b[39mTensor, torch\u001b[39m.\u001b[39mTensor]:\n\u001b[0;32m---> 66\u001b[0m     \u001b[39mreturn\u001b[39;00m \u001b[39mself\u001b[39;49m\u001b[39m.\u001b[39;49mstep(batch, stage\u001b[39m=\u001b[39;49mStage\u001b[39m.\u001b[39;49mVAL)\n",
      "File \u001b[0;32m~/dev/ms/MassSpecGym/massspecgym/models/de_novo/random.py:1207\u001b[0m, in \u001b[0;36mRandomDeNovo.step\u001b[0;34m(self, batch, stage)\u001b[0m\n\u001b[1;32m   1205\u001b[0m \u001b[39melse\u001b[39;00m:\n\u001b[1;32m   1206\u001b[0m     molecular_weights \u001b[39m=\u001b[39m [ExactMolWt(molecule) \u001b[39mfor\u001b[39;00m molecule \u001b[39min\u001b[39;00m molecules]\n\u001b[0;32m-> 1207\u001b[0m     formulas \u001b[39m=\u001b[39m [\n\u001b[1;32m   1208\u001b[0m         \u001b[39mself\u001b[39;49m\u001b[39m.\u001b[39;49msample_formula_with_the_closest_molecular_weight(mol_weight)\n\u001b[1;32m   1209\u001b[0m         \u001b[39mfor\u001b[39;49;00m mol_weight \u001b[39min\u001b[39;49;00m molecular_weights\n\u001b[1;32m   1210\u001b[0m     ]\n\u001b[1;32m   1211\u001b[0m \u001b[39m# (bs, k) list of rdkit molecules\u001b[39;00m\n\u001b[1;32m   1212\u001b[0m mols_pred \u001b[39m=\u001b[39m [\n\u001b[1;32m   1213\u001b[0m     \u001b[39mself\u001b[39m\u001b[39m.\u001b[39mgenerate_random_molecule_graphs_via_traversal(formula)\n\u001b[1;32m   1214\u001b[0m     \u001b[39mfor\u001b[39;00m formula \u001b[39min\u001b[39;00m formulas\n\u001b[1;32m   1215\u001b[0m ]\n",
      "File \u001b[0;32m~/dev/ms/MassSpecGym/massspecgym/models/de_novo/random.py:1208\u001b[0m, in \u001b[0;36m<listcomp>\u001b[0;34m(.0)\u001b[0m\n\u001b[1;32m   1205\u001b[0m \u001b[39melse\u001b[39;00m:\n\u001b[1;32m   1206\u001b[0m     molecular_weights \u001b[39m=\u001b[39m [ExactMolWt(molecule) \u001b[39mfor\u001b[39;00m molecule \u001b[39min\u001b[39;00m molecules]\n\u001b[1;32m   1207\u001b[0m     formulas \u001b[39m=\u001b[39m [\n\u001b[0;32m-> 1208\u001b[0m         \u001b[39mself\u001b[39;49m\u001b[39m.\u001b[39;49msample_formula_with_the_closest_molecular_weight(mol_weight)\n\u001b[1;32m   1209\u001b[0m         \u001b[39mfor\u001b[39;00m mol_weight \u001b[39min\u001b[39;00m molecular_weights\n\u001b[1;32m   1210\u001b[0m     ]\n\u001b[1;32m   1211\u001b[0m \u001b[39m# (bs, k) list of rdkit molecules\u001b[39;00m\n\u001b[1;32m   1212\u001b[0m mols_pred \u001b[39m=\u001b[39m [\n\u001b[1;32m   1213\u001b[0m     \u001b[39mself\u001b[39m\u001b[39m.\u001b[39mgenerate_random_molecule_graphs_via_traversal(formula)\n\u001b[1;32m   1214\u001b[0m     \u001b[39mfor\u001b[39;00m formula \u001b[39min\u001b[39;00m formulas\n\u001b[1;32m   1215\u001b[0m ]\n",
      "File \u001b[0;32m~/dev/ms/MassSpecGym/massspecgym/models/de_novo/random.py:1149\u001b[0m, in \u001b[0;36mRandomDeNovo.sample_formula_with_the_closest_molecular_weight\u001b[0;34m(self, molecular_weight)\u001b[0m\n\u001b[1;32m   1144\u001b[0m \u001b[39m\u001b[39m\u001b[39m\"\"\"\u001b[39;00m\n\u001b[1;32m   1145\u001b[0m \u001b[39mA method sampling chemical formula observed in training data with the closest weight to `molecular_weight`\u001b[39;00m\n\u001b[1;32m   1146\u001b[0m \u001b[39m@param molecular_weight: Molecular weight of a structure to be generated\u001b[39;00m\n\u001b[1;32m   1147\u001b[0m \u001b[39m\"\"\"\u001b[39;00m\n\u001b[1;32m   1148\u001b[0m \u001b[39mif\u001b[39;00m \u001b[39mself\u001b[39m\u001b[39m.\u001b[39mmol_weight_trn_values \u001b[39mis\u001b[39;00m \u001b[39mNone\u001b[39;00m:\n\u001b[0;32m-> 1149\u001b[0m     \u001b[39mraise\u001b[39;00m \u001b[39mRuntimeError\u001b[39;00m(\n\u001b[1;32m   1150\u001b[0m         \u001b[39m\"\u001b[39m\u001b[39mFor random denovo generation without known formula, the model has to be trained first,\u001b[39m\u001b[39m\"\u001b[39m\n\u001b[1;32m   1151\u001b[0m         \u001b[39m\"\u001b[39m\u001b[39mto record training molecular weights with corresponding formulas.\u001b[39m\u001b[39m\"\u001b[39m\n\u001b[1;32m   1152\u001b[0m     )\n\u001b[1;32m   1153\u001b[0m \u001b[39m# finding a place in the sorted array for insertion of the `molecular_weight`, while preserving sorted order\u001b[39;00m\n\u001b[1;32m   1154\u001b[0m idx_of_closest_larger \u001b[39m=\u001b[39m bisect\u001b[39m.\u001b[39mbisect_left(\n\u001b[1;32m   1155\u001b[0m     \u001b[39mself\u001b[39m\u001b[39m.\u001b[39mmol_weight_trn_values, molecular_weight\n\u001b[1;32m   1156\u001b[0m )\n",
      "\u001b[0;31mRuntimeError\u001b[0m: For random denovo generation without known formula, the model has to be trained first,to record training molecular weights with corresponding formulas."
     ]
    }
   ],
   "source": [
    "# Validate before training\n",
    "data_module.prepare_data()  # Explicit call needed for validate before fit\n",
    "data_module.setup()  # Explicit call needed for validate before fit\n",
    "trainer.validate(model, datamodule=data_module)\n",
    "\n",
    "# Train\n",
    "trainer.fit(model, datamodule=data_module)"
   ]
  },
  {
   "attachments": {},
   "cell_type": "markdown",
   "metadata": {},
   "source": [
    "## Test"
   ]
  },
  {
   "cell_type": "code",
   "execution_count": 6,
   "metadata": {},
   "outputs": [
    {
     "name": "stderr",
     "output_type": "stream",
     "text": [
      "/Users/anton/miniconda3/envs/massspecgym/lib/python3.11/site-packages/pytorch_lightning/trainer/connectors/data_connector.py:441: The 'test_dataloader' does not have many workers which may be a bottleneck. Consider increasing the value of the `num_workers` argument` to `num_workers=7` in the `DataLoader` to improve performance.\n"
     ]
    },
    {
     "data": {
      "application/vnd.jupyter.widget-view+json": {
       "model_id": "ede2a0b7bcf24bd88942f42dd7cfc918",
       "version_major": 2,
       "version_minor": 0
      },
      "text/plain": [
       "Testing: |          | 0/? [00:00<?, ?it/s]"
      ]
     },
     "metadata": {},
     "output_type": "display_data"
    },
    {
     "name": "stdout",
     "output_type": "stream",
     "text": [
      "────────────────────────────────────────────────────────────────────────────────────────────────────────────────────────\n",
      "       Test metric             DataLoader 0\n",
      "────────────────────────────────────────────────────────────────────────────────────────────────────────────────────────\n",
      "test_fingerprint_cos_sim   0.056853797286748886\n",
      "     test_hit_rate@1                0.0\n",
      "    test_hit_rate@20                0.0\n",
      "     test_hit_rate@5                0.0\n",
      "        test_loss           0.9431462287902832\n",
      "     test_mces_at_1                14.0\n",
      "────────────────────────────────────────────────────────────────────────────────────────────────────────────────────────\n"
     ]
    },
    {
     "data": {
      "text/plain": [
       "[{'test_fingerprint_cos_sim': 0.056853797286748886,\n",
       "  'test_loss': 0.9431462287902832,\n",
       "  'test_hit_rate@1': 0.0,\n",
       "  'test_hit_rate@5': 0.0,\n",
       "  'test_hit_rate@20': 0.0,\n",
       "  'test_mces_at_1': 14.0}]"
      ]
     },
     "execution_count": 6,
     "metadata": {},
     "output_type": "execute_result"
    }
   ],
   "source": [
    "trainer.test(model, datamodule=data_module)"
   ]
  }
 ],
 "metadata": {
  "kernelspec": {
   "display_name": "massspecgym",
   "language": "python",
   "name": "python3"
  },
  "language_info": {
   "codemirror_mode": {
    "name": "ipython",
    "version": 3
   },
   "file_extension": ".py",
   "mimetype": "text/x-python",
   "name": "python",
   "nbconvert_exporter": "python",
   "pygments_lexer": "ipython3",
   "version": "3.11.9"
  }
 },
 "nbformat": 4,
 "nbformat_minor": 2
}
