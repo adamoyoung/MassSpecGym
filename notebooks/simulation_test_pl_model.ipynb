{
 "cells": [
  {
   "cell_type": "code",
   "execution_count": 1,
   "metadata": {},
   "outputs": [],
   "source": [
    "%load_ext autoreload\n",
    "%autoreload 2"
   ]
  },
  {
   "cell_type": "code",
   "execution_count": 2,
   "metadata": {},
   "outputs": [],
   "source": [
    "import torch\n",
    "from torch.utils.data import DataLoader\n",
    "import pandas as pd\n",
    "from tqdm.notebook import tqdm\n",
    "from pprint import pprint\n",
    "from torch.utils.data import Subset\n",
    "import pytorch_lightning as pl"
   ]
  },
  {
   "cell_type": "code",
   "execution_count": 3,
   "metadata": {},
   "outputs": [],
   "source": [
    "from massspecgym.data.datasets import SimulationDataset\n",
    "from massspecgym.transforms import SpecToMzsInts, MolToPyG, StandardMeta, MolToFingerprints\n",
    "from massspecgym.simulation_utils.misc_utils import print_shapes\n",
    "from massspecgym.models.simulation.fp_ffn import FPFFNSimulationMassSpecGymModel"
   ]
  },
  {
   "cell_type": "code",
   "execution_count": 4,
   "metadata": {},
   "outputs": [],
   "source": [
    "# tsv_pth = \"../data/MassSpecGym_small.tsv\"\n",
    "# tsv_pth = \"../data/MassSpecGym_3_small.tsv\"\n",
    "tsv_pth = \"../data/MassSpecGym_3.tsv\"\n",
    "frag_pth = None\n",
    "meta_keys = [\"adduct\",\"precursor_mz\",\"instrument_type\",\"collision_energy\"]\n",
    "fp_types = [\"morgan\",\"maccs\",\"rdkit\"]\n",
    "adducts = [\"[M+H]+\"]\n",
    "instrument_types = [\"QTOF\",\"QFT\",\"Orbitrap\",\"ITFT\"]\n",
    "max_collision_energy = 200. # arbitrary\n",
    "spec_transform = SpecToMzsInts(\n",
    "    mz_from=10.,\n",
    "    mz_to=1500.\n",
    ")\n",
    "mol_transform = MolToFingerprints(\n",
    "    fp_types=fp_types\n",
    ")\n",
    "meta_transform = StandardMeta(\n",
    "    adducts=adducts,\n",
    "    instrument_types=instrument_types,\n",
    "    max_collision_energy=max_collision_energy\n",
    ")"
   ]
  },
  {
   "cell_type": "code",
   "execution_count": 5,
   "metadata": {},
   "outputs": [],
   "source": [
    "pl_model_d = dict(\n",
    "    # features\n",
    "    fp_types=fp_types,\n",
    "    adducts=adducts,\n",
    "    instrument_types=instrument_types,\n",
    "    max_collision_energy=max_collision_energy,\n",
    "    # input\n",
    "    metadata_insert_location=\"mlp\",\n",
    "    collision_energy_insert_size=16,\n",
    "    adduct_insert_size=16,\n",
    "    instrument_type_insert_size=16,\n",
    "    ints_transform=\"sqrt\", #\"none\",\n",
    "    # output\n",
    "    mz_max=1500., # 1000.,\n",
    "    mz_bin_res=0.1, # 0.01,\n",
    "    # model\n",
    "    mlp_hidden_size=1024,\n",
    "    mlp_dropout=0.1,\n",
    "    mlp_num_layers=3,\n",
    "    mlp_use_residuals=True,\n",
    "    ff_prec_mz_offset=500,\n",
    "    ff_bidirectional=True,\n",
    "    ff_output_map_size=128,\n",
    "    # optimization\n",
    "    lr=1e-3,\n",
    "    weight_decay=1e-7,\n",
    "    train_sample_weight=True,\n",
    "    eval_sample_weight=True\n",
    ")\n",
    "pl_model = FPFFNSimulationMassSpecGymModel(**pl_model_d)"
   ]
  },
  {
   "cell_type": "code",
   "execution_count": 6,
   "metadata": {},
   "outputs": [
    {
     "name": "stderr",
     "output_type": "stream",
     "text": [
      "/home/adamo.young/MassSpecGym/massspecgym/data/datasets.py:199: DtypeWarning: Columns (10) have mixed types. Specify dtype option on import or set low_memory=False.\n",
      "  entry_df = pd.read_csv(self.tsv_pth, sep=\"\\t\")\n"
     ]
    }
   ],
   "source": [
    "ds = SimulationDataset(\n",
    "    tsv_pth=tsv_pth,\n",
    "    frag_pth=None,\n",
    "    meta_keys=meta_keys,\n",
    "    spec_transform=spec_transform,\n",
    "    mol_transform=mol_transform,\n",
    "    meta_transform=meta_transform,\n",
    "    frag_transform=None,\n",
    "    cache_feats=False)\n",
    "\n",
    "dl = DataLoader(\n",
    "    ds,\n",
    "    num_workers=8, # 0,\n",
    "    shuffle=False,\n",
    "    batch_size=8,\n",
    "    drop_last=False,\n",
    "    collate_fn=ds.collate_fn)"
   ]
  },
  {
   "cell_type": "code",
   "execution_count": 7,
   "metadata": {},
   "outputs": [],
   "source": [
    "# for batch in tqdm(iter(dl),total=len(dl)):\n",
    "#     if batch[\"spec_batch_idxs\"].unique().shape[0] != batch[\"spec_batch_idxs\"].max()+1:\n",
    "#         print(batch[\"spec_id\"])\n",
    "#         print(batch[\"spec_batch_idxs\"].unique())\n",
    "#         raise ValueError"
   ]
  },
  {
   "cell_type": "code",
   "execution_count": 8,
   "metadata": {},
   "outputs": [
    {
     "name": "stdout",
     "output_type": "stream",
     "text": [
      "spec_mzs - (92,) - <class 'torch.Tensor'>\n",
      "spec_ints - (92,) - <class 'torch.Tensor'>\n",
      "fps - (8, 4263) - <class 'torch.Tensor'>\n",
      "precursor_mz - (8,) - <class 'torch.Tensor'>\n",
      "adduct - (8,) - <class 'torch.Tensor'>\n",
      "instrument_type - (8,) - <class 'torch.Tensor'>\n",
      "collision_energy - (8,) - <class 'torch.Tensor'>\n",
      "spec_id - (8,) - <class 'torch.Tensor'>\n",
      "weight - (8,) - <class 'torch.Tensor'>\n",
      "spec_batch_idxs - (92,) - <class 'torch.Tensor'>\n",
      "tensor(288.1230)\n",
      "tensor(288.1225)\n"
     ]
    }
   ],
   "source": [
    "batch = next(iter(dl))\n",
    "print_shapes(batch)\n",
    "print(batch[\"spec_mzs\"].max())\n",
    "print(batch[\"precursor_mz\"].max())"
   ]
  },
  {
   "cell_type": "code",
   "execution_count": 9,
   "metadata": {},
   "outputs": [
    {
     "name": "stdout",
     "output_type": "stream",
     "text": [
      "pred_mzs - (13529,) - <class 'torch.Tensor'>\n",
      "pred_logprobs - (13529,) - <class 'torch.Tensor'>\n",
      "pred_batch_idxs - (13529,) - <class 'torch.Tensor'>\n"
     ]
    }
   ],
   "source": [
    "out_d = pl_model.forward(**batch)\n",
    "print_shapes(out_d)"
   ]
  },
  {
   "cell_type": "code",
   "execution_count": 10,
   "metadata": {},
   "outputs": [
    {
     "name": "stdout",
     "output_type": "stream",
     "text": [
      "tensor(0.5000) tensor(1000.)\n",
      "tensor([   0,    1,    1,   20,  200, 1998, 1999, 2000, 2000])\n"
     ]
    }
   ],
   "source": [
    "bins = torch.arange(0.5,1000.+0.5,0.5)\n",
    "print(bins.min(), bins.max())\n",
    "mzs = torch.tensor([0., 0.5, 0.51, 10., 100., 999., 999.5, 1000.-1e-6, 1000.])\n",
    "idxs = torch.bucketize(mzs, bins, right=True)\n",
    "print(idxs)"
   ]
  },
  {
   "cell_type": "code",
   "execution_count": 11,
   "metadata": {},
   "outputs": [],
   "source": [
    "# # Init data module\n",
    "# data_module = MassSpecDataModule(\n",
    "#     dataset=ds,\n",
    "#     split_pth=split_pth,\n",
    "#     batch_size=8\n",
    "# )\n",
    "\n",
    "entry_df = ds.entry_df\n",
    "\n",
    "train_ds = Subset(ds, entry_df[entry_df[\"fold\"]==\"train\"].index)\n",
    "val_ds = Subset(ds, entry_df[entry_df[\"fold\"]==\"val\"].index)\n",
    "test_ds = Subset(ds, entry_df[entry_df[\"fold\"]==\"test\"].index)\n",
    "\n",
    "dl_config = {\n",
    "    \"num_workers\": 4,\n",
    "    \"batch_size\": 64,\n",
    "    \"drop_last\": False,\n",
    "    \"collate_fn\": ds.collate_fn\n",
    "}\n",
    "\n",
    "train_dl = DataLoader(train_ds, shuffle=True, **dl_config)\n",
    "val_dl = DataLoader(val_ds, shuffle=False, **dl_config)"
   ]
  },
  {
   "cell_type": "code",
   "execution_count": 12,
   "metadata": {},
   "outputs": [
    {
     "name": "stderr",
     "output_type": "stream",
     "text": [
      "GPU available: False, used: False\n",
      "TPU available: False, using: 0 TPU cores\n",
      "IPU available: False, using: 0 IPUs\n",
      "HPU available: False, using: 0 HPUs\n",
      "Failed to detect the name of this notebook, you can set it manually with the WANDB_NOTEBOOK_NAME environment variable to enable code saving.\n",
      "\u001b[34m\u001b[1mwandb\u001b[0m: Currently logged in as: \u001b[33madamoyoung\u001b[0m. Use \u001b[1m`wandb login --relogin`\u001b[0m to force relogin\n"
     ]
    },
    {
     "data": {
      "text/html": [
       "Tracking run with wandb version 0.17.0"
      ],
      "text/plain": [
       "<IPython.core.display.HTML object>"
      ]
     },
     "metadata": {},
     "output_type": "display_data"
    },
    {
     "data": {
      "text/html": [
       "Run data is saved locally in <code>./wandb/run-20240531_184529-dc804wvr</code>"
      ],
      "text/plain": [
       "<IPython.core.display.HTML object>"
      ]
     },
     "metadata": {},
     "output_type": "display_data"
    },
    {
     "data": {
      "text/html": [
       "Syncing run <strong><a href='https://wandb.ai/adamoyoung/msg/runs/dc804wvr' target=\"_blank\">simulation_test_full</a></strong> to <a href='https://wandb.ai/adamoyoung/msg' target=\"_blank\">Weights & Biases</a> (<a href='https://wandb.me/run' target=\"_blank\">docs</a>)<br/>"
      ],
      "text/plain": [
       "<IPython.core.display.HTML object>"
      ]
     },
     "metadata": {},
     "output_type": "display_data"
    },
    {
     "data": {
      "text/html": [
       " View project at <a href='https://wandb.ai/adamoyoung/msg' target=\"_blank\">https://wandb.ai/adamoyoung/msg</a>"
      ],
      "text/plain": [
       "<IPython.core.display.HTML object>"
      ]
     },
     "metadata": {},
     "output_type": "display_data"
    },
    {
     "data": {
      "text/html": [
       " View run at <a href='https://wandb.ai/adamoyoung/msg/runs/dc804wvr' target=\"_blank\">https://wandb.ai/adamoyoung/msg/runs/dc804wvr</a>"
      ],
      "text/plain": [
       "<IPython.core.display.HTML object>"
      ]
     },
     "metadata": {},
     "output_type": "display_data"
    },
    {
     "name": "stderr",
     "output_type": "stream",
     "text": [
      "\n",
      "  | Name  | Type       | Params\n",
      "-------------------------------------\n",
      "0 | model | FPFFNModel | 13.8 M\n",
      "-------------------------------------\n",
      "13.8 M    Trainable params\n",
      "1.6 K     Non-trainable params\n",
      "13.8 M    Total params\n",
      "55.221    Total estimated model params size (MB)\n"
     ]
    },
    {
     "data": {
      "application/vnd.jupyter.widget-view+json": {
       "model_id": "4c835698fbf54776b71b6b95d2a24196",
       "version_major": 2,
       "version_minor": 0
      },
      "text/plain": [
       "Sanity Checking: |          | 0/? [00:00<?, ?it/s]"
      ]
     },
     "metadata": {},
     "output_type": "display_data"
    },
    {
     "data": {
      "application/vnd.jupyter.widget-view+json": {
       "model_id": "957eb390ba0b49e194c0e434f25e7476",
       "version_major": 2,
       "version_minor": 0
      },
      "text/plain": [
       "Training: |          | 0/? [00:00<?, ?it/s]"
      ]
     },
     "metadata": {},
     "output_type": "display_data"
    }
   ],
   "source": [
    "wandb_entity = \"adamoyoung\"\n",
    "wandb_project = \"MSG\"\n",
    "wandb_name = \"simulation_test_full\"\n",
    "logger = pl.loggers.WandbLogger(\n",
    "    entity=wandb_entity,\n",
    "    project=wandb_project,\n",
    "    name=wandb_name,\n",
    "    tags=[],\n",
    "    log_model=False,\n",
    ")\n",
    "# logger = None\n",
    "\n",
    "# Init trainer\n",
    "trainer = pl.Trainer(\n",
    "    accelerator=\"cpu\", max_epochs=10, logger=logger, log_every_n_steps=1\n",
    ")\n",
    "\n",
    "# Train\n",
    "trainer.fit(\n",
    "    pl_model, \n",
    "    train_dataloaders=train_dl, \n",
    "    val_dataloaders=val_dl\n",
    ")"
   ]
  },
  {
   "cell_type": "code",
   "execution_count": null,
   "metadata": {},
   "outputs": [],
   "source": []
  }
 ],
 "metadata": {
  "kernelspec": {
   "display_name": "MSG",
   "language": "python",
   "name": "python3"
  },
  "language_info": {
   "codemirror_mode": {
    "name": "ipython",
    "version": 3
   },
   "file_extension": ".py",
   "mimetype": "text/x-python",
   "name": "python",
   "nbconvert_exporter": "python",
   "pygments_lexer": "ipython3",
   "version": "3.10.14"
  }
 },
 "nbformat": 4,
 "nbformat_minor": 2
}
