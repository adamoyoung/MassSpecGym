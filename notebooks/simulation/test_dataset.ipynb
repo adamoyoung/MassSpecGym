{
 "cells": [
  {
   "cell_type": "code",
   "execution_count": 25,
   "metadata": {},
   "outputs": [
    {
     "name": "stdout",
     "output_type": "stream",
     "text": [
      "The autoreload extension is already loaded. To reload it, use:\n",
      "  %reload_ext autoreload\n"
     ]
    }
   ],
   "source": [
    "%load_ext autoreload\n",
    "%autoreload 2"
   ]
  },
  {
   "cell_type": "code",
   "execution_count": 26,
   "metadata": {},
   "outputs": [],
   "source": [
    "import os\n",
    "import numpy\n",
    "import torch\n",
    "from pprint import pprint\n",
    "from torch.utils.data import DataLoader\n",
    "\n",
    "import massspecgym\n",
    "from massspecgym.data.datasets import SimulationDataset\n",
    "from massspecgym.runner import load_config\n",
    "from massspecgym.data.transforms import SpecToMzsInts, MolToPyG, StandardMeta, MolToFingerprints\n",
    "from massspecgym.simulation_utils.misc_utils import print_shapes"
   ]
  },
  {
   "cell_type": "code",
   "execution_count": 27,
   "metadata": {},
   "outputs": [],
   "source": [
    "config_d = load_config(\n",
    "    \"/h/adamo/MassSpecGym_copy/config/template.yml\",\n",
    "    \"/h/adamo/MassSpecGym_copy/config/new_bench_fp.yml\"\n",
    ")"
   ]
  },
  {
   "cell_type": "code",
   "execution_count": 28,
   "metadata": {},
   "outputs": [],
   "source": [
    "spec_transform = SpecToMzsInts(\n",
    "    mz_from=config_d[\"mz_from\"],\n",
    "    mz_to=config_d[\"mz_to\"],\n",
    ")\n",
    "if config_d[\"model_type\"] in [\"fp\", \"prec_only\"]:\n",
    "    mol_transform = MolToFingerprints(\n",
    "        fp_types=config_d[\"fp_types\"]\n",
    "    )\n",
    "elif config_d[\"model_type\"] == \"gnn\":\n",
    "    mol_transform = MolToPyG()\n",
    "else:\n",
    "    raise ValueError(f\"model_type {config_d['model_type']} not supported\")\n",
    "meta_transform = StandardMeta(\n",
    "    adducts=config_d[\"adducts\"],\n",
    "    instrument_types=config_d[\"instrument_types\"],\n",
    "    max_collision_energy=config_d[\"max_collision_energy\"]\n",
    ")"
   ]
  },
  {
   "cell_type": "code",
   "execution_count": 29,
   "metadata": {},
   "outputs": [],
   "source": [
    "ds = SimulationDataset(\n",
    "    pth=os.path.join(\"/h/adamo/MassSpecGym_copy\",config_d[\"tsv_pth\"]),\n",
    "    meta_keys=config_d[\"meta_keys\"],\n",
    "    spec_transform=spec_transform,\n",
    "    mol_transform=mol_transform,\n",
    "    meta_transform=meta_transform\n",
    ")"
   ]
  },
  {
   "cell_type": "code",
   "execution_count": 30,
   "metadata": {},
   "outputs": [
    {
     "name": "stdout",
     "output_type": "stream",
     "text": [
      "119029\n",
      "119029\n",
      "119029\n",
      "16974\n"
     ]
    }
   ],
   "source": [
    "print(len(ds))\n",
    "print(ds.spectra.shape[0])\n",
    "print(ds.metadata.shape[0])\n",
    "print(ds.metadata[\"inchikey\"].nunique())"
   ]
  },
  {
   "cell_type": "code",
   "execution_count": 31,
   "metadata": {},
   "outputs": [
    {
     "name": "stdout",
     "output_type": "stream",
     "text": [
      "simulation_challenge\n",
      "True    119029\n",
      "Name: count, dtype: int64\n"
     ]
    }
   ],
   "source": [
    "print(ds.metadata[\"simulation_challenge\"].value_counts())"
   ]
  },
  {
   "cell_type": "code",
   "execution_count": 32,
   "metadata": {},
   "outputs": [
    {
     "name": "stdout",
     "output_type": "stream",
     "text": [
      "spec_mzs - (8,) - <class 'torch.Tensor'>\n",
      "spec_ints - (8,) - <class 'torch.Tensor'>\n",
      "fps - (4263,) - <class 'torch.Tensor'>\n",
      "precursor_mz - () - <class 'torch.Tensor'>\n",
      "adduct - () - <class 'torch.Tensor'>\n",
      "instrument_type - () - <class 'torch.Tensor'>\n",
      "collision_energy - () - <class 'torch.Tensor'>\n",
      "mol_freq - () - <class 'torch.Tensor'>\n",
      "identifier - None - <class 'str'>"
     ]
    },
    {
     "name": "stdout",
     "output_type": "stream",
     "text": [
      "\n"
     ]
    }
   ],
   "source": [
    "item = ds[0]\n",
    "print_shapes(item)"
   ]
  },
  {
   "cell_type": "code",
   "execution_count": 33,
   "metadata": {},
   "outputs": [],
   "source": [
    "dl = DataLoader(\n",
    "    ds,\n",
    "    num_workers=0,\n",
    "    batch_size=3,\n",
    "    shuffle=False,\n",
    "    drop_last=False,\n",
    "    collate_fn=ds.collate_fn\n",
    ")"
   ]
  },
  {
   "cell_type": "code",
   "execution_count": 34,
   "metadata": {},
   "outputs": [
    {
     "name": "stdout",
     "output_type": "stream",
     "text": [
      "spec_mzs - (26,) - <class 'torch.Tensor'>\n",
      "spec_ints - (26,) - <class 'torch.Tensor'>\n",
      "spec_batch_idxs - (26,) - <class 'torch.Tensor'>\n",
      "fps - (3, 4263) - <class 'torch.Tensor'>\n",
      "adduct - (3,) - <class 'torch.Tensor'>\n",
      "instrument_type - (3,) - <class 'torch.Tensor'>\n",
      "collision_energy - (3,) - <class 'torch.Tensor'>\n",
      "precursor_mz - (3,) - <class 'torch.Tensor'>\n",
      "mol_freq - (3,) - <class 'torch.Tensor'>\n",
      "identifier - 3 - <class 'list'>\n"
     ]
    }
   ],
   "source": [
    "dl_iter = iter(dl)\n",
    "batch = next(dl_iter)\n",
    "print_shapes(batch)"
   ]
  },
  {
   "cell_type": "code",
   "execution_count": null,
   "metadata": {},
   "outputs": [],
   "source": []
  }
 ],
 "metadata": {
  "kernelspec": {
   "display_name": "MSG2",
   "language": "python",
   "name": "python3"
  },
  "language_info": {
   "codemirror_mode": {
    "name": "ipython",
    "version": 3
   },
   "file_extension": ".py",
   "mimetype": "text/x-python",
   "name": "python",
   "nbconvert_exporter": "python",
   "pygments_lexer": "ipython3",
   "version": "3.11.9"
  }
 },
 "nbformat": 4,
 "nbformat_minor": 2
}
