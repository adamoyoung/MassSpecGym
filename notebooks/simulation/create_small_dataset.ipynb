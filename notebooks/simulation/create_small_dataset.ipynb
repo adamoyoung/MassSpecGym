{
 "cells": [
  {
   "cell_type": "code",
   "execution_count": 1,
   "metadata": {},
   "outputs": [],
   "source": [
    "import pandas as pd"
   ]
  },
  {
   "cell_type": "code",
   "execution_count": 3,
   "metadata": {},
   "outputs": [],
   "source": [
    "df = pd.read_csv(\"/h/adamo/MassSpecGym_copy/data/MassSpecGym.tsv\",sep=\"\\t\")\n",
    "print(df.columns)\n",
    "print(df.shape)"
   ]
  },
  {
   "cell_type": "code",
   "execution_count": 7,
   "metadata": {},
   "outputs": [
    {
     "name": "stdout",
     "output_type": "stream",
     "text": [
      "Index(['identifier', 'mzs', 'intensities', 'smiles', 'inchikey', 'formula',\n",
      "       'precursor_formula', 'parent_mass', 'precursor_mz', 'adduct',\n",
      "       'instrument_type', 'collision_energy', 'fold', 'simulation_challenge'],\n",
      "      dtype='object')\n",
      "(23110, 14)\n"
     ]
    }
   ],
   "source": [
    "small_df = df.sample(frac=0.1,random_state=420,replace=False)\n",
    "print(small_df.columns)\n",
    "print(small_df.shape)"
   ]
  },
  {
   "cell_type": "code",
   "execution_count": 8,
   "metadata": {},
   "outputs": [],
   "source": [
    "small_df.to_csv(\"/h/adamo/MassSpecGym_copy/data/MassSpecGym_small.tsv\",sep=\"\\t\",index=False)"
   ]
  },
  {
   "cell_type": "code",
   "execution_count": null,
   "metadata": {},
   "outputs": [],
   "source": []
  }
 ],
 "metadata": {
  "kernelspec": {
   "display_name": "MSG2",
   "language": "python",
   "name": "python3"
  },
  "language_info": {
   "codemirror_mode": {
    "name": "ipython",
    "version": 3
   },
   "file_extension": ".py",
   "mimetype": "text/x-python",
   "name": "python",
   "nbconvert_exporter": "python",
   "pygments_lexer": "ipython3",
   "version": "3.11.9"
  }
 },
 "nbformat": 4,
 "nbformat_minor": 2
}
