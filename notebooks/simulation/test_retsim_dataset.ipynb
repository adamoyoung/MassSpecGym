{
 "cells": [
  {
   "cell_type": "code",
   "execution_count": 1,
   "metadata": {},
   "outputs": [],
   "source": [
    "%load_ext autoreload\n",
    "%autoreload 2"
   ]
  },
  {
   "cell_type": "code",
   "execution_count": 2,
   "metadata": {},
   "outputs": [],
   "source": [
    "import os\n",
    "import numpy\n",
    "import torch\n",
    "from pprint import pprint\n",
    "from torch.utils.data import DataLoader, Subset\n",
    "from tqdm import tqdm\n",
    "import numpy as np\n",
    "import pandas as pd\n",
    "\n",
    "from massspecgym.data.datasets import RetrievalSimulationDataset\n",
    "from massspecgym.runner import load_config, get_split_ss\n",
    "from massspecgym.data.transforms import SpecToMzsInts, MolToPyG, StandardMeta, MolToFingerprints\n",
    "from massspecgym.simulation_utils.misc_utils import print_shapes\n",
    "from massspecgym.models.simulation.fp import FPSimulationMassSpecGymModel"
   ]
  },
  {
   "cell_type": "code",
   "execution_count": 5,
   "metadata": {},
   "outputs": [],
   "source": [
    "config_d = load_config(\n",
    "    \"/h/adamo/MassSpecGym_copy/config/template.yml\",\n",
    "    \"/h/adamo/MassSpecGym_copy/config/debug_ret.yml\"\n",
    ")"
   ]
  },
  {
   "cell_type": "code",
   "execution_count": 6,
   "metadata": {},
   "outputs": [],
   "source": [
    "spec_transform = SpecToMzsInts(\n",
    "    mz_from=config_d[\"mz_from\"],\n",
    "    mz_to=config_d[\"mz_to\"],\n",
    ")\n",
    "if config_d[\"model_type\"] in [\"fp\", \"prec_only\"]:\n",
    "    mol_transform = MolToFingerprints(\n",
    "        fp_types=config_d[\"fp_types\"]\n",
    "    )\n",
    "elif config_d[\"model_type\"] == \"gnn\":\n",
    "    mol_transform = MolToPyG()\n",
    "else:\n",
    "    raise ValueError(f\"model_type {config_d['model_type']} not supported\")\n",
    "meta_transform = StandardMeta(\n",
    "    adducts=config_d[\"adducts\"],\n",
    "    instrument_types=config_d[\"instrument_types\"],\n",
    "    max_collision_energy=config_d[\"max_collision_energy\"]\n",
    ")"
   ]
  },
  {
   "cell_type": "code",
   "execution_count": 7,
   "metadata": {},
   "outputs": [],
   "source": [
    "ds = RetrievalSimulationDataset(\n",
    "    pth=os.path.join(\"/h/adamo/MassSpecGym_copy\",config_d[\"pth\"]),\n",
    "    candidates_pth=os.path.join(\"/h/adamo/MassSpecGym_copy\",config_d[\"candidates_pth\"]),\n",
    "    meta_keys=config_d[\"meta_keys\"],\n",
    "    spec_transform=spec_transform,\n",
    "    mol_transform=mol_transform,\n",
    "    meta_transform=meta_transform\n",
    ")"
   ]
  },
  {
   "cell_type": "code",
   "execution_count": 8,
   "metadata": {},
   "outputs": [
    {
     "name": "stdout",
     "output_type": "stream",
     "text": [
      "11952\n",
      "11952\n",
      "11952\n",
      "6283\n",
      "32010\n"
     ]
    }
   ],
   "source": [
    "print(len(ds))\n",
    "print(ds.spectra.shape[0])\n",
    "print(ds.metadata.shape[0])\n",
    "print(ds.metadata[\"inchikey\"].nunique())\n",
    "print(len(ds.candidates))"
   ]
  },
  {
   "cell_type": "code",
   "execution_count": 9,
   "metadata": {},
   "outputs": [
    {
     "name": "stdout",
     "output_type": "stream",
     "text": [
      "simulation_challenge\n",
      "True    11952\n",
      "Name: count, dtype: int64\n",
      "fold\n",
      "train    9927\n",
      "test     1040\n",
      "val       985\n",
      "Name: count, dtype: int64\n"
     ]
    }
   ],
   "source": [
    "print(ds.metadata[\"simulation_challenge\"].value_counts())\n",
    "print(ds.metadata[\"fold\"].value_counts())"
   ]
  },
  {
   "cell_type": "code",
   "execution_count": 10,
   "metadata": {},
   "outputs": [
    {
     "name": "stdout",
     "output_type": "stream",
     "text": [
      "spec_mzs - (19,) - <class 'torch.Tensor'>\n",
      "spec_ints - (19,) - <class 'torch.Tensor'>\n",
      "fps - (4263,) - <class 'torch.Tensor'>\n",
      "precursor_mz - () - <class 'torch.Tensor'>\n",
      "adduct - () - <class 'torch.Tensor'>\n",
      "instrument_type - () - <class 'torch.Tensor'>\n",
      "collision_energy - () - <class 'torch.Tensor'>\n",
      "smiles - None - <class 'str'>\n",
      "mol_freq - () - <class 'torch.Tensor'>\n",
      "identifier - None - <class 'str'>\n",
      "candidates_smiles - 256 - <class 'list'>\n",
      "candidates_labels - (256,) - <class 'torch.Tensor'>\n",
      "candidates_mol_feats - 256 - <class 'list'>\n"
     ]
    }
   ],
   "source": [
    "item = ds[0]\n",
    "print_shapes(item)"
   ]
  },
  {
   "cell_type": "code",
   "execution_count": 12,
   "metadata": {},
   "outputs": [
    {
     "name": "stdout",
     "output_type": "stream",
     "text": [
      "count    11952.000000\n",
      "mean       254.596553\n",
      "std         14.776761\n",
      "min         12.000000\n",
      "25%        256.000000\n",
      "50%        256.000000\n",
      "75%        256.000000\n",
      "max        256.000000\n",
      "dtype: float64\n",
      "missing candidates: 0\n"
     ]
    }
   ],
   "source": [
    "smileses = list(ds.metadata[\"smiles\"])\n",
    "num_cands = [len(ds.candidates.get(smiles,[])) for smiles in smileses]\n",
    "num_cands = pd.Series(num_cands)\n",
    "no_cands = num_cands == 0\n",
    "print(num_cands.describe())\n",
    "print(\"missing candidates:\",no_cands.sum())\n"
   ]
  },
  {
   "cell_type": "code",
   "execution_count": 49,
   "metadata": {},
   "outputs": [
    {
     "name": "stdout",
     "output_type": "stream",
     "text": [
      ">>> Number of Spectra\n",
      "99341 9734 0\n",
      ">>> Number of Unique Molecules\n",
      "12321 2334 0\n"
     ]
    }
   ],
   "source": [
    "train_ss, val_ss, test_ss = get_split_ss(ds, config_d[\"split_type\"])\n",
    "dl = DataLoader(\n",
    "    val_ss, # using val since test candidates are missing\n",
    "    num_workers=0,\n",
    "    batch_size=3,\n",
    "    shuffle=False,\n",
    "    drop_last=False,\n",
    "    collate_fn=ds.collate_fn\n",
    ")"
   ]
  },
  {
   "cell_type": "code",
   "execution_count": 50,
   "metadata": {},
   "outputs": [
    {
     "name": "stdout",
     "output_type": "stream",
     "text": [
      "spec_mzs - (37,) - <class 'torch.Tensor'>\n",
      "spec_ints - (37,) - <class 'torch.Tensor'>\n",
      "spec_batch_idxs - (37,) - <class 'torch.Tensor'>\n",
      "fps - (3, 4263) - <class 'torch.Tensor'>\n",
      "adduct - (3,) - <class 'torch.Tensor'>\n",
      "instrument_type - (3,) - <class 'torch.Tensor'>\n",
      "collision_energy - (3,) - <class 'torch.Tensor'>\n",
      "precursor_mz - (3,) - <class 'torch.Tensor'>\n",
      "smiles - 3 - <class 'list'>\n",
      "mol_freq - (3,) - <class 'torch.Tensor'>\n",
      "identifier - 3 - <class 'list'>\n",
      "candidates_data - None - <class 'dict'>\n"
     ]
    }
   ],
   "source": [
    "dl_iter = iter(dl)\n",
    "batch = next(dl_iter)\n",
    "print_shapes(batch)"
   ]
  },
  {
   "cell_type": "code",
   "execution_count": 51,
   "metadata": {},
   "outputs": [
    {
     "name": "stdout",
     "output_type": "stream",
     "text": [
      "fps - (768, 4263) - <class 'torch.Tensor'>\n",
      "smiles - 768 - <class 'list'>\n",
      "batch_ptr - (3,) - <class 'torch.Tensor'>\n",
      "labels - (768,) - <class 'torch.Tensor'>\n"
     ]
    }
   ],
   "source": [
    "print_shapes(batch[\"candidates_data\"])"
   ]
  },
  {
   "cell_type": "code",
   "execution_count": 52,
   "metadata": {},
   "outputs": [
    {
     "name": "stderr",
     "output_type": "stream",
     "text": [
      "  1%|          | 39/3245 [05:45<7:53:08,  8.85s/it]\n"
     ]
    },
    {
     "ename": "KeyboardInterrupt",
     "evalue": "",
     "output_type": "error",
     "traceback": [
      "\u001b[0;31m---------------------------------------------------------------------------\u001b[0m",
      "\u001b[0;31mKeyboardInterrupt\u001b[0m                         Traceback (most recent call last)",
      "Cell \u001b[0;32mIn[52], line 2\u001b[0m\n\u001b[1;32m      1\u001b[0m dl_iter \u001b[38;5;241m=\u001b[39m \u001b[38;5;28miter\u001b[39m(dl)\n\u001b[0;32m----> 2\u001b[0m \u001b[38;5;28;43;01mfor\u001b[39;49;00m\u001b[43m \u001b[49m\u001b[43mbatch\u001b[49m\u001b[43m \u001b[49m\u001b[38;5;129;43;01min\u001b[39;49;00m\u001b[43m \u001b[49m\u001b[43mtqdm\u001b[49m\u001b[43m(\u001b[49m\u001b[43mdl_iter\u001b[49m\u001b[43m,\u001b[49m\u001b[43m \u001b[49m\u001b[43mtotal\u001b[49m\u001b[38;5;241;43m=\u001b[39;49m\u001b[38;5;28;43mlen\u001b[39;49m\u001b[43m(\u001b[49m\u001b[43mdl\u001b[49m\u001b[43m)\u001b[49m\u001b[43m)\u001b[49m\u001b[43m:\u001b[49m\n\u001b[1;32m      3\u001b[0m \u001b[43m    \u001b[49m\u001b[38;5;28;43;01mpass\u001b[39;49;00m\n",
      "File \u001b[0;32m~/miniconda3/envs/MSG2/lib/python3.11/site-packages/tqdm/std.py:1181\u001b[0m, in \u001b[0;36mtqdm.__iter__\u001b[0;34m(self)\u001b[0m\n\u001b[1;32m   1178\u001b[0m time \u001b[38;5;241m=\u001b[39m \u001b[38;5;28mself\u001b[39m\u001b[38;5;241m.\u001b[39m_time\n\u001b[1;32m   1180\u001b[0m \u001b[38;5;28;01mtry\u001b[39;00m:\n\u001b[0;32m-> 1181\u001b[0m \u001b[43m    \u001b[49m\u001b[38;5;28;43;01mfor\u001b[39;49;00m\u001b[43m \u001b[49m\u001b[43mobj\u001b[49m\u001b[43m \u001b[49m\u001b[38;5;129;43;01min\u001b[39;49;00m\u001b[43m \u001b[49m\u001b[43miterable\u001b[49m\u001b[43m:\u001b[49m\n\u001b[1;32m   1182\u001b[0m \u001b[43m        \u001b[49m\u001b[38;5;28;43;01myield\u001b[39;49;00m\u001b[43m \u001b[49m\u001b[43mobj\u001b[49m\n\u001b[1;32m   1183\u001b[0m \u001b[43m        \u001b[49m\u001b[38;5;66;43;03m# Update and possibly print the progressbar.\u001b[39;49;00m\n\u001b[1;32m   1184\u001b[0m \u001b[43m        \u001b[49m\u001b[38;5;66;43;03m# Note: does not call self.update(1) for speed optimisation.\u001b[39;49;00m\n",
      "File \u001b[0;32m~/miniconda3/envs/MSG2/lib/python3.11/site-packages/torch/utils/data/dataloader.py:630\u001b[0m, in \u001b[0;36m_BaseDataLoaderIter.__next__\u001b[0;34m(self)\u001b[0m\n\u001b[1;32m    627\u001b[0m \u001b[38;5;28;01mif\u001b[39;00m \u001b[38;5;28mself\u001b[39m\u001b[38;5;241m.\u001b[39m_sampler_iter \u001b[38;5;129;01mis\u001b[39;00m \u001b[38;5;28;01mNone\u001b[39;00m:\n\u001b[1;32m    628\u001b[0m     \u001b[38;5;66;03m# TODO(https://github.com/pytorch/pytorch/issues/76750)\u001b[39;00m\n\u001b[1;32m    629\u001b[0m     \u001b[38;5;28mself\u001b[39m\u001b[38;5;241m.\u001b[39m_reset()  \u001b[38;5;66;03m# type: ignore[call-arg]\u001b[39;00m\n\u001b[0;32m--> 630\u001b[0m data \u001b[38;5;241m=\u001b[39m \u001b[38;5;28;43mself\u001b[39;49m\u001b[38;5;241;43m.\u001b[39;49m\u001b[43m_next_data\u001b[49m\u001b[43m(\u001b[49m\u001b[43m)\u001b[49m\n\u001b[1;32m    631\u001b[0m \u001b[38;5;28mself\u001b[39m\u001b[38;5;241m.\u001b[39m_num_yielded \u001b[38;5;241m+\u001b[39m\u001b[38;5;241m=\u001b[39m \u001b[38;5;241m1\u001b[39m\n\u001b[1;32m    632\u001b[0m \u001b[38;5;28;01mif\u001b[39;00m \u001b[38;5;28mself\u001b[39m\u001b[38;5;241m.\u001b[39m_dataset_kind \u001b[38;5;241m==\u001b[39m _DatasetKind\u001b[38;5;241m.\u001b[39mIterable \u001b[38;5;129;01mand\u001b[39;00m \\\n\u001b[1;32m    633\u001b[0m         \u001b[38;5;28mself\u001b[39m\u001b[38;5;241m.\u001b[39m_IterableDataset_len_called \u001b[38;5;129;01mis\u001b[39;00m \u001b[38;5;129;01mnot\u001b[39;00m \u001b[38;5;28;01mNone\u001b[39;00m \u001b[38;5;129;01mand\u001b[39;00m \\\n\u001b[1;32m    634\u001b[0m         \u001b[38;5;28mself\u001b[39m\u001b[38;5;241m.\u001b[39m_num_yielded \u001b[38;5;241m>\u001b[39m \u001b[38;5;28mself\u001b[39m\u001b[38;5;241m.\u001b[39m_IterableDataset_len_called:\n",
      "File \u001b[0;32m~/miniconda3/envs/MSG2/lib/python3.11/site-packages/torch/utils/data/dataloader.py:673\u001b[0m, in \u001b[0;36m_SingleProcessDataLoaderIter._next_data\u001b[0;34m(self)\u001b[0m\n\u001b[1;32m    671\u001b[0m \u001b[38;5;28;01mdef\u001b[39;00m \u001b[38;5;21m_next_data\u001b[39m(\u001b[38;5;28mself\u001b[39m):\n\u001b[1;32m    672\u001b[0m     index \u001b[38;5;241m=\u001b[39m \u001b[38;5;28mself\u001b[39m\u001b[38;5;241m.\u001b[39m_next_index()  \u001b[38;5;66;03m# may raise StopIteration\u001b[39;00m\n\u001b[0;32m--> 673\u001b[0m     data \u001b[38;5;241m=\u001b[39m \u001b[38;5;28;43mself\u001b[39;49m\u001b[38;5;241;43m.\u001b[39;49m\u001b[43m_dataset_fetcher\u001b[49m\u001b[38;5;241;43m.\u001b[39;49m\u001b[43mfetch\u001b[49m\u001b[43m(\u001b[49m\u001b[43mindex\u001b[49m\u001b[43m)\u001b[49m  \u001b[38;5;66;03m# may raise StopIteration\u001b[39;00m\n\u001b[1;32m    674\u001b[0m     \u001b[38;5;28;01mif\u001b[39;00m \u001b[38;5;28mself\u001b[39m\u001b[38;5;241m.\u001b[39m_pin_memory:\n\u001b[1;32m    675\u001b[0m         data \u001b[38;5;241m=\u001b[39m _utils\u001b[38;5;241m.\u001b[39mpin_memory\u001b[38;5;241m.\u001b[39mpin_memory(data, \u001b[38;5;28mself\u001b[39m\u001b[38;5;241m.\u001b[39m_pin_memory_device)\n",
      "File \u001b[0;32m~/miniconda3/envs/MSG2/lib/python3.11/site-packages/torch/utils/data/_utils/fetch.py:50\u001b[0m, in \u001b[0;36m_MapDatasetFetcher.fetch\u001b[0;34m(self, possibly_batched_index)\u001b[0m\n\u001b[1;32m     48\u001b[0m \u001b[38;5;28;01mif\u001b[39;00m \u001b[38;5;28mself\u001b[39m\u001b[38;5;241m.\u001b[39mauto_collation:\n\u001b[1;32m     49\u001b[0m     \u001b[38;5;28;01mif\u001b[39;00m \u001b[38;5;28mhasattr\u001b[39m(\u001b[38;5;28mself\u001b[39m\u001b[38;5;241m.\u001b[39mdataset, \u001b[38;5;124m\"\u001b[39m\u001b[38;5;124m__getitems__\u001b[39m\u001b[38;5;124m\"\u001b[39m) \u001b[38;5;129;01mand\u001b[39;00m \u001b[38;5;28mself\u001b[39m\u001b[38;5;241m.\u001b[39mdataset\u001b[38;5;241m.\u001b[39m__getitems__:\n\u001b[0;32m---> 50\u001b[0m         data \u001b[38;5;241m=\u001b[39m \u001b[38;5;28;43mself\u001b[39;49m\u001b[38;5;241;43m.\u001b[39;49m\u001b[43mdataset\u001b[49m\u001b[38;5;241;43m.\u001b[39;49m\u001b[43m__getitems__\u001b[49m\u001b[43m(\u001b[49m\u001b[43mpossibly_batched_index\u001b[49m\u001b[43m)\u001b[49m\n\u001b[1;32m     51\u001b[0m     \u001b[38;5;28;01melse\u001b[39;00m:\n\u001b[1;32m     52\u001b[0m         data \u001b[38;5;241m=\u001b[39m [\u001b[38;5;28mself\u001b[39m\u001b[38;5;241m.\u001b[39mdataset[idx] \u001b[38;5;28;01mfor\u001b[39;00m idx \u001b[38;5;129;01min\u001b[39;00m possibly_batched_index]\n",
      "File \u001b[0;32m~/miniconda3/envs/MSG2/lib/python3.11/site-packages/torch/utils/data/dataset.py:420\u001b[0m, in \u001b[0;36mSubset.__getitems__\u001b[0;34m(self, indices)\u001b[0m\n\u001b[1;32m    418\u001b[0m     \u001b[38;5;28;01mreturn\u001b[39;00m \u001b[38;5;28mself\u001b[39m\u001b[38;5;241m.\u001b[39mdataset\u001b[38;5;241m.\u001b[39m__getitems__([\u001b[38;5;28mself\u001b[39m\u001b[38;5;241m.\u001b[39mindices[idx] \u001b[38;5;28;01mfor\u001b[39;00m idx \u001b[38;5;129;01min\u001b[39;00m indices])  \u001b[38;5;66;03m# type: ignore[attr-defined]\u001b[39;00m\n\u001b[1;32m    419\u001b[0m \u001b[38;5;28;01melse\u001b[39;00m:\n\u001b[0;32m--> 420\u001b[0m     \u001b[38;5;28;01mreturn\u001b[39;00m \u001b[43m[\u001b[49m\u001b[38;5;28;43mself\u001b[39;49m\u001b[38;5;241;43m.\u001b[39;49m\u001b[43mdataset\u001b[49m\u001b[43m[\u001b[49m\u001b[38;5;28;43mself\u001b[39;49m\u001b[38;5;241;43m.\u001b[39;49m\u001b[43mindices\u001b[49m\u001b[43m[\u001b[49m\u001b[43midx\u001b[49m\u001b[43m]\u001b[49m\u001b[43m]\u001b[49m\u001b[43m \u001b[49m\u001b[38;5;28;43;01mfor\u001b[39;49;00m\u001b[43m \u001b[49m\u001b[43midx\u001b[49m\u001b[43m \u001b[49m\u001b[38;5;129;43;01min\u001b[39;49;00m\u001b[43m \u001b[49m\u001b[43mindices\u001b[49m\u001b[43m]\u001b[49m\n",
      "File \u001b[0;32m~/miniconda3/envs/MSG2/lib/python3.11/site-packages/torch/utils/data/dataset.py:420\u001b[0m, in \u001b[0;36m<listcomp>\u001b[0;34m(.0)\u001b[0m\n\u001b[1;32m    418\u001b[0m     \u001b[38;5;28;01mreturn\u001b[39;00m \u001b[38;5;28mself\u001b[39m\u001b[38;5;241m.\u001b[39mdataset\u001b[38;5;241m.\u001b[39m__getitems__([\u001b[38;5;28mself\u001b[39m\u001b[38;5;241m.\u001b[39mindices[idx] \u001b[38;5;28;01mfor\u001b[39;00m idx \u001b[38;5;129;01min\u001b[39;00m indices])  \u001b[38;5;66;03m# type: ignore[attr-defined]\u001b[39;00m\n\u001b[1;32m    419\u001b[0m \u001b[38;5;28;01melse\u001b[39;00m:\n\u001b[0;32m--> 420\u001b[0m     \u001b[38;5;28;01mreturn\u001b[39;00m [\u001b[38;5;28;43mself\u001b[39;49m\u001b[38;5;241;43m.\u001b[39;49m\u001b[43mdataset\u001b[49m\u001b[43m[\u001b[49m\u001b[38;5;28;43mself\u001b[39;49m\u001b[38;5;241;43m.\u001b[39;49m\u001b[43mindices\u001b[49m\u001b[43m[\u001b[49m\u001b[43midx\u001b[49m\u001b[43m]\u001b[49m\u001b[43m]\u001b[49m \u001b[38;5;28;01mfor\u001b[39;00m idx \u001b[38;5;129;01min\u001b[39;00m indices]\n",
      "File \u001b[0;32m/fs01/home/adamo/MassSpecGym_copy/massspecgym/data/datasets.py:390\u001b[0m, in \u001b[0;36mRetrievalSimulationDataset.__getitem__\u001b[0;34m(self, i)\u001b[0m\n\u001b[1;32m    385\u001b[0m     \u001b[38;5;28;01mraise\u001b[39;00m \u001b[38;5;167;01mValueError\u001b[39;00m(\n\u001b[1;32m    386\u001b[0m         \u001b[38;5;124mf\u001b[39m\u001b[38;5;124m'\u001b[39m\u001b[38;5;124mQuery molecule \u001b[39m\u001b[38;5;132;01m{\u001b[39;00msmiles\u001b[38;5;132;01m}\u001b[39;00m\u001b[38;5;124m not found in the candidates list.\u001b[39m\u001b[38;5;124m'\u001b[39m\n\u001b[1;32m    387\u001b[0m     )\n\u001b[1;32m    388\u001b[0m item[\u001b[38;5;124m\"\u001b[39m\u001b[38;5;124mcandidates_labels\u001b[39m\u001b[38;5;124m\"\u001b[39m] \u001b[38;5;241m=\u001b[39m torch\u001b[38;5;241m.\u001b[39mtensor(candidates_labels)\n\u001b[0;32m--> 390\u001b[0m item[\u001b[38;5;124m\"\u001b[39m\u001b[38;5;124mcandidates_mol_feats\u001b[39m\u001b[38;5;124m\"\u001b[39m] \u001b[38;5;241m=\u001b[39m \u001b[43m[\u001b[49m\u001b[38;5;28;43mself\u001b[39;49m\u001b[38;5;241;43m.\u001b[39;49m\u001b[43mmol_transform\u001b[49m\u001b[43m(\u001b[49m\u001b[43mc\u001b[49m\u001b[43m)\u001b[49m\u001b[43m \u001b[49m\u001b[38;5;28;43;01mfor\u001b[39;49;00m\u001b[43m \u001b[49m\u001b[43mc\u001b[49m\u001b[43m \u001b[49m\u001b[38;5;129;43;01min\u001b[39;49;00m\u001b[43m \u001b[49m\u001b[43mcandidates_smiles\u001b[49m\u001b[43m]\u001b[49m\n\u001b[1;32m    392\u001b[0m \u001b[38;5;66;03m# candidates_meta_feats = {}\u001b[39;00m\n\u001b[1;32m    393\u001b[0m \u001b[38;5;66;03m# for key in self.meta_keys:\u001b[39;00m\n\u001b[1;32m    394\u001b[0m \u001b[38;5;66;03m#     candidates_meta_feats[key] = deepcopy(item[key])\u001b[39;00m\n\u001b[0;32m   (...)\u001b[0m\n\u001b[1;32m    397\u001b[0m \u001b[38;5;66;03m# TODO: could put metadata information here...\u001b[39;00m\n\u001b[1;32m    398\u001b[0m \u001b[38;5;66;03m# TODO: could put true spectrum duplication in here...\u001b[39;00m\n\u001b[1;32m    400\u001b[0m \u001b[38;5;28;01mreturn\u001b[39;00m item\n",
      "File \u001b[0;32m/fs01/home/adamo/MassSpecGym_copy/massspecgym/data/datasets.py:390\u001b[0m, in \u001b[0;36m<listcomp>\u001b[0;34m(.0)\u001b[0m\n\u001b[1;32m    385\u001b[0m     \u001b[38;5;28;01mraise\u001b[39;00m \u001b[38;5;167;01mValueError\u001b[39;00m(\n\u001b[1;32m    386\u001b[0m         \u001b[38;5;124mf\u001b[39m\u001b[38;5;124m'\u001b[39m\u001b[38;5;124mQuery molecule \u001b[39m\u001b[38;5;132;01m{\u001b[39;00msmiles\u001b[38;5;132;01m}\u001b[39;00m\u001b[38;5;124m not found in the candidates list.\u001b[39m\u001b[38;5;124m'\u001b[39m\n\u001b[1;32m    387\u001b[0m     )\n\u001b[1;32m    388\u001b[0m item[\u001b[38;5;124m\"\u001b[39m\u001b[38;5;124mcandidates_labels\u001b[39m\u001b[38;5;124m\"\u001b[39m] \u001b[38;5;241m=\u001b[39m torch\u001b[38;5;241m.\u001b[39mtensor(candidates_labels)\n\u001b[0;32m--> 390\u001b[0m item[\u001b[38;5;124m\"\u001b[39m\u001b[38;5;124mcandidates_mol_feats\u001b[39m\u001b[38;5;124m\"\u001b[39m] \u001b[38;5;241m=\u001b[39m [\u001b[38;5;28;43mself\u001b[39;49m\u001b[38;5;241;43m.\u001b[39;49m\u001b[43mmol_transform\u001b[49m\u001b[43m(\u001b[49m\u001b[43mc\u001b[49m\u001b[43m)\u001b[49m \u001b[38;5;28;01mfor\u001b[39;00m c \u001b[38;5;129;01min\u001b[39;00m candidates_smiles]\n\u001b[1;32m    392\u001b[0m \u001b[38;5;66;03m# candidates_meta_feats = {}\u001b[39;00m\n\u001b[1;32m    393\u001b[0m \u001b[38;5;66;03m# for key in self.meta_keys:\u001b[39;00m\n\u001b[1;32m    394\u001b[0m \u001b[38;5;66;03m#     candidates_meta_feats[key] = deepcopy(item[key])\u001b[39;00m\n\u001b[0;32m   (...)\u001b[0m\n\u001b[1;32m    397\u001b[0m \u001b[38;5;66;03m# TODO: could put metadata information here...\u001b[39;00m\n\u001b[1;32m    398\u001b[0m \u001b[38;5;66;03m# TODO: could put true spectrum duplication in here...\u001b[39;00m\n\u001b[1;32m    400\u001b[0m \u001b[38;5;28;01mreturn\u001b[39;00m item\n",
      "File \u001b[0;32m/fs01/home/adamo/MassSpecGym_copy/massspecgym/data/transforms.py:198\u001b[0m, in \u001b[0;36mMolTransform.__call__\u001b[0;34m(self, mol)\u001b[0m\n\u001b[1;32m    197\u001b[0m \u001b[38;5;28;01mdef\u001b[39;00m \u001b[38;5;21m__call__\u001b[39m(\u001b[38;5;28mself\u001b[39m, mol: \u001b[38;5;28mstr\u001b[39m):\n\u001b[0;32m--> 198\u001b[0m     \u001b[38;5;28;01mreturn\u001b[39;00m \u001b[38;5;28;43mself\u001b[39;49m\u001b[38;5;241;43m.\u001b[39;49m\u001b[43mfrom_smiles\u001b[49m\u001b[43m(\u001b[49m\u001b[43mmol\u001b[49m\u001b[43m)\u001b[49m\n",
      "File \u001b[0;32m/fs01/home/adamo/MassSpecGym_copy/massspecgym/data/transforms.py:294\u001b[0m, in \u001b[0;36mMolToFingerprints.from_smiles\u001b[0;34m(self, mol)\u001b[0m\n\u001b[1;32m    292\u001b[0m fps \u001b[38;5;241m=\u001b[39m []\n\u001b[1;32m    293\u001b[0m mol \u001b[38;5;241m=\u001b[39m Chem\u001b[38;5;241m.\u001b[39mMolFromSmiles(mol)\n\u001b[0;32m--> 294\u001b[0m fps \u001b[38;5;241m=\u001b[39m \u001b[43mget_fingerprints\u001b[49m\u001b[43m(\u001b[49m\u001b[43mmol\u001b[49m\u001b[43m,\u001b[49m\u001b[43m \u001b[49m\u001b[38;5;28;43mself\u001b[39;49m\u001b[38;5;241;43m.\u001b[39;49m\u001b[43mfp_types\u001b[49m\u001b[43m)\u001b[49m\n\u001b[1;32m    295\u001b[0m fps \u001b[38;5;241m=\u001b[39m torch\u001b[38;5;241m.\u001b[39mas_tensor(fps, dtype\u001b[38;5;241m=\u001b[39mtorch\u001b[38;5;241m.\u001b[39mfloat32)\n\u001b[1;32m    296\u001b[0m \u001b[38;5;28;01mreturn\u001b[39;00m {\u001b[38;5;124m\"\u001b[39m\u001b[38;5;124mfps\u001b[39m\u001b[38;5;124m\"\u001b[39m: fps}\n",
      "File \u001b[0;32m/fs01/home/adamo/MassSpecGym_copy/massspecgym/simulation_utils/feat_utils.py:572\u001b[0m, in \u001b[0;36mget_fingerprints\u001b[0;34m(mol, fp_types)\u001b[0m\n\u001b[1;32m    570\u001b[0m \tfp \u001b[38;5;241m=\u001b[39m Chem\u001b[38;5;241m.\u001b[39mrdMolDescriptors\u001b[38;5;241m.\u001b[39mGetMACCSKeysFingerprint(mol)\n\u001b[1;32m    571\u001b[0m \u001b[38;5;28;01melif\u001b[39;00m fp_type \u001b[38;5;241m==\u001b[39m \u001b[38;5;124m\"\u001b[39m\u001b[38;5;124mrdkit\u001b[39m\u001b[38;5;124m\"\u001b[39m:\n\u001b[0;32m--> 572\u001b[0m \tfp \u001b[38;5;241m=\u001b[39m \u001b[43mChem\u001b[49m\u001b[38;5;241;43m.\u001b[39;49m\u001b[43mRDKFingerprint\u001b[49m\u001b[43m(\u001b[49m\u001b[43mmol\u001b[49m\u001b[43m)\u001b[49m\n\u001b[1;32m    573\u001b[0m \u001b[38;5;28;01melse\u001b[39;00m:\n\u001b[1;32m    574\u001b[0m \t\u001b[38;5;28;01mraise\u001b[39;00m \u001b[38;5;167;01mValueError\u001b[39;00m(\u001b[38;5;124mf\u001b[39m\u001b[38;5;124m\"\u001b[39m\u001b[38;5;124mInvalid fingerprint type: \u001b[39m\u001b[38;5;132;01m{\u001b[39;00mfp_type\u001b[38;5;132;01m}\u001b[39;00m\u001b[38;5;124m\"\u001b[39m)\n",
      "\u001b[0;31mKeyboardInterrupt\u001b[0m: "
     ]
    }
   ],
   "source": [
    "# dl_iter = iter(dl)\n",
    "# for batch in tqdm(dl_iter, total=len(dl)):\n",
    "#     pass"
   ]
  },
  {
   "cell_type": "code",
   "execution_count": 53,
   "metadata": {},
   "outputs": [],
   "source": [
    "from massspecgym.models.simulation.fp import FPSimulationMassSpecGymModel\n",
    "from massspecgym.models.base import MassSpecGymModel, Stage\n"
   ]
  },
  {
   "cell_type": "code",
   "execution_count": 54,
   "metadata": {},
   "outputs": [],
   "source": [
    "pl_model = FPSimulationMassSpecGymModel(**config_d)"
   ]
  },
  {
   "cell_type": "code",
   "execution_count": 55,
   "metadata": {},
   "outputs": [
    {
     "name": "stderr",
     "output_type": "stream",
     "text": [
      "/h/adamo/miniconda3/envs/MSG2/lib/python3.11/site-packages/pytorch_lightning/core/module.py:436: You are trying to `self.log()` but the `self.trainer` reference is not registered on the model yet. This is most likely because the model hasn't been passed to the `Trainer`\n"
     ]
    }
   ],
   "source": [
    "outputs = pl_model.test_step(batch=batch, batch_idx=0)"
   ]
  },
  {
   "cell_type": "code",
   "execution_count": 56,
   "metadata": {},
   "outputs": [
    {
     "name": "stdout",
     "output_type": "stream",
     "text": [
      "loss - () - <class 'torch.Tensor'>\n",
      "pred_mzs - (89313,) - <class 'torch.Tensor'>\n",
      "pred_logprobs "
     ]
    },
    {
     "name": "stdout",
     "output_type": "stream",
     "text": [
      "- (89313,) - <class 'torch.Tensor'>\n",
      "pred_batch_idxs - (89313,) - <class 'torch.Tensor'>\n",
      "true_mzs - (34,) - <class 'torch.Tensor'>\n",
      "true_logprobs - (34,) - <class 'torch.Tensor'>\n",
      "true_batch_idxs - (34,) - <class 'torch.Tensor'>\n",
      "retrieval_scores - (768,) - <class 'torch.Tensor'>\n",
      "retrieval_labels - (768,) - <class 'torch.Tensor'>\n",
      "retrieval_batch_ptr - (3,) - <class 'torch.Tensor'>\n"
     ]
    }
   ],
   "source": [
    "print_shapes(outputs)"
   ]
  },
  {
   "cell_type": "code",
   "execution_count": null,
   "metadata": {},
   "outputs": [
    {
     "name": "stderr",
     "output_type": "stream",
     "text": [
      "/h/adamo/miniconda3/envs/MSG2/lib/python3.11/site-packages/torchmetrics/utilities/prints.py:62: FutureWarning: Importing `RetrievalHitRate` from `torchmetrics` was deprecated and will be removed in 2.0. Import `RetrievalHitRate` from `torchmetrics.retrieval` instead.\n",
      "  _future_warning(\n",
      "/h/adamo/miniconda3/envs/MSG2/lib/python3.11/site-packages/pytorch_lightning/core/module.py:436: You are trying to `self.log()` but the `self.trainer` reference is not registered on the model yet. This is most likely because the model hasn't been passed to the `Trainer`\n"
     ]
    }
   ],
   "source": [
    "pl_model.evaluate_retrieval_step(\n",
    "    scores=outputs[\"retrieval_scores\"],\n",
    "    labels=outputs[\"retrieval_labels\"],\n",
    "    batch_ptr=outputs[\"retrieval_batch_ptr\"],\n",
    "    stage=Stage.TEST\n",
    ")"
   ]
  },
  {
   "cell_type": "code",
   "execution_count": null,
   "metadata": {},
   "outputs": [
    {
     "data": {
      "text/plain": [
       "tensor(0.)"
      ]
     },
     "execution_count": 24,
     "metadata": {},
     "output_type": "execute_result"
    }
   ],
   "source": [
    "getattr(pl_model,Stage.TEST.to_pref()+\"hit_rate@1\").compute()"
   ]
  },
  {
   "cell_type": "code",
   "execution_count": null,
   "metadata": {},
   "outputs": [],
   "source": []
  }
 ],
 "metadata": {
  "kernelspec": {
   "display_name": "MSG2",
   "language": "python",
   "name": "python3"
  },
  "language_info": {
   "codemirror_mode": {
    "name": "ipython",
    "version": 3
   },
   "file_extension": ".py",
   "mimetype": "text/x-python",
   "name": "python",
   "nbconvert_exporter": "python",
   "pygments_lexer": "ipython3",
   "version": "3.11.9"
  }
 },
 "nbformat": 4,
 "nbformat_minor": 2
}
