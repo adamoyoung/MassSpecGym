{
 "cells": [
  {
   "cell_type": "code",
   "execution_count": 1,
   "metadata": {},
   "outputs": [],
   "source": [
    "%load_ext autoreload\n",
    "%autoreload 2"
   ]
  },
  {
   "cell_type": "code",
   "execution_count": 2,
   "metadata": {},
   "outputs": [],
   "source": [
    "import torch\n",
    "from torch.utils.data import DataLoader\n",
    "import pandas as pd\n",
    "from tqdm.notebook import tqdm"
   ]
  },
  {
   "cell_type": "code",
   "execution_count": 3,
   "metadata": {},
   "outputs": [],
   "source": [
    "from massspecgym.data.datasets import SimulationDataset\n",
    "from massspecgym.transforms import SpecToMzsInts, MolToPyG, StandardMeta, MolToFingerprints\n",
    "from massspecgym.simulation_utils.misc_utils import print_shapes"
   ]
  },
  {
   "cell_type": "code",
   "execution_count": 4,
   "metadata": {},
   "outputs": [],
   "source": [
    "tsv_pth = \"../data/MassSpecGym_4.tsv\"\n",
    "meta_keys = [\"adduct\",\"precursor_mz\",\"instrument_type\",\"collision_energy\"]\n",
    "fp_types = [\"morgan\",\"maccs\",\"rdkit\"]\n",
    "adducts = [\"[M+H]+\"]\n",
    "instrument_types = [\"QTOF\",\"QFT\",\"Orbitrap\",\"ITFT\"]\n",
    "max_collision_energy = 200. # arbitrary\n",
    "mz_from = 10.\n",
    "mz_to = 1500.\n",
    "spec_transform = SpecToMzsInts(\n",
    "    mz_from=mz_from,\n",
    "    mz_to=mz_to\n",
    ")\n",
    "mol_transform = MolToFingerprints(\n",
    "    fp_types=fp_types\n",
    ")\n",
    "meta_transform = StandardMeta(\n",
    "    adducts=adducts,\n",
    "    instrument_types=instrument_types,\n",
    "    max_collision_energy=max_collision_energy\n",
    ")\n",
    "\n",
    "ds = SimulationDataset(\n",
    "    tsv_pth=tsv_pth,\n",
    "    meta_keys=meta_keys,\n",
    "    spec_transform=spec_transform,\n",
    "    mol_transform=mol_transform,\n",
    "    meta_transform=meta_transform,\n",
    "    cache_feats=False)"
   ]
  },
  {
   "cell_type": "code",
   "execution_count": 5,
   "metadata": {},
   "outputs": [
    {
     "name": "stdout",
     "output_type": "stream",
     "text": [
      "(123042, 15)\n"
     ]
    }
   ],
   "source": [
    "df = pd.read_csv(tsv_pth, sep=\"\\t\")\n",
    "sim_df = df[df[\"simulation_challenge\"]]\n",
    "print(sim_df.shape)"
   ]
  },
  {
   "cell_type": "code",
   "execution_count": 12,
   "metadata": {},
   "outputs": [
    {
     "name": "stdout",
     "output_type": "stream",
     "text": [
      "> sim: everything\n",
      "123042 18567\n",
      "instrument_type     4013\n",
      "collision_energy    4013\n",
      "dtype: int64\n",
      "> sim: train split\n",
      "102808 13636\n",
      "instrument_type     3467\n",
      "collision_energy    3467\n",
      "dtype: int64\n",
      "> sim: val split\n",
      "10033 2484\n",
      "instrument_type     299\n",
      "collision_energy    299\n",
      "dtype: int64\n",
      "> sim: test split\n",
      "10201 2447\n",
      "instrument_type     247\n",
      "collision_energy    247\n",
      "dtype: int64\n"
     ]
    }
   ],
   "source": [
    "train_sim_df = sim_df[sim_df[\"fold\"]==\"train\"]\n",
    "val_sim_df = sim_df[sim_df[\"fold\"]==\"val\"]\n",
    "test_sim_df = sim_df[sim_df[\"fold\"]==\"test\"]\n",
    "print(\"> sim: everything\")\n",
    "print(sim_df.shape[0], sim_df[\"inchikey\"].nunique())\n",
    "print(sim_df[[\"instrument_type\",\"collision_energy\"]].isna().sum())\n",
    "print(\"> sim: train split\")\n",
    "print(train_sim_df.shape[0], train_sim_df[\"inchikey\"].nunique())\n",
    "print(train_sim_df[[\"instrument_type\",\"collision_energy\"]].isna().sum())\n",
    "print(\"> sim: val split\")\n",
    "print(val_sim_df.shape[0], val_sim_df[\"inchikey\"].nunique())\n",
    "print(val_sim_df[[\"instrument_type\",\"collision_energy\"]].isna().sum())\n",
    "print(\"> sim: test split\")\n",
    "print(test_sim_df.shape[0], test_sim_df[\"inchikey\"].nunique())\n",
    "print(test_sim_df[[\"instrument_type\",\"collision_energy\"]].isna().sum())"
   ]
  },
  {
   "cell_type": "code",
   "execution_count": 13,
   "metadata": {},
   "outputs": [
    {
     "name": "stdout",
     "output_type": "stream",
     "text": [
      "995.556\n"
     ]
    }
   ],
   "source": [
    "print(sim_df[\"precursor_mz\"].max())"
   ]
  },
  {
   "cell_type": "code",
   "execution_count": 16,
   "metadata": {},
   "outputs": [
    {
     "data": {
      "text/plain": [
       "'91.0542,125.0233,154.0499,155.0577,185.0961,200.107,229.0859,246.1125'"
      ]
     },
     "execution_count": 16,
     "metadata": {},
     "output_type": "execute_result"
    }
   ],
   "source": [
    "sim_df[\"mzs\"].iloc[0]"
   ]
  },
  {
   "cell_type": "code",
   "execution_count": 17,
   "metadata": {},
   "outputs": [
    {
     "name": "stdout",
     "output_type": "stream",
     "text": [
      "1243\n",
      "0\n",
      "1130\n",
      "0\n"
     ]
    }
   ],
   "source": [
    "mz_max = sim_df[\"mzs\"].apply(lambda l: max(float(x) for x in l.split(\",\")))\n",
    "mz_min = sim_df[\"mzs\"].apply(lambda l: min(float(x) for x in l.split(\",\")))\n",
    "print((mz_max > 1000.).sum())\n",
    "print((mz_min > 1000.).sum())\n",
    "print((mz_max > 1500.).sum())\n",
    "print((mz_min > 1500.).sum())"
   ]
  },
  {
   "cell_type": "code",
   "execution_count": 13,
   "metadata": {},
   "outputs": [
    {
     "name": "stdout",
     "output_type": "stream",
     "text": [
      "(119029, 15)\n",
      "count    119029.000000\n",
      "mean        154.944212\n",
      "std         131.616448\n",
      "min          31.604450\n",
      "25%          91.054000\n",
      "50%          96.080292\n",
      "75%         162.092400\n",
      "max         998.565700\n",
      "Name: mzs, dtype: float64\n",
      "count    119029.000000\n",
      "mean        338.704167\n",
      "std         136.954683\n",
      "min          60.081046\n",
      "25%         247.107718\n",
      "50%         322.166240\n",
      "75%         406.081620\n",
      "max         995.556000\n",
      "Name: precursor_mz, dtype: float64\n",
      "119029\n",
      "119029\n"
     ]
    }
   ],
   "source": [
    "sim_df = sim_df[~sim_df[\"collision_energy\"].isna()]\n",
    "print(sim_df.shape)\n",
    "mz_max = sim_df[\"mzs\"].apply(lambda l: float(max(l.split(\",\"))))\n",
    "precursor_mz = sim_df[\"precursor_mz\"]\n",
    "print(mz_max.describe())\n",
    "print(precursor_mz.describe())\n",
    "print((mz_max < 1000.).sum())\n",
    "print((precursor_mz < 1000.).sum())"
   ]
  },
  {
   "cell_type": "code",
   "execution_count": 15,
   "metadata": {},
   "outputs": [],
   "source": [
    "df = pd.read_csv(tsv_pth, sep=\"\\t\")\n",
    "small_df = df.sample(n=10000, replace=False, random_state=42)\n",
    "small_df.to_csv(\"../data/MassSpecGym_4_small.tsv\", sep=\"\\t\", index=False)"
   ]
  },
  {
   "cell_type": "code",
   "execution_count": 5,
   "metadata": {},
   "outputs": [
    {
     "name": "stdout",
     "output_type": "stream",
     "text": [
      "spec_mzs - (8,) - <class 'torch.Tensor'>\n",
      "spec_ints - (8,) - <class 'torch.Tensor'>\n",
      "fps - (4263,) - <class 'torch.Tensor'>\n",
      "precursor_mz - () - <class 'torch.Tensor'>\n",
      "adduct - () - <class 'torch.Tensor'>\n",
      "instrument_type - () - <class 'torch.Tensor'>\n",
      "collision_energy - () - <class 'torch.Tensor'>\n",
      "spec_id - () - <class 'torch.Tensor'>\n",
      "weight - () - <class 'torch.Tensor'>\n"
     ]
    }
   ],
   "source": [
    "item = ds[0]\n",
    "print_shapes(item)"
   ]
  },
  {
   "cell_type": "code",
   "execution_count": 6,
   "metadata": {},
   "outputs": [],
   "source": [
    "dl = DataLoader(\n",
    "    ds,\n",
    "    num_workers=0,\n",
    "    shuffle=False,\n",
    "    batch_size=8,\n",
    "    drop_last=False,\n",
    "    collate_fn=ds.collate_fn)"
   ]
  },
  {
   "cell_type": "code",
   "execution_count": 7,
   "metadata": {},
   "outputs": [
    {
     "name": "stdout",
     "output_type": "stream",
     "text": [
      "spec_mzs - (92,) - <class 'torch.Tensor'>\n",
      "spec_ints - (92,) - <class 'torch.Tensor'>\n",
      "fps - (8, 4263) - <class 'torch.Tensor'>\n",
      "precursor_mz - (8,) - <class 'torch.Tensor'>\n",
      "adduct - (8,) - <class 'torch.Tensor'>\n",
      "instrument_type - (8,) - <class 'torch.Tensor'>\n",
      "collision_energy - (8,) - <class 'torch.Tensor'>\n",
      "spec_id - (8,) - <class 'torch.Tensor'>\n",
      "weight - (8,) - <class 'torch.Tensor'>\n",
      "spec_batch_idxs - (92,) - <class 'torch.Tensor'>\n"
     ]
    }
   ],
   "source": [
    "batch = next(iter(dl))\n",
    "print_shapes(batch)"
   ]
  },
  {
   "cell_type": "code",
   "execution_count": 12,
   "metadata": {},
   "outputs": [
    {
     "name": "stdout",
     "output_type": "stream",
     "text": [
      "count    119029.000000\n",
      "mean         38.425283\n",
      "std          27.709673\n",
      "min           0.000000\n",
      "25%          20.000000\n",
      "50%          30.000000\n",
      "75%          55.707348\n",
      "max         358.400160\n",
      "Name: collision_energy, dtype: float64\n"
     ]
    }
   ],
   "source": [
    "print(ds.entry_df[\"collision_energy\"].describe())"
   ]
  },
  {
   "cell_type": "code",
   "execution_count": 13,
   "metadata": {},
   "outputs": [
    {
     "data": {
      "application/vnd.jupyter.widget-view+json": {
       "model_id": "b5128d9999e8438184fc06f90ce4a1f7",
       "version_major": 2,
       "version_minor": 0
      },
      "text/plain": [
       "  0%|          | 0/14945 [00:00<?, ?it/s]"
      ]
     },
     "metadata": {},
     "output_type": "display_data"
    }
   ],
   "source": [
    "for batch in tqdm(iter(dl),total=len(dl)):\n",
    "    pass"
   ]
  },
  {
   "cell_type": "code",
   "execution_count": 11,
   "metadata": {},
   "outputs": [],
   "source": [
    "mol_transform = MolToPyG()\n",
    "ds = SimulationDataset(\n",
    "    tsv_pth=tsv_pth,\n",
    "    frag_pth=None,\n",
    "    meta_keys=meta_keys,\n",
    "    spec_transform=spec_transform,\n",
    "    mol_transform=mol_transform,\n",
    "    meta_transform=meta_transform,\n",
    "    cache_feats=False)"
   ]
  },
  {
   "cell_type": "code",
   "execution_count": 12,
   "metadata": {},
   "outputs": [
    {
     "name": "stdout",
     "output_type": "stream",
     "text": [
      "spec_mzs - (40,) - <class 'torch.Tensor'>\n",
      "spec_ints - (40,) - <class 'torch.Tensor'>\n",
      "mol - (16, 32) - <class 'torch_geometric.data.data.Data'>\n",
      "precursor_mz - () - <class 'torch.Tensor'>\n",
      "adduct - () - <class 'torch.Tensor'>\n",
      "instrument_type - () - <class 'torch.Tensor'>\n",
      "collision_energy - () - <class 'torch.Tensor'>\n",
      "weight - () - <class 'torch.Tensor'>\n"
     ]
    }
   ],
   "source": [
    "item = ds[0]\n",
    "print_shapes(item)"
   ]
  },
  {
   "cell_type": "code",
   "execution_count": 13,
   "metadata": {},
   "outputs": [],
   "source": [
    "dl = DataLoader(\n",
    "    ds,\n",
    "    num_workers=0,\n",
    "    shuffle=False,\n",
    "    batch_size=8,\n",
    "    drop_last=False,\n",
    "    collate_fn=ds.collate_fn)"
   ]
  },
  {
   "cell_type": "code",
   "execution_count": 14,
   "metadata": {},
   "outputs": [
    {
     "name": "stdout",
     "output_type": "stream",
     "text": [
      "spec_mzs - (192,) - <class 'torch.Tensor'>\n",
      "spec_ints - (192,) - <class 'torch.Tensor'>\n",
      "mol - (178, 378) - <class 'torch_geometric.data.batch.DataBatch'>\n",
      "precursor_mz - (8,) - <class 'torch.Tensor'>\n",
      "adduct - (8,) - <class 'torch.Tensor'>\n",
      "instrument_type - (8,) - <class 'torch.Tensor'>\n",
      "collision_energy - (8,) - <class 'torch.Tensor'>\n",
      "weight - (8,) - <class 'torch.Tensor'>\n",
      "spec_batch_idxs - (192,) - <class 'torch.Tensor'>\n"
     ]
    }
   ],
   "source": [
    "batch = next(iter(dl))\n",
    "print_shapes(batch)"
   ]
  },
  {
   "cell_type": "code",
   "execution_count": 15,
   "metadata": {},
   "outputs": [
    {
     "data": {
      "application/vnd.jupyter.widget-view+json": {
       "model_id": "dfa3bd37f659445193e29594f3c921c5",
       "version_major": 2,
       "version_minor": 0
      },
      "text/plain": [
       "  0%|          | 0/407 [00:00<?, ?it/s]"
      ]
     },
     "metadata": {},
     "output_type": "display_data"
    }
   ],
   "source": [
    "for batch in tqdm(iter(dl),total=len(dl)):\n",
    "    pass"
   ]
  },
  {
   "cell_type": "code",
   "execution_count": null,
   "metadata": {},
   "outputs": [],
   "source": []
  }
 ],
 "metadata": {
  "kernelspec": {
   "display_name": "MSG",
   "language": "python",
   "name": "python3"
  },
  "language_info": {
   "codemirror_mode": {
    "name": "ipython",
    "version": 3
   },
   "file_extension": ".py",
   "mimetype": "text/x-python",
   "name": "python",
   "nbconvert_exporter": "python",
   "pygments_lexer": "ipython3",
   "version": "3.10.14"
  }
 },
 "nbformat": 4,
 "nbformat_minor": 2
}
