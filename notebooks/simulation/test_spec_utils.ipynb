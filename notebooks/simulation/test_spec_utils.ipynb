{
 "cells": [
  {
   "cell_type": "code",
   "execution_count": 1,
   "metadata": {},
   "outputs": [],
   "source": [
    "%load_ext autoreload\n",
    "%autoreload 2"
   ]
  },
  {
   "cell_type": "code",
   "execution_count": 2,
   "metadata": {},
   "outputs": [],
   "source": [
    "import torch\n",
    "from massspecgym.simulation_utils.spec_utils import get_ints_transform_func, get_ints_untransform_func, sparse_cosine_distance, batched_l1_normalize\n",
    "from massspecgym.simulation_utils.misc_utils import safelog\n",
    "from massspecgym.data.datasets import SimulationDataset\n",
    "from massspecgym.transforms import SpecToMzsInts, MolToPyG, StandardMeta, MolToFingerprints"
   ]
  },
  {
   "cell_type": "code",
   "execution_count": 3,
   "metadata": {},
   "outputs": [
    {
     "name": "stdout",
     "output_type": "stream",
     "text": [
      "tensor([0, 1, 2, 3, 4, 5, 6, 7, 8, 9])\n",
      "tensor([ 146.7250,  949.8270, 1000.0000,  312.6480,  338.5695,  378.9861,\n",
      "           9.3636,  216.3582,   75.6732,  404.0323])\n"
     ]
    }
   ],
   "source": [
    "mzs = torch.arange(10)\n",
    "ints = torch.rand_like(mzs,dtype=torch.float32)\n",
    "ints = (ints / ints.max()) * 1000.\n",
    "batch_idxs = torch.zeros_like(mzs)\n",
    "print(mzs)\n",
    "print(ints)"
   ]
  },
  {
   "cell_type": "code",
   "execution_count": 4,
   "metadata": {},
   "outputs": [],
   "source": [
    "ints_transform_func = get_ints_transform_func(\"log10t3\")\n",
    "ints_untransform_func = get_ints_untransform_func(\"log10t3\")\n",
    "ints_normalize_func = batched_l1_normalize "
   ]
  },
  {
   "cell_type": "code",
   "execution_count": 5,
   "metadata": {},
   "outputs": [
    {
     "name": "stdout",
     "output_type": "stream",
     "text": [
      "tensor([ 146.7250,  949.8270, 1000.0000,  312.6480,  338.5695,  378.9861,\n",
      "           9.3636,  216.3582,   75.6732,  404.0323])\n",
      "tensor([1.6982, 2.5019, 2.5242, 2.0221, 2.0564, 2.1049, 0.6150, 1.8640, 1.4187,\n",
      "        2.1325])\n",
      "tensor([ 146.7250,  949.8270, 1000.0000,  312.6481,  338.5695,  378.9861,\n",
      "           9.3636,  216.3582,   75.6732,  404.0322])\n"
     ]
    }
   ],
   "source": [
    "ints_t = ints_transform_func(ints)\n",
    "ints_ut = ints_untransform_func(ints_t)\n",
    "print(ints)\n",
    "print(ints_t)\n",
    "print(ints_ut)"
   ]
  },
  {
   "cell_type": "code",
   "execution_count": 15,
   "metadata": {},
   "outputs": [
    {
     "name": "stdout",
     "output_type": "stream",
     "text": [
      "tensor([0.0495, 0.1308, 0.0105, 0.0138, 0.0102, 0.0213, 0.2405, 0.0091, 0.0260,\n",
      "        0.0111, 0.0514, 0.0097, 0.0304, 0.0133, 0.2762, 0.0124, 0.0086, 0.0340,\n",
      "        0.0263, 0.0149])\n",
      "tensor([0.0594, 0.0733, 0.0378, 0.0415, 0.0375, 0.0475, 0.0820, 0.0359, 0.0503,\n",
      "        0.0385, 0.0599, 0.0367, 0.0525, 0.0410, 0.0840, 0.0401, 0.0351, 0.0540,\n",
      "        0.0504, 0.0426])\n",
      "tensor([0.0495, 0.1308, 0.0105, 0.0138, 0.0102, 0.0213, 0.2405, 0.0091, 0.0260,\n",
      "        0.0111, 0.0514, 0.0097, 0.0304, 0.0133, 0.2762, 0.0124, 0.0086, 0.0340,\n",
      "        0.0263, 0.0149])\n"
     ]
    }
   ],
   "source": [
    "log_probs = safelog(ints_normalize_func(ints, batch_idxs))\n",
    "log_probs_t = safelog(ints_normalize_func(ints_transform_func(ints),batch_idxs))\n",
    "log_probs_ut = safelog(ints_normalize_func(ints_untransform_func(log_probs_t.exp()),batch_idxs))\n",
    "# log_probs_tut = safelog(ints_normalize_func(ints_transform_func(log_probs_ut.exp()),batch_idxs))\n",
    "# log_probs_utut = safelog(ints_normalize_func(ints_untransform_func(log_probs_tut.exp()),batch_idxs))\n",
    "print(log_probs.exp())\n",
    "print(log_probs_t.exp())\n",
    "print(log_probs_ut.exp())\n",
    "# print(log_probs_tut.exp())\n",
    "# print(log_probs_utut.exp())"
   ]
  },
  {
   "cell_type": "code",
   "execution_count": 7,
   "metadata": {},
   "outputs": [
    {
     "name": "stderr",
     "output_type": "stream",
     "text": [
      "/fs01/home/adamo/MassSpecGym/massspecgym/data/datasets.py:195: DtypeWarning: Columns (10) have mixed types. Specify dtype option on import or set low_memory=False.\n",
      "  entry_df = pd.read_csv(self.tsv_pth, sep=\"\\t\")\n"
     ]
    }
   ],
   "source": [
    "tsv_pth = \"../data/MassSpecGym_3.tsv\"\n",
    "meta_keys = [\"adduct\",\"precursor_mz\",\"instrument_type\",\"collision_energy\"]\n",
    "fp_types = [\"morgan\",\"maccs\",\"rdkit\"]\n",
    "adducts = [\"[M+H]+\"]\n",
    "instrument_types = [\"QTOF\",\"QFT\",\"Orbitrap\",\"ITFT\"]\n",
    "max_collision_energy = 200. # arbitrary\n",
    "mz_from = 10.\n",
    "mz_to = 1500.\n",
    "spec_transform = SpecToMzsInts(\n",
    "    mz_from=mz_from,\n",
    "    mz_to=mz_to\n",
    ")\n",
    "mol_transform = MolToFingerprints(\n",
    "    fp_types=fp_types\n",
    ")\n",
    "meta_transform = StandardMeta(\n",
    "    adducts=adducts,\n",
    "    instrument_types=instrument_types,\n",
    "    max_collision_energy=max_collision_energy\n",
    ")\n",
    "\n",
    "ds = SimulationDataset(\n",
    "    tsv_pth=tsv_pth,\n",
    "    meta_keys=meta_keys,\n",
    "    spec_transform=spec_transform,\n",
    "    mol_transform=mol_transform,\n",
    "    meta_transform=meta_transform,\n",
    "    cache_feats=False)"
   ]
  },
  {
   "cell_type": "code",
   "execution_count": 8,
   "metadata": {},
   "outputs": [
    {
     "name": "stdout",
     "output_type": "stream",
     "text": [
      "tensor([0.0495, 0.1308, 0.0105, 0.0138, 0.0102, 0.0213, 0.2405, 0.0091, 0.0260,\n",
      "        0.0111, 0.0514, 0.0097, 0.0304, 0.0133, 0.2762, 0.0124, 0.0086, 0.0340,\n",
      "        0.0263, 0.0149])\n",
      "tensor([0.0594, 0.0733, 0.0378, 0.0415, 0.0375, 0.0475, 0.0820, 0.0359, 0.0503,\n",
      "        0.0385, 0.0599, 0.0367, 0.0525, 0.0410, 0.0840, 0.0401, 0.0351, 0.0540,\n",
      "        0.0504, 0.0426])\n",
      "tensor([0.0495, 0.1308, 0.0105, 0.0138, 0.0102, 0.0213, 0.2405, 0.0091, 0.0260,\n",
      "        0.0111, 0.0514, 0.0097, 0.0304, 0.0133, 0.2762, 0.0124, 0.0086, 0.0340,\n",
      "        0.0263, 0.0149])\n"
     ]
    }
   ],
   "source": [
    "item = ds[3]\n",
    "mzs = item[\"spec_mzs\"]\n",
    "ints = (item[\"spec_ints\"] / item[\"spec_ints\"].max()) * 1000.\n",
    "batch_idxs = torch.zeros_like(mzs,dtype=torch.int64)\n",
    "log_probs = safelog(ints_normalize_func(ints, batch_idxs))\n",
    "log_probs_t = safelog(ints_normalize_func(ints_transform_func(ints),batch_idxs))\n",
    "log_probs_ut = safelog(ints_normalize_func(ints_untransform_func(log_probs_t.exp()),batch_idxs))\n",
    "print(log_probs.exp())\n",
    "print(log_probs_t.exp())\n",
    "print(log_probs_t2.exp())\n",
    "print(log_probs_ut.exp())"
   ]
  },
  {
   "cell_type": "code",
   "execution_count": 12,
   "metadata": {},
   "outputs": [
    {
     "name": "stdout",
     "output_type": "stream",
     "text": [
      "tensor([0.0495, 0.1308, 0.0105, 0.0138, 0.0102, 0.0213, 0.2405, 0.0091, 0.0260,\n",
      "        0.0111, 0.0514, 0.0097, 0.0304, 0.0133, 0.2762, 0.0124, 0.0086, 0.0340,\n",
      "        0.0263, 0.0149])\n",
      "tensor([0.0599, 0.0973, 0.0276, 0.0316, 0.0272, 0.0393, 0.1320, 0.0257, 0.0434,\n",
      "        0.0283, 0.0610, 0.0265, 0.0469, 0.0310, 0.1414, 0.0300, 0.0249, 0.0496,\n",
      "        0.0436, 0.0329])\n",
      "tensor([0.0495, 0.1308, 0.0105, 0.0138, 0.0102, 0.0213, 0.2405, 0.0091, 0.0260,\n",
      "        0.0111, 0.0514, 0.0097, 0.0304, 0.0133, 0.2762, 0.0124, 0.0086, 0.0340,\n",
      "        0.0263, 0.0149])\n"
     ]
    }
   ],
   "source": [
    "# from massspecgym.simulation_utils.misc_utils import LOG_ZERO, scatter_logsoftmax\n",
    "# import numpy as np\n",
    "# def log_ints_transform_func(log_y):\n",
    "#     return 0.5 * log_y # sqrt\n",
    "# def log_ints_untransform_func(log_y):\n",
    "#     log_max_ints = 0.5*np.log(1000.)\n",
    "#     log_y = log_y - torch.max(log_y) + log_max_ints \n",
    "#     log_y = 2. * log_y # square (inv sqrt)\n",
    "#     log_y = torch.clamp(log_y, min=LOG_ZERO(log_y.dtype))\n",
    "#     return log_y\n",
    "# def log_ints_normalize_func(log_y, batch_idxs):\n",
    "#     return scatter_logsoftmax(log_y, batch_idxs)\n",
    "\n",
    "# item = ds[3]\n",
    "# mzs = item[\"spec_mzs\"]\n",
    "# ints = (item[\"spec_ints\"] / item[\"spec_ints\"].max()) * 1000.\n",
    "# batch_idxs = torch.zeros_like(mzs,dtype=torch.int64)\n",
    "# log_probs = log_ints_normalize_func(safelog(ints), batch_idxs)\n",
    "# log_probs_t = log_ints_normalize_func(log_ints_transform_func(safelog(ints)),batch_idxs)\n",
    "# log_probs_ut = log_ints_normalize_func(log_ints_untransform_func(log_probs_t),batch_idxs)\n",
    "# print(log_probs.exp())\n",
    "# print(log_probs_t.exp())\n",
    "# print(log_probs_ut.exp())"
   ]
  },
  {
   "cell_type": "code",
   "execution_count": null,
   "metadata": {},
   "outputs": [],
   "source": []
  }
 ],
 "metadata": {
  "kernelspec": {
   "display_name": "MSG",
   "language": "python",
   "name": "python3"
  },
  "language_info": {
   "codemirror_mode": {
    "name": "ipython",
    "version": 3
   },
   "file_extension": ".py",
   "mimetype": "text/x-python",
   "name": "python",
   "nbconvert_exporter": "python",
   "pygments_lexer": "ipython3",
   "version": "3.10.14"
  }
 },
 "nbformat": 4,
 "nbformat_minor": 2
}
