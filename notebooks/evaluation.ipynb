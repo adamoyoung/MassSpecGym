{
 "cells": [
  {
   "cell_type": "code",
   "execution_count": 1,
   "metadata": {},
   "outputs": [],
   "source": [
    "import random\n",
    "from pathlib import Path\n",
    "\n",
    "import numpy as np\n",
    "import pandas as pd\n",
    "import seaborn as sns\n",
    "from scipy.stats import bootstrap\n",
    "from tqdm import tqdm\n",
    "\n",
    "tqdm.pandas()\n",
    "\n",
    "# Set random seeds for reproducibility\n",
    "seed = 0\n",
    "random.seed(seed)\n",
    "np.random.seed(seed)\n",
    "pd.set_option('compute.use_numexpr', False)  # Disable numexpr to ensure reproducibility\n",
    "pd.set_option('compute.use_bottleneck', False)  # Disable bottleneck to ensure reproducibility"
   ]
  },
  {
   "cell_type": "markdown",
   "metadata": {},
   "source": [
    "This notebooks takes pickled test dataframes automatically stored during testing of the models (i.e., running `trainer.test(model, ...)`) and calculates means and confidence intervals for all metrics. The cell below shows an example of a test dataframe.\n"
   ]
  },
  {
   "cell_type": "code",
   "execution_count": 2,
   "metadata": {},
   "outputs": [
    {
     "data": {
      "text/html": [
       "<div>\n",
       "<style scoped>\n",
       "    .dataframe tbody tr th:only-of-type {\n",
       "        vertical-align: middle;\n",
       "    }\n",
       "\n",
       "    .dataframe tbody tr th {\n",
       "        vertical-align: top;\n",
       "    }\n",
       "\n",
       "    .dataframe thead th {\n",
       "        text-align: right;\n",
       "    }\n",
       "</style>\n",
       "<table border=\"1\" class=\"dataframe\">\n",
       "  <thead>\n",
       "    <tr style=\"text-align: right;\">\n",
       "      <th></th>\n",
       "      <th>identifier</th>\n",
       "      <th>sorted_candidate_smiles</th>\n",
       "      <th>test_hit_rate@1</th>\n",
       "      <th>test_hit_rate@5</th>\n",
       "      <th>test_hit_rate@20</th>\n",
       "      <th>test_mces@1</th>\n",
       "    </tr>\n",
       "  </thead>\n",
       "  <tbody>\n",
       "    <tr>\n",
       "      <th>0</th>\n",
       "      <td>MassSpecGymID0000201</td>\n",
       "      <td>[O=C(NC1CC2(CC(O)C2)C1)OCc1ccccc1.O=C(NC1CC2(C...</td>\n",
       "      <td>0.0</td>\n",
       "      <td>0.0</td>\n",
       "      <td>1.0</td>\n",
       "      <td>18.0</td>\n",
       "    </tr>\n",
       "    <tr>\n",
       "      <th>1</th>\n",
       "      <td>MassSpecGymID0000202</td>\n",
       "      <td>[O=C(NC1CC2(CC(O)C2)C1)OCc1ccccc1.O=C(NC1CC2(C...</td>\n",
       "      <td>0.0</td>\n",
       "      <td>0.0</td>\n",
       "      <td>0.0</td>\n",
       "      <td>18.0</td>\n",
       "    </tr>\n",
       "    <tr>\n",
       "      <th>2</th>\n",
       "      <td>MassSpecGymID0000203</td>\n",
       "      <td>[O=C(NC1CC2(CC(O)C2)C1)OCc1ccccc1.O=C(NC1CC2(C...</td>\n",
       "      <td>0.0</td>\n",
       "      <td>0.0</td>\n",
       "      <td>1.0</td>\n",
       "      <td>18.0</td>\n",
       "    </tr>\n",
       "    <tr>\n",
       "      <th>3</th>\n",
       "      <td>MassSpecGymID0000204</td>\n",
       "      <td>[O=C(NC1CC2(CC(O)C2)C1)OCc1ccccc1.O=C(NC1CC2(C...</td>\n",
       "      <td>0.0</td>\n",
       "      <td>0.0</td>\n",
       "      <td>1.0</td>\n",
       "      <td>18.0</td>\n",
       "    </tr>\n",
       "    <tr>\n",
       "      <th>4</th>\n",
       "      <td>MassSpecGymID0000205</td>\n",
       "      <td>[O=C(NC1CC2(CC(O)C2)C1)OCc1ccccc1.O=C(NC1CC2(C...</td>\n",
       "      <td>0.0</td>\n",
       "      <td>0.0</td>\n",
       "      <td>1.0</td>\n",
       "      <td>18.0</td>\n",
       "    </tr>\n",
       "    <tr>\n",
       "      <th>...</th>\n",
       "      <td>...</td>\n",
       "      <td>...</td>\n",
       "      <td>...</td>\n",
       "      <td>...</td>\n",
       "      <td>...</td>\n",
       "      <td>...</td>\n",
       "    </tr>\n",
       "    <tr>\n",
       "      <th>17551</th>\n",
       "      <td>MassSpecGymID0414164</td>\n",
       "      <td>[CCCN1C(=O)C(=O)/C(=C(/O)c2cc(Cl)c(OC)cc2OC)C1...</td>\n",
       "      <td>0.0</td>\n",
       "      <td>0.0</td>\n",
       "      <td>0.0</td>\n",
       "      <td>15.5</td>\n",
       "    </tr>\n",
       "    <tr>\n",
       "      <th>17552</th>\n",
       "      <td>MassSpecGymID0414165</td>\n",
       "      <td>[COc1c2c(c(CNC(=O)COc3ccc4c(c3)OCO4)c3c1C(=O)N...</td>\n",
       "      <td>0.0</td>\n",
       "      <td>0.0</td>\n",
       "      <td>0.0</td>\n",
       "      <td>18.5</td>\n",
       "    </tr>\n",
       "    <tr>\n",
       "      <th>17553</th>\n",
       "      <td>MassSpecGymID0414166</td>\n",
       "      <td>[CCCC(=O)O[C@H]1CC[C@@]2(C)C(=CC[C@@H]3C2CC[C@...</td>\n",
       "      <td>0.0</td>\n",
       "      <td>0.0</td>\n",
       "      <td>0.0</td>\n",
       "      <td>15.0</td>\n",
       "    </tr>\n",
       "    <tr>\n",
       "      <th>17554</th>\n",
       "      <td>MassSpecGymID0414167</td>\n",
       "      <td>[CCCC(=O)O[C@H]1CC[C@@]2(C)C(=CC[C@@H]3C2CC[C@...</td>\n",
       "      <td>0.0</td>\n",
       "      <td>0.0</td>\n",
       "      <td>0.0</td>\n",
       "      <td>15.0</td>\n",
       "    </tr>\n",
       "    <tr>\n",
       "      <th>17555</th>\n",
       "      <td>MassSpecGymID0414171</td>\n",
       "      <td>[CCOC(=O)C1=C(COC(=O)c2cc(Cl)c(OCC)c(OC)c2)NC(...</td>\n",
       "      <td>0.0</td>\n",
       "      <td>0.0</td>\n",
       "      <td>0.0</td>\n",
       "      <td>17.0</td>\n",
       "    </tr>\n",
       "  </tbody>\n",
       "</table>\n",
       "<p>17556 rows × 6 columns</p>\n",
       "</div>"
      ],
      "text/plain": [
       "                 identifier  \\\n",
       "0      MassSpecGymID0000201   \n",
       "1      MassSpecGymID0000202   \n",
       "2      MassSpecGymID0000203   \n",
       "3      MassSpecGymID0000204   \n",
       "4      MassSpecGymID0000205   \n",
       "...                     ...   \n",
       "17551  MassSpecGymID0414164   \n",
       "17552  MassSpecGymID0414165   \n",
       "17553  MassSpecGymID0414166   \n",
       "17554  MassSpecGymID0414167   \n",
       "17555  MassSpecGymID0414171   \n",
       "\n",
       "                                 sorted_candidate_smiles  test_hit_rate@1  \\\n",
       "0      [O=C(NC1CC2(CC(O)C2)C1)OCc1ccccc1.O=C(NC1CC2(C...              0.0   \n",
       "1      [O=C(NC1CC2(CC(O)C2)C1)OCc1ccccc1.O=C(NC1CC2(C...              0.0   \n",
       "2      [O=C(NC1CC2(CC(O)C2)C1)OCc1ccccc1.O=C(NC1CC2(C...              0.0   \n",
       "3      [O=C(NC1CC2(CC(O)C2)C1)OCc1ccccc1.O=C(NC1CC2(C...              0.0   \n",
       "4      [O=C(NC1CC2(CC(O)C2)C1)OCc1ccccc1.O=C(NC1CC2(C...              0.0   \n",
       "...                                                  ...              ...   \n",
       "17551  [CCCN1C(=O)C(=O)/C(=C(/O)c2cc(Cl)c(OC)cc2OC)C1...              0.0   \n",
       "17552  [COc1c2c(c(CNC(=O)COc3ccc4c(c3)OCO4)c3c1C(=O)N...              0.0   \n",
       "17553  [CCCC(=O)O[C@H]1CC[C@@]2(C)C(=CC[C@@H]3C2CC[C@...              0.0   \n",
       "17554  [CCCC(=O)O[C@H]1CC[C@@]2(C)C(=CC[C@@H]3C2CC[C@...              0.0   \n",
       "17555  [CCOC(=O)C1=C(COC(=O)c2cc(Cl)c(OCC)c(OC)c2)NC(...              0.0   \n",
       "\n",
       "       test_hit_rate@5  test_hit_rate@20  test_mces@1  \n",
       "0                  0.0               1.0         18.0  \n",
       "1                  0.0               0.0         18.0  \n",
       "2                  0.0               1.0         18.0  \n",
       "3                  0.0               1.0         18.0  \n",
       "4                  0.0               1.0         18.0  \n",
       "...                ...               ...          ...  \n",
       "17551              0.0               0.0         15.5  \n",
       "17552              0.0               0.0         18.5  \n",
       "17553              0.0               0.0         15.0  \n",
       "17554              0.0               0.0         15.0  \n",
       "17555              0.0               0.0         17.0  \n",
       "\n",
       "[17556 rows x 6 columns]"
      ]
     },
     "execution_count": 2,
     "metadata": {},
     "output_type": "execute_result"
    }
   ],
   "source": [
    "# Example of a test dataframe for the retrieval challenge:\n",
    "pd.read_pickle('../data/test_results/retrieval/rebuttal_MIST_test_formula_2024-08-13_15-07-19.pkl')"
   ]
  },
  {
   "cell_type": "code",
   "execution_count": 3,
   "metadata": {},
   "outputs": [],
   "source": [
    "def evaluate(dir_results, task, seed=0):\n",
    "    np.random.seed(seed)\n",
    "\n",
    "    # Prepare\n",
    "    if task == 'retrieval':\n",
    "        metric_cols = ['test_hit_rate@1', 'test_hit_rate@5', 'test_hit_rate@20', 'test_mces@1']\n",
    "    elif task == 'de_novo':\n",
    "        metric_cols = [\n",
    "            'test_top_1_accuracy', 'test_top_1_mces_dist', 'test_top_1_max_tanimoto_sim',\n",
    "            'test_top_10_accuracy', 'test_top_10_mces_dist', 'test_top_10_max_tanimoto_sim'\n",
    "        ]\n",
    "\n",
    "    # Load all data into a single data frame\n",
    "    df = []\n",
    "    for path in dir_results.glob('*.pkl'):\n",
    "        df_method = pd.read_pickle(path)\n",
    "        df_method['method'] = path.stem\n",
    "        df_method = df_method.rename(columns={'test_mces_at_1': 'test_mces@1'})  # compatibility\n",
    "        df.append(df_method)\n",
    "    df = pd.concat(df)\n",
    "\n",
    "    # Preprocess data frame\n",
    "    for col in [c for c in df.columns if ('hit_rate' in c or 'accuracy' in c)]:\n",
    "        df[col] *= 100\n",
    "\n",
    "    # Calculate means for all metrics into a single table\n",
    "    df_mean = df.groupby('method')[metric_cols].mean().round(2)\n",
    "\n",
    "    # Calculate confidence intervals for all metrics into a single table\n",
    "    def get_ci(col_vals, confidence_level=0.999, n_resamples=20_000):\n",
    "        res = bootstrap((col_vals,), np.mean, confidence_level=confidence_level, n_resamples=n_resamples, random_state=seed)\n",
    "        ci = res.confidence_interval\n",
    "        return f'{ci.low:.2f}-{ci.high:.2f}'\n",
    "    def get_ci_for_each_col(df_method):\n",
    "        return df_method.apply(get_ci, axis=0)\n",
    "    tqdm.pandas(desc=\"Bootstrapping predictions for each method\", postfix=None)\n",
    "    df_ci = df.groupby('method')[metric_cols].progress_apply(lambda df_method: get_ci_for_each_col(df_method))\n",
    "\n",
    "    # Merge tables with means and confidence intervals\n",
    "    for col in metric_cols:\n",
    "        df_mean[col] = df_mean[col].astype(str) + ' (' + df_ci[col] + ')'\n",
    "    return df_mean"
   ]
  },
  {
   "cell_type": "markdown",
   "metadata": {},
   "source": [
    "## Evaluation for the retrieval challenge"
   ]
  },
  {
   "cell_type": "code",
   "execution_count": 4,
   "metadata": {},
   "outputs": [
    {
     "name": "stderr",
     "output_type": "stream",
     "text": [
      "Bootstrapping predictions for each method: 100%|██████████| 13/13 [07:49<00:00, 36.10s/it]\n"
     ]
    }
   ],
   "source": [
    "dir_results = Path('../data/test_results/retrieval')\n",
    "task = 'retrieval'\n",
    "\n",
    "df = evaluate(dir_results, task)"
   ]
  },
  {
   "cell_type": "markdown",
   "metadata": {},
   "source": [
    "### Main challenge"
   ]
  },
  {
   "cell_type": "code",
   "execution_count": 5,
   "metadata": {},
   "outputs": [
    {
     "name": "stdout",
     "output_type": "stream",
     "text": [
      "| method                                                                           | test_hit_rate@1     | test_hit_rate@5     | test_hit_rate@20    | test_mces@1         |\n",
      "|:---------------------------------------------------------------------------------|:--------------------|:--------------------|:--------------------|:--------------------|\n",
      "| rebuttal_random_test_mass_2024-08-13_17-08-09                                    | 0.37 (0.24-0.54)    | 2.01 (1.68-2.39)    | 8.22 (7.53-8.89)    | 30.81 (30.40-31.21) |\n",
      "| rebuttal_deepsets_test_mass_2024-08-14_22-51-05                                  | 1.47 (1.18-1.77)    | 6.21 (5.64-6.82)    | 19.23 (18.24-20.26) | 25.11 (24.84-25.39) |\n",
      "| rebuttal_fingerprint_ffn_sigmoid_mist_canopus_1550_test_mass_2024-08-17_02-30-13 | 1.65 (1.36-1.98)    | 5.45 (4.89-6.02)    | 15.15 (14.29-16.05) | 26.76 (26.47-27.06) |\n",
      "| rebuttal_fingerprint_ffn_test_mass_2024-08-15_15-39-32                           | 2.54 (2.17-2.99)    | 7.59 (6.96-8.28)    | 20.0 (19.01-20.98)  | 24.66 (24.38-24.94) |\n",
      "| rebuttal_deepsets_ff_test_mass_2024-08-17_02-30-13                               | 5.24 (4.71-5.83)    | 12.58 (11.80-13.42) | 28.21 (27.10-29.36) | 22.13 (21.85-22.43) |\n",
      "| rebuttal_enhanced_MIST_test_mass_2024-08-13_01-18-44                             | 14.64 (13.82-15.54) | 34.87 (33.69-36.10) | 59.15 (57.89-60.39) | 15.37 (15.12-15.62) |\n"
     ]
    }
   ],
   "source": [
    "df_paper = df.reset_index()\n",
    "df_paper = df_paper[(~df_paper['method'].str.contains('formula')) | (df_paper['method'].str.contains('no_formula'))]\n",
    "df_paper = df_paper.sort_values('test_hit_rate@1', ascending=True, key=lambda x: x.str.split(' ').str[0].astype(float))\n",
    "print(df_paper.to_markdown(index=False))"
   ]
  },
  {
   "cell_type": "markdown",
   "metadata": {},
   "source": [
    "### Bonus chemical formulae challenge"
   ]
  },
  {
   "cell_type": "code",
   "execution_count": 6,
   "metadata": {},
   "outputs": [
    {
     "name": "stdout",
     "output_type": "stream",
     "text": [
      "| method                                                                              | test_hit_rate@1   | test_hit_rate@5     | test_hit_rate@20    | test_mces@1         |\n",
      "|:------------------------------------------------------------------------------------|:------------------|:--------------------|:--------------------|:--------------------|\n",
      "| rebuttal_random_test_formula_2024-08-13_16-14-07                                    | 3.06 (2.64-3.52)  | 11.35 (10.60-12.12) | 27.74 (26.52-28.84) | 13.87 (13.70-14.03) |\n",
      "| rebuttal_random_test_formula_2024-08-13_17-08-09                                    | 3.06 (2.64-3.52)  | 11.35 (10.60-12.12) | 27.74 (26.52-28.84) | 13.87 (13.70-14.03) |\n",
      "| rebuttal_fingerprint_ffn_sigmoid_mist_canopus_1550_test_formula_2024-08-17_02-30-13 | 4.07 (3.61-4.54)  | 13.13 (12.33-13.95) | 29.44 (28.32-30.53) | 15.5 (15.34-15.64)  |\n",
      "| rebuttal_deepsets_test_formula_2024-08-15_16-45-06                                  | 4.42 (3.92-4.97)  | 14.46 (13.58-15.36) | 30.76 (29.67-31.93) | 15.04 (14.89-15.19) |\n",
      "| rebuttal_fingerprint_ffn_test_formula_2024-08-15_15-45-02                           | 5.09 (4.57-5.66)  | 14.69 (13.83-15.56) | 31.97 (30.86-33.10) | 14.94 (14.79-15.09) |\n",
      "| rebuttal_deepsets_ff_test_formula_2024-08-17_02-30-13                               | 6.56 (5.95-7.16)  | 16.46 (15.58-17.35) | 33.46 (32.39-34.59) | 14.14 (13.98-14.31) |\n",
      "| rebuttal_MIST_test_formula_2024-08-13_15-07-19                                      | 9.57 (8.88-10.30) | 22.11 (21.10-23.13) | 41.12 (39.98-42.34) | 12.75 (12.59-12.91) |\n"
     ]
    }
   ],
   "source": [
    "df_paper = df.reset_index()\n",
    "df_paper = df_paper[(df_paper['method'].str.contains('formula')) & (~df_paper['method'].str.contains('no_formula'))]\n",
    "df_paper = df_paper.sort_values('test_hit_rate@1', ascending=True, key=lambda x: x.str.split(' ').str[0].astype(float))\n",
    "print(df_paper.to_markdown(index=False))"
   ]
  },
  {
   "cell_type": "markdown",
   "metadata": {},
   "source": [
    "## Evaluation for the de novo challenge"
   ]
  },
  {
   "cell_type": "code",
   "execution_count": 8,
   "metadata": {},
   "outputs": [
    {
     "name": "stderr",
     "output_type": "stream",
     "text": [
      "Bootstrapping predictions for each method:   0%|          | 0/11 [00:00<?, ?it/s]/scratch/project_465000883/bushuiev/miniconda3/envs/massspecgym/lib/python3.11/site-packages/scipy/stats/_resampling.py:144: RuntimeWarning: invalid value encountered in scalar divide\n",
      "  a_hat = 1/6 * sum(nums) / sum(dens)**(3/2)\n",
      "/scratch/project_465000883/bushuiev/miniconda3/envs/massspecgym/lib/python3.11/site-packages/scipy/stats/_resampling.py:97: DegenerateDataWarning: The BCa confidence interval cannot be calculated. This problem is known to occur when the distribution is degenerate or the statistic is np.min.\n",
      "  warnings.warn(DegenerateDataWarning(msg))\n",
      "Bootstrapping predictions for each method: 100%|██████████| 11/11 [10:12<00:00, 55.66s/it]\n"
     ]
    }
   ],
   "source": [
    "dir_results = Path('../data/test_results/de_novo')\n",
    "task = 'de_novo'\n",
    "\n",
    "df = evaluate(dir_results, task)"
   ]
  },
  {
   "cell_type": "markdown",
   "metadata": {},
   "source": [
    "### Main challenge"
   ]
  },
  {
   "cell_type": "code",
   "execution_count": 16,
   "metadata": {},
   "outputs": [
    {
     "name": "stdout",
     "output_type": "stream",
     "text": [
      "| method                                                                  | test_top_1_accuracy   | test_top_1_mces_dist   | test_top_1_max_tanimoto_sim   | test_top_10_accuracy   | test_top_10_mces_dist   | test_top_10_max_tanimoto_sim   |\n",
      "|:------------------------------------------------------------------------|:----------------------|:-----------------------|:------------------------------|:-----------------------|:------------------------|:-------------------------------|\n",
      "| rebuttal_smiles_transformer_mist_canopus_1550_test_2024-08-17_02-30-13  | 0.0 (nan-nan)         | 96.17 (95.78-96.53)    | 0.01 (0.00-0.01)              | 0.0 (nan-nan)          | 70.88 (70.09-71.68)     | 0.04 (0.04-0.04)               |\n",
      "| rebuttal_smiles_transformer_mist_canopus_test_2024-08-16_22-34-55       | 0.0 (nan-nan)         | 96.06 (95.67-96.43)    | 0.01 (0.00-0.01)              | 0.0 (nan-nan)          | 70.77 (69.96-71.53)     | 0.04 (0.04-0.04)               |\n",
      "| rebuttal_selfies_transformer_mist_canopus_test_2024-08-16_22-33-21      | 0.0 (nan-nan)         | 39.43 (39.10-39.76)    | 0.08 (0.08-0.08)              | 0.0 (nan-nan)          | 27.21 (26.99-27.46)     | 0.13 (0.13-0.13)               |\n",
      "| rebuttal_selfies_transformer_mist_canopus_1550_test_2024-08-17_02-30-13 | 0.0 (nan-nan)         | 40.21 (39.88-40.56)    | 0.08 (0.08-0.08)              | 0.0 (nan-nan)          | 27.14 (26.91-27.38)     | 0.13 (0.12-0.13)               |\n",
      "| random_baseline_no_formula                                              | 0.0 (nan-nan)         | 28.59 (28.33-28.84)    | 0.07 (0.07-0.07)              | 0.0 (nan-nan)          | 25.72 (25.49-25.95)     | 0.1 (0.10-0.10)                |\n",
      "| rebuttal_smiles_transformer_test_2024-08-15_17-11-37                    | 0.0 (nan-nan)         | 53.8 (52.95-54.61)     | 0.07 (0.07-0.08)              | 0.0 (nan-nan)          | 21.97 (21.79-22.16)     | 0.17 (0.17-0.17)               |\n",
      "| rebuttal_selfies_transformer_test_2024-08-15_16-05-36                   | 0.0 (nan-nan)         | 33.28 (33.00-33.57)    | 0.1 (0.10-0.10)               | 0.0 (nan-nan)          | 21.84 (21.67-22.00)     | 0.15 (0.15-0.15)               |\n"
     ]
    }
   ],
   "source": [
    "df_paper = df.reset_index()\n",
    "df_paper = df_paper[(~df_paper['method'].str.contains('formula')) | (df_paper['method'].str.contains('no_formula'))]\n",
    "df_paper = df_paper.sort_values('test_top_10_mces_dist', ascending=False, key=lambda x: x.str.split(' ').str[0].astype(float))\n",
    "print(df_paper.to_markdown(index=False))"
   ]
  },
  {
   "cell_type": "markdown",
   "metadata": {},
   "source": [
    "### Bonus chemical formulae challenge"
   ]
  },
  {
   "cell_type": "code",
   "execution_count": 18,
   "metadata": {},
   "outputs": [
    {
     "name": "stdout",
     "output_type": "stream",
     "text": [
      "| method                                                           | test_top_1_accuracy   | test_top_1_mces_dist   | test_top_1_max_tanimoto_sim   | test_top_10_accuracy   | test_top_10_mces_dist   | test_top_10_max_tanimoto_sim   |\n",
      "|:-----------------------------------------------------------------|:----------------------|:-----------------------|:------------------------------|:-----------------------|:------------------------|:-------------------------------|\n",
      "| rebuttal_smiles_transformer_formula_test_2024-08-17_02-30-13     | 0.0 (nan-nan)         | 79.39 (78.64-80.08)    | 0.03 (0.03-0.04)              | 0.0 (nan-nan)          | 52.13 (51.45-52.81)     | 0.1 (0.09-0.10)                |\n",
      "| rebuttal_selfies_transformer_formula_test_2024-08-17_02-30-13    | 0.0 (nan-nan)         | 38.88 (38.57-39.20)    | 0.08 (0.08-0.08)              | 0.0 (nan-nan)          | 26.87 (26.66-27.11)     | 0.13 (0.13-0.13)               |\n",
      "| rebuttal_selfies_transformer_formula_v2_test_2024-08-18_14-28-08 | 0.0 (nan-nan)         | 38.88 (38.57-39.21)    | 0.08 (0.08-0.08)              | 0.0 (nan-nan)          | 26.87 (26.66-27.11)     | 0.13 (0.13-0.13)               |\n",
      "| random_baseline_formula                                          | 0.0 (nan-nan)         | 21.11 (20.97-21.26)    | 0.08 (0.08-0.08)              | 0.0 (nan-nan)          | 18.25 (18.14-18.35)     | 0.11 (0.11-0.11)               |\n"
     ]
    }
   ],
   "source": [
    "df_paper = df.reset_index()\n",
    "df_paper = df_paper[(df_paper['method'].str.contains('formula')) & (~df_paper['method'].str.contains('no_formula'))]\n",
    "df_paper = df_paper.sort_values('test_top_10_mces_dist', ascending=False, key=lambda x: x.str.split(' ').str[0].astype(float))\n",
    "print(df_paper.to_markdown(index=False))"
   ]
  }
 ],
 "metadata": {
  "kernelspec": {
   "display_name": "massspecgym",
   "language": "python",
   "name": "python3"
  },
  "language_info": {
   "codemirror_mode": {
    "name": "ipython",
    "version": 3
   },
   "file_extension": ".py",
   "mimetype": "text/x-python",
   "name": "python",
   "nbconvert_exporter": "python",
   "pygments_lexer": "ipython3",
   "version": "3.11.9"
  },
  "orig_nbformat": 4
 },
 "nbformat": 4,
 "nbformat_minor": 2
}
