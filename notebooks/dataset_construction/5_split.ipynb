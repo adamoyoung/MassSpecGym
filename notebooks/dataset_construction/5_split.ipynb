{
 "cells": [
  {
   "cell_type": "code",
   "execution_count": 1,
   "metadata": {},
   "outputs": [],
   "source": [
    "import random\n",
    "import pandas as pd\n",
    "import h5py\n",
    "import numpy as np\n",
    "import seaborn as sns\n",
    "import matplotlib.pyplot as plt\n",
    "from tqdm import tqdm\n",
    "tqdm.pandas()\n",
    "from sklearn.model_selection import StratifiedGroupKFold\n",
    "from pandarallel import pandarallel\n",
    "from sklearn.cluster import AgglomerativeClustering\n",
    "from scipy.spatial.distance import squareform\n",
    "from rdkit import Chem\n",
    "from rdkit.Chem import Draw\n",
    "from rdkit.Chem import DataStructs\n",
    "from matchms import Spectrum\n",
    "from matchms.exporting import save_as_mgf\n",
    "import massspecgym.utils as utils\n",
    "%reload_ext autoreload\n",
    "%autoreload 2"
   ]
  },
  {
   "cell_type": "code",
   "execution_count": 2,
   "metadata": {},
   "outputs": [
    {
     "data": {
      "text/plain": [
       "231104"
      ]
     },
     "execution_count": 2,
     "metadata": {},
     "output_type": "execute_result"
    }
   ],
   "source": [
    "df = pd.read_csv('../../data/data/MassSpecGym_std.tsv', sep='\\t')\n",
    "len(df)"
   ]
  },
  {
   "cell_type": "markdown",
   "metadata": {},
   "source": [
    "### Prepare SMILES and pre-computed MCES distances"
   ]
  },
  {
   "cell_type": "code",
   "execution_count": 3,
   "metadata": {},
   "outputs": [
    {
     "name": "stdout",
     "output_type": "stream",
     "text": [
      "['mces', 'mces_smiles_order']\n"
     ]
    },
    {
     "data": {
      "text/plain": [
       "((34731, 34731), 34731)"
      ]
     },
     "execution_count": 3,
     "metadata": {},
     "output_type": "execute_result"
    }
   ],
   "source": [
    "f = h5py.File('../../data/all_smiles_standardized_mces/all_smiles_mces.hdf5', 'r')\n",
    "print(list(f.keys()))\n",
    "dists = squareform(f['mces'])\n",
    "dists_smiles = f['mces_smiles_order'][:].astype(str).tolist()\n",
    "dists.shape, len(dists_smiles)"
   ]
  },
  {
   "cell_type": "code",
   "execution_count": 4,
   "metadata": {},
   "outputs": [],
   "source": [
    "for s in df['smiles'].unique():\n",
    "    assert s in dists_smiles"
   ]
  },
  {
   "cell_type": "code",
   "execution_count": 5,
   "metadata": {},
   "outputs": [
    {
     "name": "stdout",
     "output_type": "stream",
     "text": [
      "34731 31602 31602\n"
     ]
    },
    {
     "data": {
      "text/plain": [
       "(31602, (31602, 31602))"
      ]
     },
     "execution_count": 5,
     "metadata": {},
     "output_type": "execute_result"
    }
   ],
   "source": [
    "unique_smiles = df['smiles'].unique()\n",
    "smiles_mask = np.array([s in unique_smiles for s in dists_smiles])\n",
    "print(smiles_mask.shape[0], smiles_mask.sum(), len(unique_smiles))\n",
    "\n",
    "dists = dists[smiles_mask, :][:, smiles_mask]\n",
    "dists_smiles = np.array(dists_smiles)[smiles_mask]\n",
    "\n",
    "from scipy.linalg import issymmetric\n",
    "assert issymmetric(dists)\n",
    "\n",
    "len(dists_smiles), dists.shape"
   ]
  },
  {
   "cell_type": "markdown",
   "metadata": {},
   "source": [
    "### Perform agglomerative clustering using MCES distances"
   ]
  },
  {
   "cell_type": "code",
   "execution_count": 6,
   "metadata": {},
   "outputs": [
    {
     "data": {
      "text/plain": [
       "108     20472\n",
       "379        90\n",
       "934        90\n",
       "918        72\n",
       "115        71\n",
       "        ...  \n",
       "4777        1\n",
       "4778        1\n",
       "4779        1\n",
       "3967        1\n",
       "4342        1\n",
       "Name: count, Length: 7484, dtype: int64"
      ]
     },
     "execution_count": 6,
     "metadata": {},
     "output_type": "execute_result"
    }
   ],
   "source": [
    "clustering = AgglomerativeClustering(\n",
    "    metric='precomputed',\n",
    "    linkage='single',\n",
    "    distance_threshold=10,\n",
    "    n_clusters=None\n",
    ").fit(dists)\n",
    "clusters = clustering.labels_\n",
    "pd.Series(clusters).value_counts()"
   ]
  },
  {
   "cell_type": "code",
   "execution_count": 7,
   "metadata": {},
   "outputs": [
    {
     "data": {
      "image/svg+xml": [
       "<svg xmlns=\"http://www.w3.org/2000/svg\" xmlns:rdkit=\"http://www.rdkit.org/xml\" xmlns:xlink=\"http://www.w3.org/1999/xlink\" version=\"1.1\" baseProfile=\"full\" xml:space=\"preserve\" width=\"1200px\" height=\"200px\" viewBox=\"0 0 1200 200\">\n",
       "<!-- END OF HEADER -->\n",
       "<rect style=\"opacity:1.0;fill:#FFFFFF;stroke:none\" width=\"1200.0\" height=\"200.0\" x=\"0.0\" y=\"0.0\"> </rect>\n",
       "<path class=\"bond-0 atom-0 atom-1\" d=\"M 112.2,44.8 L 110.5,62.3\" style=\"fill:none;fill-rule:evenodd;stroke:#000000;stroke-width:2.0px;stroke-linecap:butt;stroke-linejoin:miter;stroke-opacity:1\"/>\n",
       "<path class=\"bond-1 atom-1 atom-2\" d=\"M 110.5,62.3 L 94.5,69.6\" style=\"fill:none;fill-rule:evenodd;stroke:#000000;stroke-width:2.0px;stroke-linecap:butt;stroke-linejoin:miter;stroke-opacity:1\"/>\n",
       "<path class=\"bond-2 atom-2 atom-3\" d=\"M 94.5,69.6 L 92.8,87.2\" style=\"fill:none;fill-rule:evenodd;stroke:#000000;stroke-width:2.0px;stroke-linecap:butt;stroke-linejoin:miter;stroke-opacity:1\"/>\n",
       "<path class=\"bond-3 atom-3 atom-4\" d=\"M 92.8,87.2 L 76.8,94.5\" style=\"fill:none;fill-rule:evenodd;stroke:#000000;stroke-width:2.0px;stroke-linecap:butt;stroke-linejoin:miter;stroke-opacity:1\"/>\n",
       "<path class=\"bond-4 atom-4 atom-5\" d=\"M 76.8,94.5 L 70.3,90.9\" style=\"fill:none;fill-rule:evenodd;stroke:#000000;stroke-width:2.0px;stroke-linecap:butt;stroke-linejoin:miter;stroke-opacity:1\"/>\n",
       "<path class=\"bond-4 atom-4 atom-5\" d=\"M 70.3,90.9 L 63.9,87.2\" style=\"fill:none;fill-rule:evenodd;stroke:#0000FF;stroke-width:2.0px;stroke-linecap:butt;stroke-linejoin:miter;stroke-opacity:1\"/>\n",
       "<path class=\"bond-4 atom-4 atom-5\" d=\"M 73.8,95.8 L 68.2,92.7\" style=\"fill:none;fill-rule:evenodd;stroke:#000000;stroke-width:2.0px;stroke-linecap:butt;stroke-linejoin:miter;stroke-opacity:1\"/>\n",
       "<path class=\"bond-4 atom-4 atom-5\" d=\"M 68.2,92.7 L 62.6,89.5\" style=\"fill:none;fill-rule:evenodd;stroke:#0000FF;stroke-width:2.0px;stroke-linecap:butt;stroke-linejoin:miter;stroke-opacity:1\"/>\n",
       "<path class=\"bond-5 atom-5 atom-6\" d=\"M 58.9,88.1 L 53.7,92.9\" style=\"fill:none;fill-rule:evenodd;stroke:#0000FF;stroke-width:2.0px;stroke-linecap:butt;stroke-linejoin:miter;stroke-opacity:1\"/>\n",
       "<path class=\"bond-5 atom-5 atom-6\" d=\"M 53.7,92.9 L 48.4,97.7\" style=\"fill:none;fill-rule:evenodd;stroke:#000000;stroke-width:2.0px;stroke-linecap:butt;stroke-linejoin:miter;stroke-opacity:1\"/>\n",
       "<path class=\"bond-6 atom-6 atom-7\" d=\"M 48.4,97.7 L 55.7,113.8\" style=\"fill:none;fill-rule:evenodd;stroke:#000000;stroke-width:2.0px;stroke-linecap:butt;stroke-linejoin:miter;stroke-opacity:1\"/>\n",
       "<path class=\"bond-6 atom-6 atom-7\" d=\"M 51.6,98.4 L 57.4,110.9\" style=\"fill:none;fill-rule:evenodd;stroke:#000000;stroke-width:2.0px;stroke-linecap:butt;stroke-linejoin:miter;stroke-opacity:1\"/>\n",
       "<path class=\"bond-7 atom-7 atom-8\" d=\"M 55.7,113.8 L 63.3,112.9\" style=\"fill:none;fill-rule:evenodd;stroke:#000000;stroke-width:2.0px;stroke-linecap:butt;stroke-linejoin:miter;stroke-opacity:1\"/>\n",
       "<path class=\"bond-7 atom-7 atom-8\" d=\"M 63.3,112.9 L 70.8,112.0\" style=\"fill:none;fill-rule:evenodd;stroke:#0000FF;stroke-width:2.0px;stroke-linecap:butt;stroke-linejoin:miter;stroke-opacity:1\"/>\n",
       "<path class=\"bond-8 atom-8 atom-9\" d=\"M 75.7,114.5 L 80.4,119.6\" style=\"fill:none;fill-rule:evenodd;stroke:#0000FF;stroke-width:2.0px;stroke-linecap:butt;stroke-linejoin:miter;stroke-opacity:1\"/>\n",
       "<path class=\"bond-8 atom-8 atom-9\" d=\"M 80.4,119.6 L 85.2,124.7\" style=\"fill:none;fill-rule:evenodd;stroke:#000000;stroke-width:2.0px;stroke-linecap:butt;stroke-linejoin:miter;stroke-opacity:1\"/>\n",
       "<path class=\"bond-9 atom-9 atom-10\" d=\"M 85.2,124.7 L 102.4,120.9\" style=\"fill:none;fill-rule:evenodd;stroke:#000000;stroke-width:2.0px;stroke-linecap:butt;stroke-linejoin:miter;stroke-opacity:1\"/>\n",
       "<path class=\"bond-10 atom-10 atom-11\" d=\"M 102.4,120.9 L 109.4,104.8\" style=\"fill:none;fill-rule:evenodd;stroke:#000000;stroke-width:2.0px;stroke-linecap:butt;stroke-linejoin:miter;stroke-opacity:1\"/>\n",
       "<path class=\"bond-10 atom-10 atom-11\" d=\"M 105.5,120.2 L 111.0,107.6\" style=\"fill:none;fill-rule:evenodd;stroke:#000000;stroke-width:2.0px;stroke-linecap:butt;stroke-linejoin:miter;stroke-opacity:1\"/>\n",
       "<path class=\"bond-11 atom-11 atom-12\" d=\"M 109.4,104.8 L 126.9,106.5\" style=\"fill:none;fill-rule:evenodd;stroke:#000000;stroke-width:2.0px;stroke-linecap:butt;stroke-linejoin:miter;stroke-opacity:1\"/>\n",
       "<path class=\"bond-12 atom-12 atom-13\" d=\"M 126.9,106.5 L 130.7,123.7\" style=\"fill:none;fill-rule:evenodd;stroke:#000000;stroke-width:2.0px;stroke-linecap:butt;stroke-linejoin:miter;stroke-opacity:1\"/>\n",
       "<path class=\"bond-12 atom-12 atom-13\" d=\"M 124.8,108.9 L 127.7,122.4\" style=\"fill:none;fill-rule:evenodd;stroke:#000000;stroke-width:2.0px;stroke-linecap:butt;stroke-linejoin:miter;stroke-opacity:1\"/>\n",
       "<path class=\"bond-13 atom-13 atom-14\" d=\"M 130.7,123.7 L 124.2,127.5\" style=\"fill:none;fill-rule:evenodd;stroke:#000000;stroke-width:2.0px;stroke-linecap:butt;stroke-linejoin:miter;stroke-opacity:1\"/>\n",
       "<path class=\"bond-13 atom-13 atom-14\" d=\"M 124.2,127.5 L 117.7,131.3\" style=\"fill:none;fill-rule:evenodd;stroke:#CCCC00;stroke-width:2.0px;stroke-linecap:butt;stroke-linejoin:miter;stroke-opacity:1\"/>\n",
       "<path class=\"bond-14 atom-13 atom-15\" d=\"M 130.7,123.7 L 146.9,130.7\" style=\"fill:none;fill-rule:evenodd;stroke:#000000;stroke-width:2.0px;stroke-linecap:butt;stroke-linejoin:miter;stroke-opacity:1\"/>\n",
       "<path class=\"bond-15 atom-15 atom-16\" d=\"M 146.9,130.7 L 148.9,148.2\" style=\"fill:none;fill-rule:evenodd;stroke:#000000;stroke-width:2.0px;stroke-linecap:butt;stroke-linejoin:miter;stroke-opacity:1\"/>\n",
       "<path class=\"bond-15 atom-15 atom-16\" d=\"M 149.7,131.9 L 151.4,146.4\" style=\"fill:none;fill-rule:evenodd;stroke:#000000;stroke-width:2.0px;stroke-linecap:butt;stroke-linejoin:miter;stroke-opacity:1\"/>\n",
       "<path class=\"bond-16 atom-16 atom-17\" d=\"M 148.9,148.2 L 165.1,155.2\" style=\"fill:none;fill-rule:evenodd;stroke:#000000;stroke-width:2.0px;stroke-linecap:butt;stroke-linejoin:miter;stroke-opacity:1\"/>\n",
       "<path class=\"bond-17 atom-17 atom-18\" d=\"M 165.1,155.2 L 179.2,144.7\" style=\"fill:none;fill-rule:evenodd;stroke:#000000;stroke-width:2.0px;stroke-linecap:butt;stroke-linejoin:miter;stroke-opacity:1\"/>\n",
       "<path class=\"bond-17 atom-17 atom-18\" d=\"M 164.7,152.2 L 176.4,143.5\" style=\"fill:none;fill-rule:evenodd;stroke:#000000;stroke-width:2.0px;stroke-linecap:butt;stroke-linejoin:miter;stroke-opacity:1\"/>\n",
       "<path class=\"bond-18 atom-18 atom-19\" d=\"M 179.2,144.7 L 177.2,127.2\" style=\"fill:none;fill-rule:evenodd;stroke:#000000;stroke-width:2.0px;stroke-linecap:butt;stroke-linejoin:miter;stroke-opacity:1\"/>\n",
       "<path class=\"bond-19 atom-19 atom-20\" d=\"M 177.2,127.2 L 161.1,120.2\" style=\"fill:none;fill-rule:evenodd;stroke:#000000;stroke-width:2.0px;stroke-linecap:butt;stroke-linejoin:miter;stroke-opacity:1\"/>\n",
       "<path class=\"bond-19 atom-19 atom-20\" d=\"M 174.8,129.0 L 161.4,123.2\" style=\"fill:none;fill-rule:evenodd;stroke:#000000;stroke-width:2.0px;stroke-linecap:butt;stroke-linejoin:miter;stroke-opacity:1\"/>\n",
       "<path class=\"bond-20 atom-20 atom-21\" d=\"M 161.1,120.2 L 159.1,102.7\" style=\"fill:none;fill-rule:evenodd;stroke:#000000;stroke-width:2.0px;stroke-linecap:butt;stroke-linejoin:miter;stroke-opacity:1\"/>\n",
       "<path class=\"bond-21 atom-21 atom-22\" d=\"M 159.1,102.7 L 152.6,99.1\" style=\"fill:none;fill-rule:evenodd;stroke:#000000;stroke-width:2.0px;stroke-linecap:butt;stroke-linejoin:miter;stroke-opacity:1\"/>\n",
       "<path class=\"bond-21 atom-21 atom-22\" d=\"M 152.6,99.1 L 146.2,95.4\" style=\"fill:none;fill-rule:evenodd;stroke:#0000FF;stroke-width:2.0px;stroke-linecap:butt;stroke-linejoin:miter;stroke-opacity:1\"/>\n",
       "<path class=\"bond-21 atom-21 atom-22\" d=\"M 158.7,99.4 L 153.1,96.3\" style=\"fill:none;fill-rule:evenodd;stroke:#000000;stroke-width:2.0px;stroke-linecap:butt;stroke-linejoin:miter;stroke-opacity:1\"/>\n",
       "<path class=\"bond-21 atom-21 atom-22\" d=\"M 153.1,96.3 L 147.5,93.1\" style=\"fill:none;fill-rule:evenodd;stroke:#0000FF;stroke-width:2.0px;stroke-linecap:butt;stroke-linejoin:miter;stroke-opacity:1\"/>\n",
       "<path class=\"bond-22 atom-22 atom-23\" d=\"M 144.3,90.9 L 146.6,79.8\" style=\"fill:none;fill-rule:evenodd;stroke:#0000FF;stroke-width:2.0px;stroke-linecap:butt;stroke-linejoin:miter;stroke-opacity:1\"/>\n",
       "<path class=\"bond-23 atom-23 atom-24\" d=\"M 149.7,76.5 L 162.3,75.0\" style=\"fill:none;fill-rule:evenodd;stroke:#0000FF;stroke-width:2.0px;stroke-linecap:butt;stroke-linejoin:miter;stroke-opacity:1\"/>\n",
       "<path class=\"bond-24 atom-24 atom-25\" d=\"M 166.1,77.8 L 170.6,87.7\" style=\"fill:none;fill-rule:evenodd;stroke:#0000FF;stroke-width:2.0px;stroke-linecap:butt;stroke-linejoin:miter;stroke-opacity:1\"/>\n",
       "<path class=\"bond-24 atom-24 atom-25\" d=\"M 163.7,78.9 L 168.2,88.8\" style=\"fill:none;fill-rule:evenodd;stroke:#0000FF;stroke-width:2.0px;stroke-linecap:butt;stroke-linejoin:miter;stroke-opacity:1\"/>\n",
       "<path class=\"bond-25 atom-7 atom-26\" d=\"M 55.7,113.8 L 47.1,129.1\" style=\"fill:none;fill-rule:evenodd;stroke:#000000;stroke-width:2.0px;stroke-linecap:butt;stroke-linejoin:miter;stroke-opacity:1\"/>\n",
       "<path class=\"bond-26 atom-26 atom-27\" d=\"M 45.5,129.1 L 49.3,135.5\" style=\"fill:none;fill-rule:evenodd;stroke:#000000;stroke-width:2.0px;stroke-linecap:butt;stroke-linejoin:miter;stroke-opacity:1\"/>\n",
       "<path class=\"bond-26 atom-26 atom-27\" d=\"M 49.3,135.5 L 53.1,141.8\" style=\"fill:none;fill-rule:evenodd;stroke:#FF0000;stroke-width:2.0px;stroke-linecap:butt;stroke-linejoin:miter;stroke-opacity:1\"/>\n",
       "<path class=\"bond-26 atom-26 atom-27\" d=\"M 47.8,127.8 L 51.6,134.1\" style=\"fill:none;fill-rule:evenodd;stroke:#000000;stroke-width:2.0px;stroke-linecap:butt;stroke-linejoin:miter;stroke-opacity:1\"/>\n",
       "<path class=\"bond-26 atom-26 atom-27\" d=\"M 51.6,134.1 L 55.3,140.5\" style=\"fill:none;fill-rule:evenodd;stroke:#FF0000;stroke-width:2.0px;stroke-linecap:butt;stroke-linejoin:miter;stroke-opacity:1\"/>\n",
       "<path class=\"bond-27 atom-26 atom-28\" d=\"M 47.1,129.1 L 39.7,129.2\" style=\"fill:none;fill-rule:evenodd;stroke:#000000;stroke-width:2.0px;stroke-linecap:butt;stroke-linejoin:miter;stroke-opacity:1\"/>\n",
       "<path class=\"bond-27 atom-26 atom-28\" d=\"M 39.7,129.2 L 32.3,129.2\" style=\"fill:none;fill-rule:evenodd;stroke:#FF0000;stroke-width:2.0px;stroke-linecap:butt;stroke-linejoin:miter;stroke-opacity:1\"/>\n",
       "<path class=\"bond-28 atom-28 atom-29\" d=\"M 27.7,132.4 L 24.2,138.5\" style=\"fill:none;fill-rule:evenodd;stroke:#FF0000;stroke-width:2.0px;stroke-linecap:butt;stroke-linejoin:miter;stroke-opacity:1\"/>\n",
       "<path class=\"bond-28 atom-28 atom-29\" d=\"M 24.2,138.5 L 20.8,144.6\" style=\"fill:none;fill-rule:evenodd;stroke:#000000;stroke-width:2.0px;stroke-linecap:butt;stroke-linejoin:miter;stroke-opacity:1\"/>\n",
       "<path class=\"bond-29 atom-6 atom-30\" d=\"M 48.4,97.7 L 40.3,96.1\" style=\"fill:none;fill-rule:evenodd;stroke:#000000;stroke-width:2.0px;stroke-linecap:butt;stroke-linejoin:miter;stroke-opacity:1\"/>\n",
       "<path class=\"bond-29 atom-6 atom-30\" d=\"M 40.3,96.1 L 32.1,94.4\" style=\"fill:none;fill-rule:evenodd;stroke:#00CC00;stroke-width:2.0px;stroke-linecap:butt;stroke-linejoin:miter;stroke-opacity:1\"/>\n",
       "<path class=\"bond-30 atom-8 atom-4\" d=\"M 73.9,108.7 L 75.3,101.6\" style=\"fill:none;fill-rule:evenodd;stroke:#0000FF;stroke-width:2.0px;stroke-linecap:butt;stroke-linejoin:miter;stroke-opacity:1\"/>\n",
       "<path class=\"bond-30 atom-8 atom-4\" d=\"M 75.3,101.6 L 76.8,94.5\" style=\"fill:none;fill-rule:evenodd;stroke:#000000;stroke-width:2.0px;stroke-linecap:butt;stroke-linejoin:miter;stroke-opacity:1\"/>\n",
       "<path class=\"bond-31 atom-14 atom-10\" d=\"M 113.4,130.7 L 107.9,125.8\" style=\"fill:none;fill-rule:evenodd;stroke:#CCCC00;stroke-width:2.0px;stroke-linecap:butt;stroke-linejoin:miter;stroke-opacity:1\"/>\n",
       "<path class=\"bond-31 atom-14 atom-10\" d=\"M 107.9,125.8 L 102.4,120.9\" style=\"fill:none;fill-rule:evenodd;stroke:#000000;stroke-width:2.0px;stroke-linecap:butt;stroke-linejoin:miter;stroke-opacity:1\"/>\n",
       "<path class=\"bond-32 atom-20 atom-15\" d=\"M 161.1,120.2 L 146.9,130.7\" style=\"fill:none;fill-rule:evenodd;stroke:#000000;stroke-width:2.0px;stroke-linecap:butt;stroke-linejoin:miter;stroke-opacity:1\"/>\n",
       "<path class=\"bond-33 atom-25 atom-21\" d=\"M 169.6,93.0 L 164.3,97.9\" style=\"fill:none;fill-rule:evenodd;stroke:#0000FF;stroke-width:2.0px;stroke-linecap:butt;stroke-linejoin:miter;stroke-opacity:1\"/>\n",
       "<path class=\"bond-33 atom-25 atom-21\" d=\"M 164.3,97.9 L 159.1,102.7\" style=\"fill:none;fill-rule:evenodd;stroke:#000000;stroke-width:2.0px;stroke-linecap:butt;stroke-linejoin:miter;stroke-opacity:1\"/>\n",
       "<path d=\"M 110.6,61.5 L 110.5,62.3 L 109.7,62.7\" style=\"fill:none;stroke:#000000;stroke-width:2.0px;stroke-linecap:butt;stroke-linejoin:miter;stroke-opacity:1;\"/>\n",
       "<path d=\"M 95.3,69.3 L 94.5,69.6 L 94.4,70.5\" style=\"fill:none;stroke:#000000;stroke-width:2.0px;stroke-linecap:butt;stroke-linejoin:miter;stroke-opacity:1;\"/>\n",
       "<path d=\"M 92.9,86.3 L 92.8,87.2 L 92.0,87.5\" style=\"fill:none;stroke:#000000;stroke-width:2.0px;stroke-linecap:butt;stroke-linejoin:miter;stroke-opacity:1;\"/>\n",
       "<path d=\"M 84.9,124.5 L 85.2,124.7 L 86.0,124.6\" style=\"fill:none;stroke:#000000;stroke-width:2.0px;stroke-linecap:butt;stroke-linejoin:miter;stroke-opacity:1;\"/>\n",
       "<path d=\"M 109.0,105.6 L 109.4,104.8 L 110.3,104.9\" style=\"fill:none;stroke:#000000;stroke-width:2.0px;stroke-linecap:butt;stroke-linejoin:miter;stroke-opacity:1;\"/>\n",
       "<path d=\"M 126.0,106.4 L 126.9,106.5 L 127.1,107.3\" style=\"fill:none;stroke:#000000;stroke-width:2.0px;stroke-linecap:butt;stroke-linejoin:miter;stroke-opacity:1;\"/>\n",
       "<path d=\"M 148.8,147.3 L 148.9,148.2 L 149.7,148.5\" style=\"fill:none;stroke:#000000;stroke-width:2.0px;stroke-linecap:butt;stroke-linejoin:miter;stroke-opacity:1;\"/>\n",
       "<path d=\"M 164.2,154.9 L 165.1,155.2 L 165.8,154.7\" style=\"fill:none;stroke:#000000;stroke-width:2.0px;stroke-linecap:butt;stroke-linejoin:miter;stroke-opacity:1;\"/>\n",
       "<path d=\"M 178.5,145.2 L 179.2,144.7 L 179.1,143.8\" style=\"fill:none;stroke:#000000;stroke-width:2.0px;stroke-linecap:butt;stroke-linejoin:miter;stroke-opacity:1;\"/>\n",
       "<path d=\"M 177.3,128.1 L 177.2,127.2 L 176.4,126.9\" style=\"fill:none;stroke:#000000;stroke-width:2.0px;stroke-linecap:butt;stroke-linejoin:miter;stroke-opacity:1;\"/>\n",
       "<path d=\"M 47.5,128.3 L 47.1,129.1 L 46.7,129.1\" style=\"fill:none;stroke:#000000;stroke-width:2.0px;stroke-linecap:butt;stroke-linejoin:miter;stroke-opacity:1;\"/>\n",
       "<path class=\"atom-5\" d=\"M 60.3 83.3 L 62.0 86.0 Q 62.1 86.2, 62.4 86.7 Q 62.6 87.2, 62.7 87.2 L 62.7 83.3 L 63.3 83.3 L 63.3 88.3 L 62.6 88.3 L 60.9 85.4 Q 60.7 85.1, 60.5 84.7 Q 60.2 84.3, 60.2 84.2 L 60.2 88.3 L 59.5 88.3 L 59.5 83.3 L 60.3 83.3 \" fill=\"#0000FF\"/>\n",
       "<path class=\"atom-8\" d=\"M 72.1 109.3 L 73.8 111.9 Q 73.9 112.2, 74.2 112.6 Q 74.5 113.1, 74.5 113.1 L 74.5 109.3 L 75.1 109.3 L 75.1 114.3 L 74.5 114.3 L 72.7 111.4 Q 72.5 111.0, 72.3 110.6 Q 72.1 110.3, 72.0 110.1 L 72.0 114.3 L 71.4 114.3 L 71.4 109.3 L 72.1 109.3 \" fill=\"#0000FF\"/>\n",
       "<path class=\"atom-14\" d=\"M 114.1 134.3 Q 114.2 134.3, 114.4 134.4 Q 114.7 134.5, 114.9 134.6 Q 115.2 134.7, 115.4 134.7 Q 115.9 134.7, 116.2 134.4 Q 116.5 134.2, 116.5 133.8 Q 116.5 133.5, 116.3 133.3 Q 116.2 133.2, 116.0 133.1 Q 115.8 133.0, 115.4 132.9 Q 115.0 132.8, 114.7 132.6 Q 114.4 132.5, 114.2 132.2 Q 114.1 132.0, 114.1 131.5 Q 114.1 130.9, 114.5 130.5 Q 114.9 130.1, 115.8 130.1 Q 116.3 130.1, 117.0 130.4 L 116.8 130.9 Q 116.2 130.7, 115.8 130.7 Q 115.3 130.7, 115.0 130.9 Q 114.8 131.1, 114.8 131.4 Q 114.8 131.7, 114.9 131.9 Q 115.0 132.0, 115.2 132.1 Q 115.4 132.2, 115.8 132.3 Q 116.2 132.5, 116.5 132.6 Q 116.8 132.7, 117.0 133.0 Q 117.2 133.3, 117.2 133.8 Q 117.2 134.5, 116.7 134.9 Q 116.2 135.2, 115.5 135.2 Q 115.0 135.2, 114.7 135.1 Q 114.4 135.0, 114.0 134.9 L 114.1 134.3 \" fill=\"#CCCC00\"/>\n",
       "<path class=\"atom-22\" d=\"M 142.6 91.5 L 144.3 94.2 Q 144.4 94.4, 144.7 94.9 Q 144.9 95.4, 145.0 95.4 L 145.0 91.5 L 145.6 91.5 L 145.6 96.5 L 144.9 96.5 L 143.2 93.6 Q 143.0 93.3, 142.8 92.9 Q 142.5 92.5, 142.5 92.4 L 142.5 96.5 L 141.8 96.5 L 141.8 91.5 L 142.6 91.5 \" fill=\"#0000FF\"/>\n",
       "<path class=\"atom-23\" d=\"M 140.5 74.3 L 141.1 74.3 L 141.1 76.4 L 143.7 76.4 L 143.7 74.3 L 144.4 74.3 L 144.4 79.2 L 143.7 79.2 L 143.7 76.9 L 141.1 76.9 L 141.1 79.2 L 140.5 79.2 L 140.5 74.3 \" fill=\"#0000FF\"/>\n",
       "<path class=\"atom-23\" d=\"M 146.1 74.3 L 147.8 76.9 Q 147.9 77.2, 148.2 77.6 Q 148.4 78.1, 148.5 78.1 L 148.5 74.3 L 149.1 74.3 L 149.1 79.2 L 148.4 79.2 L 146.7 76.4 Q 146.5 76.0, 146.3 75.6 Q 146.1 75.2, 146.0 75.1 L 146.0 79.2 L 145.3 79.2 L 145.3 74.3 L 146.1 74.3 \" fill=\"#0000FF\"/>\n",
       "<path class=\"atom-24\" d=\"M 163.6 72.3 L 165.3 74.9 Q 165.4 75.2, 165.7 75.6 Q 166.0 76.1, 166.0 76.1 L 166.0 72.3 L 166.6 72.3 L 166.6 77.2 L 165.9 77.2 L 164.2 74.4 Q 164.0 74.0, 163.8 73.6 Q 163.6 73.2, 163.5 73.1 L 163.5 77.2 L 162.8 77.2 L 162.8 72.3 L 163.6 72.3 \" fill=\"#0000FF\"/>\n",
       "<path class=\"atom-25\" d=\"M 170.9 88.3 L 172.6 90.9 Q 172.7 91.2, 173.0 91.7 Q 173.3 92.1, 173.3 92.2 L 173.3 88.3 L 173.9 88.3 L 173.9 93.3 L 173.3 93.3 L 171.5 90.4 Q 171.3 90.0, 171.1 89.7 Q 170.9 89.3, 170.8 89.2 L 170.8 93.3 L 170.2 93.3 L 170.2 88.3 L 170.9 88.3 \" fill=\"#0000FF\"/>\n",
       "<path class=\"atom-27\" d=\"M 53.7 144.3 Q 53.7 143.1, 54.3 142.4 Q 54.9 141.8, 56.0 141.8 Q 57.1 141.8, 57.7 142.4 Q 58.3 143.1, 58.3 144.3 Q 58.3 145.5, 57.7 146.2 Q 57.1 146.9, 56.0 146.9 Q 54.9 146.9, 54.3 146.2 Q 53.7 145.5, 53.7 144.3 M 56.0 146.3 Q 56.8 146.3, 57.2 145.8 Q 57.6 145.3, 57.6 144.3 Q 57.6 143.3, 57.2 142.8 Q 56.8 142.3, 56.0 142.3 Q 55.3 142.3, 54.8 142.8 Q 54.4 143.3, 54.4 144.3 Q 54.4 145.3, 54.8 145.8 Q 55.3 146.3, 56.0 146.3 \" fill=\"#FF0000\"/>\n",
       "<path class=\"atom-28\" d=\"M 27.2 129.3 Q 27.2 128.1, 27.8 127.4 Q 28.3 126.7, 29.5 126.7 Q 30.6 126.7, 31.2 127.4 Q 31.7 128.1, 31.7 129.3 Q 31.7 130.5, 31.1 131.2 Q 30.5 131.9, 29.5 131.9 Q 28.4 131.9, 27.8 131.2 Q 27.2 130.5, 27.2 129.3 M 29.5 131.3 Q 30.2 131.3, 30.6 130.8 Q 31.0 130.3, 31.0 129.3 Q 31.0 128.3, 30.6 127.8 Q 30.2 127.3, 29.5 127.3 Q 28.7 127.3, 28.3 127.8 Q 27.9 128.3, 27.9 129.3 Q 27.9 130.3, 28.3 130.8 Q 28.7 131.3, 29.5 131.3 \" fill=\"#FF0000\"/>\n",
       "<path class=\"atom-30\" d=\"M 26.5 94.4 Q 26.5 93.1, 27.1 92.5 Q 27.7 91.8, 28.8 91.8 Q 29.8 91.8, 30.3 92.6 L 29.9 93.0 Q 29.5 92.4, 28.8 92.4 Q 28.0 92.4, 27.6 92.9 Q 27.2 93.4, 27.2 94.4 Q 27.2 95.4, 27.6 95.9 Q 28.0 96.4, 28.8 96.4 Q 29.4 96.4, 30.0 96.1 L 30.2 96.6 Q 30.0 96.8, 29.6 96.9 Q 29.2 97.0, 28.7 97.0 Q 27.7 97.0, 27.1 96.3 Q 26.5 95.6, 26.5 94.4 \" fill=\"#00CC00\"/>\n",
       "<path class=\"atom-30\" d=\"M 30.8 91.5 L 31.5 91.5 L 31.5 96.9 L 30.8 96.9 L 30.8 91.5 \" fill=\"#00CC00\"/>\n",
       "<path class=\"bond-0 atom-0 atom-1\" d=\"M 262.2,43.8 L 256.1,60.4\" style=\"fill:none;fill-rule:evenodd;stroke:#000000;stroke-width:2.0px;stroke-linecap:butt;stroke-linejoin:miter;stroke-opacity:1\"/>\n",
       "<path class=\"bond-1 atom-1 atom-2\" d=\"M 256.1,60.4 L 267.3,73.9\" style=\"fill:none;fill-rule:evenodd;stroke:#000000;stroke-width:2.0px;stroke-linecap:butt;stroke-linejoin:miter;stroke-opacity:1\"/>\n",
       "<path class=\"bond-2 atom-2 atom-3\" d=\"M 267.3,73.9 L 261.2,90.4\" style=\"fill:none;fill-rule:evenodd;stroke:#000000;stroke-width:2.0px;stroke-linecap:butt;stroke-linejoin:miter;stroke-opacity:1\"/>\n",
       "<path class=\"bond-3 atom-3 atom-4\" d=\"M 261.2,90.4 L 272.4,104.0\" style=\"fill:none;fill-rule:evenodd;stroke:#000000;stroke-width:2.0px;stroke-linecap:butt;stroke-linejoin:miter;stroke-opacity:1\"/>\n",
       "<path class=\"bond-4 atom-4 atom-5\" d=\"M 271.9,105.4 L 279.5,104.1\" style=\"fill:none;fill-rule:evenodd;stroke:#000000;stroke-width:2.0px;stroke-linecap:butt;stroke-linejoin:miter;stroke-opacity:1\"/>\n",
       "<path class=\"bond-4 atom-4 atom-5\" d=\"M 279.5,104.1 L 287.2,102.9\" style=\"fill:none;fill-rule:evenodd;stroke:#FF0000;stroke-width:2.0px;stroke-linecap:butt;stroke-linejoin:miter;stroke-opacity:1\"/>\n",
       "<path class=\"bond-4 atom-4 atom-5\" d=\"M 271.5,102.8 L 279.1,101.5\" style=\"fill:none;fill-rule:evenodd;stroke:#000000;stroke-width:2.0px;stroke-linecap:butt;stroke-linejoin:miter;stroke-opacity:1\"/>\n",
       "<path class=\"bond-4 atom-4 atom-5\" d=\"M 279.1,101.5 L 286.7,100.3\" style=\"fill:none;fill-rule:evenodd;stroke:#FF0000;stroke-width:2.0px;stroke-linecap:butt;stroke-linejoin:miter;stroke-opacity:1\"/>\n",
       "<path class=\"bond-5 atom-4 atom-6\" d=\"M 272.4,104.0 L 270.0,110.7\" style=\"fill:none;fill-rule:evenodd;stroke:#000000;stroke-width:2.0px;stroke-linecap:butt;stroke-linejoin:miter;stroke-opacity:1\"/>\n",
       "<path class=\"bond-5 atom-4 atom-6\" d=\"M 270.0,110.7 L 267.5,117.5\" style=\"fill:none;fill-rule:evenodd;stroke:#0000FF;stroke-width:2.0px;stroke-linecap:butt;stroke-linejoin:miter;stroke-opacity:1\"/>\n",
       "<path class=\"bond-6 atom-6 atom-7\" d=\"M 268.8,123.5 L 273.2,128.8\" style=\"fill:none;fill-rule:evenodd;stroke:#0000FF;stroke-width:2.0px;stroke-linecap:butt;stroke-linejoin:miter;stroke-opacity:1\"/>\n",
       "<path class=\"bond-6 atom-6 atom-7\" d=\"M 273.2,128.8 L 277.6,134.1\" style=\"fill:none;fill-rule:evenodd;stroke:#000000;stroke-width:2.0px;stroke-linecap:butt;stroke-linejoin:miter;stroke-opacity:1\"/>\n",
       "<path class=\"bond-7 atom-7 atom-8\" d=\"M 277.6,134.1 L 294.9,131.2\" style=\"fill:none;fill-rule:evenodd;stroke:#000000;stroke-width:2.0px;stroke-linecap:butt;stroke-linejoin:miter;stroke-opacity:1\"/>\n",
       "<path class=\"bond-8 atom-8 atom-9\" d=\"M 294.9,131.2 L 301.1,114.6\" style=\"fill:none;fill-rule:evenodd;stroke:#000000;stroke-width:2.0px;stroke-linecap:butt;stroke-linejoin:miter;stroke-opacity:1\"/>\n",
       "<path class=\"bond-8 atom-8 atom-9\" d=\"M 297.9,130.6 L 303.0,117.0\" style=\"fill:none;fill-rule:evenodd;stroke:#000000;stroke-width:2.0px;stroke-linecap:butt;stroke-linejoin:miter;stroke-opacity:1\"/>\n",
       "<path class=\"bond-9 atom-9 atom-10\" d=\"M 301.1,114.6 L 318.4,111.7\" style=\"fill:none;fill-rule:evenodd;stroke:#000000;stroke-width:2.0px;stroke-linecap:butt;stroke-linejoin:miter;stroke-opacity:1\"/>\n",
       "<path class=\"bond-10 atom-10 atom-11\" d=\"M 318.4,111.7 L 329.7,125.3\" style=\"fill:none;fill-rule:evenodd;stroke:#000000;stroke-width:2.0px;stroke-linecap:butt;stroke-linejoin:miter;stroke-opacity:1\"/>\n",
       "<path class=\"bond-10 atom-10 atom-11\" d=\"M 317.4,114.6 L 326.7,125.8\" style=\"fill:none;fill-rule:evenodd;stroke:#000000;stroke-width:2.0px;stroke-linecap:butt;stroke-linejoin:miter;stroke-opacity:1\"/>\n",
       "<path class=\"bond-11 atom-11 atom-12\" d=\"M 329.7,125.3 L 323.5,141.8\" style=\"fill:none;fill-rule:evenodd;stroke:#000000;stroke-width:2.0px;stroke-linecap:butt;stroke-linejoin:miter;stroke-opacity:1\"/>\n",
       "<path class=\"bond-12 atom-12 atom-13\" d=\"M 323.5,141.8 L 306.2,144.7\" style=\"fill:none;fill-rule:evenodd;stroke:#000000;stroke-width:2.0px;stroke-linecap:butt;stroke-linejoin:miter;stroke-opacity:1\"/>\n",
       "<path class=\"bond-12 atom-12 atom-13\" d=\"M 321.6,139.4 L 307.2,141.9\" style=\"fill:none;fill-rule:evenodd;stroke:#000000;stroke-width:2.0px;stroke-linecap:butt;stroke-linejoin:miter;stroke-opacity:1\"/>\n",
       "<path class=\"bond-13 atom-11 atom-14\" d=\"M 329.7,125.3 L 347.0,122.3\" style=\"fill:none;fill-rule:evenodd;stroke:#000000;stroke-width:2.0px;stroke-linecap:butt;stroke-linejoin:miter;stroke-opacity:1\"/>\n",
       "<path class=\"bond-14 atom-14 atom-15\" d=\"M 347.0,122.3 L 358.3,135.9\" style=\"fill:none;fill-rule:evenodd;stroke:#000000;stroke-width:2.0px;stroke-linecap:butt;stroke-linejoin:miter;stroke-opacity:1\"/>\n",
       "<path class=\"bond-14 atom-14 atom-15\" d=\"M 350.0,121.8 L 359.3,133.0\" style=\"fill:none;fill-rule:evenodd;stroke:#000000;stroke-width:2.0px;stroke-linecap:butt;stroke-linejoin:miter;stroke-opacity:1\"/>\n",
       "<path class=\"bond-15 atom-15 atom-16\" d=\"M 358.3,135.9 L 375.6,132.9\" style=\"fill:none;fill-rule:evenodd;stroke:#000000;stroke-width:2.0px;stroke-linecap:butt;stroke-linejoin:miter;stroke-opacity:1\"/>\n",
       "<path class=\"bond-16 atom-16 atom-17\" d=\"M 375.6,132.9 L 381.8,116.4\" style=\"fill:none;fill-rule:evenodd;stroke:#000000;stroke-width:2.0px;stroke-linecap:butt;stroke-linejoin:miter;stroke-opacity:1\"/>\n",
       "<path class=\"bond-16 atom-16 atom-17\" d=\"M 373.7,130.6 L 378.8,116.9\" style=\"fill:none;fill-rule:evenodd;stroke:#000000;stroke-width:2.0px;stroke-linecap:butt;stroke-linejoin:miter;stroke-opacity:1\"/>\n",
       "<path class=\"bond-17 atom-17 atom-18\" d=\"M 381.8,116.4 L 370.5,102.9\" style=\"fill:none;fill-rule:evenodd;stroke:#000000;stroke-width:2.0px;stroke-linecap:butt;stroke-linejoin:miter;stroke-opacity:1\"/>\n",
       "<path class=\"bond-18 atom-18 atom-19\" d=\"M 370.5,102.9 L 353.2,105.8\" style=\"fill:none;fill-rule:evenodd;stroke:#000000;stroke-width:2.0px;stroke-linecap:butt;stroke-linejoin:miter;stroke-opacity:1\"/>\n",
       "<path class=\"bond-18 atom-18 atom-19\" d=\"M 369.5,105.7 L 355.1,108.1\" style=\"fill:none;fill-rule:evenodd;stroke:#000000;stroke-width:2.0px;stroke-linecap:butt;stroke-linejoin:miter;stroke-opacity:1\"/>\n",
       "<path class=\"bond-19 atom-19 atom-20\" d=\"M 353.2,105.8 L 341.9,92.2\" style=\"fill:none;fill-rule:evenodd;stroke:#000000;stroke-width:2.0px;stroke-linecap:butt;stroke-linejoin:miter;stroke-opacity:1\"/>\n",
       "<path class=\"bond-20 atom-20 atom-21\" d=\"M 341.9,92.2 L 334.4,92.7\" style=\"fill:none;fill-rule:evenodd;stroke:#000000;stroke-width:2.0px;stroke-linecap:butt;stroke-linejoin:miter;stroke-opacity:1\"/>\n",
       "<path class=\"bond-20 atom-20 atom-21\" d=\"M 334.4,92.7 L 326.8,93.2\" style=\"fill:none;fill-rule:evenodd;stroke:#0000FF;stroke-width:2.0px;stroke-linecap:butt;stroke-linejoin:miter;stroke-opacity:1\"/>\n",
       "<path class=\"bond-20 atom-20 atom-21\" d=\"M 339.9,89.7 L 333.3,90.1\" style=\"fill:none;fill-rule:evenodd;stroke:#000000;stroke-width:2.0px;stroke-linecap:butt;stroke-linejoin:miter;stroke-opacity:1\"/>\n",
       "<path class=\"bond-20 atom-20 atom-21\" d=\"M 333.3,90.1 L 326.7,90.5\" style=\"fill:none;fill-rule:evenodd;stroke:#0000FF;stroke-width:2.0px;stroke-linecap:butt;stroke-linejoin:miter;stroke-opacity:1\"/>\n",
       "<path class=\"bond-21 atom-21 atom-22\" d=\"M 323.1,90.3 L 319.1,80.0\" style=\"fill:none;fill-rule:evenodd;stroke:#0000FF;stroke-width:2.0px;stroke-linecap:butt;stroke-linejoin:miter;stroke-opacity:1\"/>\n",
       "<path class=\"bond-22 atom-22 atom-23\" d=\"M 320.3,74.9 L 329.0,67.8\" style=\"fill:none;fill-rule:evenodd;stroke:#0000FF;stroke-width:2.0px;stroke-linecap:butt;stroke-linejoin:miter;stroke-opacity:1\"/>\n",
       "<path class=\"bond-23 atom-23 atom-24\" d=\"M 333.9,67.3 L 343.8,73.6\" style=\"fill:none;fill-rule:evenodd;stroke:#0000FF;stroke-width:2.0px;stroke-linecap:butt;stroke-linejoin:miter;stroke-opacity:1\"/>\n",
       "<path class=\"bond-23 atom-23 atom-24\" d=\"M 332.5,69.5 L 342.4,75.8\" style=\"fill:none;fill-rule:evenodd;stroke:#0000FF;stroke-width:2.0px;stroke-linecap:butt;stroke-linejoin:miter;stroke-opacity:1\"/>\n",
       "<path class=\"bond-24 atom-6 atom-25\" d=\"M 263.8,120.9 L 256.4,122.2\" style=\"fill:none;fill-rule:evenodd;stroke:#0000FF;stroke-width:2.0px;stroke-linecap:butt;stroke-linejoin:miter;stroke-opacity:1\"/>\n",
       "<path class=\"bond-24 atom-6 atom-25\" d=\"M 256.4,122.2 L 248.9,123.5\" style=\"fill:none;fill-rule:evenodd;stroke:#000000;stroke-width:2.0px;stroke-linecap:butt;stroke-linejoin:miter;stroke-opacity:1\"/>\n",
       "<path class=\"bond-25 atom-25 atom-26\" d=\"M 247.0,120.6 L 246.4,121.0\" style=\"fill:none;fill-rule:evenodd;stroke:#000000;stroke-width:1.0px;stroke-linecap:butt;stroke-linejoin:miter;stroke-opacity:1\"/>\n",
       "<path class=\"bond-25 atom-25 atom-26\" d=\"M 245.0,117.6 L 243.9,118.5\" style=\"fill:none;fill-rule:evenodd;stroke:#000000;stroke-width:1.0px;stroke-linecap:butt;stroke-linejoin:miter;stroke-opacity:1\"/>\n",
       "<path class=\"bond-25 atom-25 atom-26\" d=\"M 243.0,114.7 L 241.4,116.0\" style=\"fill:none;fill-rule:evenodd;stroke:#000000;stroke-width:1.0px;stroke-linecap:butt;stroke-linejoin:miter;stroke-opacity:1\"/>\n",
       "<path class=\"bond-25 atom-25 atom-26\" d=\"M 241.0,111.8 L 239.0,113.5\" style=\"fill:none;fill-rule:evenodd;stroke:#000000;stroke-width:1.0px;stroke-linecap:butt;stroke-linejoin:miter;stroke-opacity:1\"/>\n",
       "<path class=\"bond-26 atom-26 atom-27\" d=\"M 237.7,109.9 L 220.3,112.9\" style=\"fill:none;fill-rule:evenodd;stroke:#000000;stroke-width:2.0px;stroke-linecap:butt;stroke-linejoin:miter;stroke-opacity:1\"/>\n",
       "<path class=\"bond-27 atom-26 atom-28\" d=\"M 237.7,109.9 L 243.8,93.4\" style=\"fill:none;fill-rule:evenodd;stroke:#000000;stroke-width:2.0px;stroke-linecap:butt;stroke-linejoin:miter;stroke-opacity:1\"/>\n",
       "<path class=\"bond-28 atom-25 atom-29\" d=\"M 248.9,123.5 L 242.8,140.0\" style=\"fill:none;fill-rule:evenodd;stroke:#000000;stroke-width:2.0px;stroke-linecap:butt;stroke-linejoin:miter;stroke-opacity:1\"/>\n",
       "<path class=\"bond-29 atom-29 atom-30\" d=\"M 241.3,140.2 L 245.9,145.8\" style=\"fill:none;fill-rule:evenodd;stroke:#000000;stroke-width:2.0px;stroke-linecap:butt;stroke-linejoin:miter;stroke-opacity:1\"/>\n",
       "<path class=\"bond-29 atom-29 atom-30\" d=\"M 245.9,145.8 L 250.5,151.3\" style=\"fill:none;fill-rule:evenodd;stroke:#FF0000;stroke-width:2.0px;stroke-linecap:butt;stroke-linejoin:miter;stroke-opacity:1\"/>\n",
       "<path class=\"bond-29 atom-29 atom-30\" d=\"M 243.3,138.6 L 247.9,144.1\" style=\"fill:none;fill-rule:evenodd;stroke:#000000;stroke-width:2.0px;stroke-linecap:butt;stroke-linejoin:miter;stroke-opacity:1\"/>\n",
       "<path class=\"bond-29 atom-29 atom-30\" d=\"M 247.9,144.1 L 252.5,149.6\" style=\"fill:none;fill-rule:evenodd;stroke:#FF0000;stroke-width:2.0px;stroke-linecap:butt;stroke-linejoin:miter;stroke-opacity:1\"/>\n",
       "<path class=\"bond-30 atom-29 atom-31\" d=\"M 242.8,140.0 L 235.6,141.2\" style=\"fill:none;fill-rule:evenodd;stroke:#000000;stroke-width:2.0px;stroke-linecap:butt;stroke-linejoin:miter;stroke-opacity:1\"/>\n",
       "<path class=\"bond-30 atom-29 atom-31\" d=\"M 235.6,141.2 L 228.3,142.5\" style=\"fill:none;fill-rule:evenodd;stroke:#FF0000;stroke-width:2.0px;stroke-linecap:butt;stroke-linejoin:miter;stroke-opacity:1\"/>\n",
       "<path class=\"bond-31 atom-13 atom-8\" d=\"M 306.2,144.7 L 294.9,131.2\" style=\"fill:none;fill-rule:evenodd;stroke:#000000;stroke-width:2.0px;stroke-linecap:butt;stroke-linejoin:miter;stroke-opacity:1\"/>\n",
       "<path class=\"bond-32 atom-19 atom-14\" d=\"M 353.2,105.8 L 347.0,122.3\" style=\"fill:none;fill-rule:evenodd;stroke:#000000;stroke-width:2.0px;stroke-linecap:butt;stroke-linejoin:miter;stroke-opacity:1\"/>\n",
       "<path class=\"bond-33 atom-24 atom-20\" d=\"M 345.5,78.2 L 343.7,85.2\" style=\"fill:none;fill-rule:evenodd;stroke:#0000FF;stroke-width:2.0px;stroke-linecap:butt;stroke-linejoin:miter;stroke-opacity:1\"/>\n",
       "<path class=\"bond-33 atom-24 atom-20\" d=\"M 343.7,85.2 L 341.9,92.2\" style=\"fill:none;fill-rule:evenodd;stroke:#000000;stroke-width:2.0px;stroke-linecap:butt;stroke-linejoin:miter;stroke-opacity:1\"/>\n",
       "<path d=\"M 256.4,59.5 L 256.1,60.4 L 256.7,61.0\" style=\"fill:none;stroke:#000000;stroke-width:2.0px;stroke-linecap:butt;stroke-linejoin:miter;stroke-opacity:1;\"/>\n",
       "<path d=\"M 266.8,73.2 L 267.3,73.9 L 267.0,74.7\" style=\"fill:none;stroke:#000000;stroke-width:2.0px;stroke-linecap:butt;stroke-linejoin:miter;stroke-opacity:1;\"/>\n",
       "<path d=\"M 261.5,89.6 L 261.2,90.4 L 261.8,91.1\" style=\"fill:none;stroke:#000000;stroke-width:2.0px;stroke-linecap:butt;stroke-linejoin:miter;stroke-opacity:1;\"/>\n",
       "<path d=\"M 271.9,103.3 L 272.4,104.0 L 272.3,104.3\" style=\"fill:none;stroke:#000000;stroke-width:2.0px;stroke-linecap:butt;stroke-linejoin:miter;stroke-opacity:1;\"/>\n",
       "<path d=\"M 277.3,133.8 L 277.6,134.1 L 278.4,134.0\" style=\"fill:none;stroke:#000000;stroke-width:2.0px;stroke-linecap:butt;stroke-linejoin:miter;stroke-opacity:1;\"/>\n",
       "<path d=\"M 300.8,115.5 L 301.1,114.6 L 301.9,114.5\" style=\"fill:none;stroke:#000000;stroke-width:2.0px;stroke-linecap:butt;stroke-linejoin:miter;stroke-opacity:1;\"/>\n",
       "<path d=\"M 317.6,111.8 L 318.4,111.7 L 319.0,112.4\" style=\"fill:none;stroke:#000000;stroke-width:2.0px;stroke-linecap:butt;stroke-linejoin:miter;stroke-opacity:1;\"/>\n",
       "<path d=\"M 323.8,141.0 L 323.5,141.8 L 322.7,141.9\" style=\"fill:none;stroke:#000000;stroke-width:2.0px;stroke-linecap:butt;stroke-linejoin:miter;stroke-opacity:1;\"/>\n",
       "<path d=\"M 307.0,144.6 L 306.2,144.7 L 305.6,144.0\" style=\"fill:none;stroke:#000000;stroke-width:2.0px;stroke-linecap:butt;stroke-linejoin:miter;stroke-opacity:1;\"/>\n",
       "<path d=\"M 357.7,135.2 L 358.3,135.9 L 359.1,135.7\" style=\"fill:none;stroke:#000000;stroke-width:2.0px;stroke-linecap:butt;stroke-linejoin:miter;stroke-opacity:1;\"/>\n",
       "<path d=\"M 374.8,133.1 L 375.6,132.9 L 376.0,132.1\" style=\"fill:none;stroke:#000000;stroke-width:2.0px;stroke-linecap:butt;stroke-linejoin:miter;stroke-opacity:1;\"/>\n",
       "<path d=\"M 381.5,117.3 L 381.8,116.4 L 381.2,115.7\" style=\"fill:none;stroke:#000000;stroke-width:2.0px;stroke-linecap:butt;stroke-linejoin:miter;stroke-opacity:1;\"/>\n",
       "<path d=\"M 371.1,103.5 L 370.5,102.9 L 369.7,103.0\" style=\"fill:none;stroke:#000000;stroke-width:2.0px;stroke-linecap:butt;stroke-linejoin:miter;stroke-opacity:1;\"/>\n",
       "<path d=\"M 249.3,123.4 L 248.9,123.5 L 248.6,124.3\" style=\"fill:none;stroke:#000000;stroke-width:2.0px;stroke-linecap:butt;stroke-linejoin:miter;stroke-opacity:1;\"/>\n",
       "<path d=\"M 236.8,110.1 L 237.7,109.9 L 238.0,109.1\" style=\"fill:none;stroke:#000000;stroke-width:2.0px;stroke-linecap:butt;stroke-linejoin:miter;stroke-opacity:1;\"/>\n",
       "<path d=\"M 243.1,139.2 L 242.8,140.0 L 242.4,140.1\" style=\"fill:none;stroke:#000000;stroke-width:2.0px;stroke-linecap:butt;stroke-linejoin:miter;stroke-opacity:1;\"/>\n",
       "<path class=\"atom-5\" d=\"M 287.5 101.1 Q 287.5 99.9, 288.1 99.2 Q 288.7 98.5, 289.8 98.5 Q 290.9 98.5, 291.5 99.2 Q 292.1 99.9, 292.1 101.1 Q 292.1 102.3, 291.5 103.0 Q 290.9 103.7, 289.8 103.7 Q 288.7 103.7, 288.1 103.0 Q 287.5 102.3, 287.5 101.1 M 289.8 103.1 Q 290.6 103.1, 291.0 102.6 Q 291.4 102.1, 291.4 101.1 Q 291.4 100.1, 291.0 99.6 Q 290.6 99.1, 289.8 99.1 Q 289.1 99.1, 288.6 99.6 Q 288.2 100.1, 288.2 101.1 Q 288.2 102.1, 288.6 102.6 Q 289.1 103.1, 289.8 103.1 \" fill=\"#FF0000\"/>\n",
       "<path class=\"atom-6\" d=\"M 265.2 118.0 L 266.8 120.7 Q 267.0 120.9, 267.3 121.4 Q 267.5 121.9, 267.5 121.9 L 267.5 118.0 L 268.2 118.0 L 268.2 123.0 L 267.5 123.0 L 265.8 120.1 Q 265.6 119.8, 265.3 119.4 Q 265.1 119.0, 265.1 118.9 L 265.1 123.0 L 264.4 123.0 L 264.4 118.0 L 265.2 118.0 \" fill=\"#0000FF\"/>\n",
       "<path class=\"atom-21\" d=\"M 323.2 90.8 L 324.9 93.5 Q 325.0 93.8, 325.3 94.2 Q 325.6 94.7, 325.6 94.7 L 325.6 90.8 L 326.2 90.8 L 326.2 95.8 L 325.6 95.8 L 323.8 92.9 Q 323.6 92.6, 323.4 92.2 Q 323.2 91.8, 323.1 91.7 L 323.1 95.8 L 322.5 95.8 L 322.5 90.8 L 323.2 90.8 \" fill=\"#0000FF\"/>\n",
       "<path class=\"atom-22\" d=\"M 311.1 74.5 L 311.8 74.5 L 311.8 76.6 L 314.3 76.6 L 314.3 74.5 L 315.0 74.5 L 315.0 79.5 L 314.3 79.5 L 314.3 77.2 L 311.8 77.2 L 311.8 79.5 L 311.1 79.5 L 311.1 74.5 \" fill=\"#0000FF\"/>\n",
       "<path class=\"atom-22\" d=\"M 316.8 74.5 L 318.4 77.1 Q 318.6 77.4, 318.8 77.8 Q 319.1 78.3, 319.1 78.3 L 319.1 74.5 L 319.8 74.5 L 319.8 79.5 L 319.1 79.5 L 317.3 76.6 Q 317.1 76.2, 316.9 75.8 Q 316.7 75.5, 316.6 75.3 L 316.6 79.5 L 316.0 79.5 L 316.0 74.5 L 316.8 74.5 \" fill=\"#0000FF\"/>\n",
       "<path class=\"atom-23\" d=\"M 330.3 63.2 L 332.0 65.9 Q 332.1 66.1, 332.4 66.6 Q 332.6 67.1, 332.7 67.1 L 332.7 63.2 L 333.3 63.2 L 333.3 68.2 L 332.6 68.2 L 330.9 65.3 Q 330.7 65.0, 330.5 64.6 Q 330.2 64.2, 330.2 64.1 L 330.2 68.2 L 329.5 68.2 L 329.5 63.2 L 330.3 63.2 \" fill=\"#0000FF\"/>\n",
       "<path class=\"atom-24\" d=\"M 345.2 72.7 L 346.8 75.3 Q 347.0 75.6, 347.3 76.0 Q 347.5 76.5, 347.5 76.5 L 347.5 72.7 L 348.2 72.7 L 348.2 77.7 L 347.5 77.7 L 345.8 74.8 Q 345.6 74.4, 345.3 74.0 Q 345.1 73.7, 345.1 73.5 L 345.1 77.7 L 344.4 77.7 L 344.4 72.7 L 345.2 72.7 \" fill=\"#0000FF\"/>\n",
       "<path class=\"atom-30\" d=\"M 251.8 153.6 Q 251.8 152.4, 252.3 151.7 Q 252.9 151.0, 254.0 151.0 Q 255.2 151.0, 255.7 151.7 Q 256.3 152.4, 256.3 153.6 Q 256.3 154.8, 255.7 155.5 Q 255.1 156.2, 254.0 156.2 Q 252.9 156.2, 252.3 155.5 Q 251.8 154.8, 251.8 153.6 M 254.0 155.6 Q 254.8 155.6, 255.2 155.1 Q 255.6 154.6, 255.6 153.6 Q 255.6 152.6, 255.2 152.1 Q 254.8 151.6, 254.0 151.6 Q 253.3 151.6, 252.9 152.1 Q 252.5 152.6, 252.5 153.6 Q 252.5 154.6, 252.9 155.1 Q 253.3 155.6, 254.0 155.6 \" fill=\"#FF0000\"/>\n",
       "<path class=\"atom-31\" d=\"M 218.2 140.5 L 218.9 140.5 L 218.9 142.6 L 221.4 142.6 L 221.4 140.5 L 222.1 140.5 L 222.1 145.5 L 221.4 145.5 L 221.4 143.2 L 218.9 143.2 L 218.9 145.5 L 218.2 145.5 L 218.2 140.5 \" fill=\"#FF0000\"/>\n",
       "<path class=\"atom-31\" d=\"M 223.1 143.0 Q 223.1 141.8, 223.7 141.1 Q 224.3 140.4, 225.4 140.4 Q 226.5 140.4, 227.1 141.1 Q 227.7 141.8, 227.7 143.0 Q 227.7 144.2, 227.1 144.9 Q 226.5 145.5, 225.4 145.5 Q 224.3 145.5, 223.7 144.9 Q 223.1 144.2, 223.1 143.0 M 225.4 145.0 Q 226.2 145.0, 226.6 144.5 Q 227.0 144.0, 227.0 143.0 Q 227.0 142.0, 226.6 141.5 Q 226.2 141.0, 225.4 141.0 Q 224.7 141.0, 224.3 141.5 Q 223.9 142.0, 223.9 143.0 Q 223.9 144.0, 224.3 144.5 Q 224.7 145.0, 225.4 145.0 \" fill=\"#FF0000\"/>\n",
       "<path class=\"bond-0 atom-0 atom-1\" d=\"M 515.4,55.6 L 511.6,72.8\" style=\"fill:none;fill-rule:evenodd;stroke:#000000;stroke-width:2.0px;stroke-linecap:butt;stroke-linejoin:miter;stroke-opacity:1\"/>\n",
       "<path class=\"bond-1 atom-1 atom-2\" d=\"M 511.6,72.8 L 494.8,78.2\" style=\"fill:none;fill-rule:evenodd;stroke:#000000;stroke-width:2.0px;stroke-linecap:butt;stroke-linejoin:miter;stroke-opacity:1\"/>\n",
       "<path class=\"bond-2 atom-2 atom-3\" d=\"M 494.8,78.2 L 491.0,95.4\" style=\"fill:none;fill-rule:evenodd;stroke:#000000;stroke-width:2.0px;stroke-linecap:butt;stroke-linejoin:miter;stroke-opacity:1\"/>\n",
       "<path class=\"bond-3 atom-3 atom-4\" d=\"M 491.0,95.4 L 474.2,100.7\" style=\"fill:none;fill-rule:evenodd;stroke:#000000;stroke-width:2.0px;stroke-linecap:butt;stroke-linejoin:miter;stroke-opacity:1\"/>\n",
       "<path class=\"bond-4 atom-4 atom-5\" d=\"M 474.2,100.7 L 468.4,96.4\" style=\"fill:none;fill-rule:evenodd;stroke:#000000;stroke-width:2.0px;stroke-linecap:butt;stroke-linejoin:miter;stroke-opacity:1\"/>\n",
       "<path class=\"bond-4 atom-4 atom-5\" d=\"M 468.4,96.4 L 462.5,92.1\" style=\"fill:none;fill-rule:evenodd;stroke:#0000FF;stroke-width:2.0px;stroke-linecap:butt;stroke-linejoin:miter;stroke-opacity:1\"/>\n",
       "<path class=\"bond-4 atom-4 atom-5\" d=\"M 471.1,101.7 L 466.0,97.9\" style=\"fill:none;fill-rule:evenodd;stroke:#000000;stroke-width:2.0px;stroke-linecap:butt;stroke-linejoin:miter;stroke-opacity:1\"/>\n",
       "<path class=\"bond-4 atom-4 atom-5\" d=\"M 466.0,97.9 L 461.0,94.2\" style=\"fill:none;fill-rule:evenodd;stroke:#0000FF;stroke-width:2.0px;stroke-linecap:butt;stroke-linejoin:miter;stroke-opacity:1\"/>\n",
       "<path class=\"bond-5 atom-5 atom-6\" d=\"M 457.6,92.0 L 451.7,96.2\" style=\"fill:none;fill-rule:evenodd;stroke:#0000FF;stroke-width:2.0px;stroke-linecap:butt;stroke-linejoin:miter;stroke-opacity:1\"/>\n",
       "<path class=\"bond-5 atom-5 atom-6\" d=\"M 451.7,96.2 L 445.7,100.5\" style=\"fill:none;fill-rule:evenodd;stroke:#000000;stroke-width:2.0px;stroke-linecap:butt;stroke-linejoin:miter;stroke-opacity:1\"/>\n",
       "<path class=\"bond-6 atom-6 atom-7\" d=\"M 445.7,100.5 L 451.1,117.3\" style=\"fill:none;fill-rule:evenodd;stroke:#000000;stroke-width:2.0px;stroke-linecap:butt;stroke-linejoin:miter;stroke-opacity:1\"/>\n",
       "<path class=\"bond-6 atom-6 atom-7\" d=\"M 448.8,101.5 L 453.0,114.6\" style=\"fill:none;fill-rule:evenodd;stroke:#000000;stroke-width:2.0px;stroke-linecap:butt;stroke-linejoin:miter;stroke-opacity:1\"/>\n",
       "<path class=\"bond-7 atom-7 atom-8\" d=\"M 451.1,117.3 L 458.6,117.3\" style=\"fill:none;fill-rule:evenodd;stroke:#000000;stroke-width:2.0px;stroke-linecap:butt;stroke-linejoin:miter;stroke-opacity:1\"/>\n",
       "<path class=\"bond-7 atom-7 atom-8\" d=\"M 458.6,117.3 L 466.2,117.4\" style=\"fill:none;fill-rule:evenodd;stroke:#0000FF;stroke-width:2.0px;stroke-linecap:butt;stroke-linejoin:miter;stroke-opacity:1\"/>\n",
       "<path class=\"bond-8 atom-8 atom-9\" d=\"M 470.9,120.5 L 474.9,126.1\" style=\"fill:none;fill-rule:evenodd;stroke:#0000FF;stroke-width:2.0px;stroke-linecap:butt;stroke-linejoin:miter;stroke-opacity:1\"/>\n",
       "<path class=\"bond-8 atom-8 atom-9\" d=\"M 474.9,126.1 L 478.9,131.7\" style=\"fill:none;fill-rule:evenodd;stroke:#000000;stroke-width:2.0px;stroke-linecap:butt;stroke-linejoin:miter;stroke-opacity:1\"/>\n",
       "<path class=\"bond-9 atom-9 atom-10\" d=\"M 478.9,131.7 L 496.5,130.0\" style=\"fill:none;fill-rule:evenodd;stroke:#000000;stroke-width:2.0px;stroke-linecap:butt;stroke-linejoin:miter;stroke-opacity:1\"/>\n",
       "<path class=\"bond-10 atom-10 atom-11\" d=\"M 496.5,130.0 L 506.7,144.4\" style=\"fill:none;fill-rule:evenodd;stroke:#000000;stroke-width:2.0px;stroke-linecap:butt;stroke-linejoin:miter;stroke-opacity:1\"/>\n",
       "<path class=\"bond-10 atom-10 atom-11\" d=\"M 499.5,129.7 L 508.0,141.6\" style=\"fill:none;fill-rule:evenodd;stroke:#000000;stroke-width:2.0px;stroke-linecap:butt;stroke-linejoin:miter;stroke-opacity:1\"/>\n",
       "<path class=\"bond-11 atom-11 atom-12\" d=\"M 506.7,144.4 L 524.2,142.7\" style=\"fill:none;fill-rule:evenodd;stroke:#000000;stroke-width:2.0px;stroke-linecap:butt;stroke-linejoin:miter;stroke-opacity:1\"/>\n",
       "<path class=\"bond-12 atom-12 atom-13\" d=\"M 524.2,142.7 L 531.5,126.6\" style=\"fill:none;fill-rule:evenodd;stroke:#000000;stroke-width:2.0px;stroke-linecap:butt;stroke-linejoin:miter;stroke-opacity:1\"/>\n",
       "<path class=\"bond-12 atom-12 atom-13\" d=\"M 522.5,140.2 L 528.5,126.9\" style=\"fill:none;fill-rule:evenodd;stroke:#000000;stroke-width:2.0px;stroke-linecap:butt;stroke-linejoin:miter;stroke-opacity:1\"/>\n",
       "<path class=\"bond-13 atom-13 atom-14\" d=\"M 531.5,126.6 L 521.3,112.3\" style=\"fill:none;fill-rule:evenodd;stroke:#000000;stroke-width:2.0px;stroke-linecap:butt;stroke-linejoin:miter;stroke-opacity:1\"/>\n",
       "<path class=\"bond-14 atom-14 atom-15\" d=\"M 521.3,112.3 L 503.7,114.0\" style=\"fill:none;fill-rule:evenodd;stroke:#000000;stroke-width:2.0px;stroke-linecap:butt;stroke-linejoin:miter;stroke-opacity:1\"/>\n",
       "<path class=\"bond-14 atom-14 atom-15\" d=\"M 520.0,115.1 L 505.5,116.5\" style=\"fill:none;fill-rule:evenodd;stroke:#000000;stroke-width:2.0px;stroke-linecap:butt;stroke-linejoin:miter;stroke-opacity:1\"/>\n",
       "<path class=\"bond-15 atom-13 atom-16\" d=\"M 531.5,126.6 L 549.1,124.9\" style=\"fill:none;fill-rule:evenodd;stroke:#000000;stroke-width:2.0px;stroke-linecap:butt;stroke-linejoin:miter;stroke-opacity:1\"/>\n",
       "<path class=\"bond-16 atom-16 atom-17\" d=\"M 549.1,124.9 L 559.3,139.2\" style=\"fill:none;fill-rule:evenodd;stroke:#000000;stroke-width:2.0px;stroke-linecap:butt;stroke-linejoin:miter;stroke-opacity:1\"/>\n",
       "<path class=\"bond-16 atom-16 atom-17\" d=\"M 552.1,124.6 L 560.6,136.5\" style=\"fill:none;fill-rule:evenodd;stroke:#000000;stroke-width:2.0px;stroke-linecap:butt;stroke-linejoin:miter;stroke-opacity:1\"/>\n",
       "<path class=\"bond-17 atom-17 atom-18\" d=\"M 559.3,139.2 L 576.9,137.5\" style=\"fill:none;fill-rule:evenodd;stroke:#000000;stroke-width:2.0px;stroke-linecap:butt;stroke-linejoin:miter;stroke-opacity:1\"/>\n",
       "<path class=\"bond-18 atom-18 atom-19\" d=\"M 576.9,137.5 L 584.1,121.5\" style=\"fill:none;fill-rule:evenodd;stroke:#000000;stroke-width:2.0px;stroke-linecap:butt;stroke-linejoin:miter;stroke-opacity:1\"/>\n",
       "<path class=\"bond-18 atom-18 atom-19\" d=\"M 575.1,135.0 L 581.1,121.8\" style=\"fill:none;fill-rule:evenodd;stroke:#000000;stroke-width:2.0px;stroke-linecap:butt;stroke-linejoin:miter;stroke-opacity:1\"/>\n",
       "<path class=\"bond-19 atom-19 atom-20\" d=\"M 584.1,121.5 L 573.9,107.1\" style=\"fill:none;fill-rule:evenodd;stroke:#000000;stroke-width:2.0px;stroke-linecap:butt;stroke-linejoin:miter;stroke-opacity:1\"/>\n",
       "<path class=\"bond-20 atom-20 atom-21\" d=\"M 573.9,107.1 L 556.4,108.9\" style=\"fill:none;fill-rule:evenodd;stroke:#000000;stroke-width:2.0px;stroke-linecap:butt;stroke-linejoin:miter;stroke-opacity:1\"/>\n",
       "<path class=\"bond-20 atom-20 atom-21\" d=\"M 572.6,109.9 L 558.1,111.3\" style=\"fill:none;fill-rule:evenodd;stroke:#000000;stroke-width:2.0px;stroke-linecap:butt;stroke-linejoin:miter;stroke-opacity:1\"/>\n",
       "<path class=\"bond-21 atom-21 atom-22\" d=\"M 556.4,108.9 L 546.1,94.5\" style=\"fill:none;fill-rule:evenodd;stroke:#000000;stroke-width:2.0px;stroke-linecap:butt;stroke-linejoin:miter;stroke-opacity:1\"/>\n",
       "<path class=\"bond-22 atom-22 atom-23\" d=\"M 546.1,94.5 L 538.5,94.5\" style=\"fill:none;fill-rule:evenodd;stroke:#000000;stroke-width:2.0px;stroke-linecap:butt;stroke-linejoin:miter;stroke-opacity:1\"/>\n",
       "<path class=\"bond-22 atom-22 atom-23\" d=\"M 538.5,94.5 L 531.0,94.4\" style=\"fill:none;fill-rule:evenodd;stroke:#0000FF;stroke-width:2.0px;stroke-linecap:butt;stroke-linejoin:miter;stroke-opacity:1\"/>\n",
       "<path class=\"bond-22 atom-22 atom-23\" d=\"M 544.2,91.9 L 537.6,91.8\" style=\"fill:none;fill-rule:evenodd;stroke:#000000;stroke-width:2.0px;stroke-linecap:butt;stroke-linejoin:miter;stroke-opacity:1\"/>\n",
       "<path class=\"bond-22 atom-22 atom-23\" d=\"M 537.6,91.8 L 531.0,91.8\" style=\"fill:none;fill-rule:evenodd;stroke:#0000FF;stroke-width:2.0px;stroke-linecap:butt;stroke-linejoin:miter;stroke-opacity:1\"/>\n",
       "<path class=\"bond-23 atom-23 atom-24\" d=\"M 527.5,91.3 L 524.1,80.7\" style=\"fill:none;fill-rule:evenodd;stroke:#0000FF;stroke-width:2.0px;stroke-linecap:butt;stroke-linejoin:miter;stroke-opacity:1\"/>\n",
       "<path class=\"bond-24 atom-24 atom-25\" d=\"M 525.6,75.8 L 535.0,69.1\" style=\"fill:none;fill-rule:evenodd;stroke:#0000FF;stroke-width:2.0px;stroke-linecap:butt;stroke-linejoin:miter;stroke-opacity:1\"/>\n",
       "<path class=\"bond-25 atom-25 atom-26\" d=\"M 540.0,69.2 L 549.2,76.0\" style=\"fill:none;fill-rule:evenodd;stroke:#0000FF;stroke-width:2.0px;stroke-linecap:butt;stroke-linejoin:miter;stroke-opacity:1\"/>\n",
       "<path class=\"bond-25 atom-25 atom-26\" d=\"M 538.4,71.3 L 547.6,78.1\" style=\"fill:none;fill-rule:evenodd;stroke:#0000FF;stroke-width:2.0px;stroke-linecap:butt;stroke-linejoin:miter;stroke-opacity:1\"/>\n",
       "<path class=\"bond-26 atom-7 atom-27\" d=\"M 451.1,117.3 L 440.6,131.5\" style=\"fill:none;fill-rule:evenodd;stroke:#000000;stroke-width:2.0px;stroke-linecap:butt;stroke-linejoin:miter;stroke-opacity:1\"/>\n",
       "<path class=\"bond-27 atom-27 atom-28\" d=\"M 440.6,131.5 L 433.3,130.6\" style=\"fill:none;fill-rule:evenodd;stroke:#000000;stroke-width:2.0px;stroke-linecap:butt;stroke-linejoin:miter;stroke-opacity:1\"/>\n",
       "<path class=\"bond-27 atom-27 atom-28\" d=\"M 433.3,130.6 L 426.0,129.8\" style=\"fill:none;fill-rule:evenodd;stroke:#FF0000;stroke-width:2.0px;stroke-linecap:butt;stroke-linejoin:miter;stroke-opacity:1\"/>\n",
       "<path class=\"bond-28 atom-6 atom-29\" d=\"M 445.7,100.5 L 437.8,97.8\" style=\"fill:none;fill-rule:evenodd;stroke:#000000;stroke-width:2.0px;stroke-linecap:butt;stroke-linejoin:miter;stroke-opacity:1\"/>\n",
       "<path class=\"bond-28 atom-6 atom-29\" d=\"M 437.8,97.8 L 429.9,95.2\" style=\"fill:none;fill-rule:evenodd;stroke:#00CC00;stroke-width:2.0px;stroke-linecap:butt;stroke-linejoin:miter;stroke-opacity:1\"/>\n",
       "<path class=\"bond-29 atom-8 atom-4\" d=\"M 469.7,114.3 L 472.0,107.5\" style=\"fill:none;fill-rule:evenodd;stroke:#0000FF;stroke-width:2.0px;stroke-linecap:butt;stroke-linejoin:miter;stroke-opacity:1\"/>\n",
       "<path class=\"bond-29 atom-8 atom-4\" d=\"M 472.0,107.5 L 474.2,100.7\" style=\"fill:none;fill-rule:evenodd;stroke:#000000;stroke-width:2.0px;stroke-linecap:butt;stroke-linejoin:miter;stroke-opacity:1\"/>\n",
       "<path class=\"bond-30 atom-15 atom-10\" d=\"M 503.7,114.0 L 496.5,130.0\" style=\"fill:none;fill-rule:evenodd;stroke:#000000;stroke-width:2.0px;stroke-linecap:butt;stroke-linejoin:miter;stroke-opacity:1\"/>\n",
       "<path class=\"bond-31 atom-21 atom-16\" d=\"M 556.4,108.9 L 549.1,124.9\" style=\"fill:none;fill-rule:evenodd;stroke:#000000;stroke-width:2.0px;stroke-linecap:butt;stroke-linejoin:miter;stroke-opacity:1\"/>\n",
       "<path class=\"bond-32 atom-26 atom-22\" d=\"M 550.6,80.9 L 548.4,87.7\" style=\"fill:none;fill-rule:evenodd;stroke:#0000FF;stroke-width:2.0px;stroke-linecap:butt;stroke-linejoin:miter;stroke-opacity:1\"/>\n",
       "<path class=\"bond-32 atom-26 atom-22\" d=\"M 548.4,87.7 L 546.1,94.5\" style=\"fill:none;fill-rule:evenodd;stroke:#000000;stroke-width:2.0px;stroke-linecap:butt;stroke-linejoin:miter;stroke-opacity:1\"/>\n",
       "<path d=\"M 511.8,72.0 L 511.6,72.8 L 510.8,73.1\" style=\"fill:none;stroke:#000000;stroke-width:2.0px;stroke-linecap:butt;stroke-linejoin:miter;stroke-opacity:1;\"/>\n",
       "<path d=\"M 495.7,77.9 L 494.8,78.2 L 494.6,79.0\" style=\"fill:none;stroke:#000000;stroke-width:2.0px;stroke-linecap:butt;stroke-linejoin:miter;stroke-opacity:1;\"/>\n",
       "<path d=\"M 491.2,94.5 L 491.0,95.4 L 490.2,95.6\" style=\"fill:none;stroke:#000000;stroke-width:2.0px;stroke-linecap:butt;stroke-linejoin:miter;stroke-opacity:1;\"/>\n",
       "<path d=\"M 478.7,131.5 L 478.9,131.7 L 479.8,131.7\" style=\"fill:none;stroke:#000000;stroke-width:2.0px;stroke-linecap:butt;stroke-linejoin:miter;stroke-opacity:1;\"/>\n",
       "<path d=\"M 506.2,143.6 L 506.7,144.4 L 507.6,144.3\" style=\"fill:none;stroke:#000000;stroke-width:2.0px;stroke-linecap:butt;stroke-linejoin:miter;stroke-opacity:1;\"/>\n",
       "<path d=\"M 523.4,142.7 L 524.2,142.7 L 524.6,141.8\" style=\"fill:none;stroke:#000000;stroke-width:2.0px;stroke-linecap:butt;stroke-linejoin:miter;stroke-opacity:1;\"/>\n",
       "<path d=\"M 521.8,113.0 L 521.3,112.3 L 520.4,112.4\" style=\"fill:none;stroke:#000000;stroke-width:2.0px;stroke-linecap:butt;stroke-linejoin:miter;stroke-opacity:1;\"/>\n",
       "<path d=\"M 504.6,113.9 L 503.7,114.0 L 503.4,114.8\" style=\"fill:none;stroke:#000000;stroke-width:2.0px;stroke-linecap:butt;stroke-linejoin:miter;stroke-opacity:1;\"/>\n",
       "<path d=\"M 558.8,138.5 L 559.3,139.2 L 560.2,139.1\" style=\"fill:none;stroke:#000000;stroke-width:2.0px;stroke-linecap:butt;stroke-linejoin:miter;stroke-opacity:1;\"/>\n",
       "<path d=\"M 576.0,137.6 L 576.9,137.5 L 577.2,136.7\" style=\"fill:none;stroke:#000000;stroke-width:2.0px;stroke-linecap:butt;stroke-linejoin:miter;stroke-opacity:1;\"/>\n",
       "<path d=\"M 583.8,122.3 L 584.1,121.5 L 583.6,120.8\" style=\"fill:none;stroke:#000000;stroke-width:2.0px;stroke-linecap:butt;stroke-linejoin:miter;stroke-opacity:1;\"/>\n",
       "<path d=\"M 574.4,107.9 L 573.9,107.1 L 573.0,107.2\" style=\"fill:none;stroke:#000000;stroke-width:2.0px;stroke-linecap:butt;stroke-linejoin:miter;stroke-opacity:1;\"/>\n",
       "<path d=\"M 441.1,130.7 L 440.6,131.5 L 440.2,131.4\" style=\"fill:none;stroke:#000000;stroke-width:2.0px;stroke-linecap:butt;stroke-linejoin:miter;stroke-opacity:1;\"/>\n",
       "<path class=\"atom-5\" d=\"M 459.0 87.7 L 460.6 90.4 Q 460.8 90.6, 461.0 91.1 Q 461.3 91.6, 461.3 91.6 L 461.3 87.7 L 462.0 87.7 L 462.0 92.7 L 461.3 92.7 L 459.5 89.8 Q 459.3 89.5, 459.1 89.1 Q 458.9 88.7, 458.8 88.6 L 458.8 92.7 L 458.2 92.7 L 458.2 87.7 L 459.0 87.7 \" fill=\"#0000FF\"/>\n",
       "<path class=\"atom-8\" d=\"M 467.6 114.9 L 469.2 117.6 Q 469.4 117.8, 469.6 118.3 Q 469.9 118.8, 469.9 118.8 L 469.9 114.9 L 470.6 114.9 L 470.6 119.9 L 469.9 119.9 L 468.1 117.0 Q 467.9 116.7, 467.7 116.3 Q 467.5 115.9, 467.4 115.8 L 467.4 119.9 L 466.8 119.9 L 466.8 114.9 L 467.6 114.9 \" fill=\"#0000FF\"/>\n",
       "<path class=\"atom-23\" d=\"M 527.4 91.9 L 529.0 94.5 Q 529.2 94.8, 529.4 95.3 Q 529.7 95.7, 529.7 95.8 L 529.7 91.9 L 530.4 91.9 L 530.4 96.9 L 529.7 96.9 L 527.9 94.0 Q 527.7 93.7, 527.5 93.3 Q 527.3 92.9, 527.2 92.8 L 527.2 96.9 L 526.6 96.9 L 526.6 91.9 L 527.4 91.9 \" fill=\"#0000FF\"/>\n",
       "<path class=\"atom-24\" d=\"M 516.4 75.1 L 517.1 75.1 L 517.1 77.2 L 519.6 77.2 L 519.6 75.1 L 520.3 75.1 L 520.3 80.1 L 519.6 80.1 L 519.6 77.8 L 517.1 77.8 L 517.1 80.1 L 516.4 80.1 L 516.4 75.1 \" fill=\"#0000FF\"/>\n",
       "<path class=\"atom-24\" d=\"M 522.1 75.1 L 523.7 77.7 Q 523.9 78.0, 524.1 78.5 Q 524.4 78.9, 524.4 79.0 L 524.4 75.1 L 525.1 75.1 L 525.1 80.1 L 524.4 80.1 L 522.6 77.2 Q 522.4 76.9, 522.2 76.5 Q 522.0 76.1, 521.9 76.0 L 521.9 80.1 L 521.3 80.1 L 521.3 75.1 L 522.1 75.1 \" fill=\"#0000FF\"/>\n",
       "<path class=\"atom-25\" d=\"M 536.4 64.8 L 538.0 67.5 Q 538.2 67.8, 538.5 68.2 Q 538.7 68.7, 538.7 68.7 L 538.7 64.8 L 539.4 64.8 L 539.4 69.8 L 538.7 69.8 L 537.0 66.9 Q 536.7 66.6, 536.5 66.2 Q 536.3 65.8, 536.3 65.7 L 536.3 69.8 L 535.6 69.8 L 535.6 64.8 L 536.4 64.8 \" fill=\"#0000FF\"/>\n",
       "<path class=\"atom-26\" d=\"M 550.6 75.3 L 552.2 78.0 Q 552.4 78.2, 552.6 78.7 Q 552.9 79.2, 552.9 79.2 L 552.9 75.3 L 553.6 75.3 L 553.6 80.3 L 552.9 80.3 L 551.1 77.4 Q 550.9 77.1, 550.7 76.7 Q 550.5 76.3, 550.4 76.2 L 550.4 80.3 L 549.8 80.3 L 549.8 75.3 L 550.6 75.3 \" fill=\"#0000FF\"/>\n",
       "<path class=\"atom-28\" d=\"M 415.9 127.0 L 416.5 127.0 L 416.5 129.1 L 419.1 129.1 L 419.1 127.0 L 419.8 127.0 L 419.8 132.0 L 419.1 132.0 L 419.1 129.7 L 416.5 129.7 L 416.5 132.0 L 415.9 132.0 L 415.9 127.0 \" fill=\"#FF0000\"/>\n",
       "<path class=\"atom-28\" d=\"M 420.8 129.5 Q 420.8 128.3, 421.4 127.6 Q 422.0 127.0, 423.1 127.0 Q 424.2 127.0, 424.8 127.6 Q 425.4 128.3, 425.4 129.5 Q 425.4 130.7, 424.8 131.4 Q 424.2 132.1, 423.1 132.1 Q 422.0 132.1, 421.4 131.4 Q 420.8 130.7, 420.8 129.5 M 423.1 131.5 Q 423.8 131.5, 424.2 131.0 Q 424.7 130.5, 424.7 129.5 Q 424.7 128.5, 424.2 128.0 Q 423.8 127.5, 423.1 127.5 Q 422.3 127.5, 421.9 128.0 Q 421.5 128.5, 421.5 129.5 Q 421.5 130.5, 421.9 131.0 Q 422.3 131.5, 423.1 131.5 \" fill=\"#FF0000\"/>\n",
       "<path class=\"atom-29\" d=\"M 424.3 95.1 Q 424.3 93.8, 424.9 93.2 Q 425.5 92.5, 426.6 92.5 Q 427.6 92.5, 428.2 93.3 L 427.7 93.6 Q 427.3 93.1, 426.6 93.1 Q 425.9 93.1, 425.5 93.6 Q 425.1 94.1, 425.1 95.1 Q 425.1 96.1, 425.5 96.6 Q 425.9 97.1, 426.7 97.1 Q 427.2 97.1, 427.9 96.7 L 428.1 97.3 Q 427.8 97.4, 427.4 97.5 Q 427.0 97.6, 426.6 97.6 Q 425.5 97.6, 424.9 97.0 Q 424.3 96.3, 424.3 95.1 \" fill=\"#00CC00\"/>\n",
       "<path class=\"atom-29\" d=\"M 428.7 92.2 L 429.3 92.2 L 429.3 97.6 L 428.7 97.6 L 428.7 92.2 \" fill=\"#00CC00\"/>\n",
       "<path class=\"bond-0 atom-0 atom-1\" d=\"M 719.1,54.6 L 714.4,71.6\" style=\"fill:none;fill-rule:evenodd;stroke:#000000;stroke-width:2.0px;stroke-linecap:butt;stroke-linejoin:miter;stroke-opacity:1\"/>\n",
       "<path class=\"bond-1 atom-1 atom-2\" d=\"M 714.4,71.6 L 697.3,76.0\" style=\"fill:none;fill-rule:evenodd;stroke:#000000;stroke-width:2.0px;stroke-linecap:butt;stroke-linejoin:miter;stroke-opacity:1\"/>\n",
       "<path class=\"bond-2 atom-2 atom-3\" d=\"M 697.3,76.0 L 692.6,93.0\" style=\"fill:none;fill-rule:evenodd;stroke:#000000;stroke-width:2.0px;stroke-linecap:butt;stroke-linejoin:miter;stroke-opacity:1\"/>\n",
       "<path class=\"bond-3 atom-3 atom-4\" d=\"M 692.6,93.0 L 675.6,97.4\" style=\"fill:none;fill-rule:evenodd;stroke:#000000;stroke-width:2.0px;stroke-linecap:butt;stroke-linejoin:miter;stroke-opacity:1\"/>\n",
       "<path class=\"bond-4 atom-4 atom-5\" d=\"M 675.6,97.4 L 670.0,92.8\" style=\"fill:none;fill-rule:evenodd;stroke:#000000;stroke-width:2.0px;stroke-linecap:butt;stroke-linejoin:miter;stroke-opacity:1\"/>\n",
       "<path class=\"bond-4 atom-4 atom-5\" d=\"M 670.0,92.8 L 664.5,88.2\" style=\"fill:none;fill-rule:evenodd;stroke:#0000FF;stroke-width:2.0px;stroke-linecap:butt;stroke-linejoin:miter;stroke-opacity:1\"/>\n",
       "<path class=\"bond-4 atom-4 atom-5\" d=\"M 672.4,98.2 L 667.6,94.2\" style=\"fill:none;fill-rule:evenodd;stroke:#000000;stroke-width:2.0px;stroke-linecap:butt;stroke-linejoin:miter;stroke-opacity:1\"/>\n",
       "<path class=\"bond-4 atom-4 atom-5\" d=\"M 667.6,94.2 L 662.8,90.3\" style=\"fill:none;fill-rule:evenodd;stroke:#0000FF;stroke-width:2.0px;stroke-linecap:butt;stroke-linejoin:miter;stroke-opacity:1\"/>\n",
       "<path class=\"bond-5 atom-5 atom-6\" d=\"M 659.5,87.8 L 653.3,91.7\" style=\"fill:none;fill-rule:evenodd;stroke:#0000FF;stroke-width:2.0px;stroke-linecap:butt;stroke-linejoin:miter;stroke-opacity:1\"/>\n",
       "<path class=\"bond-5 atom-5 atom-6\" d=\"M 653.3,91.7 L 647.1,95.7\" style=\"fill:none;fill-rule:evenodd;stroke:#000000;stroke-width:2.0px;stroke-linecap:butt;stroke-linejoin:miter;stroke-opacity:1\"/>\n",
       "<path class=\"bond-6 atom-6 atom-7\" d=\"M 647.1,95.7 L 651.6,112.7\" style=\"fill:none;fill-rule:evenodd;stroke:#000000;stroke-width:2.0px;stroke-linecap:butt;stroke-linejoin:miter;stroke-opacity:1\"/>\n",
       "<path class=\"bond-6 atom-6 atom-7\" d=\"M 650.2,96.9 L 653.6,110.2\" style=\"fill:none;fill-rule:evenodd;stroke:#000000;stroke-width:2.0px;stroke-linecap:butt;stroke-linejoin:miter;stroke-opacity:1\"/>\n",
       "<path class=\"bond-7 atom-7 atom-8\" d=\"M 651.6,112.7 L 659.1,113.2\" style=\"fill:none;fill-rule:evenodd;stroke:#000000;stroke-width:2.0px;stroke-linecap:butt;stroke-linejoin:miter;stroke-opacity:1\"/>\n",
       "<path class=\"bond-7 atom-7 atom-8\" d=\"M 659.1,113.2 L 666.7,113.6\" style=\"fill:none;fill-rule:evenodd;stroke:#0000FF;stroke-width:2.0px;stroke-linecap:butt;stroke-linejoin:miter;stroke-opacity:1\"/>\n",
       "<path class=\"bond-8 atom-8 atom-9\" d=\"M 671.1,116.9 L 674.9,122.8\" style=\"fill:none;fill-rule:evenodd;stroke:#0000FF;stroke-width:2.0px;stroke-linecap:butt;stroke-linejoin:miter;stroke-opacity:1\"/>\n",
       "<path class=\"bond-8 atom-8 atom-9\" d=\"M 674.9,122.8 L 678.6,128.6\" style=\"fill:none;fill-rule:evenodd;stroke:#000000;stroke-width:2.0px;stroke-linecap:butt;stroke-linejoin:miter;stroke-opacity:1\"/>\n",
       "<path class=\"bond-9 atom-9 atom-10\" d=\"M 678.6,128.6 L 696.2,127.9\" style=\"fill:none;fill-rule:evenodd;stroke:#000000;stroke-width:2.0px;stroke-linecap:butt;stroke-linejoin:miter;stroke-opacity:1\"/>\n",
       "<path class=\"bond-10 atom-10 atom-11\" d=\"M 696.2,127.9 L 705.7,142.7\" style=\"fill:none;fill-rule:evenodd;stroke:#000000;stroke-width:2.0px;stroke-linecap:butt;stroke-linejoin:miter;stroke-opacity:1\"/>\n",
       "<path class=\"bond-10 atom-10 atom-11\" d=\"M 699.3,127.7 L 707.1,140.0\" style=\"fill:none;fill-rule:evenodd;stroke:#000000;stroke-width:2.0px;stroke-linecap:butt;stroke-linejoin:miter;stroke-opacity:1\"/>\n",
       "<path class=\"bond-11 atom-11 atom-12\" d=\"M 705.7,142.7 L 723.3,141.9\" style=\"fill:none;fill-rule:evenodd;stroke:#000000;stroke-width:2.0px;stroke-linecap:butt;stroke-linejoin:miter;stroke-opacity:1\"/>\n",
       "<path class=\"bond-12 atom-12 atom-13\" d=\"M 723.3,141.9 L 731.4,126.3\" style=\"fill:none;fill-rule:evenodd;stroke:#000000;stroke-width:2.0px;stroke-linecap:butt;stroke-linejoin:miter;stroke-opacity:1\"/>\n",
       "<path class=\"bond-12 atom-12 atom-13\" d=\"M 721.7,139.4 L 728.4,126.4\" style=\"fill:none;fill-rule:evenodd;stroke:#000000;stroke-width:2.0px;stroke-linecap:butt;stroke-linejoin:miter;stroke-opacity:1\"/>\n",
       "<path class=\"bond-13 atom-13 atom-14\" d=\"M 731.4,126.3 L 722.0,111.4\" style=\"fill:none;fill-rule:evenodd;stroke:#000000;stroke-width:2.0px;stroke-linecap:butt;stroke-linejoin:miter;stroke-opacity:1\"/>\n",
       "<path class=\"bond-14 atom-14 atom-15\" d=\"M 722.0,111.4 L 704.4,112.2\" style=\"fill:none;fill-rule:evenodd;stroke:#000000;stroke-width:2.0px;stroke-linecap:butt;stroke-linejoin:miter;stroke-opacity:1\"/>\n",
       "<path class=\"bond-14 atom-14 atom-15\" d=\"M 720.5,114.1 L 706.0,114.8\" style=\"fill:none;fill-rule:evenodd;stroke:#000000;stroke-width:2.0px;stroke-linecap:butt;stroke-linejoin:miter;stroke-opacity:1\"/>\n",
       "<path class=\"bond-15 atom-13 atom-16\" d=\"M 731.4,126.3 L 749.0,125.5\" style=\"fill:none;fill-rule:evenodd;stroke:#000000;stroke-width:2.0px;stroke-linecap:butt;stroke-linejoin:miter;stroke-opacity:1\"/>\n",
       "<path class=\"bond-16 atom-16 atom-17\" d=\"M 749.0,125.5 L 758.5,140.4\" style=\"fill:none;fill-rule:evenodd;stroke:#000000;stroke-width:2.0px;stroke-linecap:butt;stroke-linejoin:miter;stroke-opacity:1\"/>\n",
       "<path class=\"bond-16 atom-16 atom-17\" d=\"M 752.1,125.4 L 759.9,137.7\" style=\"fill:none;fill-rule:evenodd;stroke:#000000;stroke-width:2.0px;stroke-linecap:butt;stroke-linejoin:miter;stroke-opacity:1\"/>\n",
       "<path class=\"bond-17 atom-17 atom-18\" d=\"M 758.5,140.4 L 776.1,139.6\" style=\"fill:none;fill-rule:evenodd;stroke:#000000;stroke-width:2.0px;stroke-linecap:butt;stroke-linejoin:miter;stroke-opacity:1\"/>\n",
       "<path class=\"bond-18 atom-18 atom-19\" d=\"M 776.1,139.6 L 784.2,123.9\" style=\"fill:none;fill-rule:evenodd;stroke:#000000;stroke-width:2.0px;stroke-linecap:butt;stroke-linejoin:miter;stroke-opacity:1\"/>\n",
       "<path class=\"bond-18 atom-18 atom-19\" d=\"M 774.5,137.0 L 781.2,124.1\" style=\"fill:none;fill-rule:evenodd;stroke:#000000;stroke-width:2.0px;stroke-linecap:butt;stroke-linejoin:miter;stroke-opacity:1\"/>\n",
       "<path class=\"bond-19 atom-19 atom-20\" d=\"M 784.2,123.9 L 774.8,109.1\" style=\"fill:none;fill-rule:evenodd;stroke:#000000;stroke-width:2.0px;stroke-linecap:butt;stroke-linejoin:miter;stroke-opacity:1\"/>\n",
       "<path class=\"bond-20 atom-20 atom-21\" d=\"M 774.8,109.1 L 757.2,109.9\" style=\"fill:none;fill-rule:evenodd;stroke:#000000;stroke-width:2.0px;stroke-linecap:butt;stroke-linejoin:miter;stroke-opacity:1\"/>\n",
       "<path class=\"bond-20 atom-20 atom-21\" d=\"M 773.4,111.8 L 758.8,112.4\" style=\"fill:none;fill-rule:evenodd;stroke:#000000;stroke-width:2.0px;stroke-linecap:butt;stroke-linejoin:miter;stroke-opacity:1\"/>\n",
       "<path class=\"bond-21 atom-21 atom-22\" d=\"M 757.2,109.9 L 747.7,95.0\" style=\"fill:none;fill-rule:evenodd;stroke:#000000;stroke-width:2.0px;stroke-linecap:butt;stroke-linejoin:miter;stroke-opacity:1\"/>\n",
       "<path class=\"bond-22 atom-22 atom-23\" d=\"M 747.7,95.0 L 740.1,94.6\" style=\"fill:none;fill-rule:evenodd;stroke:#000000;stroke-width:2.0px;stroke-linecap:butt;stroke-linejoin:miter;stroke-opacity:1\"/>\n",
       "<path class=\"bond-22 atom-22 atom-23\" d=\"M 740.1,94.6 L 732.6,94.1\" style=\"fill:none;fill-rule:evenodd;stroke:#0000FF;stroke-width:2.0px;stroke-linecap:butt;stroke-linejoin:miter;stroke-opacity:1\"/>\n",
       "<path class=\"bond-22 atom-22 atom-23\" d=\"M 745.9,92.3 L 739.3,91.9\" style=\"fill:none;fill-rule:evenodd;stroke:#000000;stroke-width:2.0px;stroke-linecap:butt;stroke-linejoin:miter;stroke-opacity:1\"/>\n",
       "<path class=\"bond-22 atom-22 atom-23\" d=\"M 739.3,91.9 L 732.7,91.5\" style=\"fill:none;fill-rule:evenodd;stroke:#0000FF;stroke-width:2.0px;stroke-linecap:butt;stroke-linejoin:miter;stroke-opacity:1\"/>\n",
       "<path class=\"bond-23 atom-23 atom-24\" d=\"M 729.3,90.9 L 726.5,80.0\" style=\"fill:none;fill-rule:evenodd;stroke:#0000FF;stroke-width:2.0px;stroke-linecap:butt;stroke-linejoin:miter;stroke-opacity:1\"/>\n",
       "<path class=\"bond-24 atom-24 atom-25\" d=\"M 728.1,75.3 L 738.0,69.0\" style=\"fill:none;fill-rule:evenodd;stroke:#0000FF;stroke-width:2.0px;stroke-linecap:butt;stroke-linejoin:miter;stroke-opacity:1\"/>\n",
       "<path class=\"bond-25 atom-25 atom-26\" d=\"M 743.0,69.5 L 751.6,76.6\" style=\"fill:none;fill-rule:evenodd;stroke:#0000FF;stroke-width:2.0px;stroke-linecap:butt;stroke-linejoin:miter;stroke-opacity:1\"/>\n",
       "<path class=\"bond-25 atom-25 atom-26\" d=\"M 741.3,71.5 L 750.0,78.6\" style=\"fill:none;fill-rule:evenodd;stroke:#0000FF;stroke-width:2.0px;stroke-linecap:butt;stroke-linejoin:miter;stroke-opacity:1\"/>\n",
       "<path class=\"bond-26 atom-7 atom-27\" d=\"M 651.6,112.7 L 640.4,126.3\" style=\"fill:none;fill-rule:evenodd;stroke:#000000;stroke-width:2.0px;stroke-linecap:butt;stroke-linejoin:miter;stroke-opacity:1\"/>\n",
       "<path class=\"bond-27 atom-27 atom-28\" d=\"M 638.9,126.1 L 641.5,133.1\" style=\"fill:none;fill-rule:evenodd;stroke:#000000;stroke-width:2.0px;stroke-linecap:butt;stroke-linejoin:miter;stroke-opacity:1\"/>\n",
       "<path class=\"bond-27 atom-27 atom-28\" d=\"M 641.5,133.1 L 644.1,140.2\" style=\"fill:none;fill-rule:evenodd;stroke:#FF0000;stroke-width:2.0px;stroke-linecap:butt;stroke-linejoin:miter;stroke-opacity:1\"/>\n",
       "<path class=\"bond-27 atom-27 atom-28\" d=\"M 641.3,125.2 L 644.0,132.2\" style=\"fill:none;fill-rule:evenodd;stroke:#000000;stroke-width:2.0px;stroke-linecap:butt;stroke-linejoin:miter;stroke-opacity:1\"/>\n",
       "<path class=\"bond-27 atom-27 atom-28\" d=\"M 644.0,132.2 L 646.6,139.3\" style=\"fill:none;fill-rule:evenodd;stroke:#FF0000;stroke-width:2.0px;stroke-linecap:butt;stroke-linejoin:miter;stroke-opacity:1\"/>\n",
       "<path class=\"bond-28 atom-27 atom-29\" d=\"M 640.4,126.3 L 633.1,125.1\" style=\"fill:none;fill-rule:evenodd;stroke:#000000;stroke-width:2.0px;stroke-linecap:butt;stroke-linejoin:miter;stroke-opacity:1\"/>\n",
       "<path class=\"bond-28 atom-27 atom-29\" d=\"M 633.1,125.1 L 625.9,123.9\" style=\"fill:none;fill-rule:evenodd;stroke:#FF0000;stroke-width:2.0px;stroke-linecap:butt;stroke-linejoin:miter;stroke-opacity:1\"/>\n",
       "<path class=\"bond-29 atom-6 atom-30\" d=\"M 647.1,95.7 L 639.4,92.6\" style=\"fill:none;fill-rule:evenodd;stroke:#000000;stroke-width:2.0px;stroke-linecap:butt;stroke-linejoin:miter;stroke-opacity:1\"/>\n",
       "<path class=\"bond-29 atom-6 atom-30\" d=\"M 639.4,92.6 L 631.6,89.6\" style=\"fill:none;fill-rule:evenodd;stroke:#00CC00;stroke-width:2.0px;stroke-linecap:butt;stroke-linejoin:miter;stroke-opacity:1\"/>\n",
       "<path class=\"bond-30 atom-8 atom-4\" d=\"M 670.4,110.7 L 673.0,104.0\" style=\"fill:none;fill-rule:evenodd;stroke:#0000FF;stroke-width:2.0px;stroke-linecap:butt;stroke-linejoin:miter;stroke-opacity:1\"/>\n",
       "<path class=\"bond-30 atom-8 atom-4\" d=\"M 673.0,104.0 L 675.6,97.4\" style=\"fill:none;fill-rule:evenodd;stroke:#000000;stroke-width:2.0px;stroke-linecap:butt;stroke-linejoin:miter;stroke-opacity:1\"/>\n",
       "<path class=\"bond-31 atom-15 atom-10\" d=\"M 704.4,112.2 L 696.2,127.9\" style=\"fill:none;fill-rule:evenodd;stroke:#000000;stroke-width:2.0px;stroke-linecap:butt;stroke-linejoin:miter;stroke-opacity:1\"/>\n",
       "<path class=\"bond-32 atom-21 atom-16\" d=\"M 757.2,109.9 L 749.0,125.5\" style=\"fill:none;fill-rule:evenodd;stroke:#000000;stroke-width:2.0px;stroke-linecap:butt;stroke-linejoin:miter;stroke-opacity:1\"/>\n",
       "<path class=\"bond-33 atom-26 atom-22\" d=\"M 752.9,81.7 L 750.3,88.4\" style=\"fill:none;fill-rule:evenodd;stroke:#0000FF;stroke-width:2.0px;stroke-linecap:butt;stroke-linejoin:miter;stroke-opacity:1\"/>\n",
       "<path class=\"bond-33 atom-26 atom-22\" d=\"M 750.3,88.4 L 747.7,95.0\" style=\"fill:none;fill-rule:evenodd;stroke:#000000;stroke-width:2.0px;stroke-linecap:butt;stroke-linejoin:miter;stroke-opacity:1\"/>\n",
       "<path d=\"M 714.6,70.7 L 714.4,71.6 L 713.5,71.8\" style=\"fill:none;stroke:#000000;stroke-width:2.0px;stroke-linecap:butt;stroke-linejoin:miter;stroke-opacity:1;\"/>\n",
       "<path d=\"M 698.2,75.8 L 697.3,76.0 L 697.1,76.8\" style=\"fill:none;stroke:#000000;stroke-width:2.0px;stroke-linecap:butt;stroke-linejoin:miter;stroke-opacity:1;\"/>\n",
       "<path d=\"M 692.9,92.1 L 692.6,93.0 L 691.8,93.2\" style=\"fill:none;stroke:#000000;stroke-width:2.0px;stroke-linecap:butt;stroke-linejoin:miter;stroke-opacity:1;\"/>\n",
       "<path d=\"M 678.4,128.3 L 678.6,128.6 L 679.5,128.6\" style=\"fill:none;stroke:#000000;stroke-width:2.0px;stroke-linecap:butt;stroke-linejoin:miter;stroke-opacity:1;\"/>\n",
       "<path d=\"M 705.2,142.0 L 705.7,142.7 L 706.6,142.7\" style=\"fill:none;stroke:#000000;stroke-width:2.0px;stroke-linecap:butt;stroke-linejoin:miter;stroke-opacity:1;\"/>\n",
       "<path d=\"M 722.4,142.0 L 723.3,141.9 L 723.7,141.1\" style=\"fill:none;stroke:#000000;stroke-width:2.0px;stroke-linecap:butt;stroke-linejoin:miter;stroke-opacity:1;\"/>\n",
       "<path d=\"M 722.4,112.2 L 722.0,111.4 L 721.1,111.5\" style=\"fill:none;stroke:#000000;stroke-width:2.0px;stroke-linecap:butt;stroke-linejoin:miter;stroke-opacity:1;\"/>\n",
       "<path d=\"M 705.2,112.2 L 704.4,112.2 L 703.9,113.0\" style=\"fill:none;stroke:#000000;stroke-width:2.0px;stroke-linecap:butt;stroke-linejoin:miter;stroke-opacity:1;\"/>\n",
       "<path d=\"M 758.0,139.6 L 758.5,140.4 L 759.4,140.3\" style=\"fill:none;stroke:#000000;stroke-width:2.0px;stroke-linecap:butt;stroke-linejoin:miter;stroke-opacity:1;\"/>\n",
       "<path d=\"M 775.2,139.6 L 776.1,139.6 L 776.5,138.8\" style=\"fill:none;stroke:#000000;stroke-width:2.0px;stroke-linecap:butt;stroke-linejoin:miter;stroke-opacity:1;\"/>\n",
       "<path d=\"M 783.8,124.7 L 784.2,123.9 L 783.8,123.2\" style=\"fill:none;stroke:#000000;stroke-width:2.0px;stroke-linecap:butt;stroke-linejoin:miter;stroke-opacity:1;\"/>\n",
       "<path d=\"M 775.2,109.8 L 774.8,109.1 L 773.9,109.1\" style=\"fill:none;stroke:#000000;stroke-width:2.0px;stroke-linecap:butt;stroke-linejoin:miter;stroke-opacity:1;\"/>\n",
       "<path d=\"M 640.9,125.6 L 640.4,126.3 L 640.0,126.3\" style=\"fill:none;stroke:#000000;stroke-width:2.0px;stroke-linecap:butt;stroke-linejoin:miter;stroke-opacity:1;\"/>\n",
       "<path class=\"atom-5\" d=\"M 660.9 83.7 L 662.5 86.3 Q 662.7 86.6, 662.9 87.1 Q 663.2 87.5, 663.2 87.6 L 663.2 83.7 L 663.9 83.7 L 663.9 88.7 L 663.2 88.7 L 661.4 85.8 Q 661.2 85.5, 661.0 85.1 Q 660.8 84.7, 660.7 84.6 L 660.7 88.7 L 660.1 88.7 L 660.1 83.7 L 660.9 83.7 \" fill=\"#0000FF\"/>\n",
       "<path class=\"atom-8\" d=\"M 668.0 111.3 L 669.7 113.9 Q 669.8 114.2, 670.1 114.7 Q 670.4 115.1, 670.4 115.2 L 670.4 111.3 L 671.0 111.3 L 671.0 116.3 L 670.4 116.3 L 668.6 113.4 Q 668.4 113.1, 668.2 112.7 Q 668.0 112.3, 667.9 112.2 L 667.9 116.3 L 667.3 116.3 L 667.3 111.3 L 668.0 111.3 \" fill=\"#0000FF\"/>\n",
       "<path class=\"atom-23\" d=\"M 729.0 91.5 L 730.6 94.1 Q 730.8 94.4, 731.0 94.8 Q 731.3 95.3, 731.3 95.3 L 731.3 91.5 L 732.0 91.5 L 732.0 96.5 L 731.3 96.5 L 729.5 93.6 Q 729.3 93.2, 729.1 92.8 Q 728.9 92.5, 728.8 92.3 L 728.8 96.5 L 728.2 96.5 L 728.2 91.5 L 729.0 91.5 \" fill=\"#0000FF\"/>\n",
       "<path class=\"atom-24\" d=\"M 718.9 74.4 L 719.6 74.4 L 719.6 76.5 L 722.1 76.5 L 722.1 74.4 L 722.8 74.4 L 722.8 79.4 L 722.1 79.4 L 722.1 77.1 L 719.6 77.1 L 719.6 79.4 L 718.9 79.4 L 718.9 74.4 \" fill=\"#0000FF\"/>\n",
       "<path class=\"atom-24\" d=\"M 724.6 74.4 L 726.2 77.1 Q 726.4 77.3, 726.6 77.8 Q 726.9 78.3, 726.9 78.3 L 726.9 74.4 L 727.6 74.4 L 727.6 79.4 L 726.9 79.4 L 725.1 76.5 Q 724.9 76.2, 724.7 75.8 Q 724.5 75.4, 724.4 75.3 L 724.4 79.4 L 723.8 79.4 L 723.8 74.4 L 724.6 74.4 \" fill=\"#0000FF\"/>\n",
       "<path class=\"atom-25\" d=\"M 739.4 64.9 L 741.1 67.6 Q 741.2 67.8, 741.5 68.3 Q 741.7 68.8, 741.7 68.8 L 741.7 64.9 L 742.4 64.9 L 742.4 69.9 L 741.7 69.9 L 740.0 67.0 Q 739.8 66.7, 739.6 66.3 Q 739.3 65.9, 739.3 65.8 L 739.3 69.9 L 738.6 69.9 L 738.6 64.9 L 739.4 64.9 \" fill=\"#0000FF\"/>\n",
       "<path class=\"atom-26\" d=\"M 753.0 76.1 L 754.7 78.8 Q 754.8 79.0, 755.1 79.5 Q 755.3 80.0, 755.4 80.0 L 755.4 76.1 L 756.0 76.1 L 756.0 81.1 L 755.3 81.1 L 753.6 78.2 Q 753.4 77.9, 753.2 77.5 Q 752.9 77.1, 752.9 77.0 L 752.9 81.1 L 752.2 81.1 L 752.2 76.1 L 753.0 76.1 \" fill=\"#0000FF\"/>\n",
       "<path class=\"atom-28\" d=\"M 644.3 142.8 Q 644.3 141.6, 644.8 141.0 Q 645.4 140.3, 646.5 140.3 Q 647.7 140.3, 648.2 141.0 Q 648.8 141.6, 648.8 142.8 Q 648.8 144.1, 648.2 144.7 Q 647.6 145.4, 646.5 145.4 Q 645.4 145.4, 644.8 144.7 Q 644.3 144.1, 644.3 142.8 M 646.5 144.9 Q 647.3 144.9, 647.7 144.4 Q 648.1 143.8, 648.1 142.8 Q 648.1 141.9, 647.7 141.4 Q 647.3 140.9, 646.5 140.9 Q 645.8 140.9, 645.4 141.4 Q 645.0 141.9, 645.0 142.8 Q 645.0 143.8, 645.4 144.4 Q 645.8 144.9, 646.5 144.9 \" fill=\"#FF0000\"/>\n",
       "<path class=\"atom-29\" d=\"M 615.8 121.0 L 616.4 121.0 L 616.4 123.1 L 619.0 123.1 L 619.0 121.0 L 619.7 121.0 L 619.7 126.0 L 619.0 126.0 L 619.0 123.7 L 616.4 123.7 L 616.4 126.0 L 615.8 126.0 L 615.8 121.0 \" fill=\"#FF0000\"/>\n",
       "<path class=\"atom-29\" d=\"M 620.7 123.4 Q 620.7 122.2, 621.3 121.6 Q 621.9 120.9, 623.0 120.9 Q 624.1 120.9, 624.7 121.6 Q 625.3 122.2, 625.3 123.4 Q 625.3 124.7, 624.7 125.4 Q 624.1 126.0, 623.0 126.0 Q 621.9 126.0, 621.3 125.4 Q 620.7 124.7, 620.7 123.4 M 623.0 125.5 Q 623.7 125.5, 624.1 125.0 Q 624.6 124.4, 624.6 123.4 Q 624.6 122.5, 624.1 122.0 Q 623.7 121.5, 623.0 121.5 Q 622.2 121.5, 621.8 122.0 Q 621.4 122.5, 621.4 123.4 Q 621.4 124.5, 621.8 125.0 Q 622.2 125.5, 623.0 125.5 \" fill=\"#FF0000\"/>\n",
       "<path class=\"atom-30\" d=\"M 626.1 89.4 Q 626.1 88.2, 626.6 87.5 Q 627.2 86.9, 628.3 86.9 Q 629.4 86.9, 629.9 87.6 L 629.4 88.0 Q 629.0 87.4, 628.3 87.4 Q 627.6 87.4, 627.2 87.9 Q 626.8 88.4, 626.8 89.4 Q 626.8 90.4, 627.2 90.9 Q 627.6 91.4, 628.4 91.4 Q 629.0 91.4, 629.6 91.1 L 629.8 91.6 Q 629.5 91.8, 629.1 91.9 Q 628.7 92.0, 628.3 92.0 Q 627.2 92.0, 626.6 91.3 Q 626.1 90.6, 626.1 89.4 \" fill=\"#00CC00\"/>\n",
       "<path class=\"atom-30\" d=\"M 630.4 86.5 L 631.1 86.5 L 631.1 91.9 L 630.4 91.9 L 630.4 86.5 \" fill=\"#00CC00\"/>\n",
       "<path class=\"bond-0 atom-0 atom-1\" d=\"M 916.0,64.7 L 899.4,70.6\" style=\"fill:none;fill-rule:evenodd;stroke:#000000;stroke-width:2.0px;stroke-linecap:butt;stroke-linejoin:miter;stroke-opacity:1\"/>\n",
       "<path class=\"bond-1 atom-1 atom-2\" d=\"M 899.4,70.6 L 896.1,87.9\" style=\"fill:none;fill-rule:evenodd;stroke:#000000;stroke-width:2.0px;stroke-linecap:butt;stroke-linejoin:miter;stroke-opacity:1\"/>\n",
       "<path class=\"bond-2 atom-2 atom-3\" d=\"M 896.1,87.9 L 879.5,93.8\" style=\"fill:none;fill-rule:evenodd;stroke:#000000;stroke-width:2.0px;stroke-linecap:butt;stroke-linejoin:miter;stroke-opacity:1\"/>\n",
       "<path class=\"bond-3 atom-3 atom-4\" d=\"M 879.5,93.8 L 873.5,89.6\" style=\"fill:none;fill-rule:evenodd;stroke:#000000;stroke-width:2.0px;stroke-linecap:butt;stroke-linejoin:miter;stroke-opacity:1\"/>\n",
       "<path class=\"bond-3 atom-3 atom-4\" d=\"M 873.5,89.6 L 867.5,85.5\" style=\"fill:none;fill-rule:evenodd;stroke:#0000FF;stroke-width:2.0px;stroke-linecap:butt;stroke-linejoin:miter;stroke-opacity:1\"/>\n",
       "<path class=\"bond-3 atom-3 atom-4\" d=\"M 876.4,94.8 L 871.2,91.2\" style=\"fill:none;fill-rule:evenodd;stroke:#000000;stroke-width:2.0px;stroke-linecap:butt;stroke-linejoin:miter;stroke-opacity:1\"/>\n",
       "<path class=\"bond-3 atom-3 atom-4\" d=\"M 871.2,91.2 L 866.0,87.6\" style=\"fill:none;fill-rule:evenodd;stroke:#0000FF;stroke-width:2.0px;stroke-linecap:butt;stroke-linejoin:miter;stroke-opacity:1\"/>\n",
       "<path class=\"bond-4 atom-4 atom-5\" d=\"M 862.5,85.6 L 856.8,90.0\" style=\"fill:none;fill-rule:evenodd;stroke:#0000FF;stroke-width:2.0px;stroke-linecap:butt;stroke-linejoin:miter;stroke-opacity:1\"/>\n",
       "<path class=\"bond-4 atom-4 atom-5\" d=\"M 856.8,90.0 L 851.0,94.5\" style=\"fill:none;fill-rule:evenodd;stroke:#000000;stroke-width:2.0px;stroke-linecap:butt;stroke-linejoin:miter;stroke-opacity:1\"/>\n",
       "<path class=\"bond-5 atom-5 atom-6\" d=\"M 851.0,94.5 L 856.8,111.1\" style=\"fill:none;fill-rule:evenodd;stroke:#000000;stroke-width:2.0px;stroke-linecap:butt;stroke-linejoin:miter;stroke-opacity:1\"/>\n",
       "<path class=\"bond-5 atom-5 atom-6\" d=\"M 854.1,95.4 L 858.7,108.4\" style=\"fill:none;fill-rule:evenodd;stroke:#000000;stroke-width:2.0px;stroke-linecap:butt;stroke-linejoin:miter;stroke-opacity:1\"/>\n",
       "<path class=\"bond-6 atom-6 atom-7\" d=\"M 856.8,111.1 L 864.4,110.9\" style=\"fill:none;fill-rule:evenodd;stroke:#000000;stroke-width:2.0px;stroke-linecap:butt;stroke-linejoin:miter;stroke-opacity:1\"/>\n",
       "<path class=\"bond-6 atom-6 atom-7\" d=\"M 864.4,110.9 L 872.0,110.7\" style=\"fill:none;fill-rule:evenodd;stroke:#0000FF;stroke-width:2.0px;stroke-linecap:butt;stroke-linejoin:miter;stroke-opacity:1\"/>\n",
       "<path class=\"bond-7 atom-7 atom-8\" d=\"M 876.8,113.7 L 881.0,119.2\" style=\"fill:none;fill-rule:evenodd;stroke:#0000FF;stroke-width:2.0px;stroke-linecap:butt;stroke-linejoin:miter;stroke-opacity:1\"/>\n",
       "<path class=\"bond-7 atom-7 atom-8\" d=\"M 881.0,119.2 L 885.2,124.6\" style=\"fill:none;fill-rule:evenodd;stroke:#000000;stroke-width:2.0px;stroke-linecap:butt;stroke-linejoin:miter;stroke-opacity:1\"/>\n",
       "<path class=\"bond-8 atom-8 atom-9\" d=\"M 885.2,124.6 L 902.6,122.4\" style=\"fill:none;fill-rule:evenodd;stroke:#000000;stroke-width:2.0px;stroke-linecap:butt;stroke-linejoin:miter;stroke-opacity:1\"/>\n",
       "<path class=\"bond-9 atom-9 atom-10\" d=\"M 902.6,122.4 L 913.3,136.4\" style=\"fill:none;fill-rule:evenodd;stroke:#000000;stroke-width:2.0px;stroke-linecap:butt;stroke-linejoin:miter;stroke-opacity:1\"/>\n",
       "<path class=\"bond-9 atom-9 atom-10\" d=\"M 905.7,122.0 L 914.5,133.5\" style=\"fill:none;fill-rule:evenodd;stroke:#000000;stroke-width:2.0px;stroke-linecap:butt;stroke-linejoin:miter;stroke-opacity:1\"/>\n",
       "<path class=\"bond-10 atom-10 atom-11\" d=\"M 913.3,136.4 L 930.8,134.1\" style=\"fill:none;fill-rule:evenodd;stroke:#000000;stroke-width:2.0px;stroke-linecap:butt;stroke-linejoin:miter;stroke-opacity:1\"/>\n",
       "<path class=\"bond-11 atom-11 atom-12\" d=\"M 930.8,134.1 L 937.6,117.8\" style=\"fill:none;fill-rule:evenodd;stroke:#000000;stroke-width:2.0px;stroke-linecap:butt;stroke-linejoin:miter;stroke-opacity:1\"/>\n",
       "<path class=\"bond-11 atom-11 atom-12\" d=\"M 929.0,131.7 L 934.6,118.2\" style=\"fill:none;fill-rule:evenodd;stroke:#000000;stroke-width:2.0px;stroke-linecap:butt;stroke-linejoin:miter;stroke-opacity:1\"/>\n",
       "<path class=\"bond-12 atom-12 atom-13\" d=\"M 937.6,117.8 L 926.9,103.8\" style=\"fill:none;fill-rule:evenodd;stroke:#000000;stroke-width:2.0px;stroke-linecap:butt;stroke-linejoin:miter;stroke-opacity:1\"/>\n",
       "<path class=\"bond-13 atom-13 atom-14\" d=\"M 926.9,103.8 L 909.4,106.1\" style=\"fill:none;fill-rule:evenodd;stroke:#000000;stroke-width:2.0px;stroke-linecap:butt;stroke-linejoin:miter;stroke-opacity:1\"/>\n",
       "<path class=\"bond-13 atom-13 atom-14\" d=\"M 925.7,106.6 L 911.3,108.5\" style=\"fill:none;fill-rule:evenodd;stroke:#000000;stroke-width:2.0px;stroke-linecap:butt;stroke-linejoin:miter;stroke-opacity:1\"/>\n",
       "<path class=\"bond-14 atom-12 atom-15\" d=\"M 937.6,117.8 L 955.1,115.6\" style=\"fill:none;fill-rule:evenodd;stroke:#000000;stroke-width:2.0px;stroke-linecap:butt;stroke-linejoin:miter;stroke-opacity:1\"/>\n",
       "<path class=\"bond-15 atom-15 atom-16\" d=\"M 955.1,115.6 L 965.8,129.6\" style=\"fill:none;fill-rule:evenodd;stroke:#000000;stroke-width:2.0px;stroke-linecap:butt;stroke-linejoin:miter;stroke-opacity:1\"/>\n",
       "<path class=\"bond-15 atom-15 atom-16\" d=\"M 958.1,115.2 L 966.9,126.7\" style=\"fill:none;fill-rule:evenodd;stroke:#000000;stroke-width:2.0px;stroke-linecap:butt;stroke-linejoin:miter;stroke-opacity:1\"/>\n",
       "<path class=\"bond-16 atom-16 atom-17\" d=\"M 965.8,129.6 L 983.2,127.3\" style=\"fill:none;fill-rule:evenodd;stroke:#000000;stroke-width:2.0px;stroke-linecap:butt;stroke-linejoin:miter;stroke-opacity:1\"/>\n",
       "<path class=\"bond-17 atom-17 atom-18\" d=\"M 983.2,127.3 L 990.0,111.0\" style=\"fill:none;fill-rule:evenodd;stroke:#000000;stroke-width:2.0px;stroke-linecap:butt;stroke-linejoin:miter;stroke-opacity:1\"/>\n",
       "<path class=\"bond-17 atom-17 atom-18\" d=\"M 981.4,124.9 L 987.0,111.4\" style=\"fill:none;fill-rule:evenodd;stroke:#000000;stroke-width:2.0px;stroke-linecap:butt;stroke-linejoin:miter;stroke-opacity:1\"/>\n",
       "<path class=\"bond-18 atom-18 atom-19\" d=\"M 990.0,111.0 L 979.3,97.0\" style=\"fill:none;fill-rule:evenodd;stroke:#000000;stroke-width:2.0px;stroke-linecap:butt;stroke-linejoin:miter;stroke-opacity:1\"/>\n",
       "<path class=\"bond-19 atom-19 atom-20\" d=\"M 979.3,97.0 L 961.8,99.3\" style=\"fill:none;fill-rule:evenodd;stroke:#000000;stroke-width:2.0px;stroke-linecap:butt;stroke-linejoin:miter;stroke-opacity:1\"/>\n",
       "<path class=\"bond-19 atom-19 atom-20\" d=\"M 978.1,99.8 L 963.7,101.7\" style=\"fill:none;fill-rule:evenodd;stroke:#000000;stroke-width:2.0px;stroke-linecap:butt;stroke-linejoin:miter;stroke-opacity:1\"/>\n",
       "<path class=\"bond-20 atom-20 atom-21\" d=\"M 961.8,99.3 L 951.1,85.3\" style=\"fill:none;fill-rule:evenodd;stroke:#000000;stroke-width:2.0px;stroke-linecap:butt;stroke-linejoin:miter;stroke-opacity:1\"/>\n",
       "<path class=\"bond-21 atom-21 atom-22\" d=\"M 951.1,85.3 L 943.6,85.5\" style=\"fill:none;fill-rule:evenodd;stroke:#000000;stroke-width:2.0px;stroke-linecap:butt;stroke-linejoin:miter;stroke-opacity:1\"/>\n",
       "<path class=\"bond-21 atom-21 atom-22\" d=\"M 943.6,85.5 L 936.0,85.7\" style=\"fill:none;fill-rule:evenodd;stroke:#0000FF;stroke-width:2.0px;stroke-linecap:butt;stroke-linejoin:miter;stroke-opacity:1\"/>\n",
       "<path class=\"bond-21 atom-21 atom-22\" d=\"M 949.1,82.7 L 942.5,82.9\" style=\"fill:none;fill-rule:evenodd;stroke:#000000;stroke-width:2.0px;stroke-linecap:butt;stroke-linejoin:miter;stroke-opacity:1\"/>\n",
       "<path class=\"bond-21 atom-21 atom-22\" d=\"M 942.5,82.9 L 935.9,83.0\" style=\"fill:none;fill-rule:evenodd;stroke:#0000FF;stroke-width:2.0px;stroke-linecap:butt;stroke-linejoin:miter;stroke-opacity:1\"/>\n",
       "<path class=\"bond-22 atom-22 atom-23\" d=\"M 932.4,82.6 L 928.7,72.2\" style=\"fill:none;fill-rule:evenodd;stroke:#0000FF;stroke-width:2.0px;stroke-linecap:butt;stroke-linejoin:miter;stroke-opacity:1\"/>\n",
       "<path class=\"bond-23 atom-23 atom-24\" d=\"M 930.1,67.2 L 939.2,60.3\" style=\"fill:none;fill-rule:evenodd;stroke:#0000FF;stroke-width:2.0px;stroke-linecap:butt;stroke-linejoin:miter;stroke-opacity:1\"/>\n",
       "<path class=\"bond-24 atom-24 atom-25\" d=\"M 944.1,60.1 L 953.7,66.7\" style=\"fill:none;fill-rule:evenodd;stroke:#0000FF;stroke-width:2.0px;stroke-linecap:butt;stroke-linejoin:miter;stroke-opacity:1\"/>\n",
       "<path class=\"bond-24 atom-24 atom-25\" d=\"M 942.6,62.3 L 952.2,68.9\" style=\"fill:none;fill-rule:evenodd;stroke:#0000FF;stroke-width:2.0px;stroke-linecap:butt;stroke-linejoin:miter;stroke-opacity:1\"/>\n",
       "<path class=\"bond-25 atom-6 atom-26\" d=\"M 856.8,111.1 L 846.8,125.6\" style=\"fill:none;fill-rule:evenodd;stroke:#000000;stroke-width:2.0px;stroke-linecap:butt;stroke-linejoin:miter;stroke-opacity:1\"/>\n",
       "<path class=\"bond-26 atom-26 atom-27\" d=\"M 845.3,125.5 L 848.5,132.2\" style=\"fill:none;fill-rule:evenodd;stroke:#000000;stroke-width:2.0px;stroke-linecap:butt;stroke-linejoin:miter;stroke-opacity:1\"/>\n",
       "<path class=\"bond-26 atom-26 atom-27\" d=\"M 848.5,132.2 L 851.7,139.0\" style=\"fill:none;fill-rule:evenodd;stroke:#FF0000;stroke-width:2.0px;stroke-linecap:butt;stroke-linejoin:miter;stroke-opacity:1\"/>\n",
       "<path class=\"bond-26 atom-26 atom-27\" d=\"M 847.7,124.3 L 850.9,131.1\" style=\"fill:none;fill-rule:evenodd;stroke:#000000;stroke-width:2.0px;stroke-linecap:butt;stroke-linejoin:miter;stroke-opacity:1\"/>\n",
       "<path class=\"bond-26 atom-26 atom-27\" d=\"M 850.9,131.1 L 854.1,137.8\" style=\"fill:none;fill-rule:evenodd;stroke:#FF0000;stroke-width:2.0px;stroke-linecap:butt;stroke-linejoin:miter;stroke-opacity:1\"/>\n",
       "<path class=\"bond-27 atom-26 atom-28\" d=\"M 846.8,125.6 L 839.5,125.0\" style=\"fill:none;fill-rule:evenodd;stroke:#000000;stroke-width:2.0px;stroke-linecap:butt;stroke-linejoin:miter;stroke-opacity:1\"/>\n",
       "<path class=\"bond-27 atom-26 atom-28\" d=\"M 839.5,125.0 L 832.1,124.4\" style=\"fill:none;fill-rule:evenodd;stroke:#FF0000;stroke-width:2.0px;stroke-linecap:butt;stroke-linejoin:miter;stroke-opacity:1\"/>\n",
       "<path class=\"bond-28 atom-5 atom-29\" d=\"M 851.0,94.5 L 834.1,89.4\" style=\"fill:none;fill-rule:evenodd;stroke:#000000;stroke-width:2.0px;stroke-linecap:butt;stroke-linejoin:miter;stroke-opacity:1\"/>\n",
       "<path class=\"bond-29 atom-29 atom-30\" d=\"M 834.1,89.4 L 829.1,106.3\" style=\"fill:none;fill-rule:evenodd;stroke:#000000;stroke-width:2.0px;stroke-linecap:butt;stroke-linejoin:miter;stroke-opacity:1\"/>\n",
       "<path class=\"bond-30 atom-29 atom-31\" d=\"M 834.1,89.4 L 839.1,72.5\" style=\"fill:none;fill-rule:evenodd;stroke:#000000;stroke-width:2.0px;stroke-linecap:butt;stroke-linejoin:miter;stroke-opacity:1\"/>\n",
       "<path class=\"bond-31 atom-29 atom-32\" d=\"M 834.1,89.4 L 827.1,87.3\" style=\"fill:none;fill-rule:evenodd;stroke:#000000;stroke-width:2.0px;stroke-linecap:butt;stroke-linejoin:miter;stroke-opacity:1\"/>\n",
       "<path class=\"bond-31 atom-29 atom-32\" d=\"M 827.1,87.3 L 820.1,85.2\" style=\"fill:none;fill-rule:evenodd;stroke:#FF0000;stroke-width:2.0px;stroke-linecap:butt;stroke-linejoin:miter;stroke-opacity:1\"/>\n",
       "<path class=\"bond-32 atom-7 atom-3\" d=\"M 875.4,107.6 L 877.4,100.7\" style=\"fill:none;fill-rule:evenodd;stroke:#0000FF;stroke-width:2.0px;stroke-linecap:butt;stroke-linejoin:miter;stroke-opacity:1\"/>\n",
       "<path class=\"bond-32 atom-7 atom-3\" d=\"M 877.4,100.7 L 879.5,93.8\" style=\"fill:none;fill-rule:evenodd;stroke:#000000;stroke-width:2.0px;stroke-linecap:butt;stroke-linejoin:miter;stroke-opacity:1\"/>\n",
       "<path class=\"bond-33 atom-14 atom-9\" d=\"M 909.4,106.1 L 902.6,122.4\" style=\"fill:none;fill-rule:evenodd;stroke:#000000;stroke-width:2.0px;stroke-linecap:butt;stroke-linejoin:miter;stroke-opacity:1\"/>\n",
       "<path class=\"bond-34 atom-20 atom-15\" d=\"M 961.8,99.3 L 955.1,115.6\" style=\"fill:none;fill-rule:evenodd;stroke:#000000;stroke-width:2.0px;stroke-linecap:butt;stroke-linejoin:miter;stroke-opacity:1\"/>\n",
       "<path class=\"bond-35 atom-25 atom-21\" d=\"M 955.2,71.5 L 953.2,78.4\" style=\"fill:none;fill-rule:evenodd;stroke:#0000FF;stroke-width:2.0px;stroke-linecap:butt;stroke-linejoin:miter;stroke-opacity:1\"/>\n",
       "<path class=\"bond-35 atom-25 atom-21\" d=\"M 953.2,78.4 L 951.1,85.3\" style=\"fill:none;fill-rule:evenodd;stroke:#000000;stroke-width:2.0px;stroke-linecap:butt;stroke-linejoin:miter;stroke-opacity:1\"/>\n",
       "<path d=\"M 900.2,70.3 L 899.4,70.6 L 899.2,71.4\" style=\"fill:none;stroke:#000000;stroke-width:2.0px;stroke-linecap:butt;stroke-linejoin:miter;stroke-opacity:1;\"/>\n",
       "<path d=\"M 896.3,87.0 L 896.1,87.9 L 895.3,88.2\" style=\"fill:none;stroke:#000000;stroke-width:2.0px;stroke-linecap:butt;stroke-linejoin:miter;stroke-opacity:1;\"/>\n",
       "<path d=\"M 885.0,124.4 L 885.2,124.6 L 886.0,124.5\" style=\"fill:none;stroke:#000000;stroke-width:2.0px;stroke-linecap:butt;stroke-linejoin:miter;stroke-opacity:1;\"/>\n",
       "<path d=\"M 912.8,135.7 L 913.3,136.4 L 914.2,136.3\" style=\"fill:none;stroke:#000000;stroke-width:2.0px;stroke-linecap:butt;stroke-linejoin:miter;stroke-opacity:1;\"/>\n",
       "<path d=\"M 929.9,134.2 L 930.8,134.1 L 931.1,133.3\" style=\"fill:none;stroke:#000000;stroke-width:2.0px;stroke-linecap:butt;stroke-linejoin:miter;stroke-opacity:1;\"/>\n",
       "<path d=\"M 927.4,104.5 L 926.9,103.8 L 926.0,103.9\" style=\"fill:none;stroke:#000000;stroke-width:2.0px;stroke-linecap:butt;stroke-linejoin:miter;stroke-opacity:1;\"/>\n",
       "<path d=\"M 910.3,106.0 L 909.4,106.1 L 909.1,106.9\" style=\"fill:none;stroke:#000000;stroke-width:2.0px;stroke-linecap:butt;stroke-linejoin:miter;stroke-opacity:1;\"/>\n",
       "<path d=\"M 965.2,128.9 L 965.8,129.6 L 966.6,129.4\" style=\"fill:none;stroke:#000000;stroke-width:2.0px;stroke-linecap:butt;stroke-linejoin:miter;stroke-opacity:1;\"/>\n",
       "<path d=\"M 982.4,127.4 L 983.2,127.3 L 983.6,126.5\" style=\"fill:none;stroke:#000000;stroke-width:2.0px;stroke-linecap:butt;stroke-linejoin:miter;stroke-opacity:1;\"/>\n",
       "<path d=\"M 989.7,111.8 L 990.0,111.0 L 989.5,110.3\" style=\"fill:none;stroke:#000000;stroke-width:2.0px;stroke-linecap:butt;stroke-linejoin:miter;stroke-opacity:1;\"/>\n",
       "<path d=\"M 979.8,97.7 L 979.3,97.0 L 978.4,97.1\" style=\"fill:none;stroke:#000000;stroke-width:2.0px;stroke-linecap:butt;stroke-linejoin:miter;stroke-opacity:1;\"/>\n",
       "<path d=\"M 847.3,124.9 L 846.8,125.6 L 846.5,125.5\" style=\"fill:none;stroke:#000000;stroke-width:2.0px;stroke-linecap:butt;stroke-linejoin:miter;stroke-opacity:1;\"/>\n",
       "<path class=\"atom-4\" d=\"M 863.9 81.3 L 865.5 83.9 Q 865.7 84.2, 865.9 84.6 Q 866.2 85.1, 866.2 85.1 L 866.2 81.3 L 866.9 81.3 L 866.9 86.2 L 866.2 86.2 L 864.4 83.4 Q 864.2 83.0, 864.0 82.6 Q 863.8 82.2, 863.7 82.1 L 863.7 86.2 L 863.1 86.2 L 863.1 81.3 L 863.9 81.3 \" fill=\"#0000FF\"/>\n",
       "<path class=\"atom-7\" d=\"M 873.4 108.1 L 875.0 110.8 Q 875.2 111.1, 875.4 111.5 Q 875.7 112.0, 875.7 112.0 L 875.7 108.1 L 876.4 108.1 L 876.4 113.1 L 875.7 113.1 L 873.9 110.2 Q 873.7 109.9, 873.5 109.5 Q 873.3 109.1, 873.2 109.0 L 873.2 113.1 L 872.6 113.1 L 872.6 108.1 L 873.4 108.1 \" fill=\"#0000FF\"/>\n",
       "<path class=\"atom-22\" d=\"M 932.4 83.2 L 934.0 85.9 Q 934.2 86.1, 934.5 86.6 Q 934.7 87.1, 934.7 87.1 L 934.7 83.2 L 935.4 83.2 L 935.4 88.2 L 934.7 88.2 L 933.0 85.3 Q 932.8 85.0, 932.5 84.6 Q 932.3 84.2, 932.3 84.1 L 932.3 88.2 L 931.6 88.2 L 931.6 83.2 L 932.4 83.2 \" fill=\"#0000FF\"/>\n",
       "<path class=\"atom-23\" d=\"M 920.9 66.6 L 921.5 66.6 L 921.5 68.7 L 924.1 68.7 L 924.1 66.6 L 924.8 66.6 L 924.8 71.6 L 924.1 71.6 L 924.1 69.3 L 921.5 69.3 L 921.5 71.6 L 920.9 71.6 L 920.9 66.6 \" fill=\"#0000FF\"/>\n",
       "<path class=\"atom-23\" d=\"M 926.5 66.6 L 928.2 69.3 Q 928.3 69.5, 928.6 70.0 Q 928.9 70.5, 928.9 70.5 L 928.9 66.6 L 929.5 66.6 L 929.5 71.6 L 928.9 71.6 L 927.1 68.7 Q 926.9 68.4, 926.7 68.0 Q 926.5 67.6, 926.4 67.5 L 926.4 71.6 L 925.8 71.6 L 925.8 66.6 L 926.5 66.6 \" fill=\"#0000FF\"/>\n",
       "<path class=\"atom-24\" d=\"M 940.5 55.9 L 942.2 58.5 Q 942.3 58.8, 942.6 59.3 Q 942.9 59.8, 942.9 59.8 L 942.9 55.9 L 943.5 55.9 L 943.5 60.9 L 942.9 60.9 L 941.1 58.0 Q 940.9 57.7, 940.7 57.3 Q 940.5 56.9, 940.4 56.8 L 940.4 60.9 L 939.8 60.9 L 939.8 55.9 L 940.5 55.9 \" fill=\"#0000FF\"/>\n",
       "<path class=\"atom-25\" d=\"M 955.0 65.9 L 956.7 68.6 Q 956.8 68.8, 957.1 69.3 Q 957.4 69.8, 957.4 69.8 L 957.4 65.9 L 958.0 65.9 L 958.0 70.9 L 957.4 70.9 L 955.6 68.0 Q 955.4 67.7, 955.2 67.3 Q 955.0 66.9, 954.9 66.8 L 954.9 70.9 L 954.3 70.9 L 954.3 65.9 L 955.0 65.9 \" fill=\"#0000FF\"/>\n",
       "<path class=\"atom-27\" d=\"M 852.1 141.5 Q 852.1 140.3, 852.7 139.6 Q 853.3 139.0, 854.4 139.0 Q 855.5 139.0, 856.1 139.6 Q 856.7 140.3, 856.7 141.5 Q 856.7 142.7, 856.1 143.4 Q 855.5 144.1, 854.4 144.1 Q 853.3 144.1, 852.7 143.4 Q 852.1 142.7, 852.1 141.5 M 854.4 143.5 Q 855.2 143.5, 855.6 143.0 Q 856.0 142.5, 856.0 141.5 Q 856.0 140.5, 855.6 140.0 Q 855.2 139.5, 854.4 139.5 Q 853.6 139.5, 853.2 140.0 Q 852.8 140.5, 852.8 141.5 Q 852.8 142.5, 853.2 143.0 Q 853.6 143.5, 854.4 143.5 \" fill=\"#FF0000\"/>\n",
       "<path class=\"atom-28\" d=\"M 822.1 121.7 L 822.7 121.7 L 822.7 123.8 L 825.3 123.8 L 825.3 121.7 L 826.0 121.7 L 826.0 126.7 L 825.3 126.7 L 825.3 124.4 L 822.7 124.4 L 822.7 126.7 L 822.1 126.7 L 822.1 121.7 \" fill=\"#FF0000\"/>\n",
       "<path class=\"atom-28\" d=\"M 827.0 124.2 Q 827.0 123.0, 827.6 122.3 Q 828.2 121.6, 829.3 121.6 Q 830.4 121.6, 831.0 122.3 Q 831.6 123.0, 831.6 124.2 Q 831.6 125.4, 831.0 126.1 Q 830.4 126.8, 829.3 126.8 Q 828.2 126.8, 827.6 126.1 Q 827.0 125.4, 827.0 124.2 M 829.3 126.2 Q 830.0 126.2, 830.4 125.7 Q 830.9 125.2, 830.9 124.2 Q 830.9 123.2, 830.4 122.7 Q 830.0 122.2, 829.3 122.2 Q 828.5 122.2, 828.1 122.7 Q 827.7 123.2, 827.7 124.2 Q 827.7 125.2, 828.1 125.7 Q 828.5 126.2, 829.3 126.2 \" fill=\"#FF0000\"/>\n",
       "<path class=\"atom-32\" d=\"M 810.0 81.9 L 810.7 81.9 L 810.7 84.0 L 813.2 84.0 L 813.2 81.9 L 813.9 81.9 L 813.9 86.9 L 813.2 86.9 L 813.2 84.6 L 810.7 84.6 L 810.7 86.9 L 810.0 86.9 L 810.0 81.9 \" fill=\"#FF0000\"/>\n",
       "<path class=\"atom-32\" d=\"M 814.9 84.4 Q 814.9 83.2, 815.5 82.5 Q 816.1 81.9, 817.2 81.9 Q 818.3 81.9, 818.9 82.5 Q 819.5 83.2, 819.5 84.4 Q 819.5 85.6, 818.9 86.3 Q 818.3 87.0, 817.2 87.0 Q 816.1 87.0, 815.5 86.3 Q 814.9 85.6, 814.9 84.4 M 817.2 86.4 Q 818.0 86.4, 818.4 85.9 Q 818.8 85.4, 818.8 84.4 Q 818.8 83.4, 818.4 82.9 Q 818.0 82.4, 817.2 82.4 Q 816.5 82.4, 816.0 82.9 Q 815.6 83.4, 815.6 84.4 Q 815.6 85.4, 816.0 85.9 Q 816.5 86.4, 817.2 86.4 \" fill=\"#FF0000\"/>\n",
       "<path class=\"bond-0 atom-0 atom-1\" d=\"M 1112.9,55.6 L 1109.1,72.8\" style=\"fill:none;fill-rule:evenodd;stroke:#000000;stroke-width:2.0px;stroke-linecap:butt;stroke-linejoin:miter;stroke-opacity:1\"/>\n",
       "<path class=\"bond-1 atom-1 atom-2\" d=\"M 1109.1,72.8 L 1092.3,78.2\" style=\"fill:none;fill-rule:evenodd;stroke:#000000;stroke-width:2.0px;stroke-linecap:butt;stroke-linejoin:miter;stroke-opacity:1\"/>\n",
       "<path class=\"bond-2 atom-2 atom-3\" d=\"M 1092.3,78.2 L 1088.5,95.4\" style=\"fill:none;fill-rule:evenodd;stroke:#000000;stroke-width:2.0px;stroke-linecap:butt;stroke-linejoin:miter;stroke-opacity:1\"/>\n",
       "<path class=\"bond-3 atom-3 atom-4\" d=\"M 1088.5,95.4 L 1071.7,100.7\" style=\"fill:none;fill-rule:evenodd;stroke:#000000;stroke-width:2.0px;stroke-linecap:butt;stroke-linejoin:miter;stroke-opacity:1\"/>\n",
       "<path class=\"bond-4 atom-4 atom-5\" d=\"M 1071.7,100.7 L 1065.9,96.4\" style=\"fill:none;fill-rule:evenodd;stroke:#000000;stroke-width:2.0px;stroke-linecap:butt;stroke-linejoin:miter;stroke-opacity:1\"/>\n",
       "<path class=\"bond-4 atom-4 atom-5\" d=\"M 1065.9,96.4 L 1060.0,92.1\" style=\"fill:none;fill-rule:evenodd;stroke:#0000FF;stroke-width:2.0px;stroke-linecap:butt;stroke-linejoin:miter;stroke-opacity:1\"/>\n",
       "<path class=\"bond-4 atom-4 atom-5\" d=\"M 1068.6,101.7 L 1063.5,97.9\" style=\"fill:none;fill-rule:evenodd;stroke:#000000;stroke-width:2.0px;stroke-linecap:butt;stroke-linejoin:miter;stroke-opacity:1\"/>\n",
       "<path class=\"bond-4 atom-4 atom-5\" d=\"M 1063.5,97.9 L 1058.4,94.2\" style=\"fill:none;fill-rule:evenodd;stroke:#0000FF;stroke-width:2.0px;stroke-linecap:butt;stroke-linejoin:miter;stroke-opacity:1\"/>\n",
       "<path class=\"bond-5 atom-5 atom-6\" d=\"M 1055.1,92.0 L 1049.1,96.2\" style=\"fill:none;fill-rule:evenodd;stroke:#0000FF;stroke-width:2.0px;stroke-linecap:butt;stroke-linejoin:miter;stroke-opacity:1\"/>\n",
       "<path class=\"bond-5 atom-5 atom-6\" d=\"M 1049.1,96.2 L 1043.2,100.5\" style=\"fill:none;fill-rule:evenodd;stroke:#000000;stroke-width:2.0px;stroke-linecap:butt;stroke-linejoin:miter;stroke-opacity:1\"/>\n",
       "<path class=\"bond-6 atom-6 atom-7\" d=\"M 1043.2,100.5 L 1048.5,117.3\" style=\"fill:none;fill-rule:evenodd;stroke:#000000;stroke-width:2.0px;stroke-linecap:butt;stroke-linejoin:miter;stroke-opacity:1\"/>\n",
       "<path class=\"bond-6 atom-6 atom-7\" d=\"M 1046.3,101.5 L 1050.5,114.6\" style=\"fill:none;fill-rule:evenodd;stroke:#000000;stroke-width:2.0px;stroke-linecap:butt;stroke-linejoin:miter;stroke-opacity:1\"/>\n",
       "<path class=\"bond-7 atom-7 atom-8\" d=\"M 1048.5,117.3 L 1056.1,117.3\" style=\"fill:none;fill-rule:evenodd;stroke:#000000;stroke-width:2.0px;stroke-linecap:butt;stroke-linejoin:miter;stroke-opacity:1\"/>\n",
       "<path class=\"bond-7 atom-7 atom-8\" d=\"M 1056.1,117.3 L 1063.7,117.4\" style=\"fill:none;fill-rule:evenodd;stroke:#0000FF;stroke-width:2.0px;stroke-linecap:butt;stroke-linejoin:miter;stroke-opacity:1\"/>\n",
       "<path class=\"bond-8 atom-8 atom-9\" d=\"M 1068.3,120.5 L 1072.4,126.1\" style=\"fill:none;fill-rule:evenodd;stroke:#0000FF;stroke-width:2.0px;stroke-linecap:butt;stroke-linejoin:miter;stroke-opacity:1\"/>\n",
       "<path class=\"bond-8 atom-8 atom-9\" d=\"M 1072.4,126.1 L 1076.4,131.7\" style=\"fill:none;fill-rule:evenodd;stroke:#000000;stroke-width:2.0px;stroke-linecap:butt;stroke-linejoin:miter;stroke-opacity:1\"/>\n",
       "<path class=\"bond-9 atom-9 atom-10\" d=\"M 1076.4,131.7 L 1093.9,130.0\" style=\"fill:none;fill-rule:evenodd;stroke:#000000;stroke-width:2.0px;stroke-linecap:butt;stroke-linejoin:miter;stroke-opacity:1\"/>\n",
       "<path class=\"bond-10 atom-10 atom-11\" d=\"M 1093.9,130.0 L 1104.2,144.4\" style=\"fill:none;fill-rule:evenodd;stroke:#000000;stroke-width:2.0px;stroke-linecap:butt;stroke-linejoin:miter;stroke-opacity:1\"/>\n",
       "<path class=\"bond-10 atom-10 atom-11\" d=\"M 1097.0,129.7 L 1105.4,141.6\" style=\"fill:none;fill-rule:evenodd;stroke:#000000;stroke-width:2.0px;stroke-linecap:butt;stroke-linejoin:miter;stroke-opacity:1\"/>\n",
       "<path class=\"bond-11 atom-11 atom-12\" d=\"M 1104.2,144.4 L 1121.7,142.7\" style=\"fill:none;fill-rule:evenodd;stroke:#000000;stroke-width:2.0px;stroke-linecap:butt;stroke-linejoin:miter;stroke-opacity:1\"/>\n",
       "<path class=\"bond-12 atom-12 atom-13\" d=\"M 1121.7,142.7 L 1129.0,126.6\" style=\"fill:none;fill-rule:evenodd;stroke:#000000;stroke-width:2.0px;stroke-linecap:butt;stroke-linejoin:miter;stroke-opacity:1\"/>\n",
       "<path class=\"bond-12 atom-12 atom-13\" d=\"M 1119.9,140.2 L 1126.0,126.9\" style=\"fill:none;fill-rule:evenodd;stroke:#000000;stroke-width:2.0px;stroke-linecap:butt;stroke-linejoin:miter;stroke-opacity:1\"/>\n",
       "<path class=\"bond-13 atom-13 atom-14\" d=\"M 1129.0,126.6 L 1118.7,112.3\" style=\"fill:none;fill-rule:evenodd;stroke:#000000;stroke-width:2.0px;stroke-linecap:butt;stroke-linejoin:miter;stroke-opacity:1\"/>\n",
       "<path class=\"bond-14 atom-14 atom-15\" d=\"M 1118.7,112.3 L 1101.2,114.0\" style=\"fill:none;fill-rule:evenodd;stroke:#000000;stroke-width:2.0px;stroke-linecap:butt;stroke-linejoin:miter;stroke-opacity:1\"/>\n",
       "<path class=\"bond-14 atom-14 atom-15\" d=\"M 1117.5,115.1 L 1103.0,116.5\" style=\"fill:none;fill-rule:evenodd;stroke:#000000;stroke-width:2.0px;stroke-linecap:butt;stroke-linejoin:miter;stroke-opacity:1\"/>\n",
       "<path class=\"bond-15 atom-13 atom-16\" d=\"M 1129.0,126.6 L 1146.5,124.9\" style=\"fill:none;fill-rule:evenodd;stroke:#000000;stroke-width:2.0px;stroke-linecap:butt;stroke-linejoin:miter;stroke-opacity:1\"/>\n",
       "<path class=\"bond-16 atom-16 atom-17\" d=\"M 1146.5,124.9 L 1156.8,139.2\" style=\"fill:none;fill-rule:evenodd;stroke:#000000;stroke-width:2.0px;stroke-linecap:butt;stroke-linejoin:miter;stroke-opacity:1\"/>\n",
       "<path class=\"bond-16 atom-16 atom-17\" d=\"M 1149.6,124.6 L 1158.0,136.5\" style=\"fill:none;fill-rule:evenodd;stroke:#000000;stroke-width:2.0px;stroke-linecap:butt;stroke-linejoin:miter;stroke-opacity:1\"/>\n",
       "<path class=\"bond-17 atom-17 atom-18\" d=\"M 1156.8,139.2 L 1174.3,137.5\" style=\"fill:none;fill-rule:evenodd;stroke:#000000;stroke-width:2.0px;stroke-linecap:butt;stroke-linejoin:miter;stroke-opacity:1\"/>\n",
       "<path class=\"bond-18 atom-18 atom-19\" d=\"M 1174.3,137.5 L 1181.6,121.5\" style=\"fill:none;fill-rule:evenodd;stroke:#000000;stroke-width:2.0px;stroke-linecap:butt;stroke-linejoin:miter;stroke-opacity:1\"/>\n",
       "<path class=\"bond-18 atom-18 atom-19\" d=\"M 1172.5,135.0 L 1178.6,121.8\" style=\"fill:none;fill-rule:evenodd;stroke:#000000;stroke-width:2.0px;stroke-linecap:butt;stroke-linejoin:miter;stroke-opacity:1\"/>\n",
       "<path class=\"bond-19 atom-19 atom-20\" d=\"M 1181.6,121.5 L 1171.4,107.1\" style=\"fill:none;fill-rule:evenodd;stroke:#000000;stroke-width:2.0px;stroke-linecap:butt;stroke-linejoin:miter;stroke-opacity:1\"/>\n",
       "<path class=\"bond-20 atom-20 atom-21\" d=\"M 1171.4,107.1 L 1153.8,108.9\" style=\"fill:none;fill-rule:evenodd;stroke:#000000;stroke-width:2.0px;stroke-linecap:butt;stroke-linejoin:miter;stroke-opacity:1\"/>\n",
       "<path class=\"bond-20 atom-20 atom-21\" d=\"M 1170.1,109.9 L 1155.6,111.3\" style=\"fill:none;fill-rule:evenodd;stroke:#000000;stroke-width:2.0px;stroke-linecap:butt;stroke-linejoin:miter;stroke-opacity:1\"/>\n",
       "<path class=\"bond-21 atom-21 atom-22\" d=\"M 1153.8,108.9 L 1143.6,94.5\" style=\"fill:none;fill-rule:evenodd;stroke:#000000;stroke-width:2.0px;stroke-linecap:butt;stroke-linejoin:miter;stroke-opacity:1\"/>\n",
       "<path class=\"bond-22 atom-22 atom-23\" d=\"M 1143.6,94.5 L 1136.0,94.5\" style=\"fill:none;fill-rule:evenodd;stroke:#000000;stroke-width:2.0px;stroke-linecap:butt;stroke-linejoin:miter;stroke-opacity:1\"/>\n",
       "<path class=\"bond-22 atom-22 atom-23\" d=\"M 1136.0,94.5 L 1128.4,94.4\" style=\"fill:none;fill-rule:evenodd;stroke:#0000FF;stroke-width:2.0px;stroke-linecap:butt;stroke-linejoin:miter;stroke-opacity:1\"/>\n",
       "<path class=\"bond-22 atom-22 atom-23\" d=\"M 1141.7,91.9 L 1135.1,91.8\" style=\"fill:none;fill-rule:evenodd;stroke:#000000;stroke-width:2.0px;stroke-linecap:butt;stroke-linejoin:miter;stroke-opacity:1\"/>\n",
       "<path class=\"bond-22 atom-22 atom-23\" d=\"M 1135.1,91.8 L 1128.4,91.8\" style=\"fill:none;fill-rule:evenodd;stroke:#0000FF;stroke-width:2.0px;stroke-linecap:butt;stroke-linejoin:miter;stroke-opacity:1\"/>\n",
       "<path class=\"bond-23 atom-23 atom-24\" d=\"M 1125.0,91.3 L 1121.6,80.7\" style=\"fill:none;fill-rule:evenodd;stroke:#0000FF;stroke-width:2.0px;stroke-linecap:butt;stroke-linejoin:miter;stroke-opacity:1\"/>\n",
       "<path class=\"bond-24 atom-24 atom-25\" d=\"M 1123.1,75.8 L 1132.5,69.1\" style=\"fill:none;fill-rule:evenodd;stroke:#0000FF;stroke-width:2.0px;stroke-linecap:butt;stroke-linejoin:miter;stroke-opacity:1\"/>\n",
       "<path class=\"bond-25 atom-25 atom-26\" d=\"M 1137.4,69.2 L 1146.7,76.0\" style=\"fill:none;fill-rule:evenodd;stroke:#0000FF;stroke-width:2.0px;stroke-linecap:butt;stroke-linejoin:miter;stroke-opacity:1\"/>\n",
       "<path class=\"bond-25 atom-25 atom-26\" d=\"M 1135.9,71.3 L 1145.1,78.1\" style=\"fill:none;fill-rule:evenodd;stroke:#0000FF;stroke-width:2.0px;stroke-linecap:butt;stroke-linejoin:miter;stroke-opacity:1\"/>\n",
       "<path class=\"bond-26 atom-7 atom-27\" d=\"M 1048.5,117.3 L 1038.0,131.5\" style=\"fill:none;fill-rule:evenodd;stroke:#000000;stroke-width:2.0px;stroke-linecap:butt;stroke-linejoin:miter;stroke-opacity:1\"/>\n",
       "<path class=\"bond-27 atom-27 atom-28\" d=\"M 1038.0,131.5 L 1030.7,130.6\" style=\"fill:none;fill-rule:evenodd;stroke:#000000;stroke-width:2.0px;stroke-linecap:butt;stroke-linejoin:miter;stroke-opacity:1\"/>\n",
       "<path class=\"bond-27 atom-27 atom-28\" d=\"M 1030.7,130.6 L 1023.4,129.8\" style=\"fill:none;fill-rule:evenodd;stroke:#FF0000;stroke-width:2.0px;stroke-linecap:butt;stroke-linejoin:miter;stroke-opacity:1\"/>\n",
       "<path class=\"bond-27 atom-27 atom-28\" d=\"M 1036.8,128.7 L 1031.0,128.0\" style=\"fill:none;fill-rule:evenodd;stroke:#000000;stroke-width:2.0px;stroke-linecap:butt;stroke-linejoin:miter;stroke-opacity:1\"/>\n",
       "<path class=\"bond-27 atom-27 atom-28\" d=\"M 1031.0,128.0 L 1023.7,127.2\" style=\"fill:none;fill-rule:evenodd;stroke:#FF0000;stroke-width:2.0px;stroke-linecap:butt;stroke-linejoin:miter;stroke-opacity:1\"/>\n",
       "<path class=\"bond-28 atom-6 atom-29\" d=\"M 1043.2,100.5 L 1035.3,97.8\" style=\"fill:none;fill-rule:evenodd;stroke:#000000;stroke-width:2.0px;stroke-linecap:butt;stroke-linejoin:miter;stroke-opacity:1\"/>\n",
       "<path class=\"bond-28 atom-6 atom-29\" d=\"M 1035.3,97.8 L 1027.4,95.2\" style=\"fill:none;fill-rule:evenodd;stroke:#00CC00;stroke-width:2.0px;stroke-linecap:butt;stroke-linejoin:miter;stroke-opacity:1\"/>\n",
       "<path class=\"bond-29 atom-8 atom-4\" d=\"M 1067.2,114.3 L 1069.4,107.5\" style=\"fill:none;fill-rule:evenodd;stroke:#0000FF;stroke-width:2.0px;stroke-linecap:butt;stroke-linejoin:miter;stroke-opacity:1\"/>\n",
       "<path class=\"bond-29 atom-8 atom-4\" d=\"M 1069.4,107.5 L 1071.7,100.7\" style=\"fill:none;fill-rule:evenodd;stroke:#000000;stroke-width:2.0px;stroke-linecap:butt;stroke-linejoin:miter;stroke-opacity:1\"/>\n",
       "<path class=\"bond-30 atom-15 atom-10\" d=\"M 1101.2,114.0 L 1093.9,130.0\" style=\"fill:none;fill-rule:evenodd;stroke:#000000;stroke-width:2.0px;stroke-linecap:butt;stroke-linejoin:miter;stroke-opacity:1\"/>\n",
       "<path class=\"bond-31 atom-21 atom-16\" d=\"M 1153.8,108.9 L 1146.5,124.9\" style=\"fill:none;fill-rule:evenodd;stroke:#000000;stroke-width:2.0px;stroke-linecap:butt;stroke-linejoin:miter;stroke-opacity:1\"/>\n",
       "<path class=\"bond-32 atom-26 atom-22\" d=\"M 1148.1,80.9 L 1145.8,87.7\" style=\"fill:none;fill-rule:evenodd;stroke:#0000FF;stroke-width:2.0px;stroke-linecap:butt;stroke-linejoin:miter;stroke-opacity:1\"/>\n",
       "<path class=\"bond-32 atom-26 atom-22\" d=\"M 1145.8,87.7 L 1143.6,94.5\" style=\"fill:none;fill-rule:evenodd;stroke:#000000;stroke-width:2.0px;stroke-linecap:butt;stroke-linejoin:miter;stroke-opacity:1\"/>\n",
       "<path d=\"M 1109.3,72.0 L 1109.1,72.8 L 1108.3,73.1\" style=\"fill:none;stroke:#000000;stroke-width:2.0px;stroke-linecap:butt;stroke-linejoin:miter;stroke-opacity:1;\"/>\n",
       "<path d=\"M 1093.1,77.9 L 1092.3,78.2 L 1092.1,79.0\" style=\"fill:none;stroke:#000000;stroke-width:2.0px;stroke-linecap:butt;stroke-linejoin:miter;stroke-opacity:1;\"/>\n",
       "<path d=\"M 1088.7,94.5 L 1088.5,95.4 L 1087.7,95.6\" style=\"fill:none;stroke:#000000;stroke-width:2.0px;stroke-linecap:butt;stroke-linejoin:miter;stroke-opacity:1;\"/>\n",
       "<path d=\"M 1076.2,131.5 L 1076.4,131.7 L 1077.3,131.7\" style=\"fill:none;stroke:#000000;stroke-width:2.0px;stroke-linecap:butt;stroke-linejoin:miter;stroke-opacity:1;\"/>\n",
       "<path d=\"M 1103.7,143.6 L 1104.2,144.4 L 1105.0,144.3\" style=\"fill:none;stroke:#000000;stroke-width:2.0px;stroke-linecap:butt;stroke-linejoin:miter;stroke-opacity:1;\"/>\n",
       "<path d=\"M 1120.8,142.7 L 1121.7,142.7 L 1122.1,141.8\" style=\"fill:none;stroke:#000000;stroke-width:2.0px;stroke-linecap:butt;stroke-linejoin:miter;stroke-opacity:1;\"/>\n",
       "<path d=\"M 1119.3,113.0 L 1118.7,112.3 L 1117.9,112.4\" style=\"fill:none;stroke:#000000;stroke-width:2.0px;stroke-linecap:butt;stroke-linejoin:miter;stroke-opacity:1;\"/>\n",
       "<path d=\"M 1102.1,113.9 L 1101.2,114.0 L 1100.8,114.8\" style=\"fill:none;stroke:#000000;stroke-width:2.0px;stroke-linecap:butt;stroke-linejoin:miter;stroke-opacity:1;\"/>\n",
       "<path d=\"M 1156.3,138.5 L 1156.8,139.2 L 1157.7,139.1\" style=\"fill:none;stroke:#000000;stroke-width:2.0px;stroke-linecap:butt;stroke-linejoin:miter;stroke-opacity:1;\"/>\n",
       "<path d=\"M 1173.4,137.6 L 1174.3,137.5 L 1174.7,136.7\" style=\"fill:none;stroke:#000000;stroke-width:2.0px;stroke-linecap:butt;stroke-linejoin:miter;stroke-opacity:1;\"/>\n",
       "<path d=\"M 1181.2,122.3 L 1181.6,121.5 L 1181.1,120.8\" style=\"fill:none;stroke:#000000;stroke-width:2.0px;stroke-linecap:butt;stroke-linejoin:miter;stroke-opacity:1;\"/>\n",
       "<path d=\"M 1171.9,107.9 L 1171.4,107.1 L 1170.5,107.2\" style=\"fill:none;stroke:#000000;stroke-width:2.0px;stroke-linecap:butt;stroke-linejoin:miter;stroke-opacity:1;\"/>\n",
       "<path d=\"M 1038.6,130.7 L 1038.0,131.5 L 1037.7,131.4\" style=\"fill:none;stroke:#000000;stroke-width:2.0px;stroke-linecap:butt;stroke-linejoin:miter;stroke-opacity:1;\"/>\n",
       "<path class=\"atom-5\" d=\"M 1056.4 87.7 L 1058.1 90.4 Q 1058.2 90.6, 1058.5 91.1 Q 1058.7 91.6, 1058.8 91.6 L 1058.8 87.7 L 1059.4 87.7 L 1059.4 92.7 L 1058.7 92.7 L 1057.0 89.8 Q 1056.8 89.5, 1056.6 89.1 Q 1056.3 88.7, 1056.3 88.6 L 1056.3 92.7 L 1055.6 92.7 L 1055.6 87.7 L 1056.4 87.7 \" fill=\"#0000FF\"/>\n",
       "<path class=\"atom-8\" d=\"M 1065.0 114.9 L 1066.7 117.6 Q 1066.8 117.8, 1067.1 118.3 Q 1067.3 118.8, 1067.4 118.8 L 1067.4 114.9 L 1068.0 114.9 L 1068.0 119.9 L 1067.3 119.9 L 1065.6 117.0 Q 1065.4 116.7, 1065.2 116.3 Q 1065.0 115.9, 1064.9 115.8 L 1064.9 119.9 L 1064.2 119.9 L 1064.2 114.9 L 1065.0 114.9 \" fill=\"#0000FF\"/>\n",
       "<path class=\"atom-23\" d=\"M 1124.8 91.9 L 1126.5 94.5 Q 1126.6 94.8, 1126.9 95.3 Q 1127.2 95.7, 1127.2 95.8 L 1127.2 91.9 L 1127.8 91.9 L 1127.8 96.9 L 1127.2 96.9 L 1125.4 94.0 Q 1125.2 93.7, 1125.0 93.3 Q 1124.8 92.9, 1124.7 92.8 L 1124.7 96.9 L 1124.1 96.9 L 1124.1 91.9 L 1124.8 91.9 \" fill=\"#0000FF\"/>\n",
       "<path class=\"atom-24\" d=\"M 1113.8 75.1 L 1114.5 75.1 L 1114.5 77.2 L 1117.1 77.2 L 1117.1 75.1 L 1117.8 75.1 L 1117.8 80.1 L 1117.1 80.1 L 1117.1 77.8 L 1114.5 77.8 L 1114.5 80.1 L 1113.8 80.1 L 1113.8 75.1 \" fill=\"#0000FF\"/>\n",
       "<path class=\"atom-24\" d=\"M 1119.5 75.1 L 1121.2 77.7 Q 1121.3 78.0, 1121.6 78.5 Q 1121.8 78.9, 1121.9 79.0 L 1121.9 75.1 L 1122.5 75.1 L 1122.5 80.1 L 1121.8 80.1 L 1120.1 77.2 Q 1119.9 76.9, 1119.7 76.5 Q 1119.4 76.1, 1119.4 76.0 L 1119.4 80.1 L 1118.7 80.1 L 1118.7 75.1 L 1119.5 75.1 \" fill=\"#0000FF\"/>\n",
       "<path class=\"atom-25\" d=\"M 1133.9 64.8 L 1135.5 67.5 Q 1135.7 67.8, 1135.9 68.2 Q 1136.2 68.7, 1136.2 68.7 L 1136.2 64.8 L 1136.9 64.8 L 1136.9 69.8 L 1136.2 69.8 L 1134.4 66.9 Q 1134.2 66.6, 1134.0 66.2 Q 1133.8 65.8, 1133.7 65.7 L 1133.7 69.8 L 1133.1 69.8 L 1133.1 64.8 L 1133.9 64.8 \" fill=\"#0000FF\"/>\n",
       "<path class=\"atom-26\" d=\"M 1148.0 75.3 L 1149.7 78.0 Q 1149.8 78.2, 1150.1 78.7 Q 1150.4 79.2, 1150.4 79.2 L 1150.4 75.3 L 1151.0 75.3 L 1151.0 80.3 L 1150.3 80.3 L 1148.6 77.4 Q 1148.4 77.1, 1148.2 76.7 Q 1148.0 76.3, 1147.9 76.2 L 1147.9 80.3 L 1147.2 80.3 L 1147.2 75.3 L 1148.0 75.3 \" fill=\"#0000FF\"/>\n",
       "<path class=\"atom-28\" d=\"M 1018.4 128.2 Q 1018.4 127.0, 1019.0 126.3 Q 1019.6 125.6, 1020.7 125.6 Q 1021.8 125.6, 1022.4 126.3 Q 1023.0 127.0, 1023.0 128.2 Q 1023.0 129.4, 1022.4 130.1 Q 1021.8 130.8, 1020.7 130.8 Q 1019.6 130.8, 1019.0 130.1 Q 1018.4 129.4, 1018.4 128.2 M 1020.7 130.2 Q 1021.4 130.2, 1021.9 129.7 Q 1022.3 129.2, 1022.3 128.2 Q 1022.3 127.2, 1021.9 126.7 Q 1021.4 126.2, 1020.7 126.2 Q 1019.9 126.2, 1019.5 126.7 Q 1019.1 127.2, 1019.1 128.2 Q 1019.1 129.2, 1019.5 129.7 Q 1019.9 130.2, 1020.7 130.2 \" fill=\"#FF0000\"/>\n",
       "<path class=\"atom-29\" d=\"M 1021.8 95.1 Q 1021.8 93.8, 1022.4 93.2 Q 1023.0 92.5, 1024.1 92.5 Q 1025.1 92.5, 1025.6 93.3 L 1025.2 93.6 Q 1024.8 93.1, 1024.1 93.1 Q 1023.3 93.1, 1022.9 93.6 Q 1022.5 94.1, 1022.5 95.1 Q 1022.5 96.1, 1022.9 96.6 Q 1023.3 97.1, 1024.1 97.1 Q 1024.7 97.1, 1025.3 96.7 L 1025.5 97.3 Q 1025.3 97.4, 1024.9 97.5 Q 1024.5 97.6, 1024.0 97.6 Q 1023.0 97.6, 1022.4 97.0 Q 1021.8 96.3, 1021.8 95.1 \" fill=\"#00CC00\"/>\n",
       "<path class=\"atom-29\" d=\"M 1026.2 92.2 L 1026.8 92.2 L 1026.8 97.6 L 1026.2 97.6 L 1026.2 92.2 \" fill=\"#00CC00\"/>\n",
       "</svg>"
      ],
      "text/plain": [
       "<IPython.core.display.SVG object>"
      ]
     },
     "execution_count": 7,
     "metadata": {},
     "output_type": "execute_result"
    }
   ],
   "source": [
    "img = utils.show_mols(\n",
    "    dists_smiles[np.where(clusters == 11)[0]].tolist(),\n",
    "    smiles_in=True, legends=[], mols_per_row=6, svg=True,\n",
    "    save_pth='cluster_example.svg'\n",
    ")\n",
    "img"
   ]
  },
  {
   "cell_type": "markdown",
   "metadata": {},
   "source": [
    "### Define train-validation-test split"
   ]
  },
  {
   "cell_type": "markdown",
   "metadata": {},
   "source": [
    "Compute metadata stratification groups"
   ]
  },
  {
   "cell_type": "code",
   "execution_count": 8,
   "metadata": {},
   "outputs": [
    {
     "data": {
      "text/plain": [
       "stratification_group\n",
       "[M+H]+ITFTnone(5, 100]        37555\n",
       "[M+Na]+ITFTnone(5, 100]       21223\n",
       "[M+H]+QTOFother(5, 100]       17604\n",
       "[M+H]+ITFTother(5, 100]       16213\n",
       "[M+H]+QFTother(5, 100]        12467\n",
       "                              ...  \n",
       "[M+H]+nan30.0(0, 3)               1\n",
       "[M+H]+nan10.0(0, 3)               1\n",
       "[M+H]+QTOF45.0(0, 3)              1\n",
       "[M+Na]+nannone(100, inf)          1\n",
       "[M+Na]+Orbitrapother(0, 3)        1\n",
       "Name: count, Length: 169, dtype: int64"
      ]
     },
     "execution_count": 8,
     "metadata": {},
     "output_type": "execute_result"
    }
   ],
   "source": [
    "smiles_to_cluster = dict(zip(dists_smiles, clusters))\n",
    "df['cluster'] = df['smiles'].map(smiles_to_cluster)\n",
    "\n",
    "top_k_ces = df['collision_energy'].value_counts().index[:5]\n",
    "smiles_vc = df['smiles'].value_counts()\n",
    "\n",
    "def simple_ce(ce):\n",
    "    if pd.isnull(ce):\n",
    "        return 'none'\n",
    "    if ce in top_k_ces:\n",
    "        return str(ce)\n",
    "    return 'other'\n",
    "\n",
    "def simple_smiles_count(smiles):\n",
    "    c = smiles_vc[smiles]\n",
    "    if c < 3:\n",
    "        return '(0, 3)'\n",
    "    elif c <= 5:\n",
    "        return '(3, 5]'\n",
    "    elif c > 100:\n",
    "        return '(100, inf)'\n",
    "    return '(5, 100]'\n",
    "\n",
    "def stratification_group(row):\n",
    "    return str(row['adduct']) + \\\n",
    "        str(row['instrument_type']) + \\\n",
    "        str(simple_ce(row['collision_energy'])) + \\\n",
    "        str(simple_smiles_count(row['smiles']))\n",
    "df['stratification_group'] = df.apply(stratification_group, axis=1)\n",
    "df['stratification_group'].value_counts()"
   ]
  },
  {
   "cell_type": "markdown",
   "metadata": {},
   "source": [
    "Split with `StratifiedGroupKFold`"
   ]
  },
  {
   "cell_type": "code",
   "execution_count": 9,
   "metadata": {},
   "outputs": [
    {
     "name": "stderr",
     "output_type": "stream",
     "text": [
      "/Users/roman/miniconda/envs/massspecgym/lib/python3.11/site-packages/sklearn/model_selection/_split.py:994: UserWarning: The least populated class in y has only 1 members, which is less than n_splits=3.\n",
      "  warnings.warn(\n"
     ]
    },
    {
     "name": "stdout",
     "output_type": "stream",
     "text": [
      "170096 (73.60 %)\n",
      "30294 (13.11 %)\n",
      "30714 (13.29 %)\n"
     ]
    }
   ],
   "source": [
    "X = df['identifier'].values\n",
    "y = df['stratification_group'].values\n",
    "groups = df['cluster'].values\n",
    "sgkf = StratifiedGroupKFold(n_splits=3)\n",
    "sgkf_split = sgkf.split(X, y, groups)\n",
    "folds = []\n",
    "for i, (train_index, test_index) in enumerate(sgkf_split):\n",
    "    print(f'{len(test_index)} ({len(test_index) / len(X) * 100:.2f} %)')\n",
    "    folds.append(X[test_index])"
   ]
  },
  {
   "cell_type": "code",
   "execution_count": 19,
   "metadata": {},
   "outputs": [
    {
     "name": "stdout",
     "output_type": "stream",
     "text": [
      "Full dataset (percentage=False)\n"
     ]
    },
    {
     "data": {
      "text/html": [
       "<div>\n",
       "<style scoped>\n",
       "    .dataframe tbody tr th:only-of-type {\n",
       "        vertical-align: middle;\n",
       "    }\n",
       "\n",
       "    .dataframe tbody tr th {\n",
       "        vertical-align: top;\n",
       "    }\n",
       "\n",
       "    .dataframe thead th {\n",
       "        text-align: right;\n",
       "    }\n",
       "</style>\n",
       "<table border=\"1\" class=\"dataframe\">\n",
       "  <thead>\n",
       "    <tr style=\"text-align: right;\">\n",
       "      <th></th>\n",
       "      <th>identifier</th>\n",
       "      <th>smiles</th>\n",
       "      <th>cluster</th>\n",
       "    </tr>\n",
       "    <tr>\n",
       "      <th>fold</th>\n",
       "      <th></th>\n",
       "      <th></th>\n",
       "      <th></th>\n",
       "    </tr>\n",
       "  </thead>\n",
       "  <tbody>\n",
       "    <tr>\n",
       "      <th>train</th>\n",
       "      <td>170096</td>\n",
       "      <td>20532</td>\n",
       "      <td>61</td>\n",
       "    </tr>\n",
       "    <tr>\n",
       "      <th>val</th>\n",
       "      <td>30294</td>\n",
       "      <td>5545</td>\n",
       "      <td>3721</td>\n",
       "    </tr>\n",
       "    <tr>\n",
       "      <th>test</th>\n",
       "      <td>30714</td>\n",
       "      <td>5525</td>\n",
       "      <td>3702</td>\n",
       "    </tr>\n",
       "  </tbody>\n",
       "</table>\n",
       "</div>"
      ],
      "text/plain": [
       "       identifier  smiles  cluster\n",
       "fold                              \n",
       "train      170096   20532       61\n",
       "val         30294    5545     3721\n",
       "test        30714    5525     3702"
      ]
     },
     "metadata": {},
     "output_type": "display_data"
    },
    {
     "name": "stdout",
     "output_type": "stream",
     "text": [
      "All metadata available (percentage=False)\n"
     ]
    },
    {
     "data": {
      "text/html": [
       "<div>\n",
       "<style scoped>\n",
       "    .dataframe tbody tr th:only-of-type {\n",
       "        vertical-align: middle;\n",
       "    }\n",
       "\n",
       "    .dataframe tbody tr th {\n",
       "        vertical-align: top;\n",
       "    }\n",
       "\n",
       "    .dataframe thead th {\n",
       "        text-align: right;\n",
       "    }\n",
       "</style>\n",
       "<table border=\"1\" class=\"dataframe\">\n",
       "  <thead>\n",
       "    <tr style=\"text-align: right;\">\n",
       "      <th></th>\n",
       "      <th>identifier</th>\n",
       "      <th>smiles</th>\n",
       "      <th>cluster</th>\n",
       "    </tr>\n",
       "    <tr>\n",
       "      <th>fold</th>\n",
       "      <th></th>\n",
       "      <th></th>\n",
       "      <th></th>\n",
       "    </tr>\n",
       "  </thead>\n",
       "  <tbody>\n",
       "    <tr>\n",
       "      <th>train</th>\n",
       "      <td>87883</td>\n",
       "      <td>10198</td>\n",
       "      <td>61</td>\n",
       "    </tr>\n",
       "    <tr>\n",
       "      <th>val</th>\n",
       "      <td>16834</td>\n",
       "      <td>4100</td>\n",
       "      <td>3190</td>\n",
       "    </tr>\n",
       "    <tr>\n",
       "      <th>test</th>\n",
       "      <td>16990</td>\n",
       "      <td>4107</td>\n",
       "      <td>3201</td>\n",
       "    </tr>\n",
       "  </tbody>\n",
       "</table>\n",
       "</div>"
      ],
      "text/plain": [
       "       identifier  smiles  cluster\n",
       "fold                              \n",
       "train       87883   10198       61\n",
       "val         16834    4100     3190\n",
       "test        16990    4107     3201"
      ]
     },
     "metadata": {},
     "output_type": "display_data"
    },
    {
     "name": "stdout",
     "output_type": "stream",
     "text": [
      "Full dataset (percentage=True)\n"
     ]
    },
    {
     "data": {
      "text/html": [
       "<div>\n",
       "<style scoped>\n",
       "    .dataframe tbody tr th:only-of-type {\n",
       "        vertical-align: middle;\n",
       "    }\n",
       "\n",
       "    .dataframe tbody tr th {\n",
       "        vertical-align: top;\n",
       "    }\n",
       "\n",
       "    .dataframe thead th {\n",
       "        text-align: right;\n",
       "    }\n",
       "</style>\n",
       "<table border=\"1\" class=\"dataframe\">\n",
       "  <thead>\n",
       "    <tr style=\"text-align: right;\">\n",
       "      <th></th>\n",
       "      <th>identifier</th>\n",
       "      <th>smiles</th>\n",
       "      <th>cluster</th>\n",
       "    </tr>\n",
       "    <tr>\n",
       "      <th>fold</th>\n",
       "      <th></th>\n",
       "      <th></th>\n",
       "      <th></th>\n",
       "    </tr>\n",
       "  </thead>\n",
       "  <tbody>\n",
       "    <tr>\n",
       "      <th>train</th>\n",
       "      <td>73.60</td>\n",
       "      <td>64.97</td>\n",
       "      <td>0.82</td>\n",
       "    </tr>\n",
       "    <tr>\n",
       "      <th>val</th>\n",
       "      <td>13.11</td>\n",
       "      <td>17.55</td>\n",
       "      <td>49.72</td>\n",
       "    </tr>\n",
       "    <tr>\n",
       "      <th>test</th>\n",
       "      <td>13.29</td>\n",
       "      <td>17.48</td>\n",
       "      <td>49.47</td>\n",
       "    </tr>\n",
       "  </tbody>\n",
       "</table>\n",
       "</div>"
      ],
      "text/plain": [
       "       identifier  smiles  cluster\n",
       "fold                              \n",
       "train       73.60   64.97     0.82\n",
       "val         13.11   17.55    49.72\n",
       "test        13.29   17.48    49.47"
      ]
     },
     "metadata": {},
     "output_type": "display_data"
    },
    {
     "name": "stdout",
     "output_type": "stream",
     "text": [
      "All metadata available (percentage=True)\n"
     ]
    },
    {
     "data": {
      "text/html": [
       "<div>\n",
       "<style scoped>\n",
       "    .dataframe tbody tr th:only-of-type {\n",
       "        vertical-align: middle;\n",
       "    }\n",
       "\n",
       "    .dataframe tbody tr th {\n",
       "        vertical-align: top;\n",
       "    }\n",
       "\n",
       "    .dataframe thead th {\n",
       "        text-align: right;\n",
       "    }\n",
       "</style>\n",
       "<table border=\"1\" class=\"dataframe\">\n",
       "  <thead>\n",
       "    <tr style=\"text-align: right;\">\n",
       "      <th></th>\n",
       "      <th>identifier</th>\n",
       "      <th>smiles</th>\n",
       "      <th>cluster</th>\n",
       "    </tr>\n",
       "    <tr>\n",
       "      <th>fold</th>\n",
       "      <th></th>\n",
       "      <th></th>\n",
       "      <th></th>\n",
       "    </tr>\n",
       "  </thead>\n",
       "  <tbody>\n",
       "    <tr>\n",
       "      <th>train</th>\n",
       "      <td>72.21</td>\n",
       "      <td>55.41</td>\n",
       "      <td>0.95</td>\n",
       "    </tr>\n",
       "    <tr>\n",
       "      <th>val</th>\n",
       "      <td>13.83</td>\n",
       "      <td>22.28</td>\n",
       "      <td>49.44</td>\n",
       "    </tr>\n",
       "    <tr>\n",
       "      <th>test</th>\n",
       "      <td>13.96</td>\n",
       "      <td>22.31</td>\n",
       "      <td>49.61</td>\n",
       "    </tr>\n",
       "  </tbody>\n",
       "</table>\n",
       "</div>"
      ],
      "text/plain": [
       "       identifier  smiles  cluster\n",
       "fold                              \n",
       "train       72.21   55.41     0.95\n",
       "val         13.83   22.28    49.44\n",
       "test        13.96   22.31    49.61"
      ]
     },
     "metadata": {},
     "output_type": "display_data"
    }
   ],
   "source": [
    "folds_map = {}\n",
    "for i, fold in enumerate(folds):\n",
    "    for identifier in fold:\n",
    "        folds_map[identifier] = ['train', 'val', 'test'][i]\n",
    "df['fold'] = df['identifier'].map(folds_map)\n",
    "\n",
    "def fold_composition(df_q, percentage=True):\n",
    "    unique_counts = df_q.groupby(['fold']).agg({'smiles': 'nunique', 'identifier': 'nunique', 'cluster': 'nunique'})\n",
    "    if not percentage:\n",
    "        res = unique_counts\n",
    "    else:\n",
    "        total_counts = df_q.agg({'smiles': 'nunique', 'identifier': 'nunique', 'cluster': 'nunique'})\n",
    "        percentage_counts = (unique_counts / total_counts) * 100\n",
    "        res = percentage_counts.round(2)\n",
    "    return res[['identifier', 'smiles', 'cluster']].loc[['train', 'val', 'test']]\n",
    "for percentage in [False, True]:\n",
    "    print(f'Full dataset (percentage={percentage})')\n",
    "    display(fold_composition(df, percentage=percentage))\n",
    "    print(f'All metadata available (percentage={percentage})')\n",
    "    display(fold_composition(df.dropna(), percentage=percentage))"
   ]
  },
  {
   "cell_type": "markdown",
   "metadata": {},
   "source": [
    "### Additionally move random validation and test clusters to the train fold"
   ]
  },
  {
   "cell_type": "code",
   "execution_count": 20,
   "metadata": {},
   "outputs": [
    {
     "name": "stdout",
     "output_type": "stream",
     "text": [
      "Full dataset (percentage=False)\n"
     ]
    },
    {
     "data": {
      "text/html": [
       "<div>\n",
       "<style scoped>\n",
       "    .dataframe tbody tr th:only-of-type {\n",
       "        vertical-align: middle;\n",
       "    }\n",
       "\n",
       "    .dataframe tbody tr th {\n",
       "        vertical-align: top;\n",
       "    }\n",
       "\n",
       "    .dataframe thead th {\n",
       "        text-align: right;\n",
       "    }\n",
       "</style>\n",
       "<table border=\"1\" class=\"dataframe\">\n",
       "  <thead>\n",
       "    <tr style=\"text-align: right;\">\n",
       "      <th></th>\n",
       "      <th>identifier</th>\n",
       "      <th>smiles</th>\n",
       "      <th>cluster</th>\n",
       "    </tr>\n",
       "    <tr>\n",
       "      <th>fold</th>\n",
       "      <th></th>\n",
       "      <th></th>\n",
       "      <th></th>\n",
       "    </tr>\n",
       "  </thead>\n",
       "  <tbody>\n",
       "    <tr>\n",
       "      <th>train</th>\n",
       "      <td>194119</td>\n",
       "      <td>25046</td>\n",
       "      <td>3061</td>\n",
       "    </tr>\n",
       "    <tr>\n",
       "      <th>val</th>\n",
       "      <td>19429</td>\n",
       "      <td>3386</td>\n",
       "      <td>2221</td>\n",
       "    </tr>\n",
       "    <tr>\n",
       "      <th>test</th>\n",
       "      <td>17556</td>\n",
       "      <td>3170</td>\n",
       "      <td>2202</td>\n",
       "    </tr>\n",
       "  </tbody>\n",
       "</table>\n",
       "</div>"
      ],
      "text/plain": [
       "       identifier  smiles  cluster\n",
       "fold                              \n",
       "train      194119   25046     3061\n",
       "val         19429    3386     2221\n",
       "test        17556    3170     2202"
      ]
     },
     "metadata": {},
     "output_type": "display_data"
    },
    {
     "name": "stdout",
     "output_type": "stream",
     "text": [
      "All metadata available (percentage=False)\n"
     ]
    },
    {
     "data": {
      "text/html": [
       "<div>\n",
       "<style scoped>\n",
       "    .dataframe tbody tr th:only-of-type {\n",
       "        vertical-align: middle;\n",
       "    }\n",
       "\n",
       "    .dataframe tbody tr th {\n",
       "        vertical-align: top;\n",
       "    }\n",
       "\n",
       "    .dataframe thead th {\n",
       "        text-align: right;\n",
       "    }\n",
       "</style>\n",
       "<table border=\"1\" class=\"dataframe\">\n",
       "  <thead>\n",
       "    <tr style=\"text-align: right;\">\n",
       "      <th></th>\n",
       "      <th>identifier</th>\n",
       "      <th>smiles</th>\n",
       "      <th>cluster</th>\n",
       "    </tr>\n",
       "    <tr>\n",
       "      <th>fold</th>\n",
       "      <th></th>\n",
       "      <th></th>\n",
       "      <th></th>\n",
       "    </tr>\n",
       "  </thead>\n",
       "  <tbody>\n",
       "    <tr>\n",
       "      <th>train</th>\n",
       "      <td>101573</td>\n",
       "      <td>13543</td>\n",
       "      <td>2628</td>\n",
       "    </tr>\n",
       "    <tr>\n",
       "      <th>val</th>\n",
       "      <td>9975</td>\n",
       "      <td>2445</td>\n",
       "      <td>1917</td>\n",
       "    </tr>\n",
       "    <tr>\n",
       "      <th>test</th>\n",
       "      <td>10159</td>\n",
       "      <td>2417</td>\n",
       "      <td>1907</td>\n",
       "    </tr>\n",
       "  </tbody>\n",
       "</table>\n",
       "</div>"
      ],
      "text/plain": [
       "       identifier  smiles  cluster\n",
       "fold                              \n",
       "train      101573   13543     2628\n",
       "val          9975    2445     1917\n",
       "test        10159    2417     1907"
      ]
     },
     "metadata": {},
     "output_type": "display_data"
    },
    {
     "name": "stdout",
     "output_type": "stream",
     "text": [
      "Full dataset (percentage=True)\n"
     ]
    },
    {
     "data": {
      "text/html": [
       "<div>\n",
       "<style scoped>\n",
       "    .dataframe tbody tr th:only-of-type {\n",
       "        vertical-align: middle;\n",
       "    }\n",
       "\n",
       "    .dataframe tbody tr th {\n",
       "        vertical-align: top;\n",
       "    }\n",
       "\n",
       "    .dataframe thead th {\n",
       "        text-align: right;\n",
       "    }\n",
       "</style>\n",
       "<table border=\"1\" class=\"dataframe\">\n",
       "  <thead>\n",
       "    <tr style=\"text-align: right;\">\n",
       "      <th></th>\n",
       "      <th>identifier</th>\n",
       "      <th>smiles</th>\n",
       "      <th>cluster</th>\n",
       "    </tr>\n",
       "    <tr>\n",
       "      <th>fold</th>\n",
       "      <th></th>\n",
       "      <th></th>\n",
       "      <th></th>\n",
       "    </tr>\n",
       "  </thead>\n",
       "  <tbody>\n",
       "    <tr>\n",
       "      <th>train</th>\n",
       "      <td>84.00</td>\n",
       "      <td>79.25</td>\n",
       "      <td>40.90</td>\n",
       "    </tr>\n",
       "    <tr>\n",
       "      <th>val</th>\n",
       "      <td>8.41</td>\n",
       "      <td>10.71</td>\n",
       "      <td>29.68</td>\n",
       "    </tr>\n",
       "    <tr>\n",
       "      <th>test</th>\n",
       "      <td>7.60</td>\n",
       "      <td>10.03</td>\n",
       "      <td>29.42</td>\n",
       "    </tr>\n",
       "  </tbody>\n",
       "</table>\n",
       "</div>"
      ],
      "text/plain": [
       "       identifier  smiles  cluster\n",
       "fold                              \n",
       "train       84.00   79.25    40.90\n",
       "val          8.41   10.71    29.68\n",
       "test         7.60   10.03    29.42"
      ]
     },
     "metadata": {},
     "output_type": "display_data"
    },
    {
     "name": "stdout",
     "output_type": "stream",
     "text": [
      "All metadata available (percentage=True)\n"
     ]
    },
    {
     "data": {
      "text/html": [
       "<div>\n",
       "<style scoped>\n",
       "    .dataframe tbody tr th:only-of-type {\n",
       "        vertical-align: middle;\n",
       "    }\n",
       "\n",
       "    .dataframe tbody tr th {\n",
       "        vertical-align: top;\n",
       "    }\n",
       "\n",
       "    .dataframe thead th {\n",
       "        text-align: right;\n",
       "    }\n",
       "</style>\n",
       "<table border=\"1\" class=\"dataframe\">\n",
       "  <thead>\n",
       "    <tr style=\"text-align: right;\">\n",
       "      <th></th>\n",
       "      <th>identifier</th>\n",
       "      <th>smiles</th>\n",
       "      <th>cluster</th>\n",
       "    </tr>\n",
       "    <tr>\n",
       "      <th>fold</th>\n",
       "      <th></th>\n",
       "      <th></th>\n",
       "      <th></th>\n",
       "    </tr>\n",
       "  </thead>\n",
       "  <tbody>\n",
       "    <tr>\n",
       "      <th>train</th>\n",
       "      <td>83.46</td>\n",
       "      <td>73.58</td>\n",
       "      <td>40.73</td>\n",
       "    </tr>\n",
       "    <tr>\n",
       "      <th>val</th>\n",
       "      <td>8.20</td>\n",
       "      <td>13.28</td>\n",
       "      <td>29.71</td>\n",
       "    </tr>\n",
       "    <tr>\n",
       "      <th>test</th>\n",
       "      <td>8.35</td>\n",
       "      <td>13.13</td>\n",
       "      <td>29.56</td>\n",
       "    </tr>\n",
       "  </tbody>\n",
       "</table>\n",
       "</div>"
      ],
      "text/plain": [
       "       identifier  smiles  cluster\n",
       "fold                              \n",
       "train       83.46   73.58    40.73\n",
       "val          8.20   13.28    29.71\n",
       "test         8.35   13.13    29.56"
      ]
     },
     "metadata": {},
     "output_type": "display_data"
    }
   ],
   "source": [
    "df_split = df.copy()\n",
    "for f in ['val', 'test']:\n",
    "    df_fold = df[df['fold'] == f].copy()\n",
    "    rand_fold_clusters = df_fold['cluster'].drop_duplicates().sample(n=1500, random_state=42).values\n",
    "    df_split.loc[df_split['cluster'].isin(rand_fold_clusters), 'fold'] = 'train'\n",
    "\n",
    "for percentage in [False, True]:\n",
    "    print(f'Full dataset (percentage={percentage})')\n",
    "    display(fold_composition(df_split, percentage=percentage))\n",
    "    print(f'All metadata available (percentage={percentage})')\n",
    "    display(fold_composition(df_split.dropna(), percentage=percentage))"
   ]
  },
  {
   "cell_type": "markdown",
   "metadata": {},
   "source": [
    "### Cluster sizes"
   ]
  },
  {
   "cell_type": "code",
   "execution_count": 48,
   "metadata": {},
   "outputs": [
    {
     "data": {
      "text/html": [
       "<div>\n",
       "<style scoped>\n",
       "    .dataframe tbody tr th:only-of-type {\n",
       "        vertical-align: middle;\n",
       "    }\n",
       "\n",
       "    .dataframe tbody tr th {\n",
       "        vertical-align: top;\n",
       "    }\n",
       "\n",
       "    .dataframe thead th {\n",
       "        text-align: right;\n",
       "    }\n",
       "</style>\n",
       "<table border=\"1\" class=\"dataframe\">\n",
       "  <thead>\n",
       "    <tr style=\"text-align: right;\">\n",
       "      <th></th>\n",
       "      <th></th>\n",
       "      <th>inchikey</th>\n",
       "    </tr>\n",
       "    <tr>\n",
       "      <th>cluster</th>\n",
       "      <th>fold</th>\n",
       "      <th></th>\n",
       "    </tr>\n",
       "  </thead>\n",
       "  <tbody>\n",
       "    <tr>\n",
       "      <th>108</th>\n",
       "      <th>train</th>\n",
       "      <td>18483</td>\n",
       "    </tr>\n",
       "    <tr>\n",
       "      <th>934</th>\n",
       "      <th>val</th>\n",
       "      <td>78</td>\n",
       "    </tr>\n",
       "    <tr>\n",
       "      <th>918</th>\n",
       "      <th>val</th>\n",
       "      <td>61</td>\n",
       "    </tr>\n",
       "    <tr>\n",
       "      <th>379</th>\n",
       "      <th>test</th>\n",
       "      <td>60</td>\n",
       "    </tr>\n",
       "    <tr>\n",
       "      <th>115</th>\n",
       "      <th>test</th>\n",
       "      <td>58</td>\n",
       "    </tr>\n",
       "    <tr>\n",
       "      <th>...</th>\n",
       "      <th>...</th>\n",
       "      <td>...</td>\n",
       "    </tr>\n",
       "    <tr>\n",
       "      <th>3151</th>\n",
       "      <th>test</th>\n",
       "      <td>1</td>\n",
       "    </tr>\n",
       "    <tr>\n",
       "      <th>3150</th>\n",
       "      <th>test</th>\n",
       "      <td>1</td>\n",
       "    </tr>\n",
       "    <tr>\n",
       "      <th>3149</th>\n",
       "      <th>val</th>\n",
       "      <td>1</td>\n",
       "    </tr>\n",
       "    <tr>\n",
       "      <th>3148</th>\n",
       "      <th>test</th>\n",
       "      <td>1</td>\n",
       "    </tr>\n",
       "    <tr>\n",
       "      <th>7483</th>\n",
       "      <th>test</th>\n",
       "      <td>1</td>\n",
       "    </tr>\n",
       "  </tbody>\n",
       "</table>\n",
       "<p>7484 rows × 1 columns</p>\n",
       "</div>"
      ],
      "text/plain": [
       "               inchikey\n",
       "cluster fold           \n",
       "108     train     18483\n",
       "934     val          78\n",
       "918     val          61\n",
       "379     test         60\n",
       "115     test         58\n",
       "...                 ...\n",
       "3151    test          1\n",
       "3150    test          1\n",
       "3149    val           1\n",
       "3148    test          1\n",
       "7483    test          1\n",
       "\n",
       "[7484 rows x 1 columns]"
      ]
     },
     "execution_count": 48,
     "metadata": {},
     "output_type": "execute_result"
    }
   ],
   "source": [
    "df.drop_duplicates(subset=['inchikey']).groupby(['cluster', 'fold']).agg({'inchikey': 'count'}).sort_values(by='inchikey', ascending=False)"
   ]
  },
  {
   "cell_type": "code",
   "execution_count": 51,
   "metadata": {},
   "outputs": [
    {
     "data": {
      "text/plain": [
       "(28929, 0.6389090531992119)"
      ]
     },
     "execution_count": 51,
     "metadata": {},
     "output_type": "execute_result"
    }
   ],
   "source": [
    "df['inchikey'].nunique(), 18483 / df['inchikey'].nunique()"
   ]
  },
  {
   "cell_type": "markdown",
   "metadata": {},
   "source": [
    "### Metadata distribution"
   ]
  },
  {
   "cell_type": "code",
   "execution_count": 12,
   "metadata": {},
   "outputs": [
    {
     "name": "stdout",
     "output_type": "stream",
     "text": [
      "------------------------------ Full dataset ------------------------------\n"
     ]
    },
    {
     "data": {
      "text/plain": [
       "collision_energy\n",
       "None     109358\n",
       "Other     60546\n",
       "20.0      18506\n",
       "60.0      16015\n",
       "30.0      12780\n",
       "10.0       7305\n",
       "45.0       6594\n",
       "Name: count, dtype: int64"
      ]
     },
     "metadata": {},
     "output_type": "display_data"
    },
    {
     "data": {
      "image/png": "[encoded data removed]",
      "text/plain": [
       "<Figure size 200x200 with 1 Axes>"
      ]
     },
     "metadata": {},
     "output_type": "display_data"
    },
    {
     "data": {
      "image/png": "[encoded data removed]",
      "text/plain": [
       "<Figure size 200x200 with 1 Axes>"
      ]
     },
     "metadata": {},
     "output_type": "display_data"
    },
    {
     "data": {
      "image/png": "[encoded data removed]",
      "text/plain": [
       "<Figure size 200x200 with 1 Axes>"
      ]
     },
     "metadata": {},
     "output_type": "display_data"
    },
    {
     "data": {
      "image/png": "[encoded data removed]",
      "text/plain": [
       "<Figure size 200x200 with 1 Axes>"
      ]
     },
     "metadata": {},
     "output_type": "display_data"
    },
    {
     "name": "stdout",
     "output_type": "stream",
     "text": [
      "------------------------------ All metadata available ------------------------------\n"
     ]
    },
    {
     "data": {
      "text/plain": [
       "collision_energy\n",
       "Other    60509\n",
       "20.0     18506\n",
       "60.0     16015\n",
       "30.0     12779\n",
       "10.0      7304\n",
       "45.0      6594\n",
       "Name: count, dtype: int64"
      ]
     },
     "metadata": {},
     "output_type": "display_data"
    },
    {
     "data": {
      "image/png": "[encoded data removed]",
      "text/plain": [
       "<Figure size 200x200 with 1 Axes>"
      ]
     },
     "metadata": {},
     "output_type": "display_data"
    },
    {
     "data": {
      "image/png": "[encoded data removed]",
      "text/plain": [
       "<Figure size 200x200 with 1 Axes>"
      ]
     },
     "metadata": {},
     "output_type": "display_data"
    },
    {
     "data": {
      "image/png": "[encoded data removed]",
      "text/plain": [
       "<Figure size 200x200 with 1 Axes>"
      ]
     },
     "metadata": {},
     "output_type": "display_data"
    },
    {
     "data": {
      "image/png": "[encoded data removed]",
      "text/plain": [
       "<Figure size 200x200 with 1 Axes>"
      ]
     },
     "metadata": {},
     "output_type": "display_data"
    }
   ],
   "source": [
    "utils.init_plotting(figsize=(2, 2))\n",
    "\n",
    "for df_name, df_plot in [('Full dataset', df_split.copy()), ('All metadata available', df_split.copy().dropna())]:\n",
    "    print('-' * 30, df_name, '-' * 30)\n",
    "    df_plot['instrument_type'] = df_plot['instrument_type'].str.replace('Q Exactive Focus Hybrid Quadrupole Orbitrap Mass Spectrometer (Thermo Fisher Scientific)', 'Q Exactive')\n",
    "    df_plot['instrument_type'] = df_plot['instrument_type'].replace({'ITFT':'Orbitrap', 'QFT':'Orbitrap'})\n",
    "    df_plot['instrument_type'] = df_plot['instrument_type'].fillna('None')\n",
    "    df_plot['collision_energy'] = df_plot['collision_energy'].apply(simple_ce)\n",
    "    df_plot['collision_energy'] = df_plot['collision_energy'].replace({'other': 'Other', 'none': 'None'})\n",
    "    df_plot['fold'] = df_plot['fold'].replace({'train': 'Training', 'val': 'Validation', 'test': 'Testing'})\n",
    "    df_plot = df_plot.rename({'fold': 'Fold'}, axis=1)\n",
    "    display(df_plot['collision_energy'].value_counts())\n",
    "    df_plot['smiles_count'] = df_plot['smiles'].apply(simple_smiles_count)\n",
    "\n",
    "    y = 'instrument_type'\n",
    "    sns.histplot(y=y, data=df_plot, hue='Fold', multiple='dodge', discrete=True, shrink=.8)\n",
    "    plt.ylabel('Instrument type')\n",
    "    plt.xlabel('Num. spectra')\n",
    "    plt.xscale('log')\n",
    "    # if df_name != 'Full dataset':\n",
    "    plt.legend('',frameon=False)\n",
    "    plt.savefig(f'split_{df_name.replace(\" \", \"_\")}_{y}.pdf', bbox_inches='tight', transparent=True)\n",
    "    plt.show()\n",
    "\n",
    "    y = 'collision_energy'\n",
    "    sns.histplot(y=y, data=df_plot, hue='Fold', multiple='dodge', discrete=True, shrink=.8)\n",
    "    plt.ylabel('Collision energy')\n",
    "    plt.xlabel('Num. spectra')\n",
    "    plt.xscale('log')\n",
    "    plt.legend('',frameon=False)\n",
    "    plt.savefig(f'split_{df_name.replace(\" \", \"_\")}_{y}.pdf', bbox_inches='tight', transparent=True)\n",
    "    plt.show()\n",
    "\n",
    "    y = 'adduct'\n",
    "    sns.histplot(y=y, data=df_plot, hue='Fold', multiple='dodge', discrete=True, shrink=.8)\n",
    "    plt.ylabel('Ionization adduct')\n",
    "    plt.xlabel('Num. spectra')\n",
    "    plt.legend('',frameon=False)\n",
    "    plt.savefig(f'split_{df_name.replace(\" \", \"_\")}_{y}.pdf', bbox_inches='tight', transparent=True)\n",
    "    plt.show()\n",
    "\n",
    "    y = 'smiles_count'\n",
    "    sns.histplot(y=y, data=df_plot, hue='Fold', multiple='dodge', discrete=True, shrink=.8)\n",
    "    plt.ylabel('Total num. of spectra\\nof the same molecule')\n",
    "    plt.xlabel('Num. spectra')\n",
    "    plt.legend('',frameon=False)\n",
    "    plt.savefig(f'split_{df_name.replace(\" \", \"_\")}_{y}.pdf', bbox_inches='tight', transparent=True)\n",
    "    plt.show()"
   ]
  },
  {
   "cell_type": "code",
   "execution_count": 14,
   "metadata": {},
   "outputs": [
    {
     "name": "stderr",
     "output_type": "stream",
     "text": [
      "100%|██████████| 25046/25046 [00:03<00:00, 6741.40it/s]\n",
      "100%|██████████| 3386/3386 [00:00<00:00, 5103.32it/s]\n",
      "100%|██████████| 3170/3170 [00:00<00:00, 5161.70it/s]\n"
     ]
    }
   ],
   "source": [
    "fps = {}\n",
    "for fold in ['train', 'val', 'test']:\n",
    "    df_fold = df_split[df_split['fold'] == fold]\n",
    "    df_fold = df_fold.drop_duplicates(subset='smiles')\n",
    "    fps[fold] = df_fold['smiles'].progress_apply(lambda s: utils.morgan_fp(Chem.MolFromSmiles(s), to_np=False))\n",
    "def max_train_tanimoto(test_fp, train_fps=fps['train']):\n",
    "    return max([DataStructs.FingerprintSimilarity(test_fp, train_fp) for train_fp in train_fps])"
   ]
  },
  {
   "cell_type": "code",
   "execution_count": 15,
   "metadata": {},
   "outputs": [
    {
     "name": "stdout",
     "output_type": "stream",
     "text": [
      "INFO: Pandarallel will run on 8 workers.\n",
      "INFO: Pandarallel will use standard multiprocessing data transfer (pipe) to transfer data between the main process and workers.\n"
     ]
    },
    {
     "data": {
      "application/vnd.jupyter.widget-view+json": {
       "model_id": "d4cb01523b544af29a7b4ca95276157c",
       "version_major": 2,
       "version_minor": 0
      },
      "text/plain": [
       "VBox(children=(HBox(children=(IntProgress(value=0, description='0.00%', max=397), Label(value='0 / 397'))), HB…"
      ]
     },
     "metadata": {},
     "output_type": "display_data"
    },
    {
     "data": {
      "image/png": "[encoded data removed]",
      "text/plain": [
       "<Figure size 400x300 with 1 Axes>"
      ]
     },
     "metadata": {},
     "output_type": "display_data"
    }
   ],
   "source": [
    "pandarallel.initialize(nb_workers=8, progress_bar=True)\n",
    "max_train_tanimotos = fps['test'].parallel_apply(lambda f: max_train_tanimoto(f, pd.concat([fps['train'], fps['val']])))\n",
    "utils.init_plotting(figsize=(4, 3))\n",
    "sns.histplot(max_train_tanimotos)\n",
    "plt.xlabel('Max Tanimoto from train+val set for test example')\n",
    "plt.show()"
   ]
  },
  {
   "cell_type": "code",
   "execution_count": 16,
   "metadata": {},
   "outputs": [
    {
     "name": "stdout",
     "output_type": "stream",
     "text": [
      "INFO: Pandarallel will run on 8 workers.\n",
      "INFO: Pandarallel will use standard multiprocessing data transfer (pipe) to transfer data between the main process and workers.\n"
     ]
    },
    {
     "data": {
      "application/vnd.jupyter.widget-view+json": {
       "model_id": "be57bf54c904453ea2a57f0059ca7777",
       "version_major": 2,
       "version_minor": 0
      },
      "text/plain": [
       "VBox(children=(HBox(children=(IntProgress(value=0, description='0.00%', max=424), Label(value='0 / 424'))), HB…"
      ]
     },
     "metadata": {},
     "output_type": "display_data"
    },
    {
     "data": {
      "image/png": "[encoded data removed]",
      "text/plain": [
       "<Figure size 400x300 with 1 Axes>"
      ]
     },
     "metadata": {},
     "output_type": "display_data"
    }
   ],
   "source": [
    "pandarallel.initialize(nb_workers=8, progress_bar=True)\n",
    "max_train_tanimotos = fps['val'].parallel_apply(lambda f: max_train_tanimoto(f, fps['train']))\n",
    "utils.init_plotting(figsize=(4, 3))\n",
    "sns.histplot(max_train_tanimotos)\n",
    "plt.xlabel('Max Tanimoto from train set for validation example')\n",
    "plt.show()"
   ]
  },
  {
   "cell_type": "code",
   "execution_count": 17,
   "metadata": {},
   "outputs": [],
   "source": [
    "df = df_split.drop(columns=['cluster', 'stratification_group'])\n",
    "df.to_csv('../../data/data/MassSpecGym_split.tsv', sep='\\t', index=False)"
   ]
  }
 ],
 "metadata": {
  "kernelspec": {
   "display_name": "massspecgym",
   "language": "python",
   "name": "python3"
  },
  "language_info": {
   "codemirror_mode": {
    "name": "ipython",
    "version": 3
   },
   "file_extension": ".py",
   "mimetype": "text/x-python",
   "name": "python",
   "nbconvert_exporter": "python",
   "pygments_lexer": "ipython3",
   "version": "3.11.9"
  }
 },
 "nbformat": 4,
 "nbformat_minor": 2
}
