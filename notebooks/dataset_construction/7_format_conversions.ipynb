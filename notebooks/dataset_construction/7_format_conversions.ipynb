{
 "cells": [
  {
   "cell_type": "code",
   "execution_count": 1,
   "metadata": {},
   "outputs": [],
   "source": [
    "import pandas as pd\n",
    "import numpy as np\n",
    "from tqdm import tqdm\n",
    "tqdm.pandas()\n",
    "from matchms import Spectrum\n",
    "from matchms.exporting import save_as_mgf\n",
    "from pathlib import Path\n",
    "import massspecgym.utils as utils"
   ]
  },
  {
   "cell_type": "code",
   "execution_count": 2,
   "metadata": {},
   "outputs": [
    {
     "data": {
      "text/plain": [
       "231104"
      ]
     },
     "execution_count": 2,
     "metadata": {},
     "output_type": "execute_result"
    }
   ],
   "source": [
    "in_pth = Path('../../data/MassSpecGym_with_test/MassSpecGym.tsv')\n",
    "df = pd.read_csv(in_pth, sep='\\t')\n",
    "len(df)"
   ]
  },
  {
   "cell_type": "markdown",
   "metadata": {},
   "source": [
    "### Convert final dataset to `.mgf`"
   ]
  },
  {
   "cell_type": "code",
   "execution_count": 10,
   "metadata": {},
   "outputs": [
    {
     "name": "stderr",
     "output_type": "stream",
     "text": [
      "100%|██████████| 231104/231104 [00:25<00:00, 8948.01it/s] \n"
     ]
    }
   ],
   "source": [
    "out_pth = in_pth.with_suffix('.mgf')\n",
    "\n",
    "spectra = []\n",
    "for i, row in tqdm(df.iterrows(), total=len(df)):\n",
    "    spec = Spectrum(\n",
    "        mz=utils.parse_spec_array(row['mzs']),\n",
    "        intensities=utils.parse_spec_array(row['intensities']),\n",
    "        metadata={k: v for k, v in row.items() if k not in ['mzs', 'intensities'] and v is not np.nan}\n",
    "    )\n",
    "    spectra.append(spec)\n",
    "save_as_mgf(spectra, str(out_pth))"
   ]
  },
  {
   "cell_type": "markdown",
   "metadata": {},
   "source": [
    "### Convert final dataset to `.ms` files\n",
    "The cell below was reproduced from https://github.com/samgoldman97/mist/blob/4c23d34fc82425ad5474a53e10b4622dcdbca479/src/mist/utils/parse_utils.py#L71"
   ]
  },
  {
   "cell_type": "code",
   "execution_count": 3,
   "metadata": {},
   "outputs": [],
   "source": [
    "from typing import List, Tuple\n",
    "import numpy as np\n",
    "\n",
    "def spec_to_ms_str(\n",
    "    spec: List[Tuple[str, np.ndarray]], essential_keys: dict, comments: dict = {}\n",
    ") -> str:\n",
    "    \"\"\"spec_to_ms_str.\n",
    "\n",
    "    Turn spec ars and info dicts into str for output file\n",
    "\n",
    "\n",
    "    Args:\n",
    "        spec (List[Tuple[str, np.ndarray]]): spec\n",
    "        essential_keys (dict): essential_keys\n",
    "        comments (dict): comments\n",
    "\n",
    "    Returns:\n",
    "        str:\n",
    "    \"\"\"\n",
    "\n",
    "    def pair_rows(rows):\n",
    "        return \"\\n\".join([f\"{i} {j}\" for i, j in rows])\n",
    "\n",
    "    header = \"\\n\".join(f\">{k} {v}\" for k, v in essential_keys.items())\n",
    "    # comments = \"\\n\".join(f\"#{k} {v}\" for k, v in essential_keys.items())\n",
    "    spec_strs = [f\">{name}\\n{pair_rows(ar)}\" for name, ar in spec]\n",
    "    spec_str = \"\\n\\n\".join(spec_strs)\n",
    "    output = f\"{header}\\n\\n{spec_str}\"\n",
    "    return output"
   ]
  },
  {
   "cell_type": "code",
   "execution_count": 4,
   "metadata": {},
   "outputs": [],
   "source": [
    "tgt_dir = Path('../../data/MassSpecGym_with_test/auxiliary')\n",
    "(tgt_dir / 'MassSpecGym_ms_files' / 'spec_files').mkdir(exist_ok=True, parents=True)\n",
    "(tgt_dir / 'MassSpecGym_ms_files' / 'splits').mkdir(exist_ok=True, parents=True)"
   ]
  },
  {
   "cell_type": "code",
   "execution_count": 5,
   "metadata": {},
   "outputs": [
    {
     "name": "stderr",
     "output_type": "stream",
     "text": [
      "231104it [00:50, 4586.37it/s]\n"
     ]
    }
   ],
   "source": [
    "for i, row in tqdm(df.iterrows()):\n",
    "    spec = np.stack([\n",
    "        utils.parse_spec_array(row['mzs']),\n",
    "        utils.parse_spec_array(row['intensities'])\n",
    "    ]).T\n",
    "\n",
    "    essential_keys = {\n",
    "        'compound': row['identifier'],\n",
    "        'parentmass': row['parent_mass'],\n",
    "        'ionization': '[M + H]+' if row['adduct'] == '[M+H]+' else '[M + Na]+',\n",
    "        'energy': row['collision_energy'],\n",
    "        'instrument': row['instrument_type']\n",
    "    }\n",
    "\n",
    "    # if row['fold'] != 'test':\n",
    "    essential_keys.update({\n",
    "        'formula': row['formula'],\n",
    "        'InChIKey': row['inchikey'],\n",
    "        'smiles': row['smiles']\n",
    "    })\n",
    "\n",
    "    ms_str = spec_to_ms_str(\n",
    "        [('ms2peaks', spec)],\n",
    "        essential_keys=essential_keys,\n",
    "    )\n",
    "\n",
    "    with open(tgt_dir / 'MassSpecGym_ms_files' / 'spec_files' / f\"{row['identifier']}.ms\", \"w\") as f:\n",
    "        f.write(ms_str)"
   ]
  },
  {
   "cell_type": "code",
   "execution_count": 6,
   "metadata": {},
   "outputs": [],
   "source": [
    "df_split = df.reset_index()[['identifier', 'fold']]\n",
    "df_split = df_split.rename(columns={'identifier': 'name'})\n",
    "df_split.to_csv(tgt_dir / 'MassSpecGym_ms_files' / 'splits' / 'split.csv', index=False)"
   ]
  }
 ],
 "metadata": {
  "kernelspec": {
   "display_name": "massspecgym",
   "language": "python",
   "name": "python3"
  },
  "language_info": {
   "codemirror_mode": {
    "name": "ipython",
    "version": 3
   },
   "file_extension": ".py",
   "mimetype": "text/x-python",
   "name": "python",
   "nbconvert_exporter": "python",
   "pygments_lexer": "ipython3",
   "version": "3.11.9"
  }
 },
 "nbformat": 4,
 "nbformat_minor": 2
}
