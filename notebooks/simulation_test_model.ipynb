{
 "cells": [
  {
   "cell_type": "code",
   "execution_count": 1,
   "metadata": {},
   "outputs": [],
   "source": [
    "%load_ext autoreload\n",
    "%autoreload 2"
   ]
  },
  {
   "cell_type": "code",
   "execution_count": 2,
   "metadata": {},
   "outputs": [],
   "source": [
    "import torch\n",
    "from torch.utils.data import DataLoader\n",
    "import pandas as pd\n",
    "from tqdm.notebook import tqdm\n",
    "from pprint import pprint"
   ]
  },
  {
   "cell_type": "code",
   "execution_count": 3,
   "metadata": {},
   "outputs": [],
   "source": [
    "from massspecgym.data.datasets import SimulationDataset\n",
    "from massspecgym.transforms import SpecToMzsInts, MolToPyG, StandardMeta, MolToFingerprints\n",
    "from massspecgym.simulation_utils.misc_utils import print_shapes\n",
    "from massspecgym.simulation_utils.model_utils import FPFFNModel"
   ]
  },
  {
   "cell_type": "code",
   "execution_count": 4,
   "metadata": {},
   "outputs": [],
   "source": [
    "tsv_pth = \"../data/MassSpecGym_small.tsv\"\n",
    "frag_pth = None\n",
    "meta_keys = [\"adduct\",\"precursor_mz\",\"instrument_type\",\"collision_energy\"]\n",
    "adducts = [\"[M+H]+\"]\n",
    "instruments = [\"QTOF\",\"QFT\",\"Orbitrap\",\"ITFT\"]\n",
    "max_collision_energy = 100. # arbitrary\n",
    "spec_transform = SpecToMzsInts()\n",
    "mol_transform = MolToFingerprints()\n",
    "meta_transform = StandardMeta(\n",
    "    adducts=adducts,\n",
    "    instruments=instruments,\n",
    "    max_collision_energy=max_collision_energy)"
   ]
  },
  {
   "cell_type": "code",
   "execution_count": 5,
   "metadata": {},
   "outputs": [],
   "source": [
    "mol_d = mol_transform.get_input_sizes()\n",
    "meta_d = meta_transform.get_input_sizes()\n",
    "model_d = dict(\n",
    "    metadata_insert_location=\"mlp\",\n",
    "    collision_energy_insert_size=16,\n",
    "    adduct_insert_size=16,\n",
    "    instrument_type_insert_size=16,\n",
    "    # output\n",
    "    mz_max=1000.,\n",
    "    mz_bin_res=0.01,\n",
    "    # model\n",
    "    mlp_hidden_size=1024,\n",
    "    mlp_dropout=0.1,\n",
    "    mlp_num_layers=3,\n",
    "    mlp_use_residuals=True,\n",
    "    ff_prec_mz_offset=500,\n",
    "    ff_bidirectional=True,\n",
    "    ff_output_map_size=128\n",
    ")\n",
    "model_d = {**model_d, **mol_d, **meta_d}\n",
    "model = FPFFNModel(**model_d)"
   ]
  },
  {
   "cell_type": "code",
   "execution_count": 6,
   "metadata": {},
   "outputs": [],
   "source": [
    "ds = SimulationDataset(\n",
    "    tsv_pth=tsv_pth,\n",
    "    frag_pth=None,\n",
    "    meta_keys=meta_keys,\n",
    "    spec_transform=spec_transform,\n",
    "    mol_transform=mol_transform,\n",
    "    meta_transform=meta_transform,\n",
    "    frag_transform=None,\n",
    "    cache_feats=False)\n",
    "\n",
    "dl = DataLoader(\n",
    "    ds,\n",
    "    num_workers=0,\n",
    "    shuffle=False,\n",
    "    batch_size=8,\n",
    "    drop_last=False,\n",
    "    collate_fn=ds.collate_fn)"
   ]
  },
  {
   "cell_type": "code",
   "execution_count": 7,
   "metadata": {},
   "outputs": [
    {
     "name": "stdout",
     "output_type": "stream",
     "text": [
      "spec_mzs - (192,) - <class 'torch.Tensor'>\n",
      "spec_ints - (192,) - <class 'torch.Tensor'>\n",
      "fps - (8, 4263) - <class 'torch.Tensor'>\n",
      "precursor_mz - (8,) - <class 'torch.Tensor'>\n",
      "adduct - (8,) - <class 'torch.Tensor'>\n",
      "instrument_type - (8,) - <class 'torch.Tensor'>\n",
      "collision_energy - (8,) - <class 'torch.Tensor'>\n",
      "weight - (8,) - <class 'torch.Tensor'>\n",
      "spec_batch_idxs - (192,) - <class 'torch.Tensor'>\n"
     ]
    }
   ],
   "source": [
    "batch = next(iter(dl))\n",
    "print_shapes(batch)"
   ]
  },
  {
   "cell_type": "code",
   "execution_count": 8,
   "metadata": {},
   "outputs": [
    {
     "name": "stdout",
     "output_type": "stream",
     "text": [
      "{'adduct_input_size': 2, 'instrument_type_input_size': 5, 'collision_energy_input_size': 100}\n",
      "tensor([28, 20, 60, 60, 99, 20, 55, 20])\n",
      "Sequential(\n",
      "  (0): FourierFeaturizerAbsoluteSines()\n",
      "  (1): Linear(in_features=7, out_features=16, bias=True)\n",
      ")\n"
     ]
    }
   ],
   "source": [
    "print(meta_d)\n",
    "print(batch[\"collision_energy\"])\n",
    "print(model.collision_energy_embedder)"
   ]
  },
  {
   "cell_type": "code",
   "execution_count": 9,
   "metadata": {},
   "outputs": [],
   "source": [
    "# # model.collision_energy_embedder(torch.zeros_like(batch[\"collision_energy\"]))\n",
    "# from massspecgym.simulation_utils.formula_embedder import FourierFeaturizerAbsoluteSines\n",
    "# ffs = FourierFeaturizerAbsoluteSines(max_count_int=100)\n",
    "# print(ffs.num_dim)\n",
    "# print(ffs.forward(batch[\"collision_energy\"].reshape(-1,1)).shape)"
   ]
  },
  {
   "cell_type": "code",
   "execution_count": 10,
   "metadata": {},
   "outputs": [
    {
     "name": "stdout",
     "output_type": "stream",
     "text": [
      "pred_mzs - (130544,) - <class 'torch.Tensor'>\n",
      "pred_logprobs - (130544,) - <class 'torch.Tensor'>\n",
      "pred_batch_idxs - (130544,) - <class 'torch.Tensor'>\n"
     ]
    }
   ],
   "source": [
    "out_d = model.forward(**batch)\n",
    "print_shapes(out_d)"
   ]
  },
  {
   "cell_type": "code",
   "execution_count": 14,
   "metadata": {},
   "outputs": [
    {
     "name": "stdout",
     "output_type": "stream",
     "text": [
      "tensor([0.9866, 0.9964, 0.9964, 0.9827, 0.9989, 0.9976, 0.9870, 0.9888],\n",
      "       grad_fn=<RsubBackward1>)\n"
     ]
    }
   ],
   "source": [
    "from massspecgym.simulation_utils.spec_utils import sparse_cosine_distance\n",
    "from massspecgym.simulation_utils.misc_utils import safelog\n",
    "loss = sparse_cosine_distance(\n",
    "    batch[\"spec_mzs\"],\n",
    "    safelog(batch[\"spec_ints\"]),\n",
    "    batch[\"spec_batch_idxs\"],\n",
    "    out_d[\"pred_mzs\"],\n",
    "    out_d[\"pred_logprobs\"],\n",
    "    out_d[\"pred_batch_idxs\"],\n",
    "    1000.,\n",
    "    0.01,\n",
    ")\n",
    "print(loss)\n",
    "loss.mean().backward()"
   ]
  },
  {
   "cell_type": "code",
   "execution_count": null,
   "metadata": {},
   "outputs": [],
   "source": []
  }
 ],
 "metadata": {
  "kernelspec": {
   "display_name": "MSG",
   "language": "python",
   "name": "python3"
  },
  "language_info": {
   "codemirror_mode": {
    "name": "ipython",
    "version": 3
   },
   "file_extension": ".py",
   "mimetype": "text/x-python",
   "name": "python",
   "nbconvert_exporter": "python",
   "pygments_lexer": "ipython3",
   "version": "3.10.14"
  }
 },
 "nbformat": 4,
 "nbformat_minor": 2
}
