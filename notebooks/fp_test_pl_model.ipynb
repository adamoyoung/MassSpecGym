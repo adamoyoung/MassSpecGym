{
 "cells": [
  {
   "cell_type": "code",
   "execution_count": 49,
   "metadata": {},
   "outputs": [
    {
     "name": "stdout",
     "output_type": "stream",
     "text": [
      "The autoreload extension is already loaded. To reload it, use:\n",
      "  %reload_ext autoreload\n"
     ]
    }
   ],
   "source": [
    "%load_ext autoreload\n",
    "%autoreload 2"
   ]
  },
  {
   "cell_type": "code",
   "execution_count": 50,
   "metadata": {},
   "outputs": [],
   "source": [
    "import torch\n",
    "from torch.utils.data import DataLoader\n",
    "import pandas as pd\n",
    "from tqdm.notebook import tqdm\n",
    "from pprint import pprint\n",
    "from torch.utils.data import Subset\n",
    "import pytorch_lightning as pl"
   ]
  },
  {
   "cell_type": "code",
   "execution_count": 51,
   "metadata": {},
   "outputs": [],
   "source": [
    "from massspecgym.data.datasets import SimulationDataset\n",
    "from massspecgym.transforms import SpecToMzsInts, MolToPyG, StandardMeta, MolToFingerprints\n",
    "from massspecgym.simulation_utils.misc_utils import print_shapes\n",
    "from massspecgym.models.simulation.fp import FPSimulationMassSpecGymModel"
   ]
  },
  {
   "cell_type": "code",
   "execution_count": 52,
   "metadata": {},
   "outputs": [],
   "source": [
    "# tsv_pth = \"../data/MassSpecGym_small.tsv\"\n",
    "# tsv_pth = \"../data/MassSpecGym_3_small.tsv\"\n",
    "tsv_pth = \"../data/MassSpecGym_4.tsv\"\n",
    "meta_keys = [\"adduct\",\"precursor_mz\",\"instrument_type\",\"collision_energy\"]\n",
    "fp_types = [\"morgan\",\"maccs\",\"rdkit\"]\n",
    "adducts = [\"[M+H]+\"]\n",
    "instrument_types = [\"QTOF\",\"QFT\",\"Orbitrap\",\"ITFT\"]\n",
    "max_collision_energy = 200. # arbitrary\n",
    "spec_transform = SpecToMzsInts(\n",
    "    mz_from=10.,\n",
    "    mz_to=1000.\n",
    ")\n",
    "mol_transform = MolToFingerprints(\n",
    "    fp_types=fp_types\n",
    ")\n",
    "meta_transform = StandardMeta(\n",
    "    adducts=adducts,\n",
    "    instrument_types=instrument_types,\n",
    "    max_collision_energy=max_collision_energy\n",
    ")"
   ]
  },
  {
   "cell_type": "code",
   "execution_count": 53,
   "metadata": {},
   "outputs": [],
   "source": [
    "pl_model_d = dict(\n",
    "    # features\n",
    "    fp_types=fp_types,\n",
    "    adducts=adducts,\n",
    "    instrument_types=instrument_types,\n",
    "    max_collision_energy=max_collision_energy,\n",
    "    # input\n",
    "    metadata_insert_location=\"mlp\",\n",
    "    collision_energy_insert_size=16,\n",
    "    adduct_insert_size=16,\n",
    "    instrument_type_insert_size=16,\n",
    "    ints_transform=\"sqrt\", #\"none\",\n",
    "    # output\n",
    "    mz_max=1500., # 1000.,\n",
    "    mz_bin_res=0.1, #0.01,\n",
    "    # model\n",
    "    mlp_hidden_size=1024,\n",
    "    mlp_dropout=0.1,\n",
    "    mlp_num_layers=4,\n",
    "    mlp_use_residuals=True,\n",
    "    ff_prec_mz_offset=5,\n",
    "    ff_bidirectional=True,\n",
    "    ff_output_map_size=256,\n",
    "    # optimization\n",
    "    lr=0.0003,\n",
    "    weight_decay=1e-7,\n",
    "    train_sample_weight=True,\n",
    "    eval_sample_weight=True\n",
    ")\n",
    "pl_model = FPSimulationMassSpecGymModel(**pl_model_d)"
   ]
  },
  {
   "cell_type": "code",
   "execution_count": 54,
   "metadata": {},
   "outputs": [
    {
     "name": "stderr",
     "output_type": "stream",
     "text": [
      "/home/adamo.young/MassSpecGym/massspecgym/data/datasets.py:199: DtypeWarning: Columns (10) have mixed types. Specify dtype option on import or set low_memory=False.\n",
      "  entry_df = pd.read_csv(self.tsv_pth, sep=\"\\t\")\n"
     ]
    }
   ],
   "source": [
    "ds = SimulationDataset(\n",
    "    tsv_pth=tsv_pth,\n",
    "    meta_keys=meta_keys,\n",
    "    spec_transform=spec_transform,\n",
    "    mol_transform=mol_transform,\n",
    "    meta_transform=meta_transform,\n",
    "    cache_feats=False)\n",
    "\n",
    "dl = DataLoader(\n",
    "    ds,\n",
    "    num_workers=8, # 0,\n",
    "    shuffle=False,\n",
    "    batch_size=8,\n",
    "    drop_last=False,\n",
    "    collate_fn=ds.collate_fn)"
   ]
  },
  {
   "cell_type": "code",
   "execution_count": 55,
   "metadata": {},
   "outputs": [],
   "source": [
    "# for batch in tqdm(iter(dl),total=len(dl)):\n",
    "#     if batch[\"spec_batch_idxs\"].unique().shape[0] != batch[\"spec_batch_idxs\"].max()+1:\n",
    "#         print(batch[\"spec_id\"])\n",
    "#         print(batch[\"spec_batch_idxs\"].unique())\n",
    "#         raise ValueError"
   ]
  },
  {
   "cell_type": "code",
   "execution_count": 56,
   "metadata": {},
   "outputs": [
    {
     "name": "stdout",
     "output_type": "stream",
     "text": [
      "spec_mzs - (92,) - <class 'torch.Tensor'>\n",
      "spec_ints - (92,) - <class 'torch.Tensor'>\n",
      "fps - (8, 4263) - <class 'torch.Tensor'>\n",
      "precursor_mz - (8,) - <class 'torch.Tensor'>\n",
      "adduct - (8,) - <class 'torch.Tensor'>\n",
      "instrument_type - (8,) - <class 'torch.Tensor'>\n",
      "collision_energy - (8,) - <class 'torch.Tensor'>\n",
      "spec_id - (8,) - <class 'torch.Tensor'>\n",
      "weight - (8,) - <class 'torch.Tensor'>\n",
      "spec_batch_idxs - (92,) - <class 'torch.Tensor'>\n",
      "tensor(288.1230)\n",
      "tensor(288.1225)\n"
     ]
    }
   ],
   "source": [
    "batch = next(iter(dl))\n",
    "print_shapes(batch)\n",
    "print(batch[\"spec_mzs\"].max())\n",
    "print(batch[\"precursor_mz\"].max())"
   ]
  },
  {
   "cell_type": "code",
   "execution_count": 57,
   "metadata": {},
   "outputs": [
    {
     "name": "stdout",
     "output_type": "stream",
     "text": [
      "pred_mzs - (11533,) - <class 'torch.Tensor'>\n",
      "pred_logprobs - (11533,) - <class 'torch.Tensor'>\n",
      "pred_batch_idxs - (11533,) - <class 'torch.Tensor'>\n"
     ]
    }
   ],
   "source": [
    "out_d = pl_model.forward(**batch)\n",
    "print_shapes(out_d)"
   ]
  },
  {
   "cell_type": "code",
   "execution_count": 58,
   "metadata": {},
   "outputs": [
    {
     "name": "stdout",
     "output_type": "stream",
     "text": [
      "tensor(0.5000) tensor(1000.)\n",
      "tensor([   0,    1,    1,   20,  200, 1998, 1999, 2000, 2000])\n"
     ]
    }
   ],
   "source": [
    "bins = torch.arange(0.5,1000.+0.5,0.5)\n",
    "print(bins.min(), bins.max())\n",
    "mzs = torch.tensor([0., 0.5, 0.51, 10., 100., 999., 999.5, 1000.-1e-6, 1000.])\n",
    "idxs = torch.bucketize(mzs, bins, right=True)\n",
    "print(idxs)"
   ]
  },
  {
   "cell_type": "code",
   "execution_count": 59,
   "metadata": {},
   "outputs": [],
   "source": [
    "# # Init data module\n",
    "# data_module = MassSpecDataModule(\n",
    "#     dataset=ds,\n",
    "#     split_pth=split_pth,\n",
    "#     batch_size=8\n",
    "# )\n",
    "\n",
    "entry_df = ds.entry_df\n",
    "\n",
    "train_ds = Subset(ds, entry_df[entry_df[\"fold\"]==\"train\"].index)\n",
    "val_ds = Subset(ds, entry_df[entry_df[\"fold\"]==\"val\"].index)\n",
    "test_ds = Subset(ds, entry_df[entry_df[\"fold\"]==\"test\"].index)\n",
    "\n",
    "dl_config = {\n",
    "    \"num_workers\": 4,\n",
    "    \"batch_size\": 128,\n",
    "    \"drop_last\": False,\n",
    "    \"collate_fn\": ds.collate_fn\n",
    "}\n",
    "\n",
    "train_dl = DataLoader(train_ds, shuffle=True, **dl_config)\n",
    "val_dl = DataLoader(val_ds, shuffle=False, **dl_config)"
   ]
  },
  {
   "cell_type": "code",
   "execution_count": 60,
   "metadata": {},
   "outputs": [
    {
     "name": "stderr",
     "output_type": "stream",
     "text": [
      "GPU available: False, used: False\n",
      "TPU available: False, using: 0 TPU cores\n",
      "IPU available: False, using: 0 IPUs\n",
      "HPU available: False, using: 0 HPUs\n",
      "/home/adamo.young/miniconda3/envs/MSG/lib/python3.10/site-packages/pytorch_lightning/loggers/wandb.py:396: There is a wandb run already in progress and newly created instances of `WandbLogger` will reuse this run. If this is not desired, call `wandb.finish()` before instantiating `WandbLogger`.\n",
      "\n",
      "  | Name  | Type       | Params\n",
      "-------------------------------------\n",
      "0 | model | FPFFNModel | 21.0 M\n",
      "-------------------------------------\n",
      "21.0 M    Trainable params\n",
      "1.6 K     Non-trainable params\n",
      "21.0 M    Total params\n",
      "84.046    Total estimated model params size (MB)\n"
     ]
    },
    {
     "data": {
      "application/vnd.jupyter.widget-view+json": {
       "model_id": "e845ba145d0f4afdbc978403cfffbd1e",
       "version_major": 2,
       "version_minor": 0
      },
      "text/plain": [
       "Sanity Checking: |          | 0/? [00:00<?, ?it/s]"
      ]
     },
     "metadata": {},
     "output_type": "display_data"
    },
    {
     "data": {
      "application/vnd.jupyter.widget-view+json": {
       "model_id": "81cf7d3d99554d8398b408956e24ecf2",
       "version_major": 2,
       "version_minor": 0
      },
      "text/plain": [
       "Training: |          | 0/? [00:00<?, ?it/s]"
      ]
     },
     "metadata": {},
     "output_type": "display_data"
    },
    {
     "data": {
      "application/vnd.jupyter.widget-view+json": {
       "model_id": "d40b5f4e566b436095a3d9f7b9bbe0e9",
       "version_major": 2,
       "version_minor": 0
      },
      "text/plain": [
       "Validation: |          | 0/? [00:00<?, ?it/s]"
      ]
     },
     "metadata": {},
     "output_type": "display_data"
    },
    {
     "data": {
      "application/vnd.jupyter.widget-view+json": {
       "model_id": "f3907b78f20b481b9018b055187d83ed",
       "version_major": 2,
       "version_minor": 0
      },
      "text/plain": [
       "Validation: |          | 0/? [00:00<?, ?it/s]"
      ]
     },
     "metadata": {},
     "output_type": "display_data"
    },
    {
     "data": {
      "application/vnd.jupyter.widget-view+json": {
       "model_id": "6e3e978e715f4555abee1ca1c99056c9",
       "version_major": 2,
       "version_minor": 0
      },
      "text/plain": [
       "Validation: |          | 0/? [00:00<?, ?it/s]"
      ]
     },
     "metadata": {},
     "output_type": "display_data"
    }
   ],
   "source": [
    "wandb_entity = \"adamoyoung\"\n",
    "wandb_project = \"MSG\"\n",
    "wandb_name = \"simulation_test_full\"\n",
    "logger = pl.loggers.WandbLogger(\n",
    "    entity=wandb_entity,\n",
    "    project=wandb_project,\n",
    "    name=wandb_name,\n",
    "    tags=[],\n",
    "    log_model=False,\n",
    ")\n",
    "# logger = None\n",
    "\n",
    "# Init trainer\n",
    "trainer = pl.Trainer(\n",
    "    accelerator=\"cpu\", max_epochs=10, logger=logger, log_every_n_steps=1\n",
    ")\n",
    "\n",
    "# Train\n",
    "trainer.fit(\n",
    "    pl_model, \n",
    "    train_dataloaders=train_dl, \n",
    "    val_dataloaders=val_dl\n",
    ")"
   ]
  },
  {
   "cell_type": "code",
   "execution_count": null,
   "metadata": {},
   "outputs": [],
   "source": []
  }
 ],
 "metadata": {
  "kernelspec": {
   "display_name": "MSG",
   "language": "python",
   "name": "python3"
  },
  "language_info": {
   "codemirror_mode": {
    "name": "ipython",
    "version": 3
   },
   "file_extension": ".py",
   "mimetype": "text/x-python",
   "name": "python",
   "nbconvert_exporter": "python",
   "pygments_lexer": "ipython3",
   "version": "3.10.14"
  }
 },
 "nbformat": 4,
 "nbformat_minor": 2
}
