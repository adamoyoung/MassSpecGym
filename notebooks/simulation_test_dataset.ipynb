{
 "cells": [
  {
   "cell_type": "code",
   "execution_count": 1,
   "metadata": {},
   "outputs": [],
   "source": [
    "%load_ext autoreload\n",
    "%autoreload 2"
   ]
  },
  {
   "cell_type": "code",
   "execution_count": 2,
   "metadata": {},
   "outputs": [],
   "source": [
    "import torch\n",
    "from torch.utils.data import DataLoader\n",
    "import pandas as pd\n",
    "from tqdm.notebook import tqdm"
   ]
  },
  {
   "cell_type": "code",
   "execution_count": 10,
   "metadata": {},
   "outputs": [],
   "source": [
    "from massspecgym.data.datasets import SimulationDataset\n",
    "from massspecgym.transforms import SpecToMzsInts, MolToPyG, StandardMeta, MolToFingerprints\n",
    "from massspecgym.simulation_utils.misc_utils import print_shapes"
   ]
  },
  {
   "cell_type": "code",
   "execution_count": 11,
   "metadata": {},
   "outputs": [],
   "source": [
    "tsv_pth = \"../data/MassSpecGym_4.tsv\"\n",
    "meta_keys = [\"adduct\",\"precursor_mz\",\"instrument_type\",\"collision_energy\"]\n",
    "fp_types = [\"morgan\",\"maccs\",\"rdkit\"]\n",
    "adducts = [\"[M+H]+\"]\n",
    "instrument_types = [\"QTOF\",\"QFT\",\"Orbitrap\",\"ITFT\"]\n",
    "max_collision_energy = 200. # arbitrary\n",
    "mz_from = 10.\n",
    "mz_to = 1500.\n",
    "spec_transform = SpecToMzsInts(\n",
    "    mz_from=mz_from,\n",
    "    mz_to=mz_to\n",
    ")\n",
    "mol_transform = MolToFingerprints(\n",
    "    fp_types=fp_types\n",
    ")\n",
    "meta_transform = StandardMeta(\n",
    "    adducts=adducts,\n",
    "    instrument_types=instrument_types,\n",
    "    max_collision_energy=max_collision_energy\n",
    ")\n",
    "\n",
    "ds = SimulationDataset(\n",
    "    tsv_pth=tsv_pth,\n",
    "    meta_keys=meta_keys,\n",
    "    spec_transform=spec_transform,\n",
    "    mol_transform=mol_transform,\n",
    "    meta_transform=meta_transform,\n",
    "    cache_feats=False)"
   ]
  },
  {
   "cell_type": "code",
   "execution_count": 15,
   "metadata": {},
   "outputs": [],
   "source": [
    "df = pd.read_csv(tsv_pth, sep=\"\\t\")\n",
    "small_df = df.sample(n=10000, replace=False, random_state=42)\n",
    "small_df.to_csv(\"../data/MassSpecGym_4_small.tsv\", sep=\"\\t\", index=False)"
   ]
  },
  {
   "cell_type": "code",
   "execution_count": 5,
   "metadata": {},
   "outputs": [
    {
     "name": "stdout",
     "output_type": "stream",
     "text": [
      "spec_mzs - (8,) - <class 'torch.Tensor'>\n",
      "spec_ints - (8,) - <class 'torch.Tensor'>\n",
      "fps - (4263,) - <class 'torch.Tensor'>\n",
      "precursor_mz - () - <class 'torch.Tensor'>\n",
      "adduct - () - <class 'torch.Tensor'>\n",
      "instrument_type - () - <class 'torch.Tensor'>\n",
      "collision_energy - () - <class 'torch.Tensor'>\n",
      "spec_id - () - <class 'torch.Tensor'>\n",
      "weight - () - <class 'torch.Tensor'>\n"
     ]
    }
   ],
   "source": [
    "item = ds[0]\n",
    "print_shapes(item)"
   ]
  },
  {
   "cell_type": "code",
   "execution_count": 6,
   "metadata": {},
   "outputs": [],
   "source": [
    "dl = DataLoader(\n",
    "    ds,\n",
    "    num_workers=0,\n",
    "    shuffle=False,\n",
    "    batch_size=8,\n",
    "    drop_last=False,\n",
    "    collate_fn=ds.collate_fn)"
   ]
  },
  {
   "cell_type": "code",
   "execution_count": 7,
   "metadata": {},
   "outputs": [
    {
     "name": "stdout",
     "output_type": "stream",
     "text": [
      "spec_mzs - (92,) - <class 'torch.Tensor'>\n",
      "spec_ints - (92,) - <class 'torch.Tensor'>\n",
      "fps - (8, 4263) - <class 'torch.Tensor'>\n",
      "precursor_mz - (8,) - <class 'torch.Tensor'>\n",
      "adduct - (8,) - <class 'torch.Tensor'>\n",
      "instrument_type - (8,) - <class 'torch.Tensor'>\n",
      "collision_energy - (8,) - <class 'torch.Tensor'>\n",
      "spec_id - (8,) - <class 'torch.Tensor'>\n",
      "weight - (8,) - <class 'torch.Tensor'>\n",
      "spec_batch_idxs - (92,) - <class 'torch.Tensor'>\n"
     ]
    }
   ],
   "source": [
    "batch = next(iter(dl))\n",
    "print_shapes(batch)"
   ]
  },
  {
   "cell_type": "code",
   "execution_count": 12,
   "metadata": {},
   "outputs": [
    {
     "name": "stdout",
     "output_type": "stream",
     "text": [
      "count    119029.000000\n",
      "mean         38.425283\n",
      "std          27.709673\n",
      "min           0.000000\n",
      "25%          20.000000\n",
      "50%          30.000000\n",
      "75%          55.707348\n",
      "max         358.400160\n",
      "Name: collision_energy, dtype: float64\n"
     ]
    }
   ],
   "source": [
    "print(ds.entry_df[\"collision_energy\"].describe())"
   ]
  },
  {
   "cell_type": "code",
   "execution_count": 13,
   "metadata": {},
   "outputs": [
    {
     "data": {
      "application/vnd.jupyter.widget-view+json": {
       "model_id": "b5128d9999e8438184fc06f90ce4a1f7",
       "version_major": 2,
       "version_minor": 0
      },
      "text/plain": [
       "  0%|          | 0/14945 [00:00<?, ?it/s]"
      ]
     },
     "metadata": {},
     "output_type": "display_data"
    }
   ],
   "source": [
    "for batch in tqdm(iter(dl),total=len(dl)):\n",
    "    pass"
   ]
  },
  {
   "cell_type": "code",
   "execution_count": 11,
   "metadata": {},
   "outputs": [],
   "source": [
    "mol_transform = MolToPyG()\n",
    "ds = SimulationDataset(\n",
    "    tsv_pth=tsv_pth,\n",
    "    frag_pth=None,\n",
    "    meta_keys=meta_keys,\n",
    "    spec_transform=spec_transform,\n",
    "    mol_transform=mol_transform,\n",
    "    meta_transform=meta_transform,\n",
    "    cache_feats=False)"
   ]
  },
  {
   "cell_type": "code",
   "execution_count": 12,
   "metadata": {},
   "outputs": [
    {
     "name": "stdout",
     "output_type": "stream",
     "text": [
      "spec_mzs - (40,) - <class 'torch.Tensor'>\n",
      "spec_ints - (40,) - <class 'torch.Tensor'>\n",
      "mol - (16, 32) - <class 'torch_geometric.data.data.Data'>\n",
      "precursor_mz - () - <class 'torch.Tensor'>\n",
      "adduct - () - <class 'torch.Tensor'>\n",
      "instrument_type - () - <class 'torch.Tensor'>\n",
      "collision_energy - () - <class 'torch.Tensor'>\n",
      "weight - () - <class 'torch.Tensor'>\n"
     ]
    }
   ],
   "source": [
    "item = ds[0]\n",
    "print_shapes(item)"
   ]
  },
  {
   "cell_type": "code",
   "execution_count": 13,
   "metadata": {},
   "outputs": [],
   "source": [
    "dl = DataLoader(\n",
    "    ds,\n",
    "    num_workers=0,\n",
    "    shuffle=False,\n",
    "    batch_size=8,\n",
    "    drop_last=False,\n",
    "    collate_fn=ds.collate_fn)"
   ]
  },
  {
   "cell_type": "code",
   "execution_count": 14,
   "metadata": {},
   "outputs": [
    {
     "name": "stdout",
     "output_type": "stream",
     "text": [
      "spec_mzs - (192,) - <class 'torch.Tensor'>\n",
      "spec_ints - (192,) - <class 'torch.Tensor'>\n",
      "mol - (178, 378) - <class 'torch_geometric.data.batch.DataBatch'>\n",
      "precursor_mz - (8,) - <class 'torch.Tensor'>\n",
      "adduct - (8,) - <class 'torch.Tensor'>\n",
      "instrument_type - (8,) - <class 'torch.Tensor'>\n",
      "collision_energy - (8,) - <class 'torch.Tensor'>\n",
      "weight - (8,) - <class 'torch.Tensor'>\n",
      "spec_batch_idxs - (192,) - <class 'torch.Tensor'>\n"
     ]
    }
   ],
   "source": [
    "batch = next(iter(dl))\n",
    "print_shapes(batch)"
   ]
  },
  {
   "cell_type": "code",
   "execution_count": 15,
   "metadata": {},
   "outputs": [
    {
     "data": {
      "application/vnd.jupyter.widget-view+json": {
       "model_id": "dfa3bd37f659445193e29594f3c921c5",
       "version_major": 2,
       "version_minor": 0
      },
      "text/plain": [
       "  0%|          | 0/407 [00:00<?, ?it/s]"
      ]
     },
     "metadata": {},
     "output_type": "display_data"
    }
   ],
   "source": [
    "for batch in tqdm(iter(dl),total=len(dl)):\n",
    "    pass"
   ]
  },
  {
   "cell_type": "code",
   "execution_count": null,
   "metadata": {},
   "outputs": [],
   "source": []
  }
 ],
 "metadata": {
  "kernelspec": {
   "display_name": "MSG",
   "language": "python",
   "name": "python3"
  },
  "language_info": {
   "codemirror_mode": {
    "name": "ipython",
    "version": 3
   },
   "file_extension": ".py",
   "mimetype": "text/x-python",
   "name": "python",
   "nbconvert_exporter": "python",
   "pygments_lexer": "ipython3",
   "version": "3.10.14"
  }
 },
 "nbformat": 4,
 "nbformat_minor": 2
}
