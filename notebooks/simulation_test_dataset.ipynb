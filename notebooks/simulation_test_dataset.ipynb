{
 "cells": [
  {
   "cell_type": "code",
   "execution_count": 25,
   "metadata": {},
   "outputs": [
    {
     "name": "stdout",
     "output_type": "stream",
     "text": [
      "The autoreload extension is already loaded. To reload it, use:\n",
      "  %reload_ext autoreload\n"
     ]
    }
   ],
   "source": [
    "%load_ext autoreload\n",
    "%autoreload 2"
   ]
  },
  {
   "cell_type": "code",
   "execution_count": 26,
   "metadata": {},
   "outputs": [],
   "source": [
    "import torch\n",
    "from torch.utils.data import DataLoader\n",
    "import pandas as pd\n",
    "from tqdm.notebook import tqdm"
   ]
  },
  {
   "cell_type": "code",
   "execution_count": 49,
   "metadata": {},
   "outputs": [],
   "source": [
    "from massspecgym.data.datasets import SimulationDataset\n",
    "from massspecgym.transforms import SpecToMzsInts, MolToPyG, StandardMeta, MolToFingerprints\n",
    "from massspecgym.simulation_utils.misc_utils import print_shapes"
   ]
  },
  {
   "cell_type": "code",
   "execution_count": 50,
   "metadata": {},
   "outputs": [],
   "source": [
    "tsv_pth = \"../data/MassSpecGym_small.tsv\"\n",
    "frag_pth = None\n",
    "meta_keys = [\"adduct\",\"precursor_mz\",\"instrument_type\",\"collision_energy\"]\n",
    "adducts = [\"[M+H]+\"]\n",
    "instruments = [\"QTOF\",\"QFT\",\"Orbitrap\",\"ITFT\"]\n",
    "max_ce = 100. # arbitrary\n",
    "spec_transform = SpecToMzsInts()\n",
    "mol_transform = MolToFingerprints()\n",
    "meta_transform = StandardMeta(\n",
    "    adducts=adducts,\n",
    "    instruments=instruments,\n",
    "    max_ce=max_ce)"
   ]
  },
  {
   "cell_type": "code",
   "execution_count": 51,
   "metadata": {},
   "outputs": [],
   "source": [
    "ds = SimulationDataset(\n",
    "    tsv_pth=tsv_pth,\n",
    "    frag_pth=None,\n",
    "    meta_keys=meta_keys,\n",
    "    spec_transform=spec_transform,\n",
    "    mol_transform=mol_transform,\n",
    "    meta_transform=meta_transform,\n",
    "    frag_transform=None,\n",
    "    cache_feats=False)"
   ]
  },
  {
   "cell_type": "code",
   "execution_count": 52,
   "metadata": {},
   "outputs": [
    {
     "name": "stdout",
     "output_type": "stream",
     "text": [
      "spec_mzs - (40,) - <class 'torch.Tensor'>\n",
      "spec_ints - (40,) - <class 'torch.Tensor'>\n",
      "fps - (4263,) - <class 'torch.Tensor'>\n",
      "precursor_mz - () - <class 'torch.Tensor'>\n",
      "adduct - () - <class 'torch.Tensor'>\n",
      "instrument_type - () - <class 'torch.Tensor'>\n",
      "collision_energy - () - <class 'torch.Tensor'>\n",
      "weight - () - <class 'torch.Tensor'>\n"
     ]
    }
   ],
   "source": [
    "item = ds[0]\n",
    "print_shapes(item)"
   ]
  },
  {
   "cell_type": "code",
   "execution_count": 53,
   "metadata": {},
   "outputs": [],
   "source": [
    "dl = DataLoader(\n",
    "    ds,\n",
    "    num_workers=0,\n",
    "    shuffle=False,\n",
    "    batch_size=8,\n",
    "    drop_last=False,\n",
    "    collate_fn=ds.collate_fn)"
   ]
  },
  {
   "cell_type": "code",
   "execution_count": 54,
   "metadata": {},
   "outputs": [
    {
     "name": "stdout",
     "output_type": "stream",
     "text": [
      "spec_mzs - (192,) - <class 'torch.Tensor'>\n",
      "spec_ints - (192,) - <class 'torch.Tensor'>\n",
      "fps - (8, 4263) - <class 'torch.Tensor'>\n",
      "precursor_mz - (8,) - <class 'torch.Tensor'>\n",
      "adduct - (8,) - <class 'torch.Tensor'>\n",
      "instrument_type - (8,) - <class 'torch.Tensor'>\n",
      "collision_energy - (8,) - <class 'torch.Tensor'>\n",
      "weight - (8,) - <class 'torch.Tensor'>\n",
      "spec_batch_idxs - (192,) - <class 'torch.Tensor'>\n"
     ]
    }
   ],
   "source": [
    "batch = next(iter(dl))\n",
    "print_shapes(batch)"
   ]
  },
  {
   "cell_type": "code",
   "execution_count": 55,
   "metadata": {},
   "outputs": [
    {
     "data": {
      "application/vnd.jupyter.widget-view+json": {
       "model_id": "8577d3bae53f4af6b4b567f16da29ca5",
       "version_major": 2,
       "version_minor": 0
      },
      "text/plain": [
       "  0%|          | 0/407 [00:00<?, ?it/s]"
      ]
     },
     "metadata": {},
     "output_type": "display_data"
    }
   ],
   "source": [
    "for batch in tqdm(iter(dl),total=len(dl)):\n",
    "    pass"
   ]
  },
  {
   "cell_type": "code",
   "execution_count": 57,
   "metadata": {},
   "outputs": [],
   "source": [
    "mol_transform = MolToPyG()\n",
    "ds = SimulationDataset(\n",
    "    tsv_pth=tsv_pth,\n",
    "    frag_pth=None,\n",
    "    meta_keys=meta_keys,\n",
    "    spec_transform=spec_transform,\n",
    "    mol_transform=mol_transform,\n",
    "    meta_transform=meta_transform,\n",
    "    frag_transform=None,\n",
    "    cache_feats=False)"
   ]
  },
  {
   "cell_type": "code",
   "execution_count": 58,
   "metadata": {},
   "outputs": [
    {
     "name": "stdout",
     "output_type": "stream",
     "text": [
      "spec_mzs - (40,) - <class 'torch.Tensor'>\n",
      "spec_ints - (40,) - <class 'torch.Tensor'>\n",
      "mol - (16, 32) - <class 'torch_geometric.data.data.Data'>\n",
      "precursor_mz - () - <class 'torch.Tensor'>\n",
      "adduct - () - <class 'torch.Tensor'>\n",
      "instrument_type - () - <class 'torch.Tensor'>\n",
      "collision_energy - () - <class 'torch.Tensor'>\n",
      "weight - () - <class 'torch.Tensor'>\n"
     ]
    }
   ],
   "source": [
    "item = ds[0]\n",
    "print_shapes(item)"
   ]
  },
  {
   "cell_type": "code",
   "execution_count": 59,
   "metadata": {},
   "outputs": [],
   "source": [
    "dl = DataLoader(\n",
    "    ds,\n",
    "    num_workers=0,\n",
    "    shuffle=False,\n",
    "    batch_size=8,\n",
    "    drop_last=False,\n",
    "    collate_fn=ds.collate_fn)"
   ]
  },
  {
   "cell_type": "code",
   "execution_count": 60,
   "metadata": {},
   "outputs": [
    {
     "name": "stdout",
     "output_type": "stream",
     "text": [
      "spec_mzs - (192,) - <class 'torch.Tensor'>\n",
      "spec_ints - (192,) - <class 'torch.Tensor'>\n",
      "mol - (178, 378) - <class 'torch_geometric.data.batch.DataBatch'>\n",
      "precursor_mz - (8,) - <class 'torch.Tensor'>\n",
      "adduct - (8,) - <class 'torch.Tensor'>\n",
      "instrument_type - (8,) - <class 'torch.Tensor'>\n",
      "collision_energy - (8,) - <class 'torch.Tensor'>\n",
      "weight - (8,) - <class 'torch.Tensor'>\n",
      "spec_batch_idxs - (192,) - <class 'torch.Tensor'>\n"
     ]
    }
   ],
   "source": [
    "batch = next(iter(dl))\n",
    "print_shapes(batch)"
   ]
  },
  {
   "cell_type": "code",
   "execution_count": 61,
   "metadata": {},
   "outputs": [
    {
     "data": {
      "application/vnd.jupyter.widget-view+json": {
       "model_id": "05200098b81349e4b1c0f5b1d88bb4e1",
       "version_major": 2,
       "version_minor": 0
      },
      "text/plain": [
       "  0%|          | 0/407 [00:00<?, ?it/s]"
      ]
     },
     "metadata": {},
     "output_type": "display_data"
    }
   ],
   "source": [
    "for batch in tqdm(iter(dl),total=len(dl)):\n",
    "    pass"
   ]
  },
  {
   "cell_type": "code",
   "execution_count": null,
   "metadata": {},
   "outputs": [],
   "source": []
  }
 ],
 "metadata": {
  "kernelspec": {
   "display_name": "MSG",
   "language": "python",
   "name": "python3"
  },
  "language_info": {
   "codemirror_mode": {
    "name": "ipython",
    "version": 3
   },
   "file_extension": ".py",
   "mimetype": "text/x-python",
   "name": "python",
   "nbconvert_exporter": "python",
   "pygments_lexer": "ipython3",
   "version": "3.10.14"
  }
 },
 "nbformat": 4,
 "nbformat_minor": 2
}
