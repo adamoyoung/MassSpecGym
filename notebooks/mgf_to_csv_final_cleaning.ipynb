{
 "cells": [
  {
   "cell_type": "code",
   "execution_count": 1,
   "metadata": {},
   "outputs": [],
   "source": [
    "import json\n",
    "import re\n",
    "import pandas as pd\n",
    "import numpy as np\n",
    "from rdkit import Chem\n",
    "from tqdm import tqdm\n",
    "from matchms.importing import load_from_mgf\n",
    "from matchms.exporting import save_as_mgf"
   ]
  },
  {
   "cell_type": "markdown",
   "metadata": {},
   "source": [
    "### Standardize SMILES"
   ]
  },
  {
   "cell_type": "code",
   "execution_count": 2,
   "metadata": {},
   "outputs": [
    {
     "name": "stdout",
     "output_type": "stream",
     "text": [
      "31555\n"
     ]
    },
    {
     "data": {
      "image/png": "[encoded data removed]",
      "text/plain": [
       "<rdkit.Chem.rdchem.Mol at 0x28ae5c4a0>"
      ]
     },
     "metadata": {},
     "output_type": "display_data"
    },
    {
     "data": {
      "image/png": "[encoded data removed]",
      "text/plain": [
       "<rdkit.Chem.rdchem.Mol at 0x28ae5c4a0>"
      ]
     },
     "metadata": {},
     "output_type": "display_data"
    }
   ],
   "source": [
    "with open('../data/all_smiles.json', 'r') as f:\n",
    "    smiles_in = json.load(f)\n",
    "print(len(smiles_in))\n",
    "with open('../data/all_smiles_standardized_mces/all_smiles_standardized.json', 'r') as f:\n",
    "    smiles_out = json.load(f)\n",
    "len(smiles_out)\n",
    "\n",
    "std_smiles_map = {}\n",
    "for k, v in smiles_in.items():\n",
    "    for i, s in enumerate(v):\n",
    "        std_smiles_map[s] = smiles_out[k][i]\n",
    "len(std_smiles_map)\n",
    "s = list(std_smiles_map.keys())[13112]\n",
    "display(Chem.MolFromSmiles(s))\n",
    "display(Chem.MolFromSmiles(std_smiles_map[s]))"
   ]
  },
  {
   "cell_type": "code",
   "execution_count": 3,
   "metadata": {},
   "outputs": [
    {
     "name": "stdout",
     "output_type": "stream",
     "text": [
      "414174\n"
     ]
    },
    {
     "data": {
      "text/plain": [
       "{'smiles': 'CC(=O)N[C@@H](CC1=CC=CC=C1)C2=CC(=CC(=O)O2)OC',\n",
       " 'inchi': 'InChI=1S/C16H17NO4/c1-11(18)17-14(8-12-6-4-3-5-7-12)15-9-13(20-2)10-16(19)21-15/h3-7,9-10,14H,8H2,1-2H3,(H,17,18)/t14-/m0/s1',\n",
       " 'inchikey': 'VFMQMACUYWGDOJ-AWEZNQCLSA-N',\n",
       " 'precursor_mz': 288.1225,\n",
       " 'adduct': '[M+H]+',\n",
       " 'parent_mass': '287.115224',\n",
       " 'formula': 'C16H17NO4',\n",
       " 'precursor_formula': 'C16H18NO4',\n",
       " 'instrument_type': 'LC-ESI-ITFT',\n",
       " 'collision_energy': '30(NCE)',\n",
       " 'identifier': 'MassSpecGymID0000001'}"
      ]
     },
     "execution_count": 3,
     "metadata": {},
     "output_type": "execute_result"
    }
   ],
   "source": [
    "spectra = list(load_from_mgf('../data/cleaned_libraries_4.mgf'))\n",
    "print(len(spectra))\n",
    "spectra[0].metadata"
   ]
  },
  {
   "cell_type": "markdown",
   "metadata": {},
   "source": [
    "### Standardize collision energies"
   ]
  },
  {
   "cell_type": "code",
   "execution_count": 4,
   "metadata": {},
   "outputs": [],
   "source": [
    "# Code from Adamo: https://github.com/pluskal-lab/MassSpecGym/blob/8c6514cbbc2804ff57b5e9e39fe010a9d2ca310b/notebooks/simulation_preproc.ipynb.\n",
    "\n",
    "def parse_ce_str(ce_str):\n",
    "\n",
    "    ce_str = str(ce_str)\n",
    "    normal_regex = re.compile(r'\\d+(\\.\\d+)?')\n",
    "    # ramped_regex = re.compile(r'\\d+(\\.\\d+)?-\\d+(\\.\\d+)?')\n",
    "    ramped_regex = re.compile(r'\\d+(\\.\\d+)?(V)?(-|->)\\d+(\\.\\d+)?(V)?')\n",
    "    ce_str = ce_str.split(\";\")[-1]\n",
    "    try:\n",
    "        if \"%\" in ce_str:\n",
    "            normalized = True\n",
    "        else:\n",
    "            normalized = False\n",
    "        if \"-\" in ce_str or \"Ramp\" in ce_str or \"RAMP\" in ce_str or \"->\" in ce_str:\n",
    "            ramped = True\n",
    "            ramped_ce = ramped_regex.search(ce_str).group(0)\n",
    "            if \"->\" in ramped_ce:\n",
    "                min_ce, max_collision_energy = ramped_ce.split(\"->\")\n",
    "            else:\n",
    "                min_ce, max_collision_energy = ramped_ce.split(\"-\")\n",
    "            ce = 0.5*float(min_ce.strip(\"V\")) + 0.5*float(max_collision_energy.strip(\"V\"))\n",
    "        else:\n",
    "            ramped = False\n",
    "            ce = normal_regex.search(ce_str).group(0)\n",
    "            ce = float(ce)\n",
    "    except:\n",
    "        ce = np.nan\n",
    "        normalized = False\n",
    "        ramped = False\n",
    "    return ce, normalized, ramped\n",
    "\n",
    "def convert_nce(row):\n",
    "    # assumes charge factor of 1\n",
    "    if row[\"normalized\"]:\n",
    "        nce = row[\"ce\"]\n",
    "        ace = (nce * row[\"precursor_mz\"] * 1.) / 500.\n",
    "    else:\n",
    "        ace = row[\"ce\"]\n",
    "    return ace"
   ]
  },
  {
   "cell_type": "code",
   "execution_count": 5,
   "metadata": {},
   "outputs": [
    {
     "name": "stderr",
     "output_type": "stream",
     "text": [
      "100%|██████████| 414174/414174 [00:04<00:00, 89303.73it/s]\n",
      "100%|██████████| 414174/414174 [00:04<00:00, 93651.51it/s]\n"
     ]
    },
    {
     "name": "stdout",
     "output_type": "stream",
     "text": [
      "272296\n",
      "272690\n"
     ]
    },
    {
     "data": {
      "text/html": [
       "<div>\n",
       "<style scoped>\n",
       "    .dataframe tbody tr th:only-of-type {\n",
       "        vertical-align: middle;\n",
       "    }\n",
       "\n",
       "    .dataframe tbody tr th {\n",
       "        vertical-align: top;\n",
       "    }\n",
       "\n",
       "    .dataframe thead th {\n",
       "        text-align: right;\n",
       "    }\n",
       "</style>\n",
       "<table border=\"1\" class=\"dataframe\">\n",
       "  <thead>\n",
       "    <tr style=\"text-align: right;\">\n",
       "      <th></th>\n",
       "      <th>ce</th>\n",
       "      <th>precursor_mz</th>\n",
       "      <th>normalized</th>\n",
       "      <th>ramped</th>\n",
       "      <th>ce_str</th>\n",
       "    </tr>\n",
       "  </thead>\n",
       "  <tbody>\n",
       "    <tr>\n",
       "      <th>0</th>\n",
       "      <td>30.0</td>\n",
       "      <td>288.1225</td>\n",
       "      <td>False</td>\n",
       "      <td>False</td>\n",
       "      <td>30.0 (normalized=False, ramped=False)</td>\n",
       "    </tr>\n",
       "    <tr>\n",
       "      <th>1</th>\n",
       "      <td>20.0</td>\n",
       "      <td>288.1225</td>\n",
       "      <td>False</td>\n",
       "      <td>False</td>\n",
       "      <td>20.0 (normalized=False, ramped=False)</td>\n",
       "    </tr>\n",
       "    <tr>\n",
       "      <th>2</th>\n",
       "      <td>40.0</td>\n",
       "      <td>288.1225</td>\n",
       "      <td>False</td>\n",
       "      <td>False</td>\n",
       "      <td>40.0 (normalized=False, ramped=False)</td>\n",
       "    </tr>\n",
       "    <tr>\n",
       "      <th>3</th>\n",
       "      <td>55.0</td>\n",
       "      <td>288.1225</td>\n",
       "      <td>False</td>\n",
       "      <td>False</td>\n",
       "      <td>55.0 (normalized=False, ramped=False)</td>\n",
       "    </tr>\n",
       "    <tr>\n",
       "      <th>4</th>\n",
       "      <td>10.0</td>\n",
       "      <td>288.1225</td>\n",
       "      <td>False</td>\n",
       "      <td>False</td>\n",
       "      <td>10.0 (normalized=False, ramped=False)</td>\n",
       "    </tr>\n",
       "    <tr>\n",
       "      <th>...</th>\n",
       "      <td>...</td>\n",
       "      <td>...</td>\n",
       "      <td>...</td>\n",
       "      <td>...</td>\n",
       "      <td>...</td>\n",
       "    </tr>\n",
       "    <tr>\n",
       "      <th>414169</th>\n",
       "      <td>NaN</td>\n",
       "      <td>1225.7400</td>\n",
       "      <td>False</td>\n",
       "      <td>False</td>\n",
       "      <td>NaN</td>\n",
       "    </tr>\n",
       "    <tr>\n",
       "      <th>414170</th>\n",
       "      <td>NaN</td>\n",
       "      <td>479.1230</td>\n",
       "      <td>False</td>\n",
       "      <td>False</td>\n",
       "      <td>NaN</td>\n",
       "    </tr>\n",
       "    <tr>\n",
       "      <th>414171</th>\n",
       "      <td>NaN</td>\n",
       "      <td>478.3250</td>\n",
       "      <td>False</td>\n",
       "      <td>False</td>\n",
       "      <td>NaN</td>\n",
       "    </tr>\n",
       "    <tr>\n",
       "      <th>414172</th>\n",
       "      <td>NaN</td>\n",
       "      <td>478.3250</td>\n",
       "      <td>False</td>\n",
       "      <td>False</td>\n",
       "      <td>NaN</td>\n",
       "    </tr>\n",
       "    <tr>\n",
       "      <th>414173</th>\n",
       "      <td>NaN</td>\n",
       "      <td>478.3250</td>\n",
       "      <td>False</td>\n",
       "      <td>False</td>\n",
       "      <td>NaN</td>\n",
       "    </tr>\n",
       "  </tbody>\n",
       "</table>\n",
       "<p>414174 rows × 5 columns</p>\n",
       "</div>"
      ],
      "text/plain": [
       "          ce  precursor_mz  normalized  ramped  \\\n",
       "0       30.0      288.1225       False   False   \n",
       "1       20.0      288.1225       False   False   \n",
       "2       40.0      288.1225       False   False   \n",
       "3       55.0      288.1225       False   False   \n",
       "4       10.0      288.1225       False   False   \n",
       "...      ...           ...         ...     ...   \n",
       "414169   NaN     1225.7400       False   False   \n",
       "414170   NaN      479.1230       False   False   \n",
       "414171   NaN      478.3250       False   False   \n",
       "414172   NaN      478.3250       False   False   \n",
       "414173   NaN      478.3250       False   False   \n",
       "\n",
       "                                       ce_str  \n",
       "0       30.0 (normalized=False, ramped=False)  \n",
       "1       20.0 (normalized=False, ramped=False)  \n",
       "2       40.0 (normalized=False, ramped=False)  \n",
       "3       55.0 (normalized=False, ramped=False)  \n",
       "4       10.0 (normalized=False, ramped=False)  \n",
       "...                                       ...  \n",
       "414169                                    NaN  \n",
       "414170                                    NaN  \n",
       "414171                                    NaN  \n",
       "414172                                    NaN  \n",
       "414173                                    NaN  \n",
       "\n",
       "[414174 rows x 5 columns]"
      ]
     },
     "execution_count": 5,
     "metadata": {},
     "output_type": "execute_result"
    }
   ],
   "source": [
    "ce_df = pd.DataFrame({\n",
    "    \"ce\": [s.get('collision_energy') for s in tqdm(spectra)],\n",
    "    \"precursor_mz\": [s.get('precursor_mz') for s in tqdm(spectra)]\n",
    "})\n",
    "print(ce_df['ce'].isna().sum())\n",
    "ce_df[\"ce\"], ce_df[\"normalized\"], ce_df[\"ramped\"] = zip(*ce_df[\"ce\"].apply(parse_ce_str))\n",
    "ce_df[\"ce\"] = ce_df.apply(convert_nce, axis=1)\n",
    "print(ce_df['ce'].isna().sum())\n",
    "ce_df[\"ce_str\"] = ce_df.apply(\n",
    "    lambda row: f'{row[\"ce\"]} (normalized={row[\"normalized\"]}, ramped={row[\"ramped\"]})'\n",
    "                if not pd.isnull(row[\"ce\"])\n",
    "                else row[\"ce\"],\n",
    "    axis=1\n",
    ")\n",
    "ce_df"
   ]
  },
  {
   "cell_type": "markdown",
   "metadata": {},
   "source": [
    "### Standardize instruments"
   ]
  },
  {
   "cell_type": "code",
   "execution_count": 6,
   "metadata": {},
   "outputs": [],
   "source": [
    "def standardize_instrument_type(instr):\n",
    "    if instr.startswith(\"LC-\"):\n",
    "        instr = instr[3:]\n",
    "    if instr.startswith(\"ESI-\"):\n",
    "        instr = instr[4:]\n",
    "    if instr.startswith(\"Q-\"):\n",
    "        instr = instr[2:]\n",
    "    if instr.endswith(\"/MS\"):\n",
    "        instr = instr[:-3]\n",
    "    if instr in ['Q Exactive Focus Hybrid Quadrupole Orbitrap Mass Spectrometer (Thermo Fisher Scientific)', 'QEHF']:\n",
    "        instr = 'Orbitrap'\n",
    "    if instr in ['TOF', 'ITTOF']:\n",
    "        instr = 'QTOF'\n",
    "    if instr in ['FT']:\n",
    "        instr = 'QFT'\n",
    "    return instr"
   ]
  },
  {
   "cell_type": "markdown",
   "metadata": {},
   "source": [
    "### Apply all the processing steps"
   ]
  },
  {
   "cell_type": "code",
   "execution_count": 7,
   "metadata": {},
   "outputs": [
    {
     "name": "stderr",
     "output_type": "stream",
     "text": [
      "100%|██████████| 414174/414174 [01:16<00:00, 5395.99it/s]"
     ]
    },
    {
     "name": "stdout",
     "output_type": "stream",
     "text": [
      "414049\n",
      "Num. failed 125\n"
     ]
    },
    {
     "name": "stderr",
     "output_type": "stream",
     "text": [
      "\n"
     ]
    },
    {
     "data": {
      "text/plain": [
       "{'smiles': 'CC(=O)N[C@@H](CC1=CC=CC=C1)C2=CC(=CC(=O)O2)OC',\n",
       " 'inchi': 'InChI=1S/C16H17NO4/c1-11(18)17-14(8-12-6-4-3-5-7-12)15-9-13(20-2)10-16(19)21-15/h3-7,9-10,14H,8H2,1-2H3,(H,17,18)/t14-/m0/s1',\n",
       " 'inchikey': 'VFMQMACUYWGDOJ-AWEZNQCLSA-N',\n",
       " 'precursor_mz': 288.1225,\n",
       " 'adduct': '[M+H]+',\n",
       " 'parent_mass': '287.115224',\n",
       " 'formula': 'C16H17NO4',\n",
       " 'precursor_formula': 'C16H18NO4',\n",
       " 'instrument_type': 'ITFT',\n",
       " 'collision_energy': '55.0 (normalized=False, ramped=False)',\n",
       " 'identifier': 'MassSpecGymID0000004'}"
      ]
     },
     "execution_count": 7,
     "metadata": {},
     "output_type": "execute_result"
    }
   ],
   "source": [
    "spectra_new = []\n",
    "num_failed = 0\n",
    "for i, spec in enumerate(tqdm(spectra)):\n",
    "    spec_new = spec.clone()\n",
    "    try:\n",
    "        spec_new.set('smiles', std_smiles_map[spec.get('smiles')])\n",
    "    except:\n",
    "        # print(f\"Failed to find standardized SMILES for spectrum {i}\")\n",
    "        num_failed += 1\n",
    "        continue\n",
    "    if 'collision_energy' in spec.metadata.keys():\n",
    "        spec_new.set('collision_energy', ce_df['ce_str'].iloc[i])\n",
    "    if 'instrument_type' in spec.metadata.keys():\n",
    "        spec_new.set('instrument_type', standardize_instrument_type(spec.get('instrument_type')))\n",
    "    spectra_new.append(spec_new)\n",
    "print(len(spectra_new))\n",
    "print('Num. failed', num_failed)\n",
    "spectra_new[3].metadata"
   ]
  },
  {
   "cell_type": "markdown",
   "metadata": {},
   "source": [
    "### Drop empty spectra"
   ]
  },
  {
   "cell_type": "code",
   "execution_count": 8,
   "metadata": {},
   "outputs": [
    {
     "name": "stdout",
     "output_type": "stream",
     "text": [
      "414049\n"
     ]
    },
    {
     "name": "stderr",
     "output_type": "stream",
     "text": [
      "100%|██████████| 414049/414049 [00:01<00:00, 248226.21it/s]"
     ]
    },
    {
     "name": "stdout",
     "output_type": "stream",
     "text": [
      "414049\n"
     ]
    },
    {
     "name": "stderr",
     "output_type": "stream",
     "text": [
      "\n"
     ]
    }
   ],
   "source": [
    "print(len(spectra_new))\n",
    "spectra_new = [s for s in tqdm(spectra_new) if len(s.peaks) > 0]\n",
    "print(len(spectra_new))"
   ]
  },
  {
   "cell_type": "markdown",
   "metadata": {},
   "source": [
    "### Convert to `.tsv`"
   ]
  },
  {
   "cell_type": "code",
   "execution_count": 9,
   "metadata": {},
   "outputs": [
    {
     "name": "stderr",
     "output_type": "stream",
     "text": [
      "100%|██████████| 414049/414049 [00:20<00:00, 19752.94it/s]\n"
     ]
    },
    {
     "data": {
      "text/html": [
       "<div>\n",
       "<style scoped>\n",
       "    .dataframe tbody tr th:only-of-type {\n",
       "        vertical-align: middle;\n",
       "    }\n",
       "\n",
       "    .dataframe tbody tr th {\n",
       "        vertical-align: top;\n",
       "    }\n",
       "\n",
       "    .dataframe thead th {\n",
       "        text-align: right;\n",
       "    }\n",
       "</style>\n",
       "<table border=\"1\" class=\"dataframe\">\n",
       "  <thead>\n",
       "    <tr style=\"text-align: right;\">\n",
       "      <th></th>\n",
       "      <th>mzs</th>\n",
       "      <th>intensities</th>\n",
       "      <th>smiles</th>\n",
       "      <th>inchi</th>\n",
       "      <th>inchikey</th>\n",
       "      <th>precursor_mz</th>\n",
       "      <th>adduct</th>\n",
       "      <th>parent_mass</th>\n",
       "      <th>formula</th>\n",
       "      <th>precursor_formula</th>\n",
       "      <th>instrument_type</th>\n",
       "      <th>collision_energy</th>\n",
       "      <th>identifier</th>\n",
       "    </tr>\n",
       "  </thead>\n",
       "  <tbody>\n",
       "    <tr>\n",
       "      <th>0</th>\n",
       "      <td>91.0542,125.0233,154.0499,155.0577,185.0961,20...</td>\n",
       "      <td>0.24524524524524524,1.0,0.08008008008008008,0....</td>\n",
       "      <td>CC(=O)N[C@@H](CC1=CC=CC=C1)C2=CC(=CC(=O)O2)OC</td>\n",
       "      <td>InChI=1S/C16H17NO4/c1-11(18)17-14(8-12-6-4-3-5...</td>\n",
       "      <td>VFMQMACUYWGDOJ-AWEZNQCLSA-N</td>\n",
       "      <td>288.1225</td>\n",
       "      <td>[M+H]+</td>\n",
       "      <td>287.115224</td>\n",
       "      <td>C16H17NO4</td>\n",
       "      <td>C16H18NO4</td>\n",
       "      <td>ITFT</td>\n",
       "      <td>30.0 (normalized=False, ramped=False)</td>\n",
       "      <td>MassSpecGymID0000001</td>\n",
       "    </tr>\n",
       "    <tr>\n",
       "      <th>1</th>\n",
       "      <td>91.0542,125.0233,155.0577,185.0961,229.0859,24...</td>\n",
       "      <td>0.0990990990990991,0.28128128128128127,0.04004...</td>\n",
       "      <td>CC(=O)N[C@@H](CC1=CC=CC=C1)C2=CC(=CC(=O)O2)OC</td>\n",
       "      <td>InChI=1S/C16H17NO4/c1-11(18)17-14(8-12-6-4-3-5...</td>\n",
       "      <td>VFMQMACUYWGDOJ-AWEZNQCLSA-N</td>\n",
       "      <td>288.1225</td>\n",
       "      <td>[M+H]+</td>\n",
       "      <td>287.115224</td>\n",
       "      <td>C16H17NO4</td>\n",
       "      <td>C16H18NO4</td>\n",
       "      <td>ITFT</td>\n",
       "      <td>20.0 (normalized=False, ramped=False)</td>\n",
       "      <td>MassSpecGymID0000002</td>\n",
       "    </tr>\n",
       "    <tr>\n",
       "      <th>2</th>\n",
       "      <td>69.0343,91.0542,125.0233,127.039,153.0699,154....</td>\n",
       "      <td>0.03403403403403404,0.31431431431431434,1.0,0....</td>\n",
       "      <td>CC(=O)N[C@@H](CC1=CC=CC=C1)C2=CC(=CC(=O)O2)OC</td>\n",
       "      <td>InChI=1S/C16H17NO4/c1-11(18)17-14(8-12-6-4-3-5...</td>\n",
       "      <td>VFMQMACUYWGDOJ-AWEZNQCLSA-N</td>\n",
       "      <td>288.1225</td>\n",
       "      <td>[M+H]+</td>\n",
       "      <td>287.115224</td>\n",
       "      <td>C16H17NO4</td>\n",
       "      <td>C16H18NO4</td>\n",
       "      <td>ITFT</td>\n",
       "      <td>40.0 (normalized=False, ramped=False)</td>\n",
       "      <td>MassSpecGymID0000003</td>\n",
       "    </tr>\n",
       "    <tr>\n",
       "      <th>3</th>\n",
       "      <td>69.0343,91.0542,110.06,111.0441,112.0393,120.0...</td>\n",
       "      <td>0.17917917917917917,0.47347347347347346,0.0380...</td>\n",
       "      <td>CC(=O)N[C@@H](CC1=CC=CC=C1)C2=CC(=CC(=O)O2)OC</td>\n",
       "      <td>InChI=1S/C16H17NO4/c1-11(18)17-14(8-12-6-4-3-5...</td>\n",
       "      <td>VFMQMACUYWGDOJ-AWEZNQCLSA-N</td>\n",
       "      <td>288.1225</td>\n",
       "      <td>[M+H]+</td>\n",
       "      <td>287.115224</td>\n",
       "      <td>C16H17NO4</td>\n",
       "      <td>C16H18NO4</td>\n",
       "      <td>ITFT</td>\n",
       "      <td>55.0 (normalized=False, ramped=False)</td>\n",
       "      <td>MassSpecGymID0000004</td>\n",
       "    </tr>\n",
       "    <tr>\n",
       "      <th>4</th>\n",
       "      <td>91.0542,125.0233,185.0961,229.0859,246.1125,28...</td>\n",
       "      <td>0.07807807807807808,0.1841841841841842,0.03503...</td>\n",
       "      <td>CC(=O)N[C@@H](CC1=CC=CC=C1)C2=CC(=CC(=O)O2)OC</td>\n",
       "      <td>InChI=1S/C16H17NO4/c1-11(18)17-14(8-12-6-4-3-5...</td>\n",
       "      <td>VFMQMACUYWGDOJ-AWEZNQCLSA-N</td>\n",
       "      <td>288.1225</td>\n",
       "      <td>[M+H]+</td>\n",
       "      <td>287.115224</td>\n",
       "      <td>C16H17NO4</td>\n",
       "      <td>C16H18NO4</td>\n",
       "      <td>ITFT</td>\n",
       "      <td>10.0 (normalized=False, ramped=False)</td>\n",
       "      <td>MassSpecGymID0000005</td>\n",
       "    </tr>\n",
       "    <tr>\n",
       "      <th>...</th>\n",
       "      <td>...</td>\n",
       "      <td>...</td>\n",
       "      <td>...</td>\n",
       "      <td>...</td>\n",
       "      <td>...</td>\n",
       "      <td>...</td>\n",
       "      <td>...</td>\n",
       "      <td>...</td>\n",
       "      <td>...</td>\n",
       "      <td>...</td>\n",
       "      <td>...</td>\n",
       "      <td>...</td>\n",
       "      <td>...</td>\n",
       "    </tr>\n",
       "    <tr>\n",
       "      <th>414044</th>\n",
       "      <td>77.5606,85.238739,152.079361,156.231537,189.96...</td>\n",
       "      <td>0.00022242662384734551,0.0007871876908597226,0...</td>\n",
       "      <td>CCC(C)CCCCC(=O)N[C@@H](CCN)C(=O)N[C@@H]([C@@H]...</td>\n",
       "      <td>InChI=1S/C56H98N16O13/c1-7-32(4)13-11-12-16-44...</td>\n",
       "      <td>WQVJHHACXVLGBL-BPJDFBQWSA-N</td>\n",
       "      <td>1225.7400</td>\n",
       "      <td>[M+Na]+</td>\n",
       "      <td>1202.750782</td>\n",
       "      <td>C56H98N16O13</td>\n",
       "      <td>C56H98N16NaO13</td>\n",
       "      <td>QTOF</td>\n",
       "      <td>NaN</td>\n",
       "      <td>MassSpecGymID0414170</td>\n",
       "    </tr>\n",
       "    <tr>\n",
       "      <th>414045</th>\n",
       "      <td>72.043739,86.060242,98.058304,99.0634,126.0537...</td>\n",
       "      <td>0.0019527744563354998,0.0016939927337585416,0....</td>\n",
       "      <td>C[C@@]1([C@H]2C[C@H]3[C@@H](C(=O)C(=C([C@]3(C(...</td>\n",
       "      <td>InChI=1S/C22H23ClN2O8/c1-21(32)7-6-8-15(25(2)3...</td>\n",
       "      <td>CYDMQBQPVICBEU-XRNKAMNCSA-N</td>\n",
       "      <td>479.1230</td>\n",
       "      <td>[M+H]+</td>\n",
       "      <td>478.115724</td>\n",
       "      <td>C22H23ClN2O8</td>\n",
       "      <td>C22H24ClN2O8</td>\n",
       "      <td>QTOF</td>\n",
       "      <td>NaN</td>\n",
       "      <td>MassSpecGymID0414171</td>\n",
       "    </tr>\n",
       "    <tr>\n",
       "      <th>414046</th>\n",
       "      <td>72.080132,102.233917,113.082344,113.121498,114...</td>\n",
       "      <td>0.021173783463613503,0.007516001055215398,0.03...</td>\n",
       "      <td>C[C@H]([C@@H]1CC[C@H]([C@H](O1)O[C@@H]2[C@H](C...</td>\n",
       "      <td>InChI=1S/C21H43N5O7/c1-9(25-3)13-6-5-10(22)19(...</td>\n",
       "      <td>CEAZRRDELHUEMR-CAMVTXANSA-N</td>\n",
       "      <td>478.3250</td>\n",
       "      <td>[M+H]+</td>\n",
       "      <td>477.317724</td>\n",
       "      <td>C21H43N5O7</td>\n",
       "      <td>C21H44N5O7</td>\n",
       "      <td>QTOF</td>\n",
       "      <td>NaN</td>\n",
       "      <td>MassSpecGymID0414172</td>\n",
       "    </tr>\n",
       "    <tr>\n",
       "      <th>414047</th>\n",
       "      <td>55.053627,56.455425,58.065819,67.053543,82.065...</td>\n",
       "      <td>0.031731527156456024,0.017878400151027027,0.07...</td>\n",
       "      <td>C[C@H]([C@@H]1CC[C@H]([C@H](O1)O[C@@H]2[C@H](C...</td>\n",
       "      <td>InChI=1S/C21H43N5O7/c1-9(25-3)13-6-5-10(22)19(...</td>\n",
       "      <td>CEAZRRDELHUEMR-CAMVTXANSA-N</td>\n",
       "      <td>478.3250</td>\n",
       "      <td>[M+H]+</td>\n",
       "      <td>477.317724</td>\n",
       "      <td>C21H43N5O7</td>\n",
       "      <td>C21H44N5O7</td>\n",
       "      <td>QTOF</td>\n",
       "      <td>NaN</td>\n",
       "      <td>MassSpecGymID0414173</td>\n",
       "    </tr>\n",
       "    <tr>\n",
       "      <th>414048</th>\n",
       "      <td>55.055058,56.049213,57.05315,58.064835,58.0875...</td>\n",
       "      <td>0.1514287137530871,0.09596071713375486,0.06401...</td>\n",
       "      <td>C[C@H]([C@@H]1CC[C@H]([C@H](O1)O[C@@H]2[C@H](C...</td>\n",
       "      <td>InChI=1S/C21H43N5O7/c1-9(25-3)13-6-5-10(22)19(...</td>\n",
       "      <td>CEAZRRDELHUEMR-CAMVTXANSA-N</td>\n",
       "      <td>478.3250</td>\n",
       "      <td>[M+H]+</td>\n",
       "      <td>477.317724</td>\n",
       "      <td>C21H43N5O7</td>\n",
       "      <td>C21H44N5O7</td>\n",
       "      <td>QTOF</td>\n",
       "      <td>NaN</td>\n",
       "      <td>MassSpecGymID0414174</td>\n",
       "    </tr>\n",
       "  </tbody>\n",
       "</table>\n",
       "<p>414049 rows × 13 columns</p>\n",
       "</div>"
      ],
      "text/plain": [
       "                                                      mzs  \\\n",
       "0       91.0542,125.0233,154.0499,155.0577,185.0961,20...   \n",
       "1       91.0542,125.0233,155.0577,185.0961,229.0859,24...   \n",
       "2       69.0343,91.0542,125.0233,127.039,153.0699,154....   \n",
       "3       69.0343,91.0542,110.06,111.0441,112.0393,120.0...   \n",
       "4       91.0542,125.0233,185.0961,229.0859,246.1125,28...   \n",
       "...                                                   ...   \n",
       "414044  77.5606,85.238739,152.079361,156.231537,189.96...   \n",
       "414045  72.043739,86.060242,98.058304,99.0634,126.0537...   \n",
       "414046  72.080132,102.233917,113.082344,113.121498,114...   \n",
       "414047  55.053627,56.455425,58.065819,67.053543,82.065...   \n",
       "414048  55.055058,56.049213,57.05315,58.064835,58.0875...   \n",
       "\n",
       "                                              intensities  \\\n",
       "0       0.24524524524524524,1.0,0.08008008008008008,0....   \n",
       "1       0.0990990990990991,0.28128128128128127,0.04004...   \n",
       "2       0.03403403403403404,0.31431431431431434,1.0,0....   \n",
       "3       0.17917917917917917,0.47347347347347346,0.0380...   \n",
       "4       0.07807807807807808,0.1841841841841842,0.03503...   \n",
       "...                                                   ...   \n",
       "414044  0.00022242662384734551,0.0007871876908597226,0...   \n",
       "414045  0.0019527744563354998,0.0016939927337585416,0....   \n",
       "414046  0.021173783463613503,0.007516001055215398,0.03...   \n",
       "414047  0.031731527156456024,0.017878400151027027,0.07...   \n",
       "414048  0.1514287137530871,0.09596071713375486,0.06401...   \n",
       "\n",
       "                                                   smiles  \\\n",
       "0           CC(=O)N[C@@H](CC1=CC=CC=C1)C2=CC(=CC(=O)O2)OC   \n",
       "1           CC(=O)N[C@@H](CC1=CC=CC=C1)C2=CC(=CC(=O)O2)OC   \n",
       "2           CC(=O)N[C@@H](CC1=CC=CC=C1)C2=CC(=CC(=O)O2)OC   \n",
       "3           CC(=O)N[C@@H](CC1=CC=CC=C1)C2=CC(=CC(=O)O2)OC   \n",
       "4           CC(=O)N[C@@H](CC1=CC=CC=C1)C2=CC(=CC(=O)O2)OC   \n",
       "...                                                   ...   \n",
       "414044  CCC(C)CCCCC(=O)N[C@@H](CCN)C(=O)N[C@@H]([C@@H]...   \n",
       "414045  C[C@@]1([C@H]2C[C@H]3[C@@H](C(=O)C(=C([C@]3(C(...   \n",
       "414046  C[C@H]([C@@H]1CC[C@H]([C@H](O1)O[C@@H]2[C@H](C...   \n",
       "414047  C[C@H]([C@@H]1CC[C@H]([C@H](O1)O[C@@H]2[C@H](C...   \n",
       "414048  C[C@H]([C@@H]1CC[C@H]([C@H](O1)O[C@@H]2[C@H](C...   \n",
       "\n",
       "                                                    inchi  \\\n",
       "0       InChI=1S/C16H17NO4/c1-11(18)17-14(8-12-6-4-3-5...   \n",
       "1       InChI=1S/C16H17NO4/c1-11(18)17-14(8-12-6-4-3-5...   \n",
       "2       InChI=1S/C16H17NO4/c1-11(18)17-14(8-12-6-4-3-5...   \n",
       "3       InChI=1S/C16H17NO4/c1-11(18)17-14(8-12-6-4-3-5...   \n",
       "4       InChI=1S/C16H17NO4/c1-11(18)17-14(8-12-6-4-3-5...   \n",
       "...                                                   ...   \n",
       "414044  InChI=1S/C56H98N16O13/c1-7-32(4)13-11-12-16-44...   \n",
       "414045  InChI=1S/C22H23ClN2O8/c1-21(32)7-6-8-15(25(2)3...   \n",
       "414046  InChI=1S/C21H43N5O7/c1-9(25-3)13-6-5-10(22)19(...   \n",
       "414047  InChI=1S/C21H43N5O7/c1-9(25-3)13-6-5-10(22)19(...   \n",
       "414048  InChI=1S/C21H43N5O7/c1-9(25-3)13-6-5-10(22)19(...   \n",
       "\n",
       "                           inchikey  precursor_mz   adduct  parent_mass  \\\n",
       "0       VFMQMACUYWGDOJ-AWEZNQCLSA-N      288.1225   [M+H]+   287.115224   \n",
       "1       VFMQMACUYWGDOJ-AWEZNQCLSA-N      288.1225   [M+H]+   287.115224   \n",
       "2       VFMQMACUYWGDOJ-AWEZNQCLSA-N      288.1225   [M+H]+   287.115224   \n",
       "3       VFMQMACUYWGDOJ-AWEZNQCLSA-N      288.1225   [M+H]+   287.115224   \n",
       "4       VFMQMACUYWGDOJ-AWEZNQCLSA-N      288.1225   [M+H]+   287.115224   \n",
       "...                             ...           ...      ...          ...   \n",
       "414044  WQVJHHACXVLGBL-BPJDFBQWSA-N     1225.7400  [M+Na]+  1202.750782   \n",
       "414045  CYDMQBQPVICBEU-XRNKAMNCSA-N      479.1230   [M+H]+   478.115724   \n",
       "414046  CEAZRRDELHUEMR-CAMVTXANSA-N      478.3250   [M+H]+   477.317724   \n",
       "414047  CEAZRRDELHUEMR-CAMVTXANSA-N      478.3250   [M+H]+   477.317724   \n",
       "414048  CEAZRRDELHUEMR-CAMVTXANSA-N      478.3250   [M+H]+   477.317724   \n",
       "\n",
       "             formula precursor_formula instrument_type  \\\n",
       "0          C16H17NO4         C16H18NO4            ITFT   \n",
       "1          C16H17NO4         C16H18NO4            ITFT   \n",
       "2          C16H17NO4         C16H18NO4            ITFT   \n",
       "3          C16H17NO4         C16H18NO4            ITFT   \n",
       "4          C16H17NO4         C16H18NO4            ITFT   \n",
       "...              ...               ...             ...   \n",
       "414044  C56H98N16O13    C56H98N16NaO13            QTOF   \n",
       "414045  C22H23ClN2O8      C22H24ClN2O8            QTOF   \n",
       "414046    C21H43N5O7        C21H44N5O7            QTOF   \n",
       "414047    C21H43N5O7        C21H44N5O7            QTOF   \n",
       "414048    C21H43N5O7        C21H44N5O7            QTOF   \n",
       "\n",
       "                             collision_energy            identifier  \n",
       "0       30.0 (normalized=False, ramped=False)  MassSpecGymID0000001  \n",
       "1       20.0 (normalized=False, ramped=False)  MassSpecGymID0000002  \n",
       "2       40.0 (normalized=False, ramped=False)  MassSpecGymID0000003  \n",
       "3       55.0 (normalized=False, ramped=False)  MassSpecGymID0000004  \n",
       "4       10.0 (normalized=False, ramped=False)  MassSpecGymID0000005  \n",
       "...                                       ...                   ...  \n",
       "414044                                    NaN  MassSpecGymID0414170  \n",
       "414045                                    NaN  MassSpecGymID0414171  \n",
       "414046                                    NaN  MassSpecGymID0414172  \n",
       "414047                                    NaN  MassSpecGymID0414173  \n",
       "414048                                    NaN  MassSpecGymID0414174  \n",
       "\n",
       "[414049 rows x 13 columns]"
      ]
     },
     "execution_count": 9,
     "metadata": {},
     "output_type": "execute_result"
    }
   ],
   "source": [
    "df = []\n",
    "for s in tqdm(spectra_new):\n",
    "    row = {\n",
    "        'mzs': ','.join([str(m) for m in s.peaks.mz]),\n",
    "        'intensities': ','.join([str(m) for m in s.peaks.intensities])\n",
    "    }\n",
    "    row.update(s.metadata)\n",
    "    df.append(row)\n",
    "df = pd.DataFrame(df)\n",
    "df"
   ]
  },
  {
   "cell_type": "markdown",
   "metadata": {},
   "source": [
    "### Double-check the validity of the SMILES standardization in the final `.tsv`"
   ]
  },
  {
   "cell_type": "code",
   "execution_count": 10,
   "metadata": {},
   "outputs": [
    {
     "data": {
      "image/png": "[encoded data removed]",
      "text/plain": [
       "<rdkit.Chem.rdchem.Mol at 0x337dd9150>"
      ]
     },
     "metadata": {},
     "output_type": "display_data"
    },
    {
     "data": {
      "image/png": "[encoded data removed]",
      "text/plain": [
       "<rdkit.Chem.rdchem.Mol at 0x337dd9150>"
      ]
     },
     "metadata": {},
     "output_type": "display_data"
    }
   ],
   "source": [
    "df_ = df.sample(1)\n",
    "display(Chem.MolFromInchi(df_['inchi'].values[0]))\n",
    "display(Chem.MolFromSmiles(df_['smiles'].values[0]))"
   ]
  },
  {
   "cell_type": "code",
   "execution_count": 11,
   "metadata": {},
   "outputs": [],
   "source": [
    "df.to_csv('../data/data/MassSpecGym.tsv', index=False, sep='\\t')"
   ]
  },
  {
   "cell_type": "code",
   "execution_count": 12,
   "metadata": {},
   "outputs": [],
   "source": [
    "save_as_mgf(spectra_new, '../data/data/auxiliary/MassSpecGym.mgf')"
   ]
  }
 ],
 "metadata": {
  "kernelspec": {
   "display_name": "massspecgym",
   "language": "python",
   "name": "python3"
  },
  "language_info": {
   "codemirror_mode": {
    "name": "ipython",
    "version": 3
   },
   "file_extension": ".py",
   "mimetype": "text/x-python",
   "name": "python",
   "nbconvert_exporter": "python",
   "pygments_lexer": "ipython3",
   "version": "3.11.0"
  }
 },
 "nbformat": 4,
 "nbformat_minor": 2
}
